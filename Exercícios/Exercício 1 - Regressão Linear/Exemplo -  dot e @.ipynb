{
 "cells": [
  {
   "cell_type": "code",
   "execution_count": 1,
   "metadata": {},
   "outputs": [],
   "source": [
    "import numpy as np"
   ]
  },
  {
   "cell_type": "markdown",
   "metadata": {},
   "source": [
    "#### Explicando .dot e @\n",
    "<p> O que está acontecendo quando usa .dot\n",
    "    \n",
    "    Matrizes A:[1 2]\n",
    "               [3 4],\n",
    "               \n",
    "               [5 6]\n",
    "               [7 8]\n",
    "    \n",
    "    Matrizes B:[2 2]\n",
    "               [2 2],\n",
    "\n",
    "               [3 3]\n",
    "               [3 3]\n",
    "    \n",
    "    Passo 1: A [linha 1] * B[matriz inteira] = C[matriz inteira]\n",
    "    \n",
    "    Passo 2: A [1 2]\n",
    "               [3 4],\n",
    "               \n",
    "               [5 6]\n",
    "               [7 8]  \n",
    "               \n",
    "               - dot pega a primeira linha, separadamente, e multiplica pela matriz. Ex: A[1,2]\n",
    "    \n",
    "    Passo 3: A[1,2] * B[2,2]\n",
    "                       [2,2],\n",
    "    \n",
    "                       [3,3]\n",
    "                       [3,3]\n",
    "    \n",
    "    Passo 4: C[(1*2) + (2*2)  (1*2)+(2*2)]\n",
    "              [(1*3) + (2*3)  (1*3)+(2*3)]\n",
    "    \n",
    "    Sintaxe da Matriz:    \n",
    "           A1[1,1]*B1[1,1] + A1[1][2]*B1[2,1]    A1[1,1]*B1[1,2] + A1[1][2]*B1[2,2]\n",
    "           A1[1,1]*B2[1,1] + A1[1][2]*B2[2,1]    A1[1,1]*B2[1,2] + A1[1][2]*B2[2,2]"
   ]
  },
  {
   "cell_type": "code",
   "execution_count": 144,
   "metadata": {},
   "outputs": [
    {
     "name": "stdout",
     "output_type": "stream",
     "text": [
      "A:\n",
      "[[[1 2]\n",
      "  [3 4]]\n",
      "\n",
      " [[5 6]\n",
      "  [7 8]]]\n",
      "\n",
      "B:\n",
      "[[[2 2]\n",
      "  [2 2]]\n",
      "\n",
      " [[3 3]\n",
      "  [3 3]]]\n",
      "\n",
      "C:\n",
      "[[[[ 6  6]\n",
      "   [ 9  9]]\n",
      "\n",
      "  [[14 14]\n",
      "   [21 21]]]\n",
      "\n",
      "\n",
      " [[[22 22]\n",
      "   [33 33]]\n",
      "\n",
      "  [[30 30]\n",
      "   [45 45]]]]\n",
      "\n"
     ]
    }
   ],
   "source": [
    "a = np.array([[[1, 2], [3, 4]],[[5,6],[7,8]]])\n",
    "b = np.array([[[2, 2], [2, 2]],[[3,3],[3,3]]])\n",
    "c = np.dot(a,b)\n",
    "\n",
    "\n",
    "print(f\"A:\\n{a}\\n\")\n",
    "print(f\"B:\\n{b}\\n\")\n",
    "print(f\"C:\\n{c}\\n\")"
   ]
  },
  {
   "cell_type": "code",
   "execution_count": 134,
   "metadata": {},
   "outputs": [
    {
     "name": "stdout",
     "output_type": "stream",
     "text": [
      "A:\n",
      "[[[1 2]\n",
      "  [3 4]]\n",
      "\n",
      " [[5 6]\n",
      "  [7 8]]]\n",
      "B:\n",
      "[[[1 1]\n",
      "  [1 1]]\n",
      "\n",
      " [[1 1]\n",
      "  [1 1]]]\n",
      "R:\n",
      "[[[[ 3  3]\n",
      "   [ 3  3]]\n",
      "\n",
      "  [[ 7  7]\n",
      "   [ 7  7]]]\n",
      "\n",
      "\n",
      " [[[11 11]\n",
      "   [11 11]]\n",
      "\n",
      "  [[15 15]\n",
      "   [15 15]]]]\n"
     ]
    }
   ],
   "source": [
    "a = np.array([[[1, 2], [3, 4]],[[5,6],[7,8]]])\n",
    "b = np.array([[[1, 1], [1, 1]],[[1,1],[1,1]]])\n",
    "\n",
    "r = a @ b\n",
    "dot = np.dot(a,b)\n",
    "print(f\"A:\\n{a}\")\n",
    "print(f\"B:\\n{b}\")\n",
    "print(f\"R:\\n{dot}\")\n",
    "\n",
    "#multiplica cada linha, separadamente, pela matriz inteira"
   ]
  }
 ],
 "metadata": {
  "kernelspec": {
   "display_name": "Python 3",
   "language": "python",
   "name": "python3"
  },
  "language_info": {
   "codemirror_mode": {
    "name": "ipython",
    "version": 3
   },
   "file_extension": ".py",
   "mimetype": "text/x-python",
   "name": "python",
   "nbconvert_exporter": "python",
   "pygments_lexer": "ipython3",
   "version": "3.7.6"
  }
 },
 "nbformat": 4,
 "nbformat_minor": 4
}
