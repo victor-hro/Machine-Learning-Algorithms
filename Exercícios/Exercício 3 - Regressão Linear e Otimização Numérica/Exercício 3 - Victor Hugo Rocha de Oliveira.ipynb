{
 "cells": [
  {
   "cell_type": "markdown",
   "metadata": {},
   "source": [
    "Universidade Federal de Santa Catarina<br>\n",
    "Departamento de Engenharia Elétrica e Eletrônica<br>\n",
    "EEL7514/EEL7513/EEL410250 - Aprendizado de Máquina\n",
    "$\\newcommand{\\bX}{\\mathbf{X}}$\n",
    "$\\newcommand{\\bw}{\\mathbf{w}}$\n",
    "$\\newcommand{\\by}{\\mathbf{y}}$\n",
    "$\\newcommand{\\bx}{\\mathbf{x}}$\n",
    "$\\newcommand{\\RR}{\\mathbb{R}}$\n",
    "$\\newcommand{\\bzero}{\\mathbf{0}}$\n",
    "\n",
    "\n",
    "# Exercício 3: Regressão Linear & Otimização Numérica\n",
    "\n",
    "Neste exercício você irá explorar métodos de otimização numérica para treinar um modelo de regressão linear. Em particular, você irá implementar o método do gradiente e analisar sua convergência. Além disso, você irá investigar o efeito da normalização de atributos no comportamento do método. Finalmente, você irá investigar a aplicação de regressão linear em um conjunto de dados real."
   ]
  },
  {
   "cell_type": "markdown",
   "metadata": {},
   "source": [
    "# Conjunto de dados #1\n",
    "\n",
    "Inicialmente, utilizaremos o mesmo conjunto de dados do exercício anterior, exceto por uma escala diferente em $x$."
   ]
  },
  {
   "cell_type": "code",
   "execution_count": 1,
   "metadata": {},
   "outputs": [],
   "source": [
    "import numpy as np\n",
    "import matplotlib.pyplot as plt\n",
    "%matplotlib inline\n",
    "\n",
    "def gen_data(n_samples, x_scale=[0,1], noise=0.5):\n",
    "    '''Generate univariate regression dataset'''\n",
    "    x = np.sort(np.random.rand(n_samples))\n",
    "    y = 6*(-1/6 + x + (x > 1/3)*(2/3-2*x) + (x > 2/3)*(2*x-4/3)) + noise*np.random.randn(n_samples)\n",
    "    x = x_scale[0] + (x_scale[1]-x_scale[0])*x\n",
    "    X = x.reshape(-1,1)\n",
    "    return X, y\n",
    "\n",
    "def plot_data(X, y):\n",
    "    '''Plot univariate regression dataset'''\n",
    "    assert len(X.shape) == 2 and len(y.shape) == 1\n",
    "    plt.plot(X[:,0],y,'b.'); plt.xlabel('x'); plt.ylabel('y');\n",
    "    return\n",
    "\n",
    "def plot_prediction(model, X, y, n_points=100):\n",
    "    '''Plot dataset and predictions for a univariate regression model'''\n",
    "    plot_data(X,y)\n",
    "    if n_points is not None:\n",
    "        xx = np.linspace(X.min(),X.max(),n_points)\n",
    "        yy = model.predict(xx.reshape(-1,1))\n",
    "        plt.plot(xx,yy,'r-')\n",
    "    y_pred = model.predict(X)\n",
    "    plt.plot(X[:,0],y_pred,'r.')\n",
    "    plt.legend(['True', 'Predicted'])\n",
    "    return"
   ]
  },
  {
   "cell_type": "markdown",
   "metadata": {},
   "source": [
    "O conjunto de dados pode ser gerado e visualizado pelos comandos abaixo (observe a nova escala)."
   ]
  },
  {
   "cell_type": "code",
   "execution_count": 2,
   "metadata": {},
   "outputs": [
    {
     "name": "stdout",
     "output_type": "stream",
     "text": [
      "(30, 1) (30,)\n",
      "(1000, 1) (1000,)\n",
      "(1000, 1) (1000,)\n"
     ]
    },
    {
     "data": {
      "image/png": "[encoded data removed]",
      "text/plain": [
       "<Figure size 432x288 with 1 Axes>"
      ]
     },
     "metadata": {
      "needs_background": "light"
     },
     "output_type": "display_data"
    }
   ],
   "source": [
    "np.random.seed(2019*2)\n",
    "X, y = gen_data(n_samples=30, x_scale=[0,4])\n",
    "X_val, y_val = gen_data(n_samples=1000, x_scale=[0,4])\n",
    "X_test, y_test = gen_data(n_samples=1000, x_scale=[0,4])\n",
    "\n",
    "print(X.shape, y.shape)\n",
    "print(X_val.shape, y_val.shape)\n",
    "print(X_test.shape, y_test.shape)\n",
    "\n",
    "# Plot only the training data!\n",
    "plot_data(X,y)"
   ]
  },
  {
   "cell_type": "markdown",
   "metadata": {},
   "source": [
    "## 1. Método do gradiente\n",
    "\n",
    "Resgate a classe do modelo que você implementou no exercício anterior. Iremos reorganizá-la para permitir um método de treinamento alternativo.\n",
    "\n",
    "1. Utilize a classe abaixo, substituindo na função `_fit_ne` a sua função `fit` implementada anteriormente, com as modificações necessárias. Note que a função `add_powers` foi eliminada (bem como o argumento `d` da inicialização do modelo), sendo substituída pela função `_add_ones` (que simplesmente adiciona uma coluna de 1's). Ou seja, nosso modelo deve implementar puramente uma regressão linear (com regularização L2), sem atributos adicionais. Caso desejemos atributos polinomiais, poderemos usar a classe `PolynomialFeatures` do sklearn. A única vantagem do nosso modelo de regressão próprio em relação ao `Ridge` é permitir utilizar um método de treinamento diferente.\n",
    "1. Mova a função `mse` para fora da classe, caso contrário não poderemos acessá-la dentro de um `Pipeline`."
   ]
  },
  {
   "attachments": {
    "image.png": {
     "image/png": "[encoded data removed]"
    }
   },
   "cell_type": "markdown",
   "metadata": {},
   "source": [
    "**Gradiente com regularização l2**\n",
    "![image.png](attachment:image.png)"
   ]
  },
  {
   "cell_type": "code",
   "execution_count": 112,
   "metadata": {},
   "outputs": [],
   "source": [
    "class Model():\n",
    "    # Linear regression with L2 regularization\n",
    "    def __init__(self, lamb=0, solver='ne', lr=1, maxiter=1000, tol=1e-5):\n",
    "        # Initialization\n",
    "        self.lamb = lamb\n",
    "        self.solver = solver\n",
    "        self.lr = lr\n",
    "        self.maxiter = maxiter\n",
    "        self.tol = tol\n",
    "        return\n",
    "    \n",
    "    def _add_ones(self, X):\n",
    "        # Add column of ones\n",
    "        X_new = np.c_[np.ones(X.shape[0]), X]\n",
    "        return X_new\n",
    "    \n",
    "    def _fit_ne(self, X, y):\n",
    "        X = self._add_ones(X)\n",
    "        w = np.zeros(X.shape[1])\n",
    "        \n",
    "        L = np.identity(X.shape[1])\n",
    "        L[0][0] = 0\n",
    "        \n",
    "        I = np.identity(X.shape[1])\n",
    "        \n",
    "        m = len(y)\n",
    "        self.J_ne = []\n",
    "        \n",
    "        self.hessian = (2/m)*(X.T @ X) + (self.lamb*(2/m) *I)\n",
    "        assert np.linalg.matrix_rank(X.T @ X + self.lamb*L) == X.shape[1], 'Singular matrix'\n",
    "        gd =  (2/m)*X.T @ (X @ w - y) + (2/m)*self.lamb*L@w\n",
    "        w = w - np.linalg.inv(self.hessian) @ gd\n",
    "        self.w = w\n",
    "        \n",
    "        cost = 1/m*((np.linalg.norm(X@w -y))**2) + (self.lamb/m)*w.T@L@w\n",
    "        self.J_ne.append(cost)\n",
    "        return\n",
    "\n",
    "    def _fit_gd(self, X, y):\n",
    "        # Fit by gradient descent\n",
    "        X = self._add_ones(X)\n",
    "        w = np.zeros(X.shape[1])\n",
    "        L = np.identity(X.shape[1])\n",
    "        L[0][0] = 0\n",
    "        self.J_gd = []\n",
    "        m = len(y)\n",
    "        \n",
    "        for c in range(self.maxiter):\n",
    "            gd = (2/m) * X.T @ (X @ w -y) + self.lamb*(2/m)*L @ w\n",
    "            w = (1 - self.lamb*self.lr*(2/m))*w - self.lr*gd\n",
    "            cost = 1/m*((np.linalg.norm(X@w -y))**2) + (self.lamb/m)*w.T@L@w\n",
    "            self.J_gd.append(cost)\n",
    "            self.w = w\n",
    "            \n",
    "            if np.linalg.norm(gd) < self.tol:\n",
    "                break\n",
    "            \n",
    "        return\n",
    "\n",
    "    def fit(self, X, y):\n",
    "        if self.solver == 'gd':\n",
    "            self._fit_gd(X, y)\n",
    "        elif self.solver == 'ne':\n",
    "            self._fit_ne(X, y)\n",
    "        else:\n",
    "            raise RuntimeError('Unknown solver')\n",
    "        return self\n",
    "\n",
    "    def predict(self, X):\n",
    "        X = self._add_ones(X)\n",
    "        y_pred = X @ self.w\n",
    "        return y_pred\n",
    "\n",
    "def mse(model, X, y):\n",
    "    m = len(y)\n",
    "    mse = ((1/m)* np.sum(((model.predict(X) - y)**2)))\n",
    "    return mse"
   ]
  },
  {
   "cell_type": "markdown",
   "metadata": {},
   "source": [
    "3. Modifique a função `_fit_ne` para calcular também a matriz hessiana da função custo (regularizada), guardando-a na variável `self.hessian`. Em seguida, após o treinamento usando a solução analítica, estime o grau de condicionamento da hessiana utilizana a função `np.linalg.cond()`.\n",
    "1. Complete a função `_fit_gd` implementando o método do gradiente. Utilize os parâmetros `self.lr` (taxa de aprendizado), `self.maxiter` (número máximo de iterações) e `self.tol` (critério de parada para a norma do gradiente), e assuma como ponto inicial $\\bw = (0,\\ldots,0)$. Além de calcular `self.w`, sua função deve criar também uma lista, `self.J_history`, contendo os valores da função custo (regularizada) a cada iteração, a qual será usada para monitorar o treinamento e analisar a taxa de aprendizado.\n",
    "1. Treine o modelo sem regularização usando `solver='gd'`, trace o gráfico de `J_history` e escolha uma boa taxa de aprendizado. Quantas iterações foram necessárias para convergência?\n",
    "1. Calcule o MSE de treinamento e de validação e compare-os com os obtidos pela solução analítica. Compare também os vetores $\\bw$ das duas soluções. (Obs: a saída da célula 5 está mostrada apenas para ilustração. Não é necessário reproduzir exatamente o mesmo texto/gráfico.)\n",
    "1. (OPCIONAL) O que acontece com o erro de validação à medida que a taxa de aprendizado é reduzida? Como podemos interpretar esse fenômeno?"
   ]
  },
  {
   "attachments": {},
   "cell_type": "markdown",
   "metadata": {},
   "source": [
    "**Resposta do professor:**\n",
    "- w = [-0.20189161  0.02333163]\n",
    "- Train MSE: 0.517264\n",
    "- Val MSE: 0.601059\n",
    "- Condition number: 24.959359"
   ]
  },
  {
   "cell_type": "markdown",
   "metadata": {},
   "source": [
    "**Minha resposta:**"
   ]
  },
  {
   "cell_type": "code",
   "execution_count": 214,
   "metadata": {},
   "outputs": [
    {
     "name": "stdout",
     "output_type": "stream",
     "text": [
      "w = [-0.20189161  0.02333163]\n",
      "Train MSE: 0.517264\n",
      "Val MSE: 0.601059\n",
      "Condition number: 24.959359\n"
     ]
    }
   ],
   "source": [
    "# Normal equation\n",
    "model = Model(solver = 'ne')\n",
    "model.fit(X,y)\n",
    "model.fit(X, y)\n",
    "J_ne = model.J_ne\n",
    "print('w =', model.w)\n",
    "print('Train MSE: %f' % mse(model, X, y))\n",
    "print('Val MSE: %f' % mse(model, X_val, y_val))\n",
    "print('Condition number: %f' % np.linalg.cond(model.hessian))"
   ]
  },
  {
   "cell_type": "markdown",
   "metadata": {},
   "source": [
    "**Resposta do professor:**"
   ]
  },
  {
   "attachments": {
    "image.png": {
     "image/png": "[encoded data removed]"
    }
   },
   "cell_type": "markdown",
   "metadata": {},
   "source": [
    "![image.png](attachment:image.png)"
   ]
  },
  {
   "cell_type": "markdown",
   "metadata": {},
   "source": [
    "**Minha resposta:**"
   ]
  },
  {
   "cell_type": "code",
   "execution_count": 215,
   "metadata": {},
   "outputs": [
    {
     "name": "stdout",
     "output_type": "stream",
     "text": [
      "w = [-0.2018722   0.02332372]\n",
      "Train MSE: 0.517264\n",
      "Val MSE: 0.601058\n",
      "Iterations: 197\n"
     ]
    }
   ],
   "source": [
    "#Gradient Descent\n",
    "model = Model(solver = 'gd', lr=1e-1, maxiter=1000)\n",
    "model.fit(X,y)\n",
    "model.fit(X, y)\n",
    "print('w =', model.w)\n",
    "print('Train MSE: %f' % mse(model, X, y))\n",
    "print('Val MSE: %f' % mse(model, X_val, y_val))\n",
    "print(f'Iterations: {len(model.J_gd)}')"
   ]
  },
  {
   "cell_type": "code",
   "execution_count": 216,
   "metadata": {},
   "outputs": [
    {
     "data": {
      "image/png": "[encoded data removed]",
      "text/plain": [
       "<Figure size 432x288 with 1 Axes>"
      ]
     },
     "metadata": {
      "needs_background": "light"
     },
     "output_type": "display_data"
    }
   ],
   "source": [
    "values = np.arange(len(model.J_gd))\n",
    "J_ne_values = np.ones(len(model.J_gd))*J_ne\n",
    "plt.plot(values, model.J_gd,'b')\n",
    "plt.plot(values,J_ne_values,'r')\n",
    "plt.xlabel('Iterations')\n",
    "plt.ylabel('Cost')\n",
    "plt.legend([f'Learning Rate: {model.lr}'])\n",
    "plt.grid()\n",
    "plt.tight_layout()"
   ]
  },
  {
   "cell_type": "markdown",
   "metadata": {},
   "source": [
    "## 2. Adicionando atributos\n",
    "\n",
    "1. Adicione atributos polinomiais de grau `d=2` usando o transformador `PolynomialFeatures`. Em seguida, repita o treinamento via solução analítica e estimação do grau de condicionamento da hessiana.\n",
    "1. Repita o treinamento usando método do gradiente (incluindo gráfico da função custo) e verifique a dificuldade de convergência. Por que isso ocorre? Foi necessário alterar a taxa de aprendizado? E o número máximo de iterações?\n",
    "1. Assim como anteriormente, compare o MSE e o $\\bw$ obtidos com os da solução analítica.\n",
    "1. Repita os itens anteriores para `d=3`.\n",
    "\n",
    "#### Dica\n",
    "\n",
    "- Não há necessidade de incluir o termo constante nos atributos adicionados, uma vez que o modelo de regressão linear já implementa a adição de coluna de 1's. Assim, utilize `PolynomialFeatures(d, include_bias=False)`.\n",
    "- Normalmente, é conveniente utilizar a função `make_pipeline` para combinar pré-processamento (transformação de atributos) e modelo de aprendizado (estimador) em um único modelo. Além de deixar o código mais compacto, essa metodologia ajuda a evitar erros de vazamento de informação entre teste e treinamento, pois garante que o transformador será treinado somente com os dados de treinamento. No entanto, como o nosso foco aqui é o treinamento, é mais conveniente primeiramente aplicar a transformação de atributos explicitamente no conjunto de dados, obtendo um conjunto transformado (aqui com sufixo `_new`), o qual é então entregue ao modelo de aprendizado. Embora não seja o caso aqui, essa abordagem também é mais eficiente quando o pré-processamento é particularmente complexo e serão realizados múltiplos treinamentos, assim o pré-processamento só precisa ser realizado uma vez."
   ]
  },
  {
   "cell_type": "markdown",
   "metadata": {},
   "source": [
    "**Resposta do professor:**\n",
    "- w = [-0.35250239  0.26848578 -0.06441263]\n",
    "- Train MSE: 0.511996\n",
    "- Val MSE: 0.611803\n",
    "- Condition number: 955.280910"
   ]
  },
  {
   "cell_type": "markdown",
   "metadata": {},
   "source": [
    "**Minha resposta:**"
   ]
  },
  {
   "cell_type": "code",
   "execution_count": 217,
   "metadata": {},
   "outputs": [],
   "source": [
    "from sklearn.preprocessing import PolynomialFeatures"
   ]
  },
  {
   "cell_type": "markdown",
   "metadata": {},
   "source": [
    "<center> d = 2"
   ]
  },
  {
   "cell_type": "code",
   "execution_count": 218,
   "metadata": {},
   "outputs": [
    {
     "name": "stdout",
     "output_type": "stream",
     "text": [
      "w =  [-0.35250239  0.26848578 -0.06441263]\n",
      "Train MSE: 0.511996\n",
      "Val MSE: 0.611803\n",
      "Condition number: 955.280910\n"
     ]
    }
   ],
   "source": [
    "# Feature transformation\n",
    "d = 2\n",
    "prep = PolynomialFeatures(d,include_bias=False)\n",
    "X_new = prep.fit_transform(X)\n",
    "X_val_new = prep.transform(X_val)\n",
    "# Normal equation\n",
    "model = Model()\n",
    "model.fit(X_new, y)\n",
    "J_ne = model.J_ne\n",
    "\n",
    "print('w = ',model.w)\n",
    "print('Train MSE: %f' % mse(model, X_new, y))\n",
    "print('Val MSE: %f' % mse(model, X_val_new, y_val))\n",
    "print('Condition number: %f' % np.linalg.cond(model.hessian))"
   ]
  },
  {
   "cell_type": "code",
   "execution_count": 219,
   "metadata": {},
   "outputs": [
    {
     "name": "stdout",
     "output_type": "stream",
     "text": [
      "w =  [-0.35244342  0.26841033 -0.06439477]\n",
      "Train MSE: 0.511996\n",
      "Val MSE: 0.611798\n",
      "Iterations: 4097\n"
     ]
    }
   ],
   "source": [
    "# Gradient descent\n",
    "model = Model(solver = 'gd', lr = 2e-2, maxiter = 4500)\n",
    "model.fit(X_new, y)\n",
    "print('w = ',model.w)\n",
    "print('Train MSE: %f' % mse(model, X_new, y))\n",
    "print('Val MSE: %f' % mse(model, X_val_new, y_val))\n",
    "print(f'Iterations: {len(model.J_gd)}')"
   ]
  },
  {
   "cell_type": "code",
   "execution_count": 220,
   "metadata": {},
   "outputs": [
    {
     "data": {
      "image/png": "[encoded data removed]",
      "text/plain": [
       "<Figure size 432x288 with 1 Axes>"
      ]
     },
     "metadata": {
      "needs_background": "light"
     },
     "output_type": "display_data"
    }
   ],
   "source": [
    "values = np.arange(len(model.J_gd))\n",
    "J_ne_values = np.ones(len(model.J_gd))*J_ne\n",
    "plt.title('d = 2')\n",
    "plt.plot(values, model.J_gd,'b')\n",
    "plt.plot(values,J_ne_values,'r')\n",
    "plt.xlabel('Iterations')\n",
    "plt.ylabel('Cost')\n",
    "plt.legend([f'Learning Rate: {model.lr}'])\n",
    "plt.grid()\n",
    "plt.tight_layout()"
   ]
  },
  {
   "cell_type": "markdown",
   "metadata": {},
   "source": [
    "**<center>2.3. Por que isso ocorre? Foi necessário alterar a taxa de aprendizado? E o número máximo de iterações?**"
   ]
  },
  {
   "cell_type": "markdown",
   "metadata": {},
   "source": [
    "Aumentando o grau do polinomio, dificulta a convergencia. Foi necessário reduzir o valor da taxa de aprendizado e aumentar o numero máximo de iterações."
   ]
  },
  {
   "cell_type": "markdown",
   "metadata": {},
   "source": [
    "**<center>2.4. Repita os itens anteriores para d=3**"
   ]
  },
  {
   "cell_type": "code",
   "execution_count": 243,
   "metadata": {},
   "outputs": [
    {
     "name": "stdout",
     "output_type": "stream",
     "text": [
      "w =  [-1.57554215  3.91985205 -2.32464225  0.37687856]\n",
      "Train MSE: 0.325498\n",
      "Val MSE: 0.334947\n",
      "Condition number: 63865.336863\n"
     ]
    }
   ],
   "source": [
    "# Feature transformation\n",
    "d = 3\n",
    "prep = PolynomialFeatures(d,include_bias=False)\n",
    "X_new = prep.fit_transform(X)\n",
    "X_val_new = prep.transform(X_val)\n",
    "# Normal equation\n",
    "model = Model()\n",
    "model.fit(X_new, y)\n",
    "J_ne = model.J_ne\n",
    "\n",
    "print('w = ',model.w)\n",
    "print('Train MSE: %f' % mse(model, X_new, y))\n",
    "print('Val MSE: %f' % mse(model, X_val_new, y_val))\n",
    "print('Condition number: %f' % np.linalg.cond(model.hessian))"
   ]
  },
  {
   "cell_type": "code",
   "execution_count": 292,
   "metadata": {},
   "outputs": [
    {
     "name": "stdout",
     "output_type": "stream",
     "text": [
      "w =  [-0.07013268  0.04846221 -0.12623922  0.03162859]\n",
      "Train MSE: 0.504910\n",
      "Val MSE: 0.563525\n",
      "Iterations: 8000\n"
     ]
    }
   ],
   "source": [
    "# Gradient descent\n",
    "model = Model(solver = 'gd', lr = 2e-4, maxiter = 8000)\n",
    "model.fit(X_new, y)\n",
    "print('w = ',model.w)\n",
    "print('Train MSE: %f' % mse(model, X_new, y))\n",
    "print('Val MSE: %f' % mse(model, X_val_new, y_val))\n",
    "print(f'Iterations: {len(model.J_gd)}')"
   ]
  },
  {
   "cell_type": "code",
   "execution_count": 293,
   "metadata": {},
   "outputs": [
    {
     "data": {
      "image/png": "[encoded data removed]",
      "text/plain": [
       "<Figure size 432x288 with 1 Axes>"
      ]
     },
     "metadata": {
      "needs_background": "light"
     },
     "output_type": "display_data"
    }
   ],
   "source": [
    "values = np.arange(len(model.J_gd))\n",
    "J_ne_values = np.ones(len(model.J_gd))*J_ne\n",
    "plt.title('d = 3')\n",
    "plt.plot(values, model.J_gd,'b')\n",
    "plt.plot(values,J_ne_values,'r')\n",
    "plt.xlabel('Iterations')\n",
    "plt.ylabel('Cost')\n",
    "plt.legend([f'Learning Rate: {model.lr}'])\n",
    "plt.grid()\n",
    "plt.tight_layout()"
   ]
  },
  {
   "cell_type": "markdown",
   "metadata": {},
   "source": [
    "## 3. Escalonamento de atributos\n",
    "\n",
    "Implemente a normalização (escalonamento) de atributos conforme vista em sala, a qual consiste de:\n",
    " - Subtração da média do atributo, para que passe a ter média nula\n",
    " - Divisão pelo desvio padrão do atributo, para que passe a ter variância unitária\n",
    " \n",
    "Esse tipo de normalização também é chamado em alguns contextos de padronização (*standardization*), no sentido de resultar na mesma média (0) e variância (1) de uma variável aleatória gaussiana padrão (*standard*), em contraste com outros tipos de normalização (por exemplo, reescalonamento para a escala [0,1]).\n",
    "\n",
    "1. Para isso, complete a classe abaixo. Caso deseje confirmar se sua implementação está correta, compare com o transformador `StandardScaler` do módulo `sklearn.preprocessing`.\n",
    "1. Após implementar corretamente, verifique que seu escalonador funciona corretamente em um pipeline do `sklearn`; isto é, combine todas as etapas de pré-processamento (transformação de atributos e escalonamento) usando `make_pipeline`. Em seguida, você pode ignorar sua implementação e passar a usar o `StandardScaler`.\n",
    "1. Refaça os mesmos passos da seção anterior (2.1-2.4) e compare os resultados e o comportamento do algoritmo. Explique.\n",
    "1. Neste problema, em qual posição o escalonador funciona melhor, antes ou depois da adição de atributos? Cite as evidências que você observou.\n",
    "1. O uso do escalonador tem impacto do desempenho da solução analítica? Por quê?\n",
    "1. (OPCIONAL) Experimente outros escalonadores do `sklearn`, como `MinMaxScaler` e `MaxAbsScaler`, e compare o desempenho obtido.\n",
    "\n",
    "#### Dicas\n",
    "\n",
    "- Funções úteis:\n",
    "\n",
    "```python\n",
    "np.mean(axis=0), np.std(axis=0)\n",
    "```\n",
    "\n",
    "- Revise as propriedades de broadcasting do NumPy, em particular em operações envolvendo matrizes e arrays 1D.\n",
    "- Para depurar possíveis erros, lembre-se de verificar o `shape` dos arrays envolvidos."
   ]
  },
  {
   "attachments": {
    "image.png": {
     "image/png": "[encoded data removed]"
    }
   },
   "cell_type": "markdown",
   "metadata": {},
   "source": [
    "![image.png](attachment:image.png)"
   ]
  },
  {
   "cell_type": "code",
   "execution_count": 327,
   "metadata": {},
   "outputs": [
    {
     "name": "stdout",
     "output_type": "stream",
     "text": [
      "Transform:\n",
      "[[-1.34164079 -1.14458618 -0.98184354]\n",
      " [-0.4472136  -0.61631563 -0.69547251]\n",
      " [ 0.4472136   0.26413527  0.08182029]\n",
      " [ 1.34164079  1.49676654  1.59549575]]\n",
      "\n",
      "Media: [ 2.5  7.5 25. ]\n"
     ]
    }
   ],
   "source": [
    "from sklearn.base import BaseEstimator, TransformerMixin\n",
    "class MyStandardScaler(BaseEstimator, TransformerMixin):\n",
    "    def fit(self, X, y=None):\n",
    "        # Compute and store scaler parameters\n",
    "        self.media = X.mean(axis = 0)\n",
    "        self.std = X.std(axis = 0)\n",
    "        return self\n",
    "    def transform(self, X, y=None):\n",
    "        # Scale features\n",
    "        self.fit(X)\n",
    "        X_new = (X-self.media)/self.std\n",
    "        return X_new\n",
    "\n",
    "A = np.array([[1, 1, 1], [2, 4, 8], [3, 9, 27], [4, 16, 64]])\n",
    "\n",
    "# Pego os valores de media e std armazenados em fit e jogo na fórmula de normalização de atributos(transform)\n",
    "Mystandardize = MyStandardScaler()\n",
    "print(f\"Transform:\\n{Mystandardize.transform(A)}\\n\")\n",
    "print(f\"Media: {Mystandardize.media}\")"
   ]
  },
  {
   "cell_type": "markdown",
   "metadata": {},
   "source": [
    "**<center>3.1. compare com o transformador StandardScaler do módulo sklearn.preprocessing.**"
   ]
  },
  {
   "cell_type": "code",
   "execution_count": 310,
   "metadata": {},
   "outputs": [
    {
     "name": "stdout",
     "output_type": "stream",
     "text": [
      "Mean: [ 2.5  7.5 25. ]\n",
      "\n",
      "Transform:\n",
      "[[-1.34164079 -1.14458618 -0.98184354]\n",
      " [-0.4472136  -0.61631563 -0.69547251]\n",
      " [ 0.4472136   0.26413527  0.08182029]\n",
      " [ 1.34164079  1.49676654  1.59549575]]\n"
     ]
    }
   ],
   "source": [
    "from sklearn.preprocessing import StandardScaler\n",
    "norm_sk = StandardScaler()\n",
    "norm_sk.fit(A)\n",
    "print(f\"Mean: {norm_sk.mean_}\\n\")\n",
    "print(f\"Transform:\\n{norm_sk.transform(A)}\")"
   ]
  },
  {
   "cell_type": "markdown",
   "metadata": {},
   "source": [
    "**<center>3.2. Após implementar corretamente, verifique que seu escalonador funciona corretamente em um pipeline do sklearn; isto é, combine todas as etapas de pré-processamento (transformação de atributos e escalonamento) usando make_pipeline. Em seguida, você pode ignorar sua implementação e passar a usar o StandardScaler.**"
   ]
  },
  {
   "cell_type": "markdown",
   "metadata": {},
   "source": [
    "Verificando o funcionamento do escalonador utilizando Pipeline:"
   ]
  },
  {
   "cell_type": "code",
   "execution_count": 345,
   "metadata": {},
   "outputs": [],
   "source": [
    "from sklearn.pipeline import make_pipeline, Pipeline"
   ]
  },
  {
   "cell_type": "code",
   "execution_count": 346,
   "metadata": {},
   "outputs": [],
   "source": [
    "pipe = Pipeline([('scaler', MyStandardScaler())])"
   ]
  },
  {
   "cell_type": "code",
   "execution_count": 347,
   "metadata": {},
   "outputs": [
    {
     "data": {
      "text/plain": [
       "Pipeline(memory=None, steps=[('scaler', MyStandardScaler())], verbose=False)"
      ]
     },
     "execution_count": 347,
     "metadata": {},
     "output_type": "execute_result"
    }
   ],
   "source": [
    "pipe"
   ]
  },
  {
   "cell_type": "code",
   "execution_count": 348,
   "metadata": {},
   "outputs": [
    {
     "data": {
      "text/plain": [
       "array([[-1.34164079, -1.14458618, -0.98184354],\n",
       "       [-0.4472136 , -0.61631563, -0.69547251],\n",
       "       [ 0.4472136 ,  0.26413527,  0.08182029],\n",
       "       [ 1.34164079,  1.49676654,  1.59549575]])"
      ]
     },
     "execution_count": 348,
     "metadata": {},
     "output_type": "execute_result"
    }
   ],
   "source": [
    "#pipe.fit(X)\n",
    "pipe.transform(A)"
   ]
  },
  {
   "cell_type": "markdown",
   "metadata": {},
   "source": [
    "**<center>Implementação**"
   ]
  },
  {
   "cell_type": "code",
   "execution_count": 546,
   "metadata": {},
   "outputs": [],
   "source": [
    "def standardized_ne(d, X,y,X_val,y_val,lr=1,maxiter=1000):\n",
    "    prep = make_pipeline(PolynomialFeatures(d,include_bias=False), StandardScaler())\n",
    "    \n",
    "    X_new = prep.fit_transform(X)\n",
    "    X_val_new = prep.transform(X_val)\n",
    "    \n",
    "    model = Model(solver='ne',maxiter=maxiter,lr=lr)\n",
    "    model.fit(X_new, y)\n",
    "    J_ne = model.J_ne\n",
    "\n",
    "    print('w = ',model.w)\n",
    "    print('Train MSE: %f' % mse(model, X_new, y))\n",
    "    print('Val MSE: %f' % mse(model, X_val_new, y_val))\n",
    "    print('Condition number: %f' % np.linalg.cond(model.hessian))\n",
    "    return\n",
    "\n",
    "def standardized_gd(d, X,y,X_val,y_val,lr=1,maxiter=1000):\n",
    "    prep = make_pipeline(PolynomialFeatures(d,include_bias=False), StandardScaler())\n",
    "    \n",
    "    X_new = prep.fit_transform(X)\n",
    "    X_val_new = prep.transform(X_val)\n",
    "    \n",
    "    # Gradient descent\n",
    "    model = Model(solver = 'gd', lr = lr, maxiter=maxiter)\n",
    "    model.fit(X_new, y)\n",
    "    J_gd = model.J_gd\n",
    "\n",
    "    print('w = ',model.w)\n",
    "    print('Train MSE: %f' % mse(model, X_new, y))\n",
    "    print('Val MSE: %f' % mse(model, X_val_new, y_val))\n",
    "    print(f'Iterations: {len(model.J_gd)}')\n",
    "    \n",
    "    values = np.arange(len(J_gd))\n",
    "    plt.title('d = 2')\n",
    "    plt.plot(values, model.J_gd,'b')\n",
    "    plt.xlabel('Iterations')\n",
    "    plt.ylabel('Cost')\n",
    "    plt.legend([f'Learning Rate: {model.lr}'])\n",
    "    plt.grid()\n",
    "    plt.tight_layout()\n",
    "    return"
   ]
  },
  {
   "cell_type": "markdown",
   "metadata": {},
   "source": [
    "**<center>d = 2**"
   ]
  },
  {
   "cell_type": "markdown",
   "metadata": {},
   "source": [
    "**Valores antigos - ne:**\n",
    "- w =  [-0.35250239  0.26848578 -0.06441263]\n",
    "- Train MSE: 0.511996\n",
    "- Val MSE: 0.611803\n",
    "- Condition number: 955.280910"
   ]
  },
  {
   "cell_type": "markdown",
   "metadata": {},
   "source": [
    "**Valores atuais - ne:**"
   ]
  },
  {
   "cell_type": "code",
   "execution_count": 558,
   "metadata": {},
   "outputs": [
    {
     "name": "stdout",
     "output_type": "stream",
     "text": [
      "w =  [-0.15760574  0.30413138 -0.28703144]\n",
      "Train MSE: 0.511996\n",
      "Val MSE: 0.611803\n",
      "Condition number: 60.533170\n"
     ]
    }
   ],
   "source": [
    "standardized_ne(2,X,y,X_val,y_val)"
   ]
  },
  {
   "cell_type": "markdown",
   "metadata": {},
   "source": [
    "**Valores antigos - gd:**\n",
    "- w =  [-0.35244342  0.26841033 -0.06439477]\n",
    "- Train MSE: 0.511996\n",
    "- Val MSE: 0.611798\n",
    "- Iterations: 4097"
   ]
  },
  {
   "cell_type": "markdown",
   "metadata": {},
   "source": [
    "**Valores atuais - gd:**"
   ]
  },
  {
   "cell_type": "code",
   "execution_count": 563,
   "metadata": {},
   "outputs": [
    {
     "name": "stdout",
     "output_type": "stream",
     "text": [
      "w =  [-0.15760574  0.30402286 -0.28692293]\n",
      "Train MSE: 0.511996\n",
      "Val MSE: 0.611797\n",
      "Iterations: 6080\n"
     ]
    },
    {
     "data": {
      "image/png": "[encoded data removed]",
      "text/plain": [
       "<Figure size 432x288 with 1 Axes>"
      ]
     },
     "metadata": {
      "needs_background": "light"
     },
     "output_type": "display_data"
    }
   ],
   "source": [
    "standardized_gd(2,X,y,X_val,y_val, lr=2e-2,maxiter=8000)\n",
    "\n",
    "#valores antigos:\n",
    "#lr = 2e-2, maxiter = 4500"
   ]
  },
  {
   "cell_type": "markdown",
   "metadata": {},
   "source": [
    "**<center>d = 3**"
   ]
  },
  {
   "cell_type": "markdown",
   "metadata": {},
   "source": [
    "**Valores antigos - ne:**\n",
    "- w =  [-1.57554215  3.91985205 -2.32464225  0.37687856]\n",
    "- Train MSE: 0.325498\n",
    "- Val MSE: 0.334947\n",
    "- Condition number: 63865.336863"
   ]
  },
  {
   "cell_type": "markdown",
   "metadata": {},
   "source": [
    "**Valores atuais -ne:**"
   ]
  },
  {
   "cell_type": "code",
   "execution_count": 560,
   "metadata": {},
   "outputs": [
    {
     "name": "stdout",
     "output_type": "stream",
     "text": [
      "w =  [ -0.15760574   4.44027247 -10.35892185   6.17476069]\n",
      "Train MSE: 0.325498\n",
      "Val MSE: 0.334947\n",
      "Condition number: 2500.073501\n"
     ]
    }
   ],
   "source": [
    "standardized_ne(3,X,y,X_val,y_val)"
   ]
  },
  {
   "cell_type": "markdown",
   "metadata": {},
   "source": [
    "**Valores antigos - gd:**\n",
    "- w =  [-0.07013268  0.04846221 -0.12623922  0.03162859]\n",
    "- Train MSE: 0.504910\n",
    "- Val MSE: 0.563525\n",
    "- Iterations: 8000"
   ]
  },
  {
   "cell_type": "markdown",
   "metadata": {},
   "source": [
    "**Valores atuais - gd:**"
   ]
  },
  {
   "cell_type": "code",
   "execution_count": 595,
   "metadata": {},
   "outputs": [
    {
     "name": "stdout",
     "output_type": "stream",
     "text": [
      "w =  [ -0.15760574   4.4387977  -10.35545544   6.17269007]\n",
      "Train MSE: 0.325498\n",
      "Val MSE: 0.334967\n",
      "Iterations: 17207\n"
     ]
    },
    {
     "data": {
      "image/png": "[encoded data removed]",
      "text/plain": [
       "<Figure size 432x288 with 1 Axes>"
      ]
     },
     "metadata": {
      "needs_background": "light"
     },
     "output_type": "display_data"
    }
   ],
   "source": [
    "standardized_gd(3,X,y,X_val,y_val, lr=2e-1,maxiter=17300)\n",
    "\n",
    "#valores antigos:\n",
    "#lr = 2e-4, maxiter = 8000\n",
    "#w =  [-0.35244342  0.26841033 -0.06439477]\n",
    "#Train MSE: 0.511996\n",
    "#Val MSE: 0.611798\n",
    "#Iterations: 4097\"\"\""
   ]
  },
  {
   "cell_type": "markdown",
   "metadata": {},
   "source": [
    "**Refaça os mesmos passos da seção anterior (2.1-2.4) e compare os resultados e o comportamento do algoritmo. Explique.**\n"
   ]
  },
  {
   "cell_type": "markdown",
   "metadata": {},
   "source": [
    "**Neste problema, em qual posição o escalonador funciona melhor, antes ou depois da adição de atributos? Cite as evidências que você observou.**"
   ]
  },
  {
   "cell_type": "markdown",
   "metadata": {},
   "source": [
    "**O uso do escalonador tem impacto do desempenho da solução analítica? Por quê?**"
   ]
  },
  {
   "cell_type": "code",
   "execution_count": null,
   "metadata": {},
   "outputs": [],
   "source": []
  },
  {
   "cell_type": "markdown",
   "metadata": {},
   "source": [
    "## 4. Ainda mais atributos\n",
    "\n",
    "1. Adicione atributos polinomiais de grau ainda maior (ex: d=4, d=5). O que você observa?\n",
    "1. Você recomendaria o método do gradiente para um problema desse tipo? Ou seria melhor usar um método de segunda ordem? Explique."
   ]
  },
  {
   "cell_type": "code",
   "execution_count": null,
   "metadata": {},
   "outputs": [],
   "source": []
  },
  {
   "cell_type": "code",
   "execution_count": null,
   "metadata": {},
   "outputs": [],
   "source": []
  },
  {
   "cell_type": "markdown",
   "metadata": {},
   "source": [
    "# 5. Conjunto de dados #2\n",
    "\n",
    "O segundo conjunto de dados que usaremos consiste de dados sobre a venda de casas em King County, USA, entre maio de 2014 e maio de 2015. O objetivo é prever o preço de venda a partir de informações sobre a casa. "
   ]
  },
  {
   "cell_type": "code",
   "execution_count": 9,
   "metadata": {
    "scrolled": false
   },
   "outputs": [
    {
     "name": "stdout",
     "output_type": "stream",
     "text": [
      "(21613, 21)\n"
     ]
    },
    {
     "data": {
      "text/html": [
       "<div>\n",
       "<style scoped>\n",
       "    .dataframe tbody tr th:only-of-type {\n",
       "        vertical-align: middle;\n",
       "    }\n",
       "\n",
       "    .dataframe tbody tr th {\n",
       "        vertical-align: top;\n",
       "    }\n",
       "\n",
       "    .dataframe thead th {\n",
       "        text-align: right;\n",
       "    }\n",
       "</style>\n",
       "<table border=\"1\" class=\"dataframe\">\n",
       "  <thead>\n",
       "    <tr style=\"text-align: right;\">\n",
       "      <th></th>\n",
       "      <th>id</th>\n",
       "      <th>date</th>\n",
       "      <th>price</th>\n",
       "      <th>bedrooms</th>\n",
       "      <th>bathrooms</th>\n",
       "      <th>sqft_living</th>\n",
       "      <th>sqft_lot</th>\n",
       "      <th>floors</th>\n",
       "      <th>waterfront</th>\n",
       "      <th>view</th>\n",
       "      <th>...</th>\n",
       "      <th>grade</th>\n",
       "      <th>sqft_above</th>\n",
       "      <th>sqft_basement</th>\n",
       "      <th>yr_built</th>\n",
       "      <th>yr_renovated</th>\n",
       "      <th>zipcode</th>\n",
       "      <th>lat</th>\n",
       "      <th>long</th>\n",
       "      <th>sqft_living15</th>\n",
       "      <th>sqft_lot15</th>\n",
       "    </tr>\n",
       "  </thead>\n",
       "  <tbody>\n",
       "    <tr>\n",
       "      <th>0</th>\n",
       "      <td>7129300520</td>\n",
       "      <td>20141013T000000</td>\n",
       "      <td>221900.0</td>\n",
       "      <td>3</td>\n",
       "      <td>1.00</td>\n",
       "      <td>1180</td>\n",
       "      <td>5650</td>\n",
       "      <td>1.0</td>\n",
       "      <td>0</td>\n",
       "      <td>0</td>\n",
       "      <td>...</td>\n",
       "      <td>7</td>\n",
       "      <td>1180</td>\n",
       "      <td>0</td>\n",
       "      <td>1955</td>\n",
       "      <td>0</td>\n",
       "      <td>98178</td>\n",
       "      <td>47.5112</td>\n",
       "      <td>-122.257</td>\n",
       "      <td>1340</td>\n",
       "      <td>5650</td>\n",
       "    </tr>\n",
       "    <tr>\n",
       "      <th>1</th>\n",
       "      <td>6414100192</td>\n",
       "      <td>20141209T000000</td>\n",
       "      <td>538000.0</td>\n",
       "      <td>3</td>\n",
       "      <td>2.25</td>\n",
       "      <td>2570</td>\n",
       "      <td>7242</td>\n",
       "      <td>2.0</td>\n",
       "      <td>0</td>\n",
       "      <td>0</td>\n",
       "      <td>...</td>\n",
       "      <td>7</td>\n",
       "      <td>2170</td>\n",
       "      <td>400</td>\n",
       "      <td>1951</td>\n",
       "      <td>1991</td>\n",
       "      <td>98125</td>\n",
       "      <td>47.7210</td>\n",
       "      <td>-122.319</td>\n",
       "      <td>1690</td>\n",
       "      <td>7639</td>\n",
       "    </tr>\n",
       "    <tr>\n",
       "      <th>2</th>\n",
       "      <td>5631500400</td>\n",
       "      <td>20150225T000000</td>\n",
       "      <td>180000.0</td>\n",
       "      <td>2</td>\n",
       "      <td>1.00</td>\n",
       "      <td>770</td>\n",
       "      <td>10000</td>\n",
       "      <td>1.0</td>\n",
       "      <td>0</td>\n",
       "      <td>0</td>\n",
       "      <td>...</td>\n",
       "      <td>6</td>\n",
       "      <td>770</td>\n",
       "      <td>0</td>\n",
       "      <td>1933</td>\n",
       "      <td>0</td>\n",
       "      <td>98028</td>\n",
       "      <td>47.7379</td>\n",
       "      <td>-122.233</td>\n",
       "      <td>2720</td>\n",
       "      <td>8062</td>\n",
       "    </tr>\n",
       "    <tr>\n",
       "      <th>3</th>\n",
       "      <td>2487200875</td>\n",
       "      <td>20141209T000000</td>\n",
       "      <td>604000.0</td>\n",
       "      <td>4</td>\n",
       "      <td>3.00</td>\n",
       "      <td>1960</td>\n",
       "      <td>5000</td>\n",
       "      <td>1.0</td>\n",
       "      <td>0</td>\n",
       "      <td>0</td>\n",
       "      <td>...</td>\n",
       "      <td>7</td>\n",
       "      <td>1050</td>\n",
       "      <td>910</td>\n",
       "      <td>1965</td>\n",
       "      <td>0</td>\n",
       "      <td>98136</td>\n",
       "      <td>47.5208</td>\n",
       "      <td>-122.393</td>\n",
       "      <td>1360</td>\n",
       "      <td>5000</td>\n",
       "    </tr>\n",
       "    <tr>\n",
       "      <th>4</th>\n",
       "      <td>1954400510</td>\n",
       "      <td>20150218T000000</td>\n",
       "      <td>510000.0</td>\n",
       "      <td>3</td>\n",
       "      <td>2.00</td>\n",
       "      <td>1680</td>\n",
       "      <td>8080</td>\n",
       "      <td>1.0</td>\n",
       "      <td>0</td>\n",
       "      <td>0</td>\n",
       "      <td>...</td>\n",
       "      <td>8</td>\n",
       "      <td>1680</td>\n",
       "      <td>0</td>\n",
       "      <td>1987</td>\n",
       "      <td>0</td>\n",
       "      <td>98074</td>\n",
       "      <td>47.6168</td>\n",
       "      <td>-122.045</td>\n",
       "      <td>1800</td>\n",
       "      <td>7503</td>\n",
       "    </tr>\n",
       "  </tbody>\n",
       "</table>\n",
       "<p>5 rows × 21 columns</p>\n",
       "</div>"
      ],
      "text/plain": [
       "           id             date     price  bedrooms  bathrooms  sqft_living  \\\n",
       "0  7129300520  20141013T000000  221900.0         3       1.00         1180   \n",
       "1  6414100192  20141209T000000  538000.0         3       2.25         2570   \n",
       "2  5631500400  20150225T000000  180000.0         2       1.00          770   \n",
       "3  2487200875  20141209T000000  604000.0         4       3.00         1960   \n",
       "4  1954400510  20150218T000000  510000.0         3       2.00         1680   \n",
       "\n",
       "   sqft_lot  floors  waterfront  view  ...  grade  sqft_above  sqft_basement  \\\n",
       "0      5650     1.0           0     0  ...      7        1180              0   \n",
       "1      7242     2.0           0     0  ...      7        2170            400   \n",
       "2     10000     1.0           0     0  ...      6         770              0   \n",
       "3      5000     1.0           0     0  ...      7        1050            910   \n",
       "4      8080     1.0           0     0  ...      8        1680              0   \n",
       "\n",
       "   yr_built  yr_renovated  zipcode      lat     long  sqft_living15  \\\n",
       "0      1955             0    98178  47.5112 -122.257           1340   \n",
       "1      1951          1991    98125  47.7210 -122.319           1690   \n",
       "2      1933             0    98028  47.7379 -122.233           2720   \n",
       "3      1965             0    98136  47.5208 -122.393           1360   \n",
       "4      1987             0    98074  47.6168 -122.045           1800   \n",
       "\n",
       "   sqft_lot15  \n",
       "0        5650  \n",
       "1        7639  \n",
       "2        8062  \n",
       "3        5000  \n",
       "4        7503  \n",
       "\n",
       "[5 rows x 21 columns]"
      ]
     },
     "execution_count": 9,
     "metadata": {},
     "output_type": "execute_result"
    }
   ],
   "source": [
    "import pandas as pd\n",
    "# Original source: http://www.kaggle.com/harlfoxem/housesalesprediction/data\n",
    "df = pd.read_csv('https://github.com/danilo-silva-ufsc/ml/raw/master/data/kc_house_data.csv')\n",
    "print(df.shape)\n",
    "df.head()"
   ]
  },
  {
   "cell_type": "markdown",
   "metadata": {},
   "source": [
    "Como variável de saída, $y$, utilize o **logaritmo** neperiano do preço de venda , `price`, i.e., `np.log(price)`. Desta forma o erro na predição de $y$ será função do erro _relativo_ na predição do preço, evitando dar peso excessivo aos preços mais altos. Por exemplo, quando a função perda é o erro quadrático, a perda equivale aproximadamente ao quadrado do erro relativo:\n",
    "\n",
    "$L(y,\\hat{y}) = (\\hat{y} - y)^2 = (\\log(\\hat{p}) - \\log(p))^2 = (\\log(\\hat{p}/p))^2 = (\\log(1 + (\\hat{p}-p)/p))^2 \\approx ((\\hat{p}-p)/p)^2$\n",
    "\n",
    "\n",
    "Como atributos, utilize apenas as 4 colunas após o preço de venda, i.e.:\n",
    "- `bedrooms`: número de quartos\n",
    "- `bathrooms`: número de quartos, em múltiplos de 1/4 (https://www.realtor.com/advice/buy/what-is-a-half-bath/)\n",
    "- `sqft_living`: área da casa, em ft${^2}$\n",
    "- `sqft_lot`: área do lote, em ft${^2}$"
   ]
  },
  {
   "cell_type": "markdown",
   "metadata": {},
   "source": [
    "## Preparação\n",
    "\n",
    "1. Prepare e divida o conjunto de dados aleatoriamente em conjuntos de treinamento, validação e teste, nas proporções 60%, 20% e 20%, respectivamente. Para isso, utilize a função `sklearn.model_selection.train_test_split()`.\n",
    "1. Como função perda para o treinamento, utilize o erro quadrático, e, como métrica de avaliação do modelo, utilize a raiz quadrada do erro quadrático médio. Ambos são equivalentes, mas o segundo resulta em valores numa escala mais agradável para análise e mais fácil de interpretar. Adicionalmente, utilize como métrica de avaliação o [erro percentual absoluto médio](https://en.wikipedia.org/wiki/Mean_absolute_percentage_error) (MAPE) do preço de venda (i.e., da variável original `price`, **não** da variável `y = np.log(price)`). Esta métrica é ainda mais fácil de interpretar."
   ]
  },
  {
   "cell_type": "code",
   "execution_count": 10,
   "metadata": {},
   "outputs": [
    {
     "name": "stdout",
     "output_type": "stream",
     "text": [
      "(21560, 4) (21560,)\n"
     ]
    }
   ],
   "source": [
    "# Removing outliers\n",
    "df = df[df['bedrooms'] < 10]\n",
    "df = df[df['bathrooms'] < 6]\n",
    "df = df[df['sqft_living'] < 7000]\n",
    "df = df[df['sqft_lot'] < 600e3]\n",
    "\n",
    "X = df[['bedrooms','bathrooms','sqft_living','sqft_lot']].to_numpy()\n",
    "y = ???\n",
    "print(X.shape, y.shape)"
   ]
  },
  {
   "cell_type": "code",
   "execution_count": 11,
   "metadata": {},
   "outputs": [
    {
     "name": "stdout",
     "output_type": "stream",
     "text": [
      "(12936, 4) (12936,)\n",
      "(4312, 4) (4312,)\n",
      "(4312, 4) (4312,)\n"
     ]
    }
   ],
   "source": [
    "from sklearn.model_selection import train_test_split\n",
    "\n",
    "X_train, X_test, y_train, y_test = train_test_split(X, y, test_size=0.2, random_state=0)\n",
    "X_train, X_val, y_train, y_val = train_test_split(???, test_size=y_test.shape[0], random_state=0)\n",
    "del(X,y) # just to make sure we will not use them by mistake. Or set X,y = X_train,y_train\n",
    "\n",
    "print(X_train.shape, y_train.shape)\n",
    "print(X_val.shape, y_val.shape)\n",
    "print(X_test.shape, y_test.shape)"
   ]
  },
  {
   "cell_type": "code",
   "execution_count": 12,
   "metadata": {},
   "outputs": [],
   "source": [
    "def rmse(model, X, y):\n",
    "    return ???"
   ]
  },
  {
   "cell_type": "code",
   "execution_count": 13,
   "metadata": {},
   "outputs": [],
   "source": [
    "def mape(model, X, y):\n",
    "    p = ???\n",
    "    p_pred = ???\n",
    "    return ???"
   ]
  },
  {
   "cell_type": "markdown",
   "metadata": {
    "collapsed": true
   },
   "source": [
    "## Exploração dos dados\n",
    "\n",
    "Antes de escolher e começar a treinar um modelo, é útil fazer uma breve exploração dos dados. (Foi dessa exploração inicial que surgiu a ideia, por exemplo, de remover outliers, com aqueles valores específicos.) \n",
    "\n",
    "3. Para cada atributo, trace o gráfico da variável de saída em função do atributo, **sobre o conjunto de treinamento** (não trace gráficos sobre o conjunto de teste para evitar vazamento de informação). Observe as escalas das variáveis envolvidas e analise se há alguma dependência aparente entre as variáveis. Intuitivamente, qual atributo parece ser mais preditivo do preço do venda?"
   ]
  },
  {
   "cell_type": "code",
   "execution_count": null,
   "metadata": {},
   "outputs": [],
   "source": []
  },
  {
   "cell_type": "markdown",
   "metadata": {
    "collapsed": true
   },
   "source": [
    "## Regressão linear\n",
    "\n",
    "4. Inicialmente você deve treinar um modelo de regressão linear sem regularização e calcular o desempenho da predição (RMSE e MAPE) sobre o conjunto de treinamento e sobre o conjunto de validação. Fique à vontade para usar as funções do `sklearn`, não há necessidade de usar o método do gradiente.\n",
    "1. Você diria que o modelo treinado sofre de underfitting, overfitting ou nenhum dos dois? Explique.\n",
    "1. Analisando o vetor de pesos do modelo treinado (`model.coef_`), qual atributo você diria que é o mais importante para a predição? Por quê? Esta observação confirma a sua hipótese do item anterior? Explique.\n",
    "\n",
    "#### Dica\n",
    "- Para acessar o regressor dentro de um *pipeline* do sklearn, inicialize-o fora do *pipeline* ou acesse-o via `model.steps[-1][1]`."
   ]
  },
  {
   "cell_type": "code",
   "execution_count": null,
   "metadata": {},
   "outputs": [],
   "source": []
  },
  {
   "cell_type": "markdown",
   "metadata": {
    "collapsed": true
   },
   "source": [
    "## Aprimorando o modelo\n",
    "\n",
    "7. Usando o que vimos até agora na disciplina, tente ao máximo melhorar o desempenho do modelo neste conjunto de dados. Reporte o desempenho obtido (RMSE e MAPE).\n",
    "\n",
    "#### Dica:\n",
    "- Reveja os conceitos aprendidos na Aula 2 e no Exercício 2.\n",
    "- Se desejar aplicar alguma transformação de atributos \"customizada\", você tem duas opções: criar um transformador customizado do `sklearn` e integrá-lo em uma *pipeline* (ver último item opcional do Exercício 2), ou, *somente se for uma transformação que não envolve estimação de parâmetros*, você pode aplicá-la diretamente a todo o conjunto de dados (matrix $\\bX$ antes do *split*)."
   ]
  },
  {
   "cell_type": "code",
   "execution_count": null,
   "metadata": {},
   "outputs": [],
   "source": []
  },
  {
   "cell_type": "markdown",
   "metadata": {
    "collapsed": true
   },
   "source": [
    "## (OPCIONAL)\n",
    "\n",
    "- Tente utilizar mais colunas da tabela original para melhorar o desempenho.\n",
    "- Utilize um outro conjunto de dados com múltiplos atributos. Sugestão: https://archive.ics.uci.edu/ml/datasets/Wine+Quality"
   ]
  },
  {
   "cell_type": "code",
   "execution_count": null,
   "metadata": {},
   "outputs": [],
   "source": []
  }
 ],
 "metadata": {
  "kernelspec": {
   "display_name": "Python 3",
   "language": "python",
   "name": "python3"
  },
  "language_info": {
   "codemirror_mode": {
    "name": "ipython",
    "version": 3
   },
   "file_extension": ".py",
   "mimetype": "text/x-python",
   "name": "python",
   "nbconvert_exporter": "python",
   "pygments_lexer": "ipython3",
   "version": "3.7.6"
  }
 },
 "nbformat": 4,
 "nbformat_minor": 2
}
