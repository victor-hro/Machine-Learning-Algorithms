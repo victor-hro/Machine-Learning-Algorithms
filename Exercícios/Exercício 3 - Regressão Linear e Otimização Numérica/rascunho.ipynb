{
 "cells": [
  {
   "cell_type": "code",
   "execution_count": 124,
   "metadata": {},
   "outputs": [],
   "source": [
    "import numpy as np\n",
    "import matplotlib.pyplot as plt\n",
    "%matplotlib inline\n",
    "\n",
    "def gen_data(n_samples, x_scale=[0,1], noise=0.5):\n",
    "    '''Generate univariate regression dataset'''\n",
    "    x = np.sort(np.random.rand(n_samples))\n",
    "    y = 6*(-1/6 + x + (x > 1/3)*(2/3-2*x) + (x > 2/3)*(2*x-4/3)) + noise*np.random.randn(n_samples)\n",
    "    x = x_scale[0] + (x_scale[1]-x_scale[0])*x\n",
    "    X = x.reshape(-1,1)\n",
    "    return X, y\n",
    "\n",
    "def plot_data(X, y):\n",
    "    '''Plot univariate regression dataset'''\n",
    "    assert len(X.shape) == 2 and len(y.shape) == 1\n",
    "    plt.plot(X[:,0],y,'b.'); plt.xlabel('x'); plt.ylabel('y');\n",
    "    return\n",
    "\n",
    "def plot_prediction(model, X, y, n_points=100):\n",
    "    '''Plot dataset and predictions for a univariate regression model'''\n",
    "    plot_data(X,y)\n",
    "    if n_points is not None:\n",
    "        xx = np.linspace(X.min(),X.max(),n_points)\n",
    "        yy = model.predict(xx.reshape(-1,1))\n",
    "        plt.plot(xx,yy,'r-')\n",
    "    y_pred = model.predict(X)\n",
    "    plt.plot(X[:,0],y_pred,'r.')\n",
    "    plt.legend(['True', 'Predicted'])\n",
    "    return"
   ]
  },
  {
   "cell_type": "code",
   "execution_count": 125,
   "metadata": {},
   "outputs": [
    {
     "name": "stdout",
     "output_type": "stream",
     "text": [
      "(30, 1) (30,)\n",
      "(1000, 1) (1000,)\n",
      "(1000, 1) (1000,)\n"
     ]
    },
    {
     "data": {
      "image/png": "[encoded data removed]",
      "text/plain": [
       "<Figure size 432x288 with 1 Axes>"
      ]
     },
     "metadata": {
      "needs_background": "light"
     },
     "output_type": "display_data"
    }
   ],
   "source": [
    "np.random.seed(2019*2)\n",
    "X, y = gen_data(n_samples=30, x_scale=[0,4])\n",
    "X_val, y_val = gen_data(n_samples=1000, x_scale=[0,4])\n",
    "X_test, y_test = gen_data(n_samples=1000, x_scale=[0,4])\n",
    "\n",
    "print(X.shape, y.shape)\n",
    "print(X_val.shape, y_val.shape)\n",
    "print(X_test.shape, y_test.shape)\n",
    "\n",
    "# Plot only the training data!\n",
    "plot_data(X,y)"
   ]
  },
  {
   "cell_type": "markdown",
   "metadata": {},
   "source": [
    "### Teste usando LinearRegression"
   ]
  },
  {
   "cell_type": "code",
   "execution_count": 126,
   "metadata": {},
   "outputs": [
    {
     "data": {
      "text/plain": [
       "LinearRegression(copy_X=True, fit_intercept=True, n_jobs=None, normalize=False)"
      ]
     },
     "execution_count": 126,
     "metadata": {},
     "output_type": "execute_result"
    }
   ],
   "source": [
    "from sklearn.linear_model import LinearRegression\n",
    "model = LinearRegression()\n",
    "model.fit(X, y)"
   ]
  },
  {
   "cell_type": "code",
   "execution_count": 127,
   "metadata": {},
   "outputs": [
    {
     "data": {
      "text/plain": [
       "array([-0.20001138, -0.19633476, -0.19544461, -0.19060519, -0.18996726,\n",
       "       -0.18952346, -0.18695564, -0.18160801, -0.1814653 , -0.17543459,\n",
       "       -0.17175762, -0.16941692, -0.16298842, -0.1594301 , -0.15747494,\n",
       "       -0.15629353, -0.15212056, -0.14546805, -0.14492571, -0.14287046,\n",
       "       -0.14093095, -0.13780927, -0.13719661, -0.1355976 , -0.12731828,\n",
       "       -0.12731169, -0.12525231, -0.12110126, -0.11525863, -0.11029896])"
      ]
     },
     "execution_count": 127,
     "metadata": {},
     "output_type": "execute_result"
    }
   ],
   "source": [
    "y_train_pred = model.predict(X)\n",
    "y_train_pred"
   ]
  },
  {
   "cell_type": "markdown",
   "metadata": {},
   "source": [
    "### Teste usando Ridge"
   ]
  },
  {
   "cell_type": "code",
   "execution_count": 128,
   "metadata": {},
   "outputs": [],
   "source": [
    "from sklearn.linear_model import Ridge\n",
    "lamb = 0\n",
    "ridge = Ridge(alpha = lamb)"
   ]
  },
  {
   "cell_type": "code",
   "execution_count": 129,
   "metadata": {},
   "outputs": [
    {
     "data": {
      "text/plain": [
       "Ridge(alpha=0, copy_X=True, fit_intercept=True, max_iter=None, normalize=False,\n",
       "      random_state=None, solver='auto', tol=0.001)"
      ]
     },
     "execution_count": 129,
     "metadata": {},
     "output_type": "execute_result"
    }
   ],
   "source": [
    "ridge.fit(X,y)"
   ]
  },
  {
   "cell_type": "code",
   "execution_count": 130,
   "metadata": {},
   "outputs": [],
   "source": [
    "a = ridge.predict(X)"
   ]
  },
  {
   "cell_type": "code",
   "execution_count": 131,
   "metadata": {},
   "outputs": [
    {
     "data": {
      "text/plain": [
       "array([-0.20001138, -0.19633476, -0.19544461, -0.19060519, -0.18996726,\n",
       "       -0.18952346, -0.18695564, -0.18160801, -0.1814653 , -0.17543459,\n",
       "       -0.17175762, -0.16941692, -0.16298842, -0.1594301 , -0.15747494,\n",
       "       -0.15629353, -0.15212056, -0.14546805, -0.14492571, -0.14287046,\n",
       "       -0.14093095, -0.13780927, -0.13719661, -0.1355976 , -0.12731828,\n",
       "       -0.12731169, -0.12525231, -0.12110126, -0.11525863, -0.11029896])"
      ]
     },
     "execution_count": 131,
     "metadata": {},
     "output_type": "execute_result"
    }
   ],
   "source": [
    "a"
   ]
  },
  {
   "cell_type": "code",
   "execution_count": null,
   "metadata": {},
   "outputs": [],
   "source": []
  },
  {
   "cell_type": "markdown",
   "metadata": {},
   "source": [
    "### Classe de treinamento"
   ]
  },
  {
   "cell_type": "code",
   "execution_count": 132,
   "metadata": {},
   "outputs": [
    {
     "data": {
      "text/plain": [
       "(30, 2)"
      ]
     },
     "execution_count": 132,
     "metadata": {},
     "output_type": "execute_result"
    }
   ],
   "source": [
    "# Add column of ones\n",
    "X_new = np.c_[np.ones(X.shape[0]), X]\n",
    "X_new.shape"
   ]
  },
  {
   "cell_type": "code",
   "execution_count": 133,
   "metadata": {},
   "outputs": [],
   "source": [
    "X = X_new\n",
    "L = np.identity(X.shape[1]) #numero de colunas de X = [30,2]\n",
    "L[0][0] = 0\n",
    "\n",
    "lamb = 0\n",
    "m = len(y)\n",
    "\n",
    "#self.hessian =  * (np.linalg.inv(X.T @ X) @ (X.T @ y)) \n",
    "assert np.linalg.matrix_rank(X.T @ X + lamb*L) == X.shape[1], 'Singular matrix'\n",
    "#w =  np.linalg.inv(X.T @ X) @ (X.T @ y)\n",
    "w = np.linalg.inv(X.T @ X + lamb*L) @ (X.T @ y)"
   ]
  },
  {
   "cell_type": "code",
   "execution_count": 134,
   "metadata": {},
   "outputs": [
    {
     "data": {
      "text/plain": [
       "array([-0.20189161,  0.02333163])"
      ]
     },
     "execution_count": 134,
     "metadata": {},
     "output_type": "execute_result"
    }
   ],
   "source": [
    "w"
   ]
  },
  {
   "cell_type": "code",
   "execution_count": 135,
   "metadata": {},
   "outputs": [],
   "source": [
    "def predict(X, w):\n",
    "    # Compute prediction\n",
    "    y_hat = X @ w\n",
    "    return y_hat"
   ]
  },
  {
   "cell_type": "code",
   "execution_count": 136,
   "metadata": {},
   "outputs": [],
   "source": [
    "yy = predict(X_new,w)"
   ]
  },
  {
   "cell_type": "code",
   "execution_count": 137,
   "metadata": {},
   "outputs": [
    {
     "data": {
      "text/plain": [
       "array([-0.20001138, -0.19633476, -0.19544461, -0.19060519, -0.18996726,\n",
       "       -0.18952346, -0.18695564, -0.18160801, -0.1814653 , -0.17543459,\n",
       "       -0.17175762, -0.16941692, -0.16298842, -0.1594301 , -0.15747494,\n",
       "       -0.15629353, -0.15212056, -0.14546805, -0.14492571, -0.14287046,\n",
       "       -0.14093095, -0.13780927, -0.13719661, -0.1355976 , -0.12731828,\n",
       "       -0.12731169, -0.12525231, -0.12110126, -0.11525863, -0.11029896])"
      ]
     },
     "execution_count": 137,
     "metadata": {},
     "output_type": "execute_result"
    }
   ],
   "source": [
    "yy"
   ]
  },
  {
   "cell_type": "code",
   "execution_count": 142,
   "metadata": {},
   "outputs": [],
   "source": [
    "def _fit_gd(X, y, w,  maxiter=1000, tol=1e-5, lr=1e-2):\n",
    "    # Fit by gradient descent\n",
    "    J_history = []\n",
    "    L = np.identity(X.shape[1]) #numero de colunas de X = [30,2]\n",
    "    L[0][0] = 0\n",
    "    m = len(y)\n",
    "\n",
    "    for c in range(maxiter):\n",
    "        \n",
    "        #gd = (2/m)* (X.T @ X) @ (X.T @ y) + lamb*(2/m) * L @ w\n",
    "        \n",
    "        #regularizando todo o vetor, aula 3  pag 27\n",
    "        gd = (1 - lamb*lr*(2/m))*w -   ( lr*(2/m) * (X_new.T @ (predict(X_new,w) - y)) )\n",
    "\n",
    "        w = w - lr*gd\n",
    "\n",
    "        #cost = ( (1/m)* np.linalg.norm(((predict(X_new,w) - y)**2)) ) + (lamb*(1/m)* (w.T @ (L @ w)) )\n",
    "        cost = ( (1/m)* np.linalg.norm(((predict(X_new,w) - y)**2)) ) + (lamb*(1/m)* np.linalg.norm(w))\n",
    "\n",
    "        J_history.append(cost)\n",
    "        \n",
    "        if np.linalg.norm(w) < tol:\n",
    "         #enc = 'sim'\n",
    "         break\n",
    "\n",
    "    return w, J_history"
   ]
  },
  {
   "cell_type": "code",
   "execution_count": 143,
   "metadata": {},
   "outputs": [],
   "source": [
    "new_w, hist = _fit_gd(X_new,y,w) #X_new = bias + X"
   ]
  },
  {
   "cell_type": "code",
   "execution_count": 144,
   "metadata": {},
   "outputs": [
    {
     "data": {
      "text/plain": [
       "array([0.00344186, 0.00610834])"
      ]
     },
     "execution_count": 144,
     "metadata": {},
     "output_type": "execute_result"
    }
   ],
   "source": [
    "new_w"
   ]
  },
  {
   "cell_type": "code",
   "execution_count": 145,
   "metadata": {},
   "outputs": [
    {
     "data": {
      "image/png": "[encoded data removed]",
      "text/plain": [
       "<Figure size 432x288 with 1 Axes>"
      ]
     },
     "metadata": {
      "needs_background": "light"
     },
     "output_type": "display_data"
    }
   ],
   "source": [
    "values = np.arange(1000)\n",
    "plt.plot(values,hist,'b')\n",
    "\n",
    "plt.title('Gradiente Descendente com regularização l2 sobre todo o vetor w')\n",
    "plt.legend(['Cost'])\n",
    "plt.xlabel('n')\n",
    "plt.ylabel('Cost')\n",
    "plt.tight_layout()"
   ]
  },
  {
   "cell_type": "code",
   "execution_count": null,
   "metadata": {},
   "outputs": [],
   "source": []
  }
 ],
 "metadata": {
  "kernelspec": {
   "display_name": "Python 3",
   "language": "python",
   "name": "python3"
  },
  "language_info": {
   "codemirror_mode": {
    "name": "ipython",
    "version": 3
   },
   "file_extension": ".py",
   "mimetype": "text/x-python",
   "name": "python",
   "nbconvert_exporter": "python",
   "pygments_lexer": "ipython3",
   "version": "3.7.6"
  }
 },
 "nbformat": 4,
 "nbformat_minor": 4
}
