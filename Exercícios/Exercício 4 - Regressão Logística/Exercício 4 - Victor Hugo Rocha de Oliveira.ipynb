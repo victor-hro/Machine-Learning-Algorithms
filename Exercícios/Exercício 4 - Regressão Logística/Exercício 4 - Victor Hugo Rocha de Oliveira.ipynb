{
 "cells": [
  {
   "cell_type": "markdown",
   "metadata": {},
   "source": [
    "Universidade Federal de Santa Catarina<br>\n",
    "Departamento de Engenharia Elétrica e Eletrônica<br>\n",
    "EEL7514/EEL7513/EEL410250 - Aprendizado de Máquina\n",
    "$\\newcommand{\\bX}{\\mathbf{X}}$\n",
    "$\\newcommand{\\bw}{\\mathbf{w}}$\n",
    "$\\newcommand{\\by}{\\mathbf{y}}$\n",
    "$\\newcommand{\\bx}{\\mathbf{x}}$\n",
    "$\\newcommand{\\RR}{\\mathbb{R}}$\n",
    "\n",
    "\n",
    "# Exercício 4: Regressão Logística\n",
    "\n",
    "Neste exercício você irá aplicar um classificador de regressão logística em diversos conjuntos de dados. \n",
    "Além disso, você irá explorar a adição de atributos polinomiais e a utilização de regularização, bem como outras formas de avaliação de classificadores binários. Finalmente, você irá investigar técnicas de classificação multi-classe."
   ]
  },
  {
   "cell_type": "code",
   "execution_count": 1,
   "metadata": {},
   "outputs": [],
   "source": [
    "import numpy as np\n",
    "import matplotlib.pyplot as plt\n",
    "%matplotlib inline\n",
    "\n",
    "def gen_data(n_samples=20, n_classes=2, overlap=0, x_scale=[0,1], random_state=None):\n",
    "    '''Generate 1-D classification dataset'''\n",
    "    assert overlap <= 1\n",
    "    rng = np.random.RandomState(random_state)\n",
    "    X = np.zeros((n_samples,1))\n",
    "    y = np.zeros(n_samples)\n",
    "    for i in range(n_samples):\n",
    "        k = i % n_classes\n",
    "        X[i,0] = (k*(1-overlap) + rng.rand())/((n_classes-1)*(1-overlap) + 1)\n",
    "        y[i] = k\n",
    "    X = x_scale[0] + (x_scale[1]-x_scale[0])*X\n",
    "    return X, y\n",
    "\n",
    "def plot_data(X, y, colors=['bo','rx','gs','md','c^','yP']):\n",
    "    ''' Plot 1-D or 2-D classification dataset '''\n",
    "    assert len(X.shape) == 2 and len(y.shape) == 1\n",
    "    classes = np.unique(y)\n",
    "    assert len(classes) <= len(colors)\n",
    "    dim = X.shape[1]\n",
    "    assert 0 < dim <= 2\n",
    "    if dim == 1:\n",
    "        for i in range(len(classes)):\n",
    "            plt.plot(X[y==classes[i],0], np.zeros(np.sum(y==classes[i])), colors[i])\n",
    "        plt.gca().axes.get_yaxis().set_ticks([])\n",
    "    else:\n",
    "        for i in range(len(classes)):\n",
    "            plt.plot(X[y==classes[i],0], X[y==classes[i],1], colors[i])\n",
    "    return\n",
    "\n",
    "def plot_boundary(model, X, colors=['b','r','g','m','c','y'], N=400, gap=1e-9):\n",
    "    ''' Plot boundary for a 1-D or 2-D classifier '''\n",
    "    assert len(X.shape) == 2 and len(y.shape) == 1\n",
    "    dim = X.shape[1]\n",
    "    assert 0 < dim <= 2\n",
    "    x1_min, x1_max = X[:,0].min()-gap, X[:,0].max()+gap\n",
    "    if dim == 1:\n",
    "        x2_min, x2_max = -1, 1\n",
    "        N2 = 2\n",
    "    else:\n",
    "        x2_min, x2_max = X[:,1].min()-gap, X[:,1].max()+gap\n",
    "        N2 = N\n",
    "    xx1, xx2 = np.meshgrid(np.linspace(x1_min,x1_max,N), np.linspace(x2_min,x2_max,N2))\n",
    "    if dim == 1:\n",
    "        X = np.c_[xx1.reshape(-1)]\n",
    "    else:\n",
    "        X = np.c_[xx1.reshape(-1), xx2.reshape(-1)]\n",
    "    y_pred = model.predict(X)\n",
    "    from sklearn.preprocessing import LabelEncoder\n",
    "    enc = LabelEncoder()\n",
    "    y_pred = enc.fit_transform(y_pred)\n",
    "    assert len(enc.classes_) <= len(colors)\n",
    "    levels = np.arange(len(enc.classes_)+1)-0.5\n",
    "    y_pred = y_pred.reshape(xx1.shape)\n",
    "    plt.contourf(xx1, xx2, y_pred, levels, colors=colors, alpha=0.25)\n",
    "    plt.contour(xx1, xx2, y_pred, levels, colors='k', linewidths=1)\n",
    "    return\n",
    "\n",
    "def plot_errors(model, X, y):\n",
    "    ''' Draws a square around each incorrect prediction '''\n",
    "    assert len(X.shape) == 2 and len(y.shape) == 1\n",
    "    dim = X.shape[1]\n",
    "    assert 0 < dim <= 2\n",
    "    err = model.predict(X) != y\n",
    "    vert = np.zeros(np.sum(err))\n",
    "    if dim == 2:\n",
    "        vert = X[err,1]\n",
    "    plt.plot(X[err,0], vert, 'ks', mfc='none', markersize=10)\n",
    "    return"
   ]
  },
  {
   "cell_type": "code",
   "execution_count": 2,
   "metadata": {},
   "outputs": [],
   "source": [
    "# More imports"
   ]
  },
  {
   "cell_type": "markdown",
   "metadata": {},
   "source": [
    "# 1. Conjunto de dados #1\n",
    "\n",
    "O primeiro conjunto de dados que usaremos pode ser gerado e visualizado pelos comandos abaixo."
   ]
  },
  {
   "cell_type": "code",
   "execution_count": 3,
   "metadata": {
    "scrolled": false
   },
   "outputs": [
    {
     "data": {
      "image/png": "[encoded data removed]",
      "text/plain": [
       "<Figure size 432x288 with 1 Axes>"
      ]
     },
     "metadata": {
      "needs_background": "light"
     },
     "output_type": "display_data"
    }
   ],
   "source": [
    "X,y = gen_data(n_samples=50, n_classes=2, overlap=0.1, random_state=1)\n",
    "plot_data(X, y)"
   ]
  },
  {
   "cell_type": "markdown",
   "metadata": {},
   "source": [
    "## Classificação linear\n",
    "\n",
    "1. Treine um classificador de regressão logística sem regularização e trace um gráfico mostrando o conjunto de treinamento e as regiões de decisão do classificador. \n",
    "1. Reporte a acurácia (= # de acertos / tamanho do conjunto) do classificador.\n",
    "1. Determine o valor do limiar de decisão a partir dos parâmetros do modelo.\n",
    "\n",
    "#### Dicas\n",
    "\n",
    "- Funções úteis:\n",
    "\n",
    "```python\n",
    "sklearn.linear_model.LogisticRegression() # utilize penalty='none'\n",
    "plot_data(), plot_boundary() # fornecidas, utilize os parâmetros default\n",
    "LogisticRegression.score(), .coef_, .intercept_\n",
    "```\n",
    "\n",
    "-  Caso sua versão do sklearn seja inferior a 0.22, utilize a opção `solver='lbfgs'` (padrão a partir de 0.22) no `LogisticRegression()`"
   ]
  },
  {
   "cell_type": "code",
   "execution_count": 4,
   "metadata": {},
   "outputs": [
    {
     "data": {
      "text/plain": [
       "'0.22.1'"
      ]
     },
     "execution_count": 4,
     "metadata": {},
     "output_type": "execute_result"
    }
   ],
   "source": [
    "import sklearn\n",
    "from sklearn.linear_model import LogisticRegression\n",
    "from sklearn.metrics import mean_squared_error\n",
    "sklearn.__version__"
   ]
  },
  {
   "cell_type": "code",
   "execution_count": 5,
   "metadata": {},
   "outputs": [
    {
     "data": {
      "text/plain": [
       "LogisticRegression(C=1.0, class_weight=None, dual=False, fit_intercept=True,\n",
       "                   intercept_scaling=1, l1_ratio=None, max_iter=100,\n",
       "                   multi_class='auto', n_jobs=None, penalty='none',\n",
       "                   random_state=None, solver='lbfgs', tol=0.0001, verbose=0,\n",
       "                   warm_start=False)"
      ]
     },
     "execution_count": 5,
     "metadata": {},
     "output_type": "execute_result"
    }
   ],
   "source": [
    "model = LogisticRegression(penalty='none')\n",
    "model.fit(X,y)"
   ]
  },
  {
   "cell_type": "code",
   "execution_count": 6,
   "metadata": {},
   "outputs": [
    {
     "data": {
      "text/plain": [
       "array([0., 1., 0., 1., 0., 1., 0., 1., 0., 1., 0., 1., 0., 1., 0., 1., 0.,\n",
       "       1., 0., 1., 0., 1., 0., 1., 0., 1., 0., 0., 0., 1., 0., 1., 0., 1.,\n",
       "       0., 1., 0., 1., 0., 1., 1., 1., 0., 1., 0., 1., 0., 1., 0., 1.])"
      ]
     },
     "execution_count": 6,
     "metadata": {},
     "output_type": "execute_result"
    }
   ],
   "source": [
    "pred = model.predict(X)\n",
    "pred"
   ]
  },
  {
   "cell_type": "code",
   "execution_count": 7,
   "metadata": {},
   "outputs": [
    {
     "name": "stdout",
     "output_type": "stream",
     "text": [
      "Training accuracy: 0.96%\n",
      "Decision threshold:-0.5108316037797369\n"
     ]
    },
    {
     "data": {
      "image/png": "[encoded data removed]",
      "text/plain": [
       "<Figure size 432x288 with 1 Axes>"
      ]
     },
     "metadata": {
      "needs_background": "light"
     },
     "output_type": "display_data"
    }
   ],
   "source": [
    "print(f\"Training accuracy: {model.score(X,y)}%\")\n",
    "print(f\"Decision threshold:{float(model.intercept_ / model.coef_)}\")\n",
    "plot_data(X,y)\n",
    "plot_boundary(model,X)"
   ]
  },
  {
   "cell_type": "markdown",
   "metadata": {},
   "source": [
    "4. Trace o gráfico da predição do modelo de regressão (i.e., da variável contínua $\\tilde{y} = \\sigma(\\bw^T\\bx$)) sobre o conjunto de treinamento. Faça isso de três formas diferentes e confirme que todas fornecem o mesmo resultado:\n",
    " 1. Usando a função `.predict_proba()` do modelo\n",
    " 1. Escrevendo sua própria implementação a partir da função `.decision_function()`, a qual retorna o score de confiança $z = \\bw^T\\bx$\n",
    " 1. Escrevendo sua própria implementação a partir dos parâmetros `.coef_` e `.intercept_`"
   ]
  },
  {
   "attachments": {
    "image.png": {
     "image/png": "[encoded data removed]"
    }
   },
   "cell_type": "markdown",
   "metadata": {},
   "source": [
    "Resposta do professor:\n",
    "![image.png](attachment:image.png)"
   ]
  },
  {
   "cell_type": "markdown",
   "metadata": {},
   "source": [
    "#### 4.A. Usando a função `.predict_proba()` do modelo"
   ]
  },
  {
   "cell_type": "code",
   "execution_count": 8,
   "metadata": {},
   "outputs": [
    {
     "data": {
      "text/plain": [
       "array([[61.22640097]])"
      ]
     },
     "execution_count": 8,
     "metadata": {},
     "output_type": "execute_result"
    }
   ],
   "source": [
    "model.coef_"
   ]
  },
  {
   "cell_type": "code",
   "execution_count": 9,
   "metadata": {},
   "outputs": [
    {
     "data": {
      "text/plain": [
       "array([-31.2763806])"
      ]
     },
     "execution_count": 9,
     "metadata": {},
     "output_type": "execute_result"
    }
   ],
   "source": [
    "model.intercept_"
   ]
  },
  {
   "cell_type": "code",
   "execution_count": 10,
   "metadata": {},
   "outputs": [
    {
     "data": {
      "text/plain": [
       "array([[-31.2763806 ],\n",
       "       [ 61.22640097]])"
      ]
     },
     "execution_count": 10,
     "metadata": {},
     "output_type": "execute_result"
    }
   ],
   "source": [
    "w = np.ones(2)\n",
    "w[0] = model.intercept_\n",
    "w[1] = model.coef_[0][0]\n",
    "w = np.c_[w]\n",
    "w"
   ]
  },
  {
   "cell_type": "code",
   "execution_count": 11,
   "metadata": {},
   "outputs": [],
   "source": [
    "x_ = np.c_[X,y]"
   ]
  },
  {
   "cell_type": "code",
   "execution_count": 12,
   "metadata": {},
   "outputs": [],
   "source": [
    "proba = model.predict_proba(X)\n",
    "y_pred = np.argmax(proba, axis = 1)"
   ]
  },
  {
   "cell_type": "code",
   "execution_count": 13,
   "metadata": {},
   "outputs": [
    {
     "data": {
      "image/png": "[encoded data removed]",
      "text/plain": [
       "<Figure size 432x288 with 1 Axes>"
      ]
     },
     "metadata": {
      "needs_background": "light"
     },
     "output_type": "display_data"
    }
   ],
   "source": [
    "plot_data(X,y_pred)"
   ]
  },
  {
   "cell_type": "markdown",
   "metadata": {},
   "source": [
    "#### 4.B.Usando a função decision_function"
   ]
  },
  {
   "cell_type": "code",
   "execution_count": 14,
   "metadata": {},
   "outputs": [],
   "source": [
    "def sigmoid(z):\n",
    "    return 1 / (1 + np.exp(-z))"
   ]
  },
  {
   "cell_type": "code",
   "execution_count": 15,
   "metadata": {},
   "outputs": [
    {
     "data": {
      "text/plain": [
       "array([0, 1, 0, 1, 0, 1, 0, 1, 0, 1, 0, 1, 0, 1, 0, 1, 0, 1, 0, 1, 0, 1,\n",
       "       0, 1, 0, 1, 0, 0, 0, 1, 0, 1, 0, 1, 0, 1, 0, 1, 0, 1, 1, 1, 0, 1,\n",
       "       0, 1, 0, 1, 0, 1])"
      ]
     },
     "execution_count": 15,
     "metadata": {},
     "output_type": "execute_result"
    }
   ],
   "source": [
    "z = (model.decision_function(X) > 0).astype(int)\n",
    "z"
   ]
  },
  {
   "cell_type": "code",
   "execution_count": 16,
   "metadata": {},
   "outputs": [
    {
     "data": {
      "text/plain": [
       "array([0., 1., 0., 1., 0., 1., 0., 1., 0., 1., 0., 1., 0., 1., 0., 1., 0.,\n",
       "       1., 0., 1., 0., 1., 0., 1., 0., 1., 0., 1., 0., 1., 0., 1., 0., 1.,\n",
       "       0., 1., 0., 1., 0., 1., 0., 1., 0., 1., 0., 1., 0., 1., 0., 1.])"
      ]
     },
     "execution_count": 16,
     "metadata": {},
     "output_type": "execute_result"
    }
   ],
   "source": [
    "y"
   ]
  },
  {
   "cell_type": "code",
   "execution_count": 17,
   "metadata": {},
   "outputs": [
    {
     "data": {
      "image/png": "[encoded data removed]",
      "text/plain": [
       "<Figure size 432x288 with 1 Axes>"
      ]
     },
     "metadata": {
      "needs_background": "light"
     },
     "output_type": "display_data"
    }
   ],
   "source": [
    "#plt.plot(X_new[y==1],'rx')\n",
    "#plt.plot(X_new[y==0],'bo')\n",
    "plot_boundary(model,z.reshape(-1,1))\n",
    "plot_data(X,z)"
   ]
  },
  {
   "cell_type": "markdown",
   "metadata": {},
   "source": [
    "#### 4.C. Escrevendo sua própria implementação a partir dos parâmetros `.coef_` e `.intercept_`"
   ]
  },
  {
   "cell_type": "code",
   "execution_count": 18,
   "metadata": {},
   "outputs": [
    {
     "data": {
      "text/plain": [
       "array([[-31.2763806 ],\n",
       "       [ 61.22640097]])"
      ]
     },
     "execution_count": 18,
     "metadata": {},
     "output_type": "execute_result"
    }
   ],
   "source": [
    "w = np.ones(2)\n",
    "w[0] = model.intercept_\n",
    "w[1] = model.coef_[0][0]\n",
    "w = np.c_[w]\n",
    "w"
   ]
  },
  {
   "cell_type": "code",
   "execution_count": 19,
   "metadata": {},
   "outputs": [],
   "source": [
    "pred = X @ w.T\n",
    "pred = pred[:,1]"
   ]
  },
  {
   "cell_type": "code",
   "execution_count": 20,
   "metadata": {},
   "outputs": [
    {
     "data": {
      "text/plain": [
       "array([0, 1, 0, 1, 0, 0, 0, 1, 0, 1, 0, 1, 0, 1, 0, 1, 0, 1, 0, 0, 0, 1,\n",
       "       0, 1, 0, 1, 0, 0, 0, 1, 0, 1, 0, 1, 0, 1, 0, 1, 0, 1, 0, 1, 0, 1,\n",
       "       0, 1, 0, 1, 0, 0])"
      ]
     },
     "execution_count": 20,
     "metadata": {},
     "output_type": "execute_result"
    }
   ],
   "source": [
    "fx = (sigmoid(pred) >= 1).astype(int)\n",
    "fx"
   ]
  },
  {
   "cell_type": "code",
   "execution_count": 21,
   "metadata": {},
   "outputs": [
    {
     "data": {
      "text/plain": [
       "array([0., 1., 0., 1., 0., 1., 0., 1., 0., 1., 0., 1., 0., 1., 0., 1., 0.,\n",
       "       1., 0., 1., 0., 1., 0., 1., 0., 1., 0., 1., 0., 1., 0., 1., 0., 1.,\n",
       "       0., 1., 0., 1., 0., 1., 0., 1., 0., 1., 0., 1., 0., 1., 0., 1.])"
      ]
     },
     "execution_count": 21,
     "metadata": {},
     "output_type": "execute_result"
    }
   ],
   "source": [
    "y"
   ]
  },
  {
   "cell_type": "code",
   "execution_count": 22,
   "metadata": {},
   "outputs": [
    {
     "data": {
      "image/png": "[encoded data removed]",
      "text/plain": [
       "<Figure size 432x288 with 1 Axes>"
      ]
     },
     "metadata": {
      "needs_background": "light"
     },
     "output_type": "display_data"
    }
   ],
   "source": [
    "plot_data(X,fx)"
   ]
  },
  {
   "cell_type": "markdown",
   "metadata": {},
   "source": [
    "5. Varie o grau de sobreposição no gerador do conjunto de dados (parâmetro `overlap`) e repita o gráfico da predição do item anterior. Para facilitar, copie e cole todos os comandos e os organize em um `for` (ou, se preferir, utilize `ipywidgets.interact`). Utilize o mesmo `seed` do gerador de números aleatórios em todos os casos (parâmetro `random_state` da função `gen_data()`), para eliminar a variabilidade e assim enfatizar a influência do grau de sobreposição.\n",
    "1. Comente sobre os resultados observados."
   ]
  },
  {
   "cell_type": "code",
   "execution_count": null,
   "metadata": {},
   "outputs": [],
   "source": []
  },
  {
   "cell_type": "markdown",
   "metadata": {},
   "source": [
    "# 2. Conjunto de dados #2\n",
    "\n",
    "O segundo conjunto de dados pode ser gerado pelos comandos abaixo."
   ]
  },
  {
   "cell_type": "code",
   "execution_count": 23,
   "metadata": {},
   "outputs": [
    {
     "data": {
      "image/png": "[encoded data removed]",
      "text/plain": [
       "<Figure size 432x288 with 1 Axes>"
      ]
     },
     "metadata": {
      "needs_background": "light"
     },
     "output_type": "display_data"
    }
   ],
   "source": [
    "from sklearn.datasets import make_blobs\n",
    "X, y = make_blobs(n_samples=200, n_features=2, centers=[[0,0],[1,1]], cluster_std=0.5, random_state=0)\n",
    "plot_data(X, y)"
   ]
  },
  {
   "cell_type": "markdown",
   "metadata": {},
   "source": [
    "## Classificação linear\n",
    "\n",
    "1. Treine um classificador de regressão logística sem regularização e trace um gráfico mostrando o conjunto de treinamento e as regiões de decisão do classificador.\n",
    "1. Reporte o número de iterações realizadas pelo otimizador, a acurácia do classificador e o vetor de parâmetros $\\bw$ (incluindo o termo de *bias* $w_0 = b$).\n",
    "1. Adicione regularização $\\ell_2$ e vá aumentando gradativamente o grau de regularização ($\\lambda$) e observando seu impacto no vetor $\\bw$. Note que o sklearn utiliza como parâmetro de regularização exatamente o inverso, $C = 1/\\lambda$.\n",
    "1. Adicionar regularização se mostrou útil? Por quê?"
   ]
  },
  {
   "cell_type": "code",
   "execution_count": null,
   "metadata": {},
   "outputs": [],
   "source": []
  },
  {
   "cell_type": "code",
   "execution_count": 24,
   "metadata": {},
   "outputs": [
    {
     "data": {
      "text/plain": [
       "LogisticRegression(C=1.0, class_weight=None, dual=False, fit_intercept=True,\n",
       "                   intercept_scaling=1, l1_ratio=None, max_iter=100,\n",
       "                   multi_class='auto', n_jobs=None, penalty='none',\n",
       "                   random_state=None, solver='lbfgs', tol=0.0001, verbose=0,\n",
       "                   warm_start=False)"
      ]
     },
     "execution_count": 24,
     "metadata": {},
     "output_type": "execute_result"
    }
   ],
   "source": [
    "model = LogisticRegression(penalty='none')\n",
    "model.fit(X,y)"
   ]
  },
  {
   "cell_type": "code",
   "execution_count": 25,
   "metadata": {},
   "outputs": [
    {
     "name": "stdout",
     "output_type": "stream",
     "text": [
      "(200, 2)\n"
     ]
    },
    {
     "data": {
      "text/plain": [
       "(200,)"
      ]
     },
     "execution_count": 25,
     "metadata": {},
     "output_type": "execute_result"
    }
   ],
   "source": [
    "print(X.shape)\n",
    "y.shape"
   ]
  },
  {
   "cell_type": "code",
   "execution_count": 26,
   "metadata": {},
   "outputs": [],
   "source": [
    "w = np.ones(3)\n",
    "w[0] = model.intercept_\n",
    "w[1] = model.coef_[0][0]\n",
    "w[2] = model.coef_[0][1]"
   ]
  },
  {
   "cell_type": "code",
   "execution_count": 27,
   "metadata": {},
   "outputs": [
    {
     "name": "stdout",
     "output_type": "stream",
     "text": [
      "Number of iterations: 11\n",
      "Train accuracy: 91.0%\n",
      "w = [-3.67594993  3.66197729  3.74117257]\n"
     ]
    },
    {
     "data": {
      "image/png": "[encoded data removed]",
      "text/plain": [
       "<Figure size 432x288 with 1 Axes>"
      ]
     },
     "metadata": {
      "needs_background": "light"
     },
     "output_type": "display_data"
    }
   ],
   "source": [
    "print(f\"Number of iterations: {int(model.n_iter_)}\")\n",
    "print(f\"Train accuracy: {model.score(X,y)*100}%\")\n",
    "print(f\"w = {w}\")\n",
    "plot_boundary(model,X)\n",
    "plot_data(X,y)"
   ]
  },
  {
   "cell_type": "markdown",
   "metadata": {},
   "source": [
    "**2.3.Adicione regularização  ℓ2  e vá aumentando gradativamente o grau de regularização ( 𝜆 ) e observando seu impacto no vetor  𝐰 . Note que o sklearn utiliza como parâmetro de regularização exatamente o inverso,  𝐶=1/𝜆 .**"
   ]
  },
  {
   "cell_type": "code",
   "execution_count": 28,
   "metadata": {},
   "outputs": [
    {
     "data": {
      "application/vnd.jupyter.widget-view+json": {
       "model_id": "e1573b4b0b044255a605e8250d41b134",
       "version_major": 2,
       "version_minor": 0
      },
      "text/plain": [
       "interactive(children=(FloatSlider(value=0.5, description='C', max=1.0, min=1e-07, step=1e-07), Output()), _dom…"
      ]
     },
     "metadata": {},
     "output_type": "display_data"
    }
   ],
   "source": [
    "from ipywidgets import interact\n",
    "\n",
    "@interact(C = (1e-7,1.0,1e-7))\n",
    "def train(C):\n",
    "    model = LogisticRegression(penalty='l2', C=C)\n",
    "    model.fit(X,y)\n",
    "    plot_data(X,y)\n",
    "    \n",
    "    w = np.ones(3)\n",
    "    w[0] = model.intercept_\n",
    "    w[1] = model.coef_[0][0]\n",
    "    w[2] = model.coef_[0][1]\n",
    "    \n",
    "    #print(model)\n",
    "    plot_boundary(model, X) \n",
    "    print(model)\n",
    "    print(f\"Number of iterations: {int(model.n_iter_)}\")\n",
    "    print(f\"Train accuracy: {model.score(X,y)*100}%\")\n",
    "    print(f\"w = {w}\")"
   ]
  },
  {
   "cell_type": "markdown",
   "metadata": {},
   "source": [
    "**Adicionar regularização se mostrou útil? Por quê.**\n",
    "Apenas reduz as iterações"
   ]
  },
  {
   "cell_type": "markdown",
   "metadata": {},
   "source": [
    "## Implementação em Python\n",
    "\n",
    "Escreva uma implementação própria do classificador, completando a classe abaixo. Esta implementação é parcialmente compatível com o sklearn; em particular, as classes herdadas permitem automaticamente a utilização da função `.score()`. Para realizar o treinamento utilizaremos o otimizador do SciPy com o método BFGS (padrão do SciPy para problemas sem restrições), um método [quase-Newton](https://en.wikipedia.org/wiki/Quasi-Newton_method) que requer apenas o cálculo do gradiente.\n",
    "\n",
    "5. Complete as funções `decision_function`, `predict_proba` (que você já implementou acima) e `predict`.\n",
    "1. Complete a função objetivo da otimização `_fobj`. Esta função deve retornar o valor da função custo e do gradiente no ponto atual ($\\bw$).\n",
    "1. Repita os itens da seção anterior com o seu classificador e compare com a versão do sklearn. Confirme que o valor da acurácia é idêntico e os valores de $\\bw$ são muito próximos (até pelo menos o terceiro dígito significativo).\n",
    "\n",
    "Após essa parte, você pode ignorar a sua implementação e passar a usar a implementação do sklearn.\n",
    "\n",
    "#### Dicas\n",
    "- Ao invés de implementar a função logística, utilize a implementação do SciPy (possivelmente renomeando para um nome mais conveniente):\n",
    "```python\n",
    "from scipy.special import expit as sigmoid\n",
    "```\n",
    "- Adicione um valor pequeno e positivo (ex: `eps = 1e-200`) dentro do argumento do `np.log()` para evitar erros quando o argumento é igual a zero."
   ]
  },
  {
   "cell_type": "code",
   "execution_count": 29,
   "metadata": {},
   "outputs": [],
   "source": [
    "from sklearn.base import BaseEstimator, ClassifierMixin\n",
    "from scipy.special import expit as sigmoid\n",
    "\n",
    "class Model(BaseEstimator, ClassifierMixin):\n",
    "    ''' Logistic regression with L2 regularization '''\n",
    "    def __init__(self, lamb=0):\n",
    "        self.lamb = lamb\n",
    "        return\n",
    "    \n",
    "    def _add_ones(self, X):\n",
    "        # Add column of ones\n",
    "        X_new = np.c_[np.ones(X.shape[0]), X]\n",
    "        return X_new\n",
    "    \n",
    "    def _fobj(self, w, X, y):\n",
    "        # Compute cost and gradient for optimization\n",
    "        eps = 1e-200\n",
    "        m = len(y)\n",
    "        yhat = sigmoid(X @ w)\n",
    "        J = (-y.T @ np.log(yhat + eps) - (1 - y).T @ np.log(1 - yhat + eps)) / m\n",
    "        grad = (X.T @ (yhat - y))/m\n",
    "        return J, grad\n",
    "    \n",
    "    def fit(self, X, y):\n",
    "        # Fit using BFGS solver (SciPy's default)\n",
    "        from scipy.optimize import minimize\n",
    "        X = self._add_ones(X)\n",
    "        res = minimize(fun=self._fobj, x0=np.zeros(X.shape[1]), jac=True, args=(X,y))\n",
    "        self.w = res.x\n",
    "        self.n_iter_ = np.array([res.nit])\n",
    "        self.J = self._fobj(self.w, X, y)[0]\n",
    "        return self\n",
    "    \n",
    "    def decision_function(self, X):\n",
    "        X = self._add_ones(X)\n",
    "        z = X @ self.w\n",
    "        return z\n",
    "    \n",
    "    def predict_proba(self, X):\n",
    "        y_tilde = model.predict_proba(X)\n",
    "        return y_tilde\n",
    "\n",
    "    def predict(self, X):\n",
    "        y_pred = (self.decision_function(X) > 0).astype(int)\n",
    "        return y_pred"
   ]
  },
  {
   "cell_type": "code",
   "execution_count": 30,
   "metadata": {},
   "outputs": [],
   "source": [
    "model = Model()"
   ]
  },
  {
   "cell_type": "code",
   "execution_count": 31,
   "metadata": {},
   "outputs": [
    {
     "data": {
      "text/plain": [
       "Model(lamb=0)"
      ]
     },
     "execution_count": 31,
     "metadata": {},
     "output_type": "execute_result"
    }
   ],
   "source": [
    "model.fit(X,y)"
   ]
  },
  {
   "cell_type": "code",
   "execution_count": 32,
   "metadata": {},
   "outputs": [],
   "source": [
    "y_pred = model.predict(X)"
   ]
  },
  {
   "cell_type": "code",
   "execution_count": 33,
   "metadata": {},
   "outputs": [
    {
     "data": {
      "text/plain": [
       "array([0, 1, 0, 0, 0, 0, 0, 1, 1, 1, 1, 1, 1, 0, 1, 1, 0, 1, 0, 1, 1, 0,\n",
       "       1, 1, 1, 0, 0, 0, 0, 0, 0, 1, 1, 0, 1, 1, 1, 0, 1, 0, 0, 0, 0, 1,\n",
       "       1, 1, 1, 1, 0, 0, 1, 0, 1, 0, 1, 1, 1, 1, 1, 0, 1, 1, 1, 0, 1, 0,\n",
       "       0, 0, 0, 1, 1, 1, 1, 1, 0, 0, 0, 0, 0, 0, 1, 0, 0, 1, 1, 1, 0, 0,\n",
       "       1, 0, 1, 1, 1, 0, 0, 1, 0, 1, 0, 0, 0, 0, 0, 0, 1, 0, 1, 1, 0, 1,\n",
       "       0, 1, 1, 1, 1, 1, 0, 0, 1, 1, 1, 0, 1, 1, 0, 0, 1, 0, 0, 0, 0, 1,\n",
       "       0, 1, 1, 0, 1, 0, 0, 0, 0, 0, 0, 1, 1, 1, 0, 0, 0, 1, 0, 0, 1, 1,\n",
       "       0, 0, 1, 1, 1, 0, 0, 0, 1, 1, 1, 0, 0, 1, 0, 0, 0, 1, 0, 1, 0, 1,\n",
       "       0, 0, 0, 0, 1, 1, 0, 1, 0, 1, 1, 1, 1, 0, 0, 1, 0, 1, 1, 1, 0, 1,\n",
       "       0, 1])"
      ]
     },
     "execution_count": 33,
     "metadata": {},
     "output_type": "execute_result"
    }
   ],
   "source": [
    "y_pred"
   ]
  },
  {
   "cell_type": "code",
   "execution_count": 34,
   "metadata": {},
   "outputs": [
    {
     "data": {
      "text/plain": [
       "array([0, 1, 0, 0, 0, 0, 0, 1, 1, 0, 1, 1, 1, 0, 1, 1, 0, 1, 0, 1, 1, 0,\n",
       "       0, 1, 1, 0, 0, 0, 0, 0, 0, 0, 1, 0, 1, 1, 1, 1, 1, 0, 0, 0, 0, 1,\n",
       "       1, 1, 1, 1, 0, 0, 1, 0, 1, 0, 1, 1, 1, 1, 0, 1, 1, 1, 1, 0, 1, 0,\n",
       "       0, 1, 0, 1, 1, 1, 1, 1, 1, 0, 1, 0, 0, 0, 1, 0, 0, 1, 1, 1, 0, 0,\n",
       "       0, 0, 1, 0, 1, 0, 0, 1, 0, 1, 0, 0, 0, 0, 0, 0, 1, 0, 1, 1, 0, 1,\n",
       "       0, 1, 1, 1, 1, 1, 0, 0, 1, 1, 1, 0, 1, 1, 0, 0, 1, 0, 0, 0, 0, 0,\n",
       "       0, 1, 1, 0, 1, 0, 0, 1, 0, 0, 0, 1, 1, 1, 0, 0, 0, 1, 0, 0, 1, 1,\n",
       "       0, 0, 1, 1, 1, 0, 0, 0, 0, 1, 1, 1, 0, 1, 0, 0, 0, 1, 1, 1, 0, 1,\n",
       "       0, 0, 0, 1, 1, 1, 0, 1, 0, 1, 1, 1, 1, 0, 0, 0, 0, 1, 1, 1, 0, 1,\n",
       "       0, 1])"
      ]
     },
     "execution_count": 34,
     "metadata": {},
     "output_type": "execute_result"
    }
   ],
   "source": [
    "y"
   ]
  },
  {
   "cell_type": "markdown",
   "metadata": {},
   "source": [
    "Repetindo com os itens da sessão anterior"
   ]
  },
  {
   "cell_type": "code",
   "execution_count": 35,
   "metadata": {},
   "outputs": [
    {
     "data": {
      "image/png": "[encoded data removed]",
      "text/plain": [
       "<Figure size 432x288 with 1 Axes>"
      ]
     },
     "metadata": {
      "needs_background": "light"
     },
     "output_type": "display_data"
    }
   ],
   "source": [
    "from sklearn.datasets import make_blobs\n",
    "X, y = make_blobs(n_samples=200, n_features=2, centers=[[0,0],[1,1]], cluster_std=0.5, random_state=0)\n",
    "plot_data(X, y)"
   ]
  },
  {
   "cell_type": "code",
   "execution_count": 36,
   "metadata": {},
   "outputs": [
    {
     "data": {
      "text/plain": [
       "Model(lamb=0)"
      ]
     },
     "execution_count": 36,
     "metadata": {},
     "output_type": "execute_result"
    }
   ],
   "source": [
    "model = Model()\n",
    "model.fit(X,y)"
   ]
  },
  {
   "cell_type": "code",
   "execution_count": 37,
   "metadata": {},
   "outputs": [
    {
     "data": {
      "text/plain": [
       "array([-3.6760325 ,  3.66198156,  3.74127557])"
      ]
     },
     "execution_count": 37,
     "metadata": {},
     "output_type": "execute_result"
    }
   ],
   "source": [
    "model.w"
   ]
  },
  {
   "cell_type": "code",
   "execution_count": 38,
   "metadata": {},
   "outputs": [
    {
     "name": "stdout",
     "output_type": "stream",
     "text": [
      "Train accuracy: 91.0%\n",
      "w = [-3.6760325   3.66198156  3.74127557]\n"
     ]
    },
    {
     "data": {
      "image/png": "[encoded data removed]",
      "text/plain": [
       "<Figure size 432x288 with 1 Axes>"
      ]
     },
     "metadata": {
      "needs_background": "light"
     },
     "output_type": "display_data"
    }
   ],
   "source": [
    "print(f\"Train accuracy: {model.score(X,y)*100}%\")\n",
    "print(f\"w = {model.w}\")\n",
    "plot_boundary(model,X)\n",
    "plot_data(X,y)"
   ]
  },
  {
   "attachments": {
    "image.png": {
     "image/png": "[encoded data removed]"
    }
   },
   "cell_type": "markdown",
   "metadata": {},
   "source": [
    "Resposta do professor:\n",
    "![image.png](attachment:image.png)"
   ]
  },
  {
   "cell_type": "markdown",
   "metadata": {},
   "source": [
    "# 3. Conjunto de dados #3\n",
    "\n",
    "O próximo conjunto de dados é gerado pelos comandos abaixo. Note que agora temos também conjuntos de validação e de teste (extremamente grandes para fins didáticos)."
   ]
  },
  {
   "cell_type": "code",
   "execution_count": 39,
   "metadata": {},
   "outputs": [
    {
     "data": {
      "image/png": "[encoded data removed]",
      "text/plain": [
       "<Figure size 432x288 with 1 Axes>"
      ]
     },
     "metadata": {
      "needs_background": "light"
     },
     "output_type": "display_data"
    }
   ],
   "source": [
    "from sklearn.datasets import make_circles\n",
    "X, y = make_circles(n_samples=200, noise=0.28, factor=0, random_state=4)\n",
    "X_val, y_val = make_circles(n_samples=10000, noise=0.28, factor=0, random_state=5)\n",
    "X_test, y_test = make_circles(n_samples=10000, noise=0.28, factor=0, random_state=6)\n",
    "plot_data(X,y)"
   ]
  },
  {
   "cell_type": "markdown",
   "metadata": {},
   "source": [
    "## Adicionando atributos\n",
    "\n",
    "1. Inicialmente, treine o classificador sem regularização, trace o gráfico das regiões de decisão e reporte o número de iterações, bem como a acurácia nos conjuntos de treinamento e de validação.\n",
    "1. Aprimore o modelo adicionando atributos polinomiais, até obter 100% de acurácia no conjunto de treinamento.\n",
    "1. Comente sobre o que você observou, tanto do ponto de vista quantitativo (acurácia) quanto qualitativo (formato regiões de decisão).\n",
    "1. Em seguida, para o grau encontrado acima, introduza regularização $\\ell_2$ e vá aumentando gradualmente (desde $\\lambda = 10^{-9}$ ou menor) e verifique o comportamento do modelo. Novamente, comente sobre o que você observou.\n",
    "1. Qual lhe parece a escolha mais interessante de modelo? Por quê?\n",
    "1. Para o modelo escolhido, meça a acurácia no conjunto de teste e compare-a com a de validação.\n",
    "\n",
    "#### Dicas\n",
    "- Lembre que não há necessidade de incluir o termo constante (*bias*) nos atributos polinomiais adicionados.\n",
    "- Caso tenha dificuldades de convergência, você pode experimentar, por exemplo:\n",
    " - aumentar o número máximo de iterações do otimizador (parâmetro `max_iter`);\n",
    " - utilizar um escalonador de atributos. Experimente aplicá-lo em diferentes posições no *pipeline* até obter os melhores resultados. (No meu caso a melhor escolha foi no início.)\n",
    "- Para acessar o último modelo (o estimador) dentro de um *pipeline*, utilize `model.steps[-1][1]`"
   ]
  },
  {
   "cell_type": "markdown",
   "metadata": {},
   "source": [
    "Inicialmente, treine o classificador sem regularização, trace o gráfico das regiões de decisão e reporte o número de iterações, bem como a acurácia nos conjuntos de treinamento e de validação."
   ]
  },
  {
   "cell_type": "code",
   "execution_count": 40,
   "metadata": {},
   "outputs": [
    {
     "data": {
      "text/plain": [
       "LogisticRegression(C=1.0, class_weight=None, dual=False, fit_intercept=True,\n",
       "                   intercept_scaling=1, l1_ratio=None, max_iter=100,\n",
       "                   multi_class='auto', n_jobs=None, penalty='none',\n",
       "                   random_state=None, solver='lbfgs', tol=0.0001, verbose=0,\n",
       "                   warm_start=False)"
      ]
     },
     "execution_count": 40,
     "metadata": {},
     "output_type": "execute_result"
    }
   ],
   "source": [
    "model = LogisticRegression(penalty = 'none')\n",
    "model.fit(X,y)"
   ]
  },
  {
   "cell_type": "code",
   "execution_count": 41,
   "metadata": {},
   "outputs": [
    {
     "name": "stdout",
     "output_type": "stream",
     "text": [
      "Number of iterations: 5\n",
      "Train accuracy: 58.5%\n"
     ]
    },
    {
     "data": {
      "image/png": "[encoded data removed]",
      "text/plain": [
       "<Figure size 432x288 with 1 Axes>"
      ]
     },
     "metadata": {
      "needs_background": "light"
     },
     "output_type": "display_data"
    }
   ],
   "source": [
    "print(f\"Number of iterations: {int(model.n_iter_)}\")\n",
    "print(f\"Train accuracy: {model.score(X,y)*100}%\")\n",
    "plot_data(X,y)\n",
    "plot_boundary(model,X)"
   ]
  },
  {
   "cell_type": "code",
   "execution_count": 42,
   "metadata": {},
   "outputs": [
    {
     "name": "stdout",
     "output_type": "stream",
     "text": [
      "Number of iterations: 5\n",
      "Train accuracy: 49.0%\n"
     ]
    },
    {
     "data": {
      "image/png": "[encoded data removed]",
      "text/plain": [
       "<Figure size 432x288 with 1 Axes>"
      ]
     },
     "metadata": {
      "needs_background": "light"
     },
     "output_type": "display_data"
    }
   ],
   "source": [
    "print(f\"Number of iterations: {int(model.n_iter_)}\")\n",
    "print(f\"Train accuracy: {model.score(X_val,y_val)*100}%\")\n",
    "plot_data(X_val,y_val)\n",
    "plot_boundary(model,X_val)"
   ]
  },
  {
   "cell_type": "markdown",
   "metadata": {},
   "source": [
    "Aprimore o modelo adicionando atributos polinomiais, até obter 100% de acurácia no conjunto de treinamento."
   ]
  },
  {
   "cell_type": "code",
   "execution_count": 46,
   "metadata": {},
   "outputs": [
    {
     "data": {
      "application/vnd.jupyter.widget-view+json": {
       "model_id": "03411ffc2e1d4fb6b5f1d3d1af2d961d",
       "version_major": 2,
       "version_minor": 0
      },
      "text/plain": [
       "interactive(children=(IntSlider(value=18, description='degree', max=37), Output()), _dom_classes=('widget-inte…"
      ]
     },
     "metadata": {},
     "output_type": "display_data"
    }
   ],
   "source": [
    "from ipywidgets import interact\n",
    "from sklearn.preprocessing import PolynomialFeatures\n",
    "from sklearn.pipeline import make_pipeline\n",
    "\n",
    "@interact(degree = (0,37,1))\n",
    "def train(degree):\n",
    "    poly = PolynomialFeatures(degree = degree)\n",
    "    model = make_pipeline(poly, LogisticRegression(penalty = 'none'))\n",
    "    model.fit(X,y)    \n",
    "    #print(model)\n",
    "    print(f\"Train accuracy: {model.score(X,y)*100}%\")\n",
    "    plot_data(X,y)\n",
    "    plot_boundary(model, X) "
   ]
  },
  {
   "cell_type": "markdown",
   "metadata": {},
   "source": [
    "Em seguida, para o grau encontrado acima, introduza regularização $\\ell_2$ e vá aumentando gradualmente (desde $\\lambda = 10^{-9}$ ou menor) e verifique o comportamento do modelo. Novamente, comente sobre o que você observou."
   ]
  },
  {
   "cell_type": "code",
   "execution_count": 47,
   "metadata": {},
   "outputs": [
    {
     "name": "stderr",
     "output_type": "stream",
     "text": [
      "C:\\Users\\victo\\anaconda3\\lib\\site-packages\\sklearn\\linear_model\\_logistic.py:940: ConvergenceWarning: lbfgs failed to converge (status=1):\n",
      "STOP: TOTAL NO. of ITERATIONS REACHED LIMIT.\n",
      "\n",
      "Increase the number of iterations (max_iter) or scale the data as shown in:\n",
      "    https://scikit-learn.org/stable/modules/preprocessing.html\n",
      "Please also refer to the documentation for alternative solver options:\n",
      "    https://scikit-learn.org/stable/modules/linear_model.html#logistic-regression\n",
      "  extra_warning_msg=_LOGISTIC_SOLVER_CONVERGENCE_MSG)\n"
     ]
    },
    {
     "name": "stdout",
     "output_type": "stream",
     "text": [
      "Train accuracy: 97.5%\n"
     ]
    },
    {
     "data": {
      "image/png": "[encoded data removed]",
      "text/plain": [
       "<Figure size 432x288 with 1 Axes>"
      ]
     },
     "metadata": {
      "needs_background": "light"
     },
     "output_type": "display_data"
    }
   ],
   "source": [
    "lamb = 10e-9\n",
    "poly = PolynomialFeatures(degree = 18)\n",
    "model = make_pipeline(poly, LogisticRegression(penalty = 'l2', C = 1 / lamb))\n",
    "model.fit(X,y)    \n",
    "#print(model)\n",
    "print(f\"Train accuracy: {model.score(X,y)*100}%\")\n",
    "plot_data(X,y)\n",
    "plot_boundary(model, X) "
   ]
  },
  {
   "cell_type": "code",
   "execution_count": null,
   "metadata": {},
   "outputs": [],
   "source": []
  },
  {
   "cell_type": "code",
   "execution_count": null,
   "metadata": {},
   "outputs": [],
   "source": []
  },
  {
   "cell_type": "code",
   "execution_count": null,
   "metadata": {},
   "outputs": [],
   "source": []
  },
  {
   "cell_type": "code",
   "execution_count": null,
   "metadata": {},
   "outputs": [],
   "source": []
  },
  {
   "cell_type": "code",
   "execution_count": null,
   "metadata": {},
   "outputs": [],
   "source": []
  },
  {
   "cell_type": "code",
   "execution_count": null,
   "metadata": {},
   "outputs": [],
   "source": []
  },
  {
   "cell_type": "code",
   "execution_count": null,
   "metadata": {},
   "outputs": [],
   "source": []
  },
  {
   "cell_type": "code",
   "execution_count": null,
   "metadata": {},
   "outputs": [],
   "source": []
  },
  {
   "cell_type": "code",
   "execution_count": null,
   "metadata": {},
   "outputs": [],
   "source": []
  },
  {
   "cell_type": "code",
   "execution_count": null,
   "metadata": {},
   "outputs": [],
   "source": []
  },
  {
   "cell_type": "code",
   "execution_count": null,
   "metadata": {},
   "outputs": [],
   "source": []
  },
  {
   "cell_type": "code",
   "execution_count": null,
   "metadata": {},
   "outputs": [],
   "source": []
  },
  {
   "cell_type": "code",
   "execution_count": null,
   "metadata": {},
   "outputs": [],
   "source": []
  },
  {
   "cell_type": "code",
   "execution_count": null,
   "metadata": {},
   "outputs": [],
   "source": []
  },
  {
   "cell_type": "code",
   "execution_count": null,
   "metadata": {},
   "outputs": [],
   "source": []
  },
  {
   "cell_type": "code",
   "execution_count": null,
   "metadata": {},
   "outputs": [],
   "source": []
  },
  {
   "cell_type": "code",
   "execution_count": null,
   "metadata": {},
   "outputs": [],
   "source": []
  },
  {
   "cell_type": "code",
   "execution_count": null,
   "metadata": {},
   "outputs": [],
   "source": []
  },
  {
   "cell_type": "markdown",
   "metadata": {},
   "source": [
    "# 4. Conjunto de dados #4\n",
    "\n",
    "O próximo conjunto de dados é gerado pelos comandos abaixo."
   ]
  },
  {
   "cell_type": "code",
   "execution_count": null,
   "metadata": {},
   "outputs": [],
   "source": [
    "from sklearn.datasets import make_moons\n",
    "\n",
    "np.random.seed(2019*2)\n",
    "X, y = make_moons(n_samples=200, noise=0.25)\n",
    "X_val, y_val = make_moons(n_samples=10000, noise=0.25)\n",
    "X_test, y_test = make_moons(n_samples=10000, noise=0.25)\n",
    "plot_data(X, y)"
   ]
  },
  {
   "cell_type": "markdown",
   "metadata": {},
   "source": [
    "## Desenvolvimento do modelo\n",
    "\n",
    "1. Desenvolva um bom classificador de regressão logística, da forma que achar mais adequada.\n",
    "1. Justifique a sua escolha. Em particular, você consegue justificar que o modelo não está sofrendo nem de underfitting nem de overfitting?"
   ]
  },
  {
   "cell_type": "code",
   "execution_count": null,
   "metadata": {},
   "outputs": [],
   "source": []
  },
  {
   "cell_type": "markdown",
   "metadata": {},
   "source": [
    "## Avaliação do modelo\n",
    "\n",
    "Todos os itens abaixo se referem ao modelo escolhido no item anterior, o qual não deve ser mais alterado.\n",
    "\n",
    "3. Para o modelo escolhido, meça a acurácia de teste. \n",
    "1. Calcule a matriz de confusão sobre o conjunto de validação.\n",
    "1. Calcule a taxa de verdadeiro positivo e a taxa de falso positivo.\n",
    "1. Trace o gráfico da curva ROC.\n",
    "1. Determine a menor taxa de falso positivo tal que a taxa de falso negativo seja de no máximo 5%. Determine também o valor do limiar de decisão correspondente.\n",
    "1. (OPCIONAL) Qual parâmetro deve ser modificado no modelo para que obtenha as taxas do item anterior?\n",
    "1. (OPCIONAL) Compare a abordagem acima com a seguinte abordagem: treine novamente o modelo, variando os pesos do parâmetro `class_weight`, até conseguir a taxa de falso negativo desejada. Quais lhe parecem ser as vantagens e desvantagens dessa abordagem?\n",
    "\n",
    "#### Dicas\n",
    "- Funções úteis:\n",
    "```python\n",
    "from sklearn.metrics import confusion_matrix, roc_curve\n",
    "np.where(), np.nonzero()\n",
    "```"
   ]
  },
  {
   "cell_type": "code",
   "execution_count": null,
   "metadata": {},
   "outputs": [],
   "source": []
  },
  {
   "cell_type": "markdown",
   "metadata": {},
   "source": [
    "# 5. Conjunto de dados #5\n",
    "\n",
    "O próximo [conjunto de dados](https://scikit-learn.org/stable/datasets/index.html#iris-dataset) é real: foi introduzido R. A. Fisher em 1936 e tornou-se um clássico da área, sendo muito utilizado até hoje por quem está iniciando. Consiste de 4 atributos medidos de 150 amostras de 3 espécies de flores do gênero íris.\n",
    "\n",
    "O objetivo é distinguir entre as 3 espécies, i.e., trata-se de um problema de classificação multi-classe. O conjunto de dados é pequeno e o objetivo do exercício é apenas ilustrar a classificação multi-classe; assim, utilize todo o conjunto de dados como conjunto de treinamento.\n",
    "\n",
    "O conjunto de dados pode ser carregado pelos comandos abaixo."
   ]
  },
  {
   "cell_type": "code",
   "execution_count": null,
   "metadata": {},
   "outputs": [],
   "source": [
    "from sklearn.datasets import load_iris\n",
    "data = load_iris()\n",
    "print(data['feature_names'])\n",
    "print(data['target_names'])\n",
    "X = data['data']\n",
    "y = data['target']\n",
    "print(X.shape, y.shape)"
   ]
  },
  {
   "cell_type": "markdown",
   "metadata": {},
   "source": [
    "## Classificação multi-classe: regressão logística one-vs-rest\n",
    "\n",
    "1. Treine um classificador linear (i.e., com os atributos originais) por regressão logística sem regularização, e reporte a acurácia e a matriz de confusão. Inicialmente, utilize a opção `multi_class='ovr'` (one-vs-rest).\n",
    "1. Escolha dois atributos e considere um conjunto de dados simplificado contendo apenas esses dois atributos (para permitir a visualização). Treine, calcule a acurácia e trace as regiões de decisão. Qual par de atributos permitiu a maior acurácia?"
   ]
  },
  {
   "cell_type": "code",
   "execution_count": null,
   "metadata": {},
   "outputs": [],
   "source": []
  },
  {
   "cell_type": "markdown",
   "metadata": {},
   "source": [
    "## Classificação multi-classe: regressão softmax\n",
    "\n",
    "3. Agora, substitua pela opção `multi_class='multinomial'` e repita os itens da seção anterior. Você percebeu alguma diferença?"
   ]
  },
  {
   "cell_type": "code",
   "execution_count": null,
   "metadata": {},
   "outputs": [],
   "source": []
  },
  {
   "cell_type": "markdown",
   "metadata": {},
   "source": [
    "## (OPCIONAL) Implementação em Python\n",
    "\n",
    "4. Escreva uma implementação própria da classificação *one-vs-rest* e confirme que o resultado é idêntico ao do sklearn. Note que isso envolve utilizar $K=3$ classificadores binários distintos, cada um treinado sobre um conjunto de dados com variável de saída $y_k$ correspondente ao $k$-ésimo elemento do vetor resultante da binarização (*one-hot encoding*) do rótulo da classe, i.e., $y \\in \\{0,1,\\ldots,K-1\\} \\mapsto \\by = (y_0,\\ldots,y_{K-1})$. Nesse caso, escolhe-se como predição a classe que possui maior valor de discriminante, obtido pela função `decision_function`. Para facilitar, uma implementação parcial é fornecida abaixo.\n",
    "\n",
    "#### Dicas\n",
    "- Funções úteis:\n",
    "```python\n",
    "np.argmax()\n",
    "from sklearn.preprocessing import label_binarize\n",
    "```\n",
    "- Uma implementação completa, incluindo a função `.fit()`, é fornecida em `sklearn.multiclass.OneVsRestClassifier`"
   ]
  },
  {
   "cell_type": "code",
   "execution_count": null,
   "metadata": {},
   "outputs": [],
   "source": [
    "from sklearn.base import BaseEstimator, ClassifierMixin\n",
    "\n",
    "class OneVsRest(BaseEstimator, ClassifierMixin):\n",
    "    ''' One-Vs-Rest Classification '''    \n",
    "    def __init__(self, classifiers):\n",
    "        self.classifiers = classifiers # list of *already fitted* binary classifiers\n",
    "        return\n",
    "       \n",
    "    def predict(self, X):\n",
    "        z = np.zeros((X.shape[0],len(self.classifiers)))\n",
    "        for k in range(len(self.classifiers)):\n",
    "            z[:,k] = ???\n",
    "        y_pred = ???\n",
    "        return y_pred"
   ]
  },
  {
   "cell_type": "code",
   "execution_count": null,
   "metadata": {},
   "outputs": [],
   "source": [
    "from sklearn.preprocessing import label_binarize\n",
    "y_bi = ???\n",
    "models = [[]]*3\n",
    "for k in range(3):\n",
    "    models[k] = ???\n",
    "    ???\n",
    "\n",
    "model = OneVsRest(models)\n",
    "model.score(X, y)"
   ]
  },
  {
   "cell_type": "markdown",
   "metadata": {},
   "source": [
    "# 6. (OPCIONAL) Conjunto de dados #6\n",
    "\n",
    "Para investigar a diferença entre a classificação one-vs-rest e softmax, utilize o conjunto de dados abaixo."
   ]
  },
  {
   "cell_type": "code",
   "execution_count": null,
   "metadata": {},
   "outputs": [],
   "source": [
    "X, y = gen_data(n_samples=30, n_classes=4, overlap=0, random_state=1)\n",
    "plot_data(X, y)"
   ]
  },
  {
   "cell_type": "markdown",
   "metadata": {},
   "source": [
    "1. Compare a acurácia e as regiões de decisão para os dois tipos de classificação.\n",
    "1. Para tentar investigar a razão das diferenças, trace a curva de predição da regressão para cada classe ($\\tilde{y}_k$), para cada método.\n",
    " 1. Para o método one-vs-rest, parta da função `.decision_function()`\n",
    " 1. Para o método softmax, utilize a função `.predict_proba()`\n",
    "1. A partir destes resultados, como você explicaria as diferenças entre os métodos? Em que tipo de situação você espera que as diferenças fiquem mais pronunciadas?"
   ]
  },
  {
   "cell_type": "code",
   "execution_count": null,
   "metadata": {},
   "outputs": [],
   "source": []
  }
 ],
 "metadata": {
  "kernelspec": {
   "display_name": "Python 3",
   "language": "python",
   "name": "python3"
  }
 },
 "nbformat": 4,
 "nbformat_minor": 2
}
