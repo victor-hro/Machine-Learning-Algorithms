{
 "cells": [
  {
   "cell_type": "markdown",
   "metadata": {},
   "source": [
    "Universidade Federal de Santa Catarina<br>\n",
    "Departamento de Engenharia Elétrica e Eletrônica<br>\n",
    "EEL7514/EEL7513/EEL410250 - Aprendizado de Máquina\n",
    "$\\newcommand{\\bX}{\\mathbf{X}}$\n",
    "$\\newcommand{\\bw}{\\mathbf{w}}$\n",
    "$\\newcommand{\\by}{\\mathbf{y}}$\n",
    "$\\newcommand{\\bx}{\\mathbf{x}}$\n",
    "$\\newcommand{\\RR}{\\mathbb{R}}$\n",
    "$\\newcommand{\\calS}{\\mathcal{S}}$\n",
    "\n",
    "\n",
    "# Exercício 5: SVM\n",
    "\n",
    "Neste exercício você irá construir classificadores usando máquinas de vetores de suporte (SVM), tando em sua versão linear quanto na versão baseada em kernels. Também serão abordadas técnicas de validação cruzada para avaliação de desempenho e busca de hiperparâmetros."
   ]
  },
  {
   "cell_type": "code",
   "execution_count": 1,
   "metadata": {},
   "outputs": [],
   "source": [
    "import numpy as np\n",
    "import matplotlib.pyplot as plt\n",
    "%matplotlib inline\n",
    "\n",
    "import os\n",
    "import wget\n",
    "from scipy.io import loadmat\n",
    "from sklearn.svm import SVC\n",
    "from sklearn.pipeline import make_pipeline\n",
    "\n",
    "def plot_data(X, y, colors=['bo','rx','gs','md','c^','yP']):\n",
    "    ''' Plot 1-D or 2-D classification dataset '''\n",
    "    assert len(X.shape) == 2 and len(y.shape) == 1\n",
    "    classes = np.unique(y)\n",
    "    assert len(classes) <= len(colors)\n",
    "    dim = X.shape[1]\n",
    "    assert 0 < dim <= 2\n",
    "    if dim == 1:\n",
    "        for i in range(len(classes)):\n",
    "            plt.plot(X[y==classes[i],0],np.zeros(np.sum(y==classes[i])),colors[i])\n",
    "        plt.gca().axes.get_yaxis().set_ticks([])\n",
    "    else:\n",
    "        for i in range(len(classes)):\n",
    "            plt.plot(X[y==classes[i],0],X[y==classes[i],1],colors[i])\n",
    "    return\n",
    "\n",
    "def plot_svm(model, X, heatmap=False, circles=None, N=100, gap=1e-9):\n",
    "    ''' Plot decision regions for a 1-D or 2-D binary SVM classifier '''\n",
    "    assert len(X.shape) == 2\n",
    "    dim = X.shape[1]\n",
    "    assert 0 < dim <= 2\n",
    "    x1_min, x1_max = X[:,0].min()-gap, X[:,0].max()+gap\n",
    "    if dim == 1:\n",
    "        x2_min, x2_max = -1, 1\n",
    "        N2 = 2\n",
    "    else:\n",
    "        x2_min, x2_max = X[:,1].min()-gap, X[:,1].max()+gap\n",
    "        N2 = N\n",
    "    xx1, xx2 = np.meshgrid(np.linspace(x1_min,x1_max,N), np.linspace(x2_min,x2_max,N2))\n",
    "    if dim == 1:\n",
    "        XX = np.c_[xx1.reshape(-1)]\n",
    "    else:\n",
    "        XX = np.c_[xx1.reshape(-1), xx2.reshape(-1)]\n",
    "    z = model.decision_function(XX)\n",
    "    assert len(z.shape) == 1\n",
    "    z = z.reshape(xx1.shape)\n",
    "    plt.contourf(xx1,xx2,np.sign(z),cmap=plt.cm.bwr,vmin=-3,vmax=3)\n",
    "    plt.contour(xx1,xx2,z,cmap=plt.cm.gray,vmin=np.inf,vmax=np.inf,levels=[0])\n",
    "    if heatmap:\n",
    "        a = np.max(np.abs(z))*2\n",
    "        plt.contourf(xx1,xx2,z,100,cmap=plt.cm.bwr,vmin=-a,vmax=a)\n",
    "        if circles == None:\n",
    "            circles = False\n",
    "    else:\n",
    "        plt.contourf(xx1,xx2,z,cmap=plt.cm.bwr,vmin=-3,vmax=3,levels=[-1,0,1])\n",
    "        if circles == None:\n",
    "            circles = True\n",
    "    if circles:\n",
    "        S = X[model.support_]\n",
    "        if dim == 1:\n",
    "            S = np.c_[S, np.zeros(S.shape[0])]\n",
    "        plt.plot(*S.T,'go',mfc='none',ms=12)\n",
    "    return"
   ]
  },
  {
   "cell_type": "markdown",
   "metadata": {},
   "source": [
    "# 1. Conjunto de dados #1\n",
    "\n",
    "O primeiro conjunto de dados pode ser carregado pelo comando abaixo. Para simplificar, não usaremos conjunto de teste."
   ]
  },
  {
   "cell_type": "code",
   "execution_count": 2,
   "metadata": {
    "scrolled": true
   },
   "outputs": [
    {
     "name": "stdout",
     "output_type": "stream",
     "text": [
      "\r",
      "  0% [                                                                                  ]   0 / 981\r",
      "100% [..................................................................................] 981 / 981"
     ]
    },
    {
     "data": {
      "image/png": "[encoded data removed]",
      "text/plain": [
       "<Figure size 432x288 with 1 Axes>"
      ]
     },
     "metadata": {
      "needs_background": "light"
     },
     "output_type": "display_data"
    }
   ],
   "source": [
    "if not os.path.exists('svm1.mat'):\n",
    "    wget.download('https://github.com/danilo-silva-ufsc/ml/raw/master/data/svm1.mat')\n",
    "data = loadmat('svm1.mat')\n",
    "X, y = data['X'], data['y'].reshape(-1)\n",
    "plot_data(X, y)"
   ]
  },
  {
   "cell_type": "code",
   "execution_count": 3,
   "metadata": {},
   "outputs": [
    {
     "name": "stdout",
     "output_type": "stream",
     "text": [
      "Train accuracy: 98.0%\n"
     ]
    },
    {
     "data": {
      "image/png": "[encoded data removed]",
      "text/plain": [
       "<Figure size 432x288 with 1 Axes>"
      ]
     },
     "metadata": {
      "needs_background": "light"
     },
     "output_type": "display_data"
    }
   ],
   "source": [
    "model = SVC(C=1, kernel='linear')\n",
    "model.fit(X, y)\n",
    "print('Train accuracy: {:.1%}'.format(model.score(X, y)))\n",
    "plot_data(X, y)\n",
    "plot_svm(model,X)"
   ]
  },
  {
   "cell_type": "markdown",
   "metadata": {},
   "source": [
    "## SVM linear\n",
    "\n",
    "Os círculos no gráfico acima marcam os **vetores de suporte**. Note que, no classificador SVM, o classificador é definido exclusivamente a partir dos vetores de suporte, i.e., as demais amostras de treinamento que satisfazem a margem não tem impacto no classificador.\n",
    "\n",
    "1. Determine os vetores de suporte, os índices dos vetores de suporte, e o vetor de coeficientes da solução dual ($\\alpha_i y_s^{(i)}$).\n",
    "1. A partir deles, determine o vetor de pesos (da solução primal) $\\bw$, bem como o termo de *bias* $b$. Confirme que os valores são os mesmos fornecidos pelo modelo (o termo $b$ até a segunda casa decimal).\n",
    "\n",
    "#### Dicas\n",
    "- Reveja as equações nos slides da disciplina.\n",
    "- Leia a documentação do SVC do sklearn em:\n",
    " - https://scikit-learn.org/stable/modules/svm.html#svc\n",
    " - https://scikit-learn.org/stable/modules/generated/sklearn.svm.SVC.html"
   ]
  },
  {
   "cell_type": "code",
   "execution_count": null,
   "metadata": {},
   "outputs": [],
   "source": []
  },
  {
   "cell_type": "markdown",
   "metadata": {},
   "source": [
    "### Variando $C$\n",
    "\n",
    "3. Varie o valor de $C$ até obter 100% de acurácia.\n",
    "1. Analise os resultados observados:\n",
    " 1. O que acontece com a fronteira de decisão? Por quê? \n",
    " 1. Que interpretação pode ser dada para o parâmetro $C$? \n",
    " 1. O ajuste obtido parece ser adequado? Explique."
   ]
  },
  {
   "cell_type": "code",
   "execution_count": null,
   "metadata": {},
   "outputs": [],
   "source": []
  },
  {
   "cell_type": "markdown",
   "metadata": {},
   "source": [
    "### Escala dos atributos\n",
    "\n",
    "5. Para um modelo com $C=1$, reescale os atributos conforme a célula abaixo e verifique o impacto no modelo treinado. Como você explica as diferenças?\n",
    "1. A partir dos resultados observados, que recomendação você daria para o treinamento de um classificador SVM?\n",
    "\n",
    "Ao final desta parte, **retorne os dados para a escala original**."
   ]
  },
  {
   "cell_type": "code",
   "execution_count": 4,
   "metadata": {},
   "outputs": [],
   "source": [
    "# Try each of them\n",
    "#d = [0.1,10]\n",
    "d = [1,1]\n",
    "#d = [10,0.1]\n",
    "X = data['X'] @ np.diag(d)"
   ]
  },
  {
   "cell_type": "code",
   "execution_count": null,
   "metadata": {},
   "outputs": [],
   "source": []
  },
  {
   "cell_type": "markdown",
   "metadata": {},
   "source": [
    "## SVM com kernel RBF (gaussiano)\n",
    "\n",
    "Nesta parte você utilizará um kernel RBF para obter uma fronteira de decisão não-linear.\n",
    "\n",
    "Em geral, um kernel pode ser interpretado como uma função que mede a **similaridade** entre um par de amostras ($x^{(i)}$, $x^{(j)}$). No caso do kernel RBF, a similaridade é definida como uma função da distância euclidiana entre as amostras, mais precisamente:\n",
    "\n",
    "$$ K_{\\text{RBF}} \\left( x^{(i)}, x^{(j)} \\right) = \\exp \\left( - \\gamma \\| x^{(i)} - x^{(j)}\\|^2 \\right) $$\n",
    "\n",
    "O parâmetro $\\gamma$ (um **hiperparâmetro** do modelo) determina quão rápido a similaridade decai com a distância.\n",
    "\n",
    "Em contraste, o kernel linear não possui hiperparâmetros, sendo definido simplesmente como o produto interno entre amostras:\n",
    "\n",
    "$$ K_{\\text{linear}} \\left( x^{(i)}, x^{(j)} \\right) = {x^{(i)}}^T x^{(j)} $$\n",
    "\n",
    "O uso do kernel linear resulta no classificador linear visto anteriormente.\n",
    "\n",
    "Em qualquer caso, a função de decisão (score de confiança) é dada por\n",
    "$$\n",
    "z = \\bw^T \\bx + b =b + \\sum_{i \\in \\calS} \\alpha_i y_s^{(i)} K(\\bx^{(i)},\\bx)\n",
    "$$\n",
    "onde $\\calS$ denota o conjunto de índices dos vetores de suporte. Portanto, a predição é realizada calculando o kernel somente com relação aos vetores de suporte, i.e., apenas a similaridade com relação aos vetores de suporte é relevante."
   ]
  },
  {
   "cell_type": "markdown",
   "metadata": {},
   "source": [
    "### Usando o kernel da biblioteca\n",
    "\n",
    "7. Refaça a classificação utilizando o kernel `rbf` fornecido na própria função `SVC`, definindo e variando o parâmetro `gamma`.\n",
    "1. O que você observa? Qual o efeito do parâmetro $\\gamma$? Note que esse efeito pode ser melhor visualizado utilizando um valor muito alto para `C` (por exemplo, `C = 1e6`), o que corresponde a um problema praticamente sem regularização.\n",
    "\n",
    "Caso deseje, você pode utilizar a opção `heatmap` (possivelmente com `circles=True`) na função `plot_svm` para ajudar na visualização. Nesse caso as regiões mais vermelhas representam um valor de $z$ (discriminante ou função de decisão) mais positivo, enquanto as regiões mais azuis representam um valor de $z$ mais negativo (mas a margem deixa de ser mostrada)."
   ]
  },
  {
   "cell_type": "code",
   "execution_count": null,
   "metadata": {},
   "outputs": [],
   "source": []
  },
  {
   "cell_type": "markdown",
   "metadata": {},
   "source": [
    "### Implementando seu próprio kernel\n",
    "\n",
    "9. Em seguida, implemente o seu próprio kernel RBF usando a função `my_kernel` definida abaixo. Como exemplo, está implementado um kernel linear. \n",
    "\n",
    "O kernel customizado pode ser usado na função SVC através do comando:\n",
    "\n",
    "```python\n",
    "model = SVC(C=1, kernel=my_kernel)\n",
    "```\n",
    "\n",
    "Nesse caso, o parâmetro `gamma` deve ser definido como variável global (externa à função), para que você possa variá-lo, uma vez que a biblioteca sklearn não permite passar argumentos adicionais para a função de kernel customizado (em particular, o parâmetro `gamma` do `SVC` é ignorado para qualquer kernel customizado).\n",
    "\n",
    "Alternativamente, você pode definir a função de kernel usando uma função anônima:\n",
    "\n",
    "```python\n",
    "model = SVC(C=1, kernel=lambda X1, X2: my_kernel(X1,X2,gamma))\n",
    "```\n",
    "\n",
    "e definir `gamma` como um argumento adicional de `my_kernel`."
   ]
  },
  {
   "cell_type": "code",
   "execution_count": 5,
   "metadata": {},
   "outputs": [],
   "source": [
    "def my_kernel(X1, X2):\n",
    "    '''\n",
    "    Computes custom kernel.\n",
    "    \n",
    "    Parameters\n",
    "    ----------\n",
    "    X1 : array of shape (m1, n_features)\n",
    "    X2 : array of shape (m2, n_features)\n",
    "    \n",
    "    Returns\n",
    "    -------\n",
    "    kernel_matrix : array of shape (m1, m2)\n",
    "    \n",
    "    '''\n",
    "    \n",
    "    kernel_matrix = X1 @ X2.T\n",
    "    \n",
    "    return kernel_matrix"
   ]
  },
  {
   "cell_type": "markdown",
   "metadata": {},
   "source": [
    "Certifique-se que sua implementação está correta rodando o código abaixo."
   ]
  },
  {
   "cell_type": "code",
   "execution_count": 6,
   "metadata": {},
   "outputs": [
    {
     "name": "stdout",
     "output_type": "stream",
     "text": [
      "OK\n"
     ]
    }
   ],
   "source": [
    "from sklearn.metrics.pairwise import rbf_kernel\n",
    "X1 = np.random.randn(2,4)\n",
    "X2 = np.random.randn(3,4)\n",
    "gamma = 1/8\n",
    "sim = my_kernel(X1, X2)\n",
    "sim2 = rbf_kernel(X1, X2, gamma=gamma)\n",
    "if abs(sim - sim2).sum() < 1e-10: print('OK')"
   ]
  },
  {
   "cell_type": "markdown",
   "metadata": {},
   "source": [
    "10. Em seguida, realize novamente a classificação para obter o mesmo resultado anterior.\n",
    "\n",
    "Após garantir que você conseguiu implementar corretamente um kernel RBF, **você pode voltar a usar o kernel da própria função SVC** (o qual tem provavelmente uma implementação mais eficiente)."
   ]
  },
  {
   "cell_type": "code",
   "execution_count": null,
   "metadata": {},
   "outputs": [],
   "source": []
  },
  {
   "cell_type": "markdown",
   "metadata": {},
   "source": [
    "# 2. Conjuntos de dados #2\n",
    "\n",
    "O próximo conjunto de dados pode ser carregado pelo comando abaixo. (Suponha novamente que todo esse conjunto esteja disponível para desenvolvimento.)"
   ]
  },
  {
   "cell_type": "code",
   "execution_count": 7,
   "metadata": {
    "scrolled": true
   },
   "outputs": [
    {
     "name": "stdout",
     "output_type": "stream",
     "text": [
      "\r",
      "  0% [                                                                                ]    0 / 7604\r",
      "100% [................................................................................] 7604 / 7604"
     ]
    },
    {
     "data": {
      "image/png": "[encoded data removed]",
      "text/plain": [
       "<Figure size 432x288 with 1 Axes>"
      ]
     },
     "metadata": {
      "needs_background": "light"
     },
     "output_type": "display_data"
    }
   ],
   "source": [
    "if not os.path.exists('svm2.mat'):\n",
    "    wget.download('https://github.com/danilo-silva-ufsc/ml/raw/master/data/svm2.mat')\n",
    "data = loadmat('svm2.mat')\n",
    "X, y = data['X'], data['y'].reshape(-1)\n",
    "plot_data(X, y)"
   ]
  },
  {
   "cell_type": "markdown",
   "metadata": {},
   "source": [
    "## Variando hiperparâmetros\n",
    "\n",
    "1. Utilize novamente um kernel RBF. Varie os hiperparâmetros $C$ e $\\gamma$ e observe seus efeitos. Tente encontrar valores que forneçam uma explicação aparentemente mais \"natural\" possível para os dados.\n",
    "1. Explique o seu raciocínio."
   ]
  },
  {
   "cell_type": "code",
   "execution_count": null,
   "metadata": {},
   "outputs": [],
   "source": []
  },
  {
   "cell_type": "markdown",
   "metadata": {},
   "source": [
    "## Experimentando outros kernels\n",
    "\n",
    "3. Tente conseguir o mesmo resultado usando um kernel polinomial (semelhante a uma adição de atributos polinomiais). Para isto, utilize `kernel='poly'`, defina os parâmetros `degree=d`, `gamma='auto'`, `coef0=1` e varie $C$ e $d$. (Se desejar, varie `gamma`e `coef0` também, mas evite aumentar muito ou esteja preparado para eventualmente ter que reiniciar o interpretador.)\n",
    "1. Que grau $d$ foi necessário? Como você compara as duas soluções, levando em conta também o ponto de vista prático?\n",
    "1. (OPCIONAL) Experimente também `kernel=sigmoid`."
   ]
  },
  {
   "cell_type": "code",
   "execution_count": null,
   "metadata": {},
   "outputs": [],
   "source": []
  },
  {
   "cell_type": "markdown",
   "metadata": {},
   "source": [
    "## Avaliação de desempenho via validação cruzada $k$-fold\n",
    "\n",
    "Suponha (como neste exemplo) que você não separou um conjunto de validação. Como saber se seu modelo está sofrendo de overfitting? Como obter uma estimativa de desempenho mais realista do que a acurácia de treinamento?\n",
    "\n",
    "Uma possível abordagem é usando validação cruzada $k$-fold: particionar os dados em $k$ partes, e realizar $k$ treinamentos e testes, sempre testando em uma das partes um modelo treinado com as partes restantes. A estimativa de desempenho é a média de todos os testes.\n",
    "\n",
    "Para isso você pode utilizar a função `sklearn.model_selection.cross_val_score()`.\n",
    "\n",
    "6. Retorne ao kernel RBF e utilize os hiperparâmetros que você propôs anteriormente.\n",
    "1. Realize uma validação cruzada 5-fold e mostre os resultados obtidos. Calcule também a acurácia média entre as 5 realizações. (Note que não é necessário treinar o modelo antes de aplicar a validação cruzada, pois o treinamento está implícito no método.)\n",
    "1. Comente sobre os resultados observados.\n",
    "\n",
    "**Obs:** Naturalmente, para uma estimativa de desempenho ainda mais realista, seria necessário avaliar o modelo em um conjunto independente de teste. (OPCIONAL) Por quê?"
   ]
  },
  {
   "cell_type": "code",
   "execution_count": null,
   "metadata": {},
   "outputs": [],
   "source": []
  },
  {
   "cell_type": "markdown",
   "metadata": {},
   "source": [
    "# 3. Conjunto de dados #3\n",
    "\n",
    "O próximo conjunto de dados pode ser carregado pelo comando abaixo. Note que este é o mesmo conjunto utilizado no Exercício 4, exceto que o conjunto de validação agora tem o mesmo tamanho do conjunto de treinamento. (Para fins didáticos, o conjunto de teste continua extremamente grande.)"
   ]
  },
  {
   "cell_type": "code",
   "execution_count": 8,
   "metadata": {
    "scrolled": true
   },
   "outputs": [
    {
     "data": {
      "image/png": "[encoded data removed]",
      "text/plain": [
       "<Figure size 432x288 with 1 Axes>"
      ]
     },
     "metadata": {
      "needs_background": "light"
     },
     "output_type": "display_data"
    }
   ],
   "source": [
    "from sklearn.datasets import make_moons\n",
    "np.random.seed(2019*2)\n",
    "X, y = make_moons(n_samples=200, noise=0.25)\n",
    "X_val, y_val = make_moons(n_samples=200, noise=0.25)\n",
    "X_test, y_test = make_moons(n_samples=10000, noise=0.25)\n",
    "plot_data(X, y)"
   ]
  },
  {
   "cell_type": "markdown",
   "metadata": {},
   "source": [
    "## Busca de hiperparâmetros: Grid search (com implementação própria)\n",
    "\n",
    "Aqui continuaremos utilizando um classificador SVM com kernel RBF. Sua tarefa é determinar os melhores valores dos hiperparâmetros de acordo com o desempenho no conjunto de validação. Em outras palavras, você deve variar $C$ e $\\gamma$, sempre treinando o modelo no conjunto de treinamento e medindo o desempenho no conjunto de validação, até encontrar os valores que maximizam a acurácia de validação.\n",
    "\n",
    "Para isso, você pode definir os conjuntos `range_C` e `range_gamma` e variar $(C,\\gamma)$ dentro da grade `range_C` x `range_gamma` (este método é conhecido como [grid search](https://en.wikipedia.org/wiki/Hyperparameter_optimization#Grid_search)), o que pode ser implementado com dois laços `for`. Para ambos $C$ e $\\gamma$, é recomendável utilizar valores que seguem uma progressão geométrica, i.e., regularmente espaçados no expoente.\n",
    "\n",
    "1. Implemente seu método completando a função abaixo.\n",
    "1. Em seguida, para os valores encontrados, trace o gráfico da região de decisão (com o conjunto de treinamento) e determine a acurácia nos conjuntos de treinamento, validação e teste.\n",
    "\n",
    "#### Funções úteis\n",
    "\n",
    "```python\n",
    "np.logspace()\n",
    "```"
   ]
  },
  {
   "cell_type": "code",
   "execution_count": 9,
   "metadata": {},
   "outputs": [],
   "source": [
    "def search_svm(X, y, X_val, y_val):\n",
    "    '''\n",
    "    Finds C and gamma that maximize accuracy on the validation set.\n",
    "\n",
    "    Parameters\n",
    "    ----------\n",
    "    X     : array of shape (m x n) consisting of m training examples.\n",
    "    y     : array of shape (m, ) consisting of labels for the training data.\n",
    "    X_val : array of shape (m_val x n) consisting of m_val validation examples.\n",
    "    y_val : array of shape (m_val, ) consisting of labels for the validation data.\n",
    "    \n",
    "    Returns\n",
    "    -------\n",
    "    C     : float\n",
    "    gamma : float\n",
    "    '''\n",
    "    \n",
    "    return C, gamma"
   ]
  },
  {
   "cell_type": "code",
   "execution_count": null,
   "metadata": {},
   "outputs": [],
   "source": []
  },
  {
   "cell_type": "markdown",
   "metadata": {},
   "source": [
    "## Busca de hiperparâmetros: Grid search + Validação cruzada (via sklearn)\n",
    "\n",
    "Suponha que você não possui ou não deseja separar um conjunto de validação (*hold-out*) como feito acima. Isto é, assuma que `X_val` e `y_val` não existem. Ainda assim é possível obter uma boa estimativa de desempenho---sem usar o conjunto de teste---e utilizá-la para a escolha de hiperparâmetros, utilizando validação cruzada $k$-fold.\n",
    "\n",
    "Uma forma de implementar esta técnica seria eliminar os argumentos `X_val` e `y_val` da função `search_svm` e alterá-la de forma a utilizar `cross_val_score()`. Para facilitar, vamos diretamente utilizar a biblioteca `sklearn`, a qual já possui uma implementação eficiente da *grid search* com validação cruzada, mais precisamente a função `sklearn.model_selection.GridSearchCV()`.\n",
    "\n",
    "3. Realize uma busca de hiperparâmetros através de *grid search* com validação cruzada 5-fold.\n",
    "1. Para o melhor classificador encontrado, trace o gráfico da região de decisão (com o conjunto de treinamento) e determine a acurácia nos conjuntos de treinamento e teste (lembre que não existe mais conjunto de validação separado).\n",
    "1. Comente sobre os resultados observados.\n",
    "\n",
    "#### Dicas\n",
    "\n",
    "- Para utilizar a função `GridSearchCV` você precisará definir o argumento `param_grid`. Por exemplo:\n",
    "\n",
    "```\n",
    "param_grid = {'C':[1,10,100], 'gamma':[0.1,1,10]}\n",
    "```\n",
    "\n",
    "- Estude a documentação da função `GridSearchCV`. Em particular, as propriedades `.best_estimator_` e `.cv_results_` são interessantes e possivelmente úteis."
   ]
  },
  {
   "cell_type": "code",
   "execution_count": 10,
   "metadata": {},
   "outputs": [],
   "source": [
    "del X_val, y_val # just in case"
   ]
  },
  {
   "cell_type": "code",
   "execution_count": null,
   "metadata": {},
   "outputs": [],
   "source": []
  },
  {
   "cell_type": "markdown",
   "metadata": {},
   "source": [
    "# 4. Conjunto de dados #4\n",
    "\n",
    "O último conjunto de dados consiste de mensagens sobre tópicos diferentes e a tarefa consiste em identificar o tópico correspondente a cada mensagem. O conjunto completo possui 20 categorias; para uma classificação binária, utilizaremos apenas duas. Mais informações sobre o conjunto de dados podem ser encontradas em:\n",
    "\n",
    "https://scikit-learn.org/stable/datasets/index.html#the-20-newsgroups-text-dataset\n",
    "\n",
    "O conjunto de dados pode ser carregado pelos comandos abaixo."
   ]
  },
  {
   "cell_type": "code",
   "execution_count": 11,
   "metadata": {},
   "outputs": [],
   "source": [
    "from sklearn.datasets import fetch_20newsgroups\n",
    "categories = ['sci.med','soc.religion.christian']\n",
    "remove = ['headers','footers','quotes']\n",
    "data_train = fetch_20newsgroups(subset='train',categories=categories, remove=remove)\n",
    "data_test = fetch_20newsgroups(subset='test',categories=categories, remove=remove)\n",
    "categories = data_train['target_names'] # just in case it gets reversed\n",
    "msg = data_train['data']\n",
    "y = data_train['target']\n",
    "msg_test = data_test['data']\n",
    "y_test = data_test['target']"
   ]
  },
  {
   "cell_type": "code",
   "execution_count": 12,
   "metadata": {},
   "outputs": [
    {
     "name": "stdout",
     "output_type": "stream",
     "text": [
      "\n",
      "y = 0 (sci.med)\n",
      "-----\n",
      "I am currently doing a group research project on the drug Xanax.  I would\n",
      "be exponentially gracious to receive any and all information you could\n",
      "provide\n",
      "me regarding its usage, history, mechanism of reaction, side effects, and\n",
      "other pertinent information.  I don't care how long or how short your \n",
      "response is. \n",
      "\n",
      "\n",
      "y = 1 (soc.religion.christian)\n",
      "-----\n",
      "\n",
      "I have no doubt that God hears everybody's prayers.\n",
      "However, He does things His way, i.e. things will happen\n",
      "only if it is His will.\n",
      "\n",
      "Now if the question really is \"Does God grant everybody's wishes ?\"\n",
      "then you'll get a brutal shot of reality similar to when you didn't\n",
      "get that toy you wanted for Christmas. You just cannot expect\n",
      "to get everything you want in this world.\n",
      "\n",
      "--  \n",
      "\n"
     ]
    }
   ],
   "source": [
    "# A few samples\n",
    "for i in [9,8]:\n",
    "    print('\\ny = %d (%s)\\n-----' % (y[i],categories[y[i]]))\n",
    "    print(msg[i],'\\n')"
   ]
  },
  {
   "cell_type": "markdown",
   "metadata": {},
   "source": [
    "## Pré-processamento dos dados\n",
    "\n",
    "Para converter texto em vetores numéricos, utilizaremos o modelo _bag-of-words_ (BoW). Leia a seção 4.6-4.6.1 do livro do Watt para se familiar com este conceito."
   ]
  },
  {
   "cell_type": "code",
   "execution_count": 14,
   "metadata": {},
   "outputs": [
    {
     "name": "stdout",
     "output_type": "stream",
     "text": [
      "15704\n",
      "research\n",
      "  (0, 1670)\t1\n",
      "  (0, 1750)\t1\n",
      "  (0, 1837)\t2\n",
      "  (0, 1970)\t1\n",
      "  (0, 2680)\t1\n",
      "  (0, 3566)\t1\n",
      "  (0, 4933)\t1\n",
      "  (0, 5199)\t1\n",
      "  (0, 6202)\t1\n",
      "  (0, 6221)\t1\n",
      "  (0, 6344)\t1\n",
      "  (0, 6552)\t1\n",
      "  (0, 7284)\t1\n",
      "  (0, 8443)\t1\n",
      "  (0, 8559)\t1\n",
      "  (0, 9056)\t1\n",
      "  (0, 9204)\t2\n",
      "  (0, 9773)\t2\n",
      "  (0, 10175)\t1\n",
      "  (0, 10230)\t1\n",
      "  (0, 11238)\t1\n",
      "  (0, 11708)\t1\n",
      "  (0, 11743)\t1\n",
      "  (0, 13074)\t1\n",
      "  (0, 13147)\t1\n",
      "  (0, 13233)\t1\n",
      "  (0, 13330)\t1\n",
      "  (0, 13891)\t1\n",
      "  (0, 14706)\t1\n",
      "  (0, 14820)\t1\n",
      "  (0, 15204)\t1\n",
      "  (0, 15273)\t1\n",
      "  (0, 15434)\t1\n",
      "  (0, 15704)\t1\n",
      "  (0, 15775)\t1\n",
      "  (0, 16830)\t1\n",
      "  (0, 16876)\t1\n",
      "  (0, 18423)\t1\n",
      "  (0, 18658)\t1\n",
      "  (0, 19478)\t1\n",
      "  (0, 20317)\t1\n",
      "  (0, 20376)\t1\n",
      "  (0, 20456)\t1\n",
      "  (0, 20463)\t1\n"
     ]
    }
   ],
   "source": [
    "from sklearn.feature_extraction.text import CountVectorizer\n",
    "prep = make_pipeline(CountVectorizer())\n",
    "X = prep.fit_transform(msg)\n",
    "X_test = prep.transform(msg_test)\n",
    "voc = prep.steps[0][1].vocabulary_\n",
    "inv_voc = {i: v for v, i in voc.items()}\n",
    "\n",
    "print(voc['research'])\n",
    "print(inv_voc[15704])\n",
    "print(X[9].sorted_indices())"
   ]
  },
  {
   "cell_type": "markdown",
   "metadata": {},
   "source": [
    "## Classificação com SVM linear\n",
    "\n",
    "Para este exercício você usará apenas um SVM linear. Nesse caso, **não utilize a função `SVC` do sklearn**. Ao invés disso, utilize a função `LinearSVC`, a qual possui uma implementação otimizada para SVM linear.\n",
    "\n",
    "1. Treine um SVM linear e encontre os melhores hiperparâmetros (no caso, apenas $C$).\n",
    "1. Para o modelo treinado, calcule a acurácia no conjunto de treinamento via validação cruzada 5-fold, e calcule também a acurácia de teste (hold-out)."
   ]
  },
  {
   "cell_type": "code",
   "execution_count": null,
   "metadata": {},
   "outputs": [],
   "source": []
  },
  {
   "cell_type": "markdown",
   "metadata": {},
   "source": [
    "## Aprimorando o modelo\n",
    "\n",
    "Você conseguiu pelo menos 94% de acurácia na validação cruzada?\n",
    "\n",
    "3. Em caso negativo, tente aprimorar o modelo. Considere, por exemplo, o escalonamento dos atributos. Faz sentido, por exemplo, usar um `StandardScaler`, considerando que $X$ é uma matriz esparsa? Ou faria mais sentido normalizar os atributos internamente a cada amostra? Isto pode ser feito por qualquer das funções abaixo:\n",
    "```python\n",
    "sklearn.preprocessing.Normalizer\n",
    "sklearn.feature_extraction.text.TfidfTransformer(use_idf=False)\n",
    "```\n",
    "1. Explique o seu raciocínio e os resultados observados.\n",
    "1. Estude a documentação dos transformadores `CountVectorizer` e `TfidfTransformer` e veja se consegue atingir o desempenho desejado."
   ]
  },
  {
   "cell_type": "code",
   "execution_count": null,
   "metadata": {},
   "outputs": [],
   "source": []
  },
  {
   "cell_type": "markdown",
   "metadata": {},
   "source": [
    "## Realizando predições\n",
    "\n",
    "6. Determine a predição fornecida pelo seu modelo para os seguintes exemplos (retirados da Wikipedia):\n",
    "\n",
    "```\n",
    "A vaccine is a biological preparation that provides active acquired immunity to a particular disease.\n",
    "```\n",
    "\n",
    "```\n",
    "Baptism is the ritual act, with the use of water, by which a person is admitted to membership of the Church. Beliefs on baptism vary among denominations.\n",
    "```"
   ]
  },
  {
   "cell_type": "code",
   "execution_count": null,
   "metadata": {},
   "outputs": [],
   "source": []
  },
  {
   "cell_type": "markdown",
   "metadata": {},
   "source": [
    "## Preditores mais importantes\n",
    "\n",
    "Como o modelo é um classificador linear, podemos determinar quais atributos são mais relevantes para a classificação analisando o vetor de pesos $\\bw$.\n",
    "\n",
    "7. Determine os 5 vocábulos mais preditivos de cada classe (i.e., 10 no total).\n",
    "1. Quantos atributos são considerados (pelo modelo) absolutamente irrelevantes para a classificação?"
   ]
  },
  {
   "cell_type": "code",
   "execution_count": null,
   "metadata": {},
   "outputs": [],
   "source": []
  },
  {
   "cell_type": "markdown",
   "metadata": {},
   "source": [
    "# (OPCIONAL)\n",
    "\n",
    "- Aplique um classificador SVM em outros conjuntos de dados, como por exemplo:\n",
    " - https://scikit-learn.org/stable/datasets/index.html#breast-cancer-dataset\n",
    " - https://scikit-learn.org/stable/datasets/index.html#olivetti-faces-dataset\n",
    " - https://archive.ics.uci.edu/ml/datasets/spambase"
   ]
  }
 ],
 "metadata": {
  "kernelspec": {
   "display_name": "Python 3",
   "language": "python",
   "name": "python3"
  },
  "language_info": {
   "codemirror_mode": {
    "name": "ipython",
    "version": 3
   },
   "file_extension": ".py",
   "mimetype": "text/x-python",
   "name": "python",
   "nbconvert_exporter": "python",
   "pygments_lexer": "ipython3",
   "version": "3.7.9"
  }
 },
 "nbformat": 4,
 "nbformat_minor": 2
}
