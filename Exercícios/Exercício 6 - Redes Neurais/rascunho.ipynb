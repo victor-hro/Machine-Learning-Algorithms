{
 "cells": [
  {
   "cell_type": "markdown",
   "metadata": {},
   "source": [
    "# 5. Conjunto de dados #5\n",
    "\n",
    "A última parte do exercício trata de um pequeno problema-desafio com intuito de proporcionar alguns insights sobre redes neurais através da experimentação e visualização.\n",
    "\n",
    "1. Tente conseguir 100% de acurácia nos conjuntos de treinamento e teste para o problema de classificação \"Spiral\" (sem ruído) em https://playground.tensorflow.org/#dataset=spiral , porém sem utilizar atributos adicionais (além de $x_1$ e $x_2$). (Obs: a interface não mostra a acurácia, mas é fácil de deduzir pelas regiões de decisão.) Insira sua solução como imagem integrada ao notebook, conforme os passos descritos [aqui](https://stackoverflow.com/a/57632351).\n",
    "1. Relate o seu processo de desenvolvimento, isto é, quais arquiteturas e hiperparâmetros você experimentou, o seu raciocínio por trás das suas escolhas, e suas conclusões com esse exercício.\n",
    "1. (OPCIONAL) O que acontece se a primeira camada oculta possui apenas 1 unidade, mesmo quando a segunda camada possui 8?\n",
    "\n",
    "(OPCIONAL) Experimente também outros conjuntos de dados no mesmo site.\n"
   ]
  },
  {
   "cell_type": "code",
   "execution_count": null,
   "metadata": {},
   "outputs": [],
   "source": []
  },
  {
   "cell_type": "code",
   "execution_count": null,
   "metadata": {},
   "outputs": [],
   "source": []
  },
  {
   "cell_type": "code",
   "execution_count": null,
   "metadata": {},
   "outputs": [],
   "source": []
  },
  {
   "cell_type": "code",
   "execution_count": null,
   "metadata": {},
   "outputs": [],
   "source": []
  },
  {
   "cell_type": "code",
   "execution_count": null,
   "metadata": {},
   "outputs": [],
   "source": []
  },
  {
   "cell_type": "code",
   "execution_count": null,
   "metadata": {},
   "outputs": [],
   "source": []
  }
 ],
 "metadata": {
  "kernelspec": {
   "display_name": "Python 3",
   "language": "python",
   "name": "python3"
  },
  "language_info": {
   "codemirror_mode": {
    "name": "ipython",
    "version": 3
   },
   "file_extension": ".py",
   "mimetype": "text/x-python",
   "name": "python",
   "nbconvert_exporter": "python",
   "pygments_lexer": "ipython3",
   "version": "3.8.3"
  }
 },
 "nbformat": 4,
 "nbformat_minor": 4
}
