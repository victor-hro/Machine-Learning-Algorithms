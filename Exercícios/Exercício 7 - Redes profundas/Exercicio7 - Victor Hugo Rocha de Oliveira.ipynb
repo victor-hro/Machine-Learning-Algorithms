{
  "nbformat": 4,
  "nbformat_minor": 0,
  "metadata": {
    "accelerator": "GPU",
    "colab": {
      "name": "exercicio7.ipynb",
      "provenance": []
    },
    "kernelspec": {
      "display_name": "Python 3",
      "language": "python",
      "name": "python3"
    },
    "language_info": {
      "codemirror_mode": {
        "name": "ipython",
        "version": 3
      },
      "file_extension": ".py",
      "mimetype": "text/x-python",
      "name": "python",
      "nbconvert_exporter": "python",
      "pygments_lexer": "ipython3",
      "version": "3.8.3"
    },
    "widgets": {
      "application/vnd.jupyter.widget-state+json": {
        "a2b59ee8d7ac4742bd6b887b8ef23974": {
          "model_module": "@jupyter-widgets/controls",
          "model_name": "VBoxModel",
          "state": {
            "_view_name": "VBoxView",
            "_dom_classes": [
              "widget-interact"
            ],
            "_model_name": "VBoxModel",
            "_view_module": "@jupyter-widgets/controls",
            "_model_module_version": "1.5.0",
            "_view_count": null,
            "_view_module_version": "1.5.0",
            "box_style": "",
            "layout": "IPY_MODEL_75c6b8c3f8184b7fb42dfb2666b17f60",
            "_model_module": "@jupyter-widgets/controls",
            "children": [
              "IPY_MODEL_5b4e243de5de4feebc0559561fb8d7b0",
              "IPY_MODEL_2cace7f478a04b27a7d2213ecb57e48b",
              "IPY_MODEL_fef47333ff1c4e68ae8085cfd0ff6956"
            ]
          }
        },
        "75c6b8c3f8184b7fb42dfb2666b17f60": {
          "model_module": "@jupyter-widgets/base",
          "model_name": "LayoutModel",
          "state": {
            "_view_name": "LayoutView",
            "grid_template_rows": null,
            "right": null,
            "justify_content": null,
            "_view_module": "@jupyter-widgets/base",
            "overflow": null,
            "_model_module_version": "1.2.0",
            "_view_count": null,
            "flex_flow": null,
            "width": null,
            "min_width": null,
            "border": null,
            "align_items": null,
            "bottom": null,
            "_model_module": "@jupyter-widgets/base",
            "top": null,
            "grid_column": null,
            "overflow_y": null,
            "overflow_x": null,
            "grid_auto_flow": null,
            "grid_area": null,
            "grid_template_columns": null,
            "flex": null,
            "_model_name": "LayoutModel",
            "justify_items": null,
            "grid_row": null,
            "max_height": null,
            "align_content": null,
            "visibility": null,
            "align_self": null,
            "height": null,
            "min_height": null,
            "padding": null,
            "grid_auto_rows": null,
            "grid_gap": null,
            "max_width": null,
            "order": null,
            "_view_module_version": "1.2.0",
            "grid_template_areas": null,
            "object_position": null,
            "object_fit": null,
            "grid_auto_columns": null,
            "margin": null,
            "display": null,
            "left": null
          }
        },
        "5b4e243de5de4feebc0559561fb8d7b0": {
          "model_module": "@jupyter-widgets/controls",
          "model_name": "DropdownModel",
          "state": {
            "_options_labels": [
              "constant",
              "invscaling",
              "adaptive"
            ],
            "_view_name": "DropdownView",
            "style": "IPY_MODEL_ea34e69ed2b742e9bb8736117c3ac559",
            "_dom_classes": [],
            "description": "lr",
            "_model_name": "DropdownModel",
            "index": 0,
            "_view_module": "@jupyter-widgets/controls",
            "_model_module_version": "1.5.0",
            "_view_count": null,
            "disabled": false,
            "_view_module_version": "1.5.0",
            "description_tooltip": null,
            "_model_module": "@jupyter-widgets/controls",
            "layout": "IPY_MODEL_ce177890efee465f98bca6e69ad4591b"
          }
        },
        "2cace7f478a04b27a7d2213ecb57e48b": {
          "model_module": "@jupyter-widgets/controls",
          "model_name": "IntSliderModel",
          "state": {
            "_view_name": "IntSliderView",
            "style": "IPY_MODEL_2c2677f2876f4752b41c9cd2170d4372",
            "_dom_classes": [],
            "description": "units",
            "step": 10,
            "_model_name": "IntSliderModel",
            "orientation": "horizontal",
            "max": 100,
            "_view_module": "@jupyter-widgets/controls",
            "_model_module_version": "1.5.0",
            "value": 50,
            "_view_count": null,
            "disabled": false,
            "_view_module_version": "1.5.0",
            "min": 0,
            "continuous_update": true,
            "readout_format": "d",
            "description_tooltip": null,
            "readout": true,
            "_model_module": "@jupyter-widgets/controls",
            "layout": "IPY_MODEL_154a6e41d01347fdb9d22ead32ea1b91"
          }
        },
        "fef47333ff1c4e68ae8085cfd0ff6956": {
          "model_module": "@jupyter-widgets/output",
          "model_name": "OutputModel",
          "state": {
            "_view_name": "OutputView",
            "msg_id": "",
            "_dom_classes": [],
            "_model_name": "OutputModel",
            "outputs": [
              {
                "output_type": "stream",
                "metadata": {
                  "tags": []
                },
                "text": "Train accuracy: 100.0%\n  Val accuracy: 100.0%\nloss: 0.21441623439436502\n",
                "stream": "stdout"
              },
              {
                "output_type": "stream",
                "metadata": {
                  "tags": []
                },
                "text": "/usr/local/lib/python3.6/dist-packages/sklearn/neural_network/_multilayer_perceptron.py:571: ConvergenceWarning: Stochastic Optimizer: Maximum iterations (200) reached and the optimization hasn't converged yet.\n  % self.max_iter, ConvergenceWarning)\n",
                "stream": "stderr"
              },
              {
                "output_type": "display_data",
                "metadata": {
                  "tags": [],
                  "needs_background": "light"
                },
                "image/png": "iVBORw0KGgoAAAANSUhEUgAAAXQAAAD4CAYAAAD8Zh1EAAAABHNCSVQICAgIfAhkiAAAAAlwSFlzAAALEgAACxIB0t1+/AAAADh0RVh0U29mdHdhcmUAbWF0cGxvdGxpYiB2ZXJzaW9uMy4yLjIsIGh0dHA6Ly9tYXRwbG90bGliLm9yZy+WH4yJAAAgAElEQVR4nO3dd3RVZb7G8e8vjV4lKD2UIFUpkR4QRQREASso2FBwpIrjHRzvFMudGRtVigjYFRBRQJoNSOgEpdeE3otDJ4Ty3j9ymBWZhARIzk5Ons9aWWTvs3POs/Y5edjZ5d3mnENERHK+IK8DiIhI5lChi4gECBW6iEiAUKGLiAQIFbqISIAI8eqFS5Qo4SIiIrx6eRGRHGnFihWHnXPhqT3mWaFHREQQFxfn1cuLiORIZrYjrce0y0VEJECo0EVEAoQKXUQkQKjQRUQChApdRCRAZKjQzayNmW0ys3gzG5jK44PNbKXva7OZHc38qCIiciXpnrZoZsHACOAuYDew3MymOefWX1rGOfdCiuX7AHWzIKuIiFxBRrbQGwDxzrmtzrkkYALQ4QrLdwG+zIxwqdl2+BRvzt6Ihv0VEfm9jBR6GWBXiundvnn/xcwqABWBn9N4vIeZxZlZ3KFDh642KwA/rN/PqHkJvDVn0zX9vIhIoMrsg6KdgcnOuQupPeicG+Oci3LORYWHp3rlarqeja7Eow3LM2peAu/PT7ierCIiASUjl/7vAcqlmC7rm5eazkCv6w11JWbG6x1qcezMOf45ayO/nU5iYJtqmFlWvqyISLaXkUJfDkSaWUWSi7wz8OjlC5lZNaAYsDhTE6YiOMgY1rkuxfKH8v78rRw5mcS/7q9NSLDOwhSR3CvdQnfOnTez3sAcIBgY75xbZ2avAXHOuWm+RTsDE5yfjlYGByVvqZcomIchP27h36eSeO/ReuQLC/bHy4uIZDvm1dkiUVFRLrNGW/x0yQ7+OnUt9csXY9wTt1Ekf2imPK+ISHZjZiucc1GpPRYQ+yi6NarAe13qsXr3MR4Zs5iDxxO9jiQi4ncBUegA99xSivFP3sbO307TccRC1uw+5nUkERG/CphCB2gWWYJJPRtjZjw4ehHf/Lrb60giIn4TUIUOUKtMEab1bkrd8kV5YeIq3vhuPecvXPQ6lohIlgu4Qge4oWAePu3ekCebRDB2wTae+HAZh0+e9TqWiEiWCshCBwgNDuLv99XkrQdvYfn2f9N2aCwxm69tuAERkZwgYAv9koejyjG1V1OK5gvl8fHLeOO79Zw9n+rIBCIiOVrAFzpA9VKFmd6nGd0aVWDsgm10GrGI+IMnvI4lIpKpckWhA+QNDeb1jrX44PEo9h07Q7thCxgxN55zOmAqIgEi1xT6JXfVuJE5/ZvTqnpJ3p6ziXuHL2DlLt1gSURyvlxX6AAlC+dl5GP1GdOtPkdPn6PTyIW8On0dp86e9zqaiMg1y5WFfknrmjfxw4DmdG1YgQ8Xbqf14BjmbjzodSwRkWuSqwsdoFDeUF7vWIvJzzUmX1gwT320nL5f/qrz1kUkx8n1hX5JVERxZvRtRv9Wkcxau49Wg+bzVdwuLl7UvUtFJGdQoaeQJySY/q2qMqtfNFXCC/LS5NU8MHoRq3TQVERyABV6KqqULMSkno15+8Fb2PXbGTqOXMj/TF7FoRPaDSMi2ZcKPQ1BQcZDUeWY+8cWPBtdiSm/7OGOd+YxNnYrSed17rqIZD8q9HQUyhvKn9tVZ84LzakfUYw3ZmygzdAYftpwAK/u9iQikhoVegZVDi/IR081YPyTUeCg+8dxdPlgiW6kISLZhgr9Kt1R7UbmvNCc1zrUZPOBk9z73gJemLiSPUfPeB1NRHK5gLhJtFeOJ55j9LwExi3YhgOeblqR51tWpnBe3aRaRLLGlW4SrULPBHuPnuGd7zcx5Zc9FC8QRp87qvBow/LkCQn2OpqIBJgrFbp2uWSC0kXzMejhOnzXpxnVbirEq9PXc8c785m4fKdufycifqNCz0S1yhTh82ca8ln3hpQoGMafvl5D68ExTFu1V1ecikiWU6FnMjOjWWQJvu3VlDHd6hMaHETfL3+l3bBYflyvUx1FJOuo0LOImdG65k3M6hfN0M51SDx3gWc+iaPTyEUsjD/sdTwRCUAq9CwWFGR0qFOGHwa04F/31+bg8UQeG7uULmOWsGLHv72OJyIBRGe5+FniuQt8uWwnI+bGc/hkEndWK8mLrW+mRunCXkcTkRxApy1mQ6eTzvPhwu28Pz+B44nnaX9LKV64qyqVwwt6HU1EsjEVejZ27Mw5PojZyviF20g8d4EH6pWlX6tIyhbL73U0EcmGVOg5wOGTZxk1L4FPl+zAOUeXBuXp3bIKJQvn9TqaiGQjKvQcZN+xMwz/OZ5Jy3cREmw80SSC55pXpliBMK+jiUg2cN1XippZGzPbZGbxZjYwjWUeNrP1ZrbOzL64nsC5Waki+fhHp9r89GIL2tYqxZiYrTR/ay5Df9zCicRzXscTkWws3S10MwsGNgN3AbuB5UAX59z6FMtEApOAO5xz/zazks65g1d6Xm2hZ8zmAycY9P1mZq/bT7H8ofRqWYXHG0cQFqIzTkVyo+vdQm8AxDvntjrnkoAJQIfLlnkWGOGc+zdAemUuGVf1xkKM7lafab2bUqtMEd6YsYG7Bs9n9tr9uupURH4nI4VeBtiVYnq3b15KVYGqZrbQzJaYWZvUnsjMephZnJnFHTp06NoS51K3lC3Kp90b8vHTDQgLDuK5z1bQecwS1u7RDTZEJFlm/d0eAkQCtwNdgA/MrOjlCznnxjjnopxzUeHh4Zn00rlLi6rhzOoXzRsda7HlYPINNl6ctIoDxxO9jiYiHstIoe8ByqWYLuubl9JuYJpz7pxzbhvJ+9wjMyeiXC4kOIiujSow76Xb6RFdiemr9nL72/MY+uMWTied9zqeiHgkI4W+HIg0s4pmFgZ0BqZdtsy3JG+dY2YlSN4FszUTc0oqCucN5eV21flxQAtaVgtn8I+bueOd+Uz5Zbf2r4vkQukWunPuPNAbmANsACY559aZ2Wtmdp9vsTnAETNbD8wFXnLOHcmq0PJ75W/Iz8jH6jOpZ2NKFs7DgEmreGj0Ytbt1f51kdxEFxYFmIsXHV+t2MWbszdx9HQSjzWswIutq1I0vy5MEgkEugVdLhIUZDxyW3nmvng73RpV4POlO7jj3flMWLZTd00SCXAq9ABVJH8or3aoxXd9oqkcXoCBU9bQaeRCVu066nU0EckiKvQAV6N0YSb1bMzgR25l77FEOo5cyMtT1nDstIYREAk0KvRcwMzoVLcsP7/YgqebVmTi8p3cOWgeU1fu0dkwIgFEhZ6LFMobyl/a12Ba72aUKZqPfhNW8vj4Zew4csrraCKSCVTouVCtMkWY8nxTXr2vJr/uPErrwTG89/MWks5f9DqaiFwHFXouFRyUPNb6jwNacGf1krzz/WbaDYtl2bbfvI4mItdIhZ7L3VQkLyMfq8/4J6M4k3SBh99fzJ8mr+bo6SSvo4nIVVKhCwB3VLuRHwY0p2fzSkz+ZTd3vqshBERyGhW6/Ef+sBBebled6b2bUa54fgZMWsXj45ex67fTXkcTkQxQoct/qVG6MF//oQmvdajJLzv+TevBMYyN3cr5CzpoKpKdqdAlVcFBxuONI/hhQAuaVL6BN2Zs4P5Ri1i/97jX0UQkDSp0uaLSRfMx9okohnepy55/n+G+9xbw9pyNJJ674HU0EbmMCl3SZWbce2tpfhzQgo51yzBibgLthsayZKtGSBbJTlTokmHFCoTxzkO38ln3hpy7eJHOY5bw8pQ1HE/UuDAi2YEKXa5as8gSzOnfnB7NKzFx+U5aD4ph3qaDXscSyfVU6HJN8oeF8Od21fnm+aYUyhvCkx8u50+TV2trXcRDKnS5LreWK8r0Ps14rkVlvlqxi7sHxxCz+ZDXsURyJRW6XLe8ocEMbFuNr//QhPxhwTw+fhkvT1nNCW2ti/iVCl0yTd3yxZjRN5qeLSoxcfku2gyJJXaLttZF/EWFLpkqb2gwL7etzuQ/NCFPaBDdxi3j5SlrOHn2vNfRRAKeCl2yRL3yxZjZN5oezSsxYflO7h4cw4Ith72OJRLQVOiSZfKGBvPndtWZ/FwT8oQE0XXcUl75RlvrIllFhS5Zrn6FYszsF82z0RX5YtlO2gyJYVG8ttZFMpsKXfwib2gwr9xTg696NiY0OIhHxy7lL9+u5ZS21kUyjQpd/Coqojgz+0bTvVlFPlu6g7ZDY1mxQ7e9E8kMKnTxu3xhwfylfQ0m9WyMw/HQ6MW8PWejblItcp1U6OKZ2yKKM6tfcx6qX44RcxPoNHIhWw6c8DqWSI6lQhdPFcwTwpsP3sKYbvXZfyyRe4YvYNyCbVy8qHuZilwtFbpkC61r3sTs/s2JrlKC179bT9dxS9l79IzXsURyFBW6ZBvhhfIw9oko/nV/bVbuOsrdQ2KYunKP17FEcowMFbqZtTGzTWYWb2YDU3n8STM7ZGYrfV/PZH5UyQ3MjM4NyjOrXzSRJQvSb8JKen/xC0dPJ3kdTSTbS7fQzSwYGAG0BWoAXcysRiqLTnTO1fF9jc3knJLLVLihAJN6Nualu29m9tr93D0kRgN9iaQjI1voDYB459xW51wSMAHokLWxRCAkOIheLavwba+mFMobSrdxy/j7tHWcSdINqkVSk5FCLwPsSjG92zfvcg+Y2Wozm2xm5TIlnQhQq0wRvuvTjKeaRvDRou3cMzyWNbuPeR1LJNvJrIOi04EI59wtwA/Ax6ktZGY9zCzOzOIOHdKfz5JxeUOD+du9Nfmse0NOn73A/aMWMjZ2q05vFEkhI4W+B0i5xV3WN+8/nHNHnHNnfZNjgfqpPZFzboxzLso5FxUeHn4teSWXaxZZgln9oml5c0nemLGBpz5azqETZ9P/QZFcICOFvhyINLOKZhYGdAampVzAzEqlmLwP2JB5EUV+r1iBMN7vVp/XO9Zi8dYjtB0aq/uYipCBQnfOnQd6A3NILupJzrl1Zvaamd3nW6yvma0zs1VAX+DJrAosAsmnN3ZrVIFpvZtSLH8oj49fxj9nbtB4MJKrmXPe7IOMiopycXFxnry2BJYzSRd4Y8Z6Pl+6k1vKFmFY57pElCjgdSyRLGFmK5xzUak9pitFJcfLFxbM/3Wqzeiu9dh++BT3DIvlm193ex1LxO9U6BIw2tQqxaz+zalRujAvTFzFgIkrdbs7yVVU6BJQyhTNx5fPNqJ/q0i+XbmH9sNiWb37qNexRPxChS4BJyQ4iP6tqjKhR2OSzl/kgVGLGBOToHPWJeCp0CVgNahYnJn9ormjWkn+MXMjT3y4jIMnEr2OJZJlVOgS0IrmD2N01/q80bEWy7b9RruhsczXOesSoFToEvDMjK6NKjCtdzNuKJCHJ8Yv4x86Z10CkApdco2bbyrE1N5N6daoAmNitvLAqEVsO3zK61gimUaFLrlK3tBgXu9Yi9Fd67Pzt9PcMyyWr1fonHUJDCp0yZXa1LqJWf2iqVWmCC9+tYoXJq7kROI5r2OJXBcVuuRapX3nrA+4qypTV+6h/fAFrNqlc9Yl51KhS64WHGT0vTOSiT0bc853zvr783XOuuRMKnQR4LaI4szq15xW1W/kn7M28vTHyzlyUuOsS86iQhfxKZI/lFFd6/F6h5osSjhCu2GxLE444nUskQxToYukYGZ0axzBN883oUBYCI+NXcLgHzZzQbtgJAdQoYukombpIkzv04yOdcsw9KctPPrBEvYf07ABkr2p0EXSUCBPCIMersO7D93Kmj3HaDcslrkbD3odSyRNKnSRdDxQvyzTejejZKE8PPXRcv5vxnoNGyDZkgpdJAOqlCzIt72a0rVReT6I3cZD7y9m12+nvY4l8jsqdJEMyhsazBsdazPqsXpsPXSSdsNimblmn9exRP5DhS5yldrWLsXMvtFUDi/I85//wivfrCHx3AWvY4mo0EWuRbni+fnqucb0bF6Jz5fupMN7C9ly4ITXsSSXU6GLXKPQ4CBebledj566jcMnz3LvewuYuHwnzumcdfGGCl3kOt1+c0lm9YumfoVi/OnrNfSdsJLjGrlRPKBCF8kEJQvn5ZOnG/LS3Tczc80+2g/TyI3ifyp0kUwSHGT0almFST0bceGi44FRixgTo5EbxX9U6CKZrH6F4szsG02r6jfyj5kbeeqj5RzWyI3iByp0kSzwn5EbO9Zi8dYjtB0ay8L4w17HkgCnQhfJImZGt0YVmNqrKUXyhdJ13FLembOJ8xc0bIBkDRW6SBarXqow03o35eH65Xhvbjydxyxhz9EzXseSAKRCF/GD/GEhvPngLQztXIeN+0/QdkgMs9fu9zqWBBgVuogfdahThhl9mxFRogDPfbaCv3y7VsMGSKbJUKGbWRsz22Rm8WY28ArLPWBmzsyiMi+iSGCpcEMBJj/XhGejK/Lpkh10HLGQ+IMaNkCuX7qFbmbBwAigLVAD6GJmNVJZrhDQD1ia2SFFAk1YSBCv3FODD5+6jYMnznLv8IVMitulYQPkumRkC70BEO+c2+qcSwImAB1SWe514E1A9+kSyaCWvmED6pYvyv9MXk2/CSs5oWED5BplpNDLALtSTO/2zfsPM6sHlHPOzbjSE5lZDzOLM7O4Q4cOXXVYkUB0Y+G8fNq9IX9sXZUZa/bRfvgCVu/WsAFy9a77oKiZBQGDgBfTW9Y5N8Y5F+WciwoPD7/elxYJGMFBRu87IpnYoxHnzl/kgVGLGBu7VcMGyFXJSKHvAcqlmC7rm3dJIaAWMM/MtgONgGk6MCpy9aIiijOzXzR3VCvJGzM20P3j5RzRsAGSQRkp9OVApJlVNLMwoDMw7dKDzrljzrkSzrkI51wEsAS4zzkXlyWJRQJc0fxhjO5an9c71GRhQvKwAYsSNGyApC/dQnfOnQd6A3OADcAk59w6M3vNzO7L6oAiuZGZ0a1xBN8+35SCeUN4bOxSBn2vYQPkysyr06SioqJcXJw24kXSczrpPH+buo6vVuzmtohiDOlclzJF83kdSzxiZiucc6nu0taVoiLZXP6wEN5+6FaGPFKH9XuP025oLHPWadgA+W8qdJEcomPdMszoG0354vnp+ekK/jZVwwbI76nQRXKQiBIF+PoPTXimWUU+XryDTiMXkXDopNexJJtQoYvkMGEhQfxv+xqMfzKKA8cTuXf4Aiav2K1hA0SFLpJT3VHtRmb2jeaWskX441erGDBpFSfPnvc6lnhIhS6Sg91UJC+fP9OIF++qytSVe2g/LJY1u495HUs8okIXyeGCg4w+d0YyoUdjzp6/yP2jFjJuwTbtgsmFVOgiAaJBxeLM6hfN7TeX5PXv1vPMx3H8dirJ61jiRyp0kQBSNH8YY7rV57UONYndcpi2Q2NYnHDE61jiJyp0kQBjZjzeOIJvejWhQFgIj45dwqAfNmvYgFxAhS4SoGqWLsL0Ps24v25Zhv20hUfHLmXfsTNex5IspEIXCWAF8oTw7sO3MviRW1m35xhth8byw/oDXseSLKJCF8kFOtUty3d9oylbLB/PfhLH/367hjNJGjYg0KjQRXKJir5hA3o2r8TnS3fSfngsa/fonPVAokIXyUXyhATzcrvqfN69IafOXqDTyIWMmpfABd3qLiCo0EVyoSZVSjC7fzSta9zEm7M38ugHS9hzVAdMczoVukguVTR/GO89Wpd3HrqVtXuO0WZIDNNX7fU6llwHFbpILmZmPFi/LDP7RVOlZEH6fPkrAyau5ETiOa+jyTVQoYsIFW4owFc9G9O/VSRTV+2l7dBY4rb/5nUsuUoqdBEBICQ4iP6tqjKpZ2OCzHj4/cW8+/0mzukK0xxDhS4iv1O/QjFm9ovm/nplGf5zPA+OXsz2w6e8jiUZoEIXkf9SME8I7zx0KyMfq8f2w6doNyyWCct2akjebE6FLiJpale7FLP7R1OnXFEGTllD94/jOHg80etYkgYVuohcUaki+fise0P+dm8NFsYf5q7BMUzT6Y3ZkgpdRNIVFGQ81bQiM/tFU7FEAfp++Su9vvhFN9DIZlToIpJhlcMLMvm5xrx09818v24/rQfH8KNGb8w2VOgiclVCgoPo1bIKU3s1o0TBMJ75JI6Xvlqli5GyARW6iFyTGqULM7V3U3q1rMzXv+ymzZBYFsUf9jpWrqZCF5FrlickmJfursbkPzQhT0gQj45dyt+nrdNY6x5RoYvIdatXvhgz+kbzZJMIPlq0nbuHxLAoQVvr/qZCF5FMkS8smL/fV5Mvn22EGTz6wVJenrKG49q37jcqdBHJVI0r38Dsfs3p0bwSE5fvpPWgGH7aoDNh/CFDhW5mbcxsk5nFm9nAVB5/zszWmNlKM1tgZjUyP6qI5BT5woL5c7vqTHm+KUXyhdL94zj6TfhV561nsXQL3cyCgRFAW6AG0CWVwv7COVfbOVcHeAsYlOlJRSTHqVOuKNP7NKPfnZHMXLOPVoPmM23VXo0Jk0UysoXeAIh3zm11ziUBE4AOKRdwzh1PMVkA0LslIgCEhQTxwl1Vmd6nGeWK5aPvl7/y7CcrOKAxYTJdRgq9DLArxfRu37zfMbNeZpZA8hZ639SeyMx6mFmcmcUdOnToWvKKSA5V7abCTHm+Ka+0q07slkO0GjRfIzhmskw7KOqcG+Gcqwz8CfjfNJYZ45yLcs5FhYeHZ9ZLi0gOERxkPNu8EnP6N6dGqcIMnLKGR8YsIf7gCa+jBYSMFPoeoFyK6bK+eWmZAHS8nlAiEtgiShTgy2cb8a/7a7Np/wnaDo3l3e83kXhOFyRdj4wU+nIg0swqmlkY0BmYlnIBM4tMMXkPsCXzIopIIAoKMjo3KM9PL7bg3ltKM/zneO4eEkPsFu2OvVbpFrpz7jzQG5gDbAAmOefWmdlrZnafb7HeZrbOzFYCA4AnsiyxiASUEgXzMOiROnzxTEOCzOg2bhl9v/yVgyd00PRqmVcHJKKiolxcXJwnry0i2VPiuQuMmpfAqHkJ5AkNYmDbanS5rTxBQeZ1tGzDzFY456JSe0xXiopItpE3NJgX7qrKrP7R1CpdhFe+WcuDoxexfu/x9H9YVOgikv1UDi/IF882ZNDDt7LjyGnaD4/lr1PXcuy0xoW5EhW6iGRLZsb99cry84u3061RBT5bsoOW785jwrKdXLyoc9dTo0IXkWytSP5QXu1Qi+/6RFM5vAADp6yh08iFrNp11Oto2Y4KXURyhBqlCzOpZ2OGPFKHvccS6ThyIQO/Xs2Rk2e9jpZtqNBFJMcwMzrWLcPPL7bg2ehKTF6xm5bvzOOTxds5f+Gi1/E8p0IXkRynUN5Q/tyuOrP7R1O7bBH+OnUd7YcvYMGW3H2XJBW6iORYVUoW4rPuDRn1WD1OJZ2n67ildP9oOQmHTnodzRMqdBHJ0cyMtrVL8cMLLRjYthpLt/3G3YNjeHX6Oo6ezl031FChi0hAyBsazHMtKjP3j7fzUFQ5Pl60ndvfmceHC7dxLpfsX1ehi0hACS+Uh3/eX5uZ/ZKvNn11+nruHhLDzxsPBPzY6yp0EQlI1W4qzKfdGzDuiShw8PRHcXQbt4w1u495HS3LqNBFJGCZGXdWv5HZ/Zvz1/Y1WLf3GPe+t4DeX/zC9sOnvI6X6TTaoojkGscTz/FBzFbGxibvV+/SoDx97qxCyUJ5vY6WYVcabVGFLiK5zsETiQz/KZ4vl+0kNDiIZ6Ir0qN5JQrlDfU6WrpU6CIiqdh++BTvfL+J71bvo3iBMHq1rELXRuXJExLsdbQ0qdBFRK5gze5jvDVnI7FbDlOmaD4G3FWVjnXLEJwNb6yhG1yIiFxB7bJF+LR7Qz7r3pDiBcJ48atV3DMslp825KxTHVXoIiI+zSJLMLVXU957tC6J5y7Q/eM4Oo1cxPzNh3JEsWuXi4hIKs5duMjXK3Yz/Od49hw9Q/0KxRhwV1WaVL4BM+92xWgfuojINUo6f5FJcbsYMTeefccSaVCxOAPuqkqjSjd4kkeFLiJynRLPXWDi8uRiP3jiLI0r3cCA1lW5LaK4X3Oo0EVEMkniuQt8sXQnI+clcPjkWZpVKUHfOyNpUNE/xa5CFxHJZGeSLvDZkh2Mnp/AkVNJNKhYnN4tqxAdWSJL97Gr0EVEssiZpAtMWL6T9+dvZf/xRG4tW4Ted0TSqnrJLCl2FbqISBY7e/4CX6/Yw6j58ez67QzVbipEr5ZVaFe7VKZeoKRCFxHxk/MXLjJt1V5GzI0n4dApKpYoQM/mlehUr0ymDCmgQhcR8bMLFx2z1+5n1Px41u45TslCeXgmuiJdGpS/rkHAVOgiIh5xzrEg/jCj5yewMP4IhfKG8EbHWnSoU+aanu9KhR5yXUlFROSKzIzoyHCiI8NZtesoo+cnUOGGAlnyWip0ERE/ubVcUUZ1rZ9lz6/BuUREAkSGCt3M2pjZJjOLN7OBqTw+wMzWm9lqM/vJzCpkflQREbmSdAvdzIKBEUBboAbQxcxqXLbYr0CUc+4WYDLwVmYHFRGRK8vIFnoDIN45t9U5lwRMADqkXMA5N9c5d9o3uQQom7kxRUQkPRkp9DLArhTTu33z0tIdmJXaA2bWw8zizCzu0KFDGU8pIiLpytSDombWFYgC3k7tcefcGOdclHMuKjw8PDNfWkQk18vIaYt7gHIppsv65v2OmbUCXgFaOOfOZk48ERHJqIxsoS8HIs2sopmFAZ2BaSkXMLO6wPvAfc65g5kfU0RE0pOhS//NrB0wBAgGxjvn/s/MXgPinHPTzOxHoDawz/cjO51z96XznIeAHdeYuwRw+Bp/Nqtl12zKdXWU6+pl12yBlquCcy7VfdaejeVyPcwsLq2xDLyWXbMp19VRrquXXbPlply6UlREJECo0EVEAkROLfQxXge4guyaTbmujnJdveyaLdfkypH70EVE5L/l1C10ERG5jApdRCRA5LhCT28oXz/mKGdmc33DBq8zs36++X83sz1mttL31c6DbNvNbI3v9eN884qb2Q9mtsX3bzE/Z7o5xTpZaWbHzay/V+vLzMab2UEzW5tiXqrryJIN8/slRFEAAAPmSURBVH3mVptZPT/netvMNvpe+xszK+qbH2FmZ1Ksu9F+zpXme2dmL/vW1yYzuzurcl0h28QUubab2UrffL+ssyv0Q9Z+xpxzOeaL5AubEoBKQBiwCqjhUZZSQD3f94WAzSQPL/x34I8er6ftQInL5r0FDPR9PxB40+P3cT9Qwav1BTQH6gFr01tHQDuSB5wzoBGw1M+5WgMhvu/fTJErIuVyHqyvVN873+/BKiAPUNH3Oxvsz2yXPf4u8Fd/rrMr9EOWfsZy2hZ6ukP5+otzbp9z7hff9yeADVx5FEqvdQA+9n3/MdDRwyx3AgnOuWu9Uvi6OedigN8um53WOuoAfOKSLQGKmlkpf+Vyzn3vnDvvm/RkeOo01ldaOgATnHNnnXPbgHiSf3f9ns3MDHgY+DKrXj+NTGn1Q5Z+xnJaoV/tUL5+YWYRQF1gqW9Wb9+fTeP9vWvDxwHfm9kKM+vhm3ejc+7S0Az7gRs9yHVJZ37/C+b1+rokrXWUnT53T/P74akrmtmvZjbfzKI9yJPae5ed1lc0cMA5tyXFPL+us8v6IUs/Yzmt0LMdMysIfA30d84dB0YBlYE6JI9t864HsZo55+qRfJepXmbWPOWDLvlvPE/OV7XkAd7uA77yzcoO6+u/eLmO0mJmrwDngc99s/YB5Z1zdYEBwBdmVtiPkbLle3eZLvx+48Gv6yyVfviPrPiM5bRCz9BQvv5iZqEkv1mfO+emADjnDjjnLjjnLgIfkIV/aqbFObfH9+9B4BtfhgOX/oTz/evVqJhtgV+ccwd8GT1fXymktY48/9yZ2ZNAe+AxXxHg26VxxPf9CpL3VVf1V6YrvHeery8AMwsB7gcmXprnz3WWWj+QxZ+xnFbo6Q7l6y++fXPjgA3OuUEp5qfc79UJWHv5z2ZxrgJmVujS9yQfUFtL8np6wrfYE8BUf+ZK4XdbTF6vr8uktY6mAY/7zkRoBBxL8WdzljOzNsD/kDw89ekU88Mt+Z6/mFklIBLY6sdcab1304DOZpbHzCr6ci3zV64UWgEbnXO7L83w1zpLqx/I6s9YVh/tzewvko8Gbyb5f9ZXPMzRjOQ/l1YDK31f7YBPgTW++dOAUn7OVYnkMwxWAesurSPgBuAnYAvwI1Dcg3VWADgCFEkxz5P1RfJ/KvuAcyTvr+ye1joi+cyDEb7P3BqSb4juz1zxJO9fvfQ5G+1b9gHfe7wS+AW418+50nzvSL7ZTQKwCWjr7/fSN/8j4LnLlvXLOrtCP2TpZ0yX/ouIBIictstFRETSoEIXEQkQKnQRkQChQhcRCRAqdBGRAKFCFxEJECp0EZEA8f+l5MU3Q2/erwAAAABJRU5ErkJggg==\n",
                "text/plain": "<Figure size 432x288 with 1 Axes>"
              }
            ],
            "_view_module": "@jupyter-widgets/output",
            "_model_module_version": "1.0.0",
            "_view_count": null,
            "_view_module_version": "1.0.0",
            "layout": "IPY_MODEL_2384615fed0948d98b56c94b795e1182",
            "_model_module": "@jupyter-widgets/output"
          }
        },
        "ea34e69ed2b742e9bb8736117c3ac559": {
          "model_module": "@jupyter-widgets/controls",
          "model_name": "DescriptionStyleModel",
          "state": {
            "_view_name": "StyleView",
            "_model_name": "DescriptionStyleModel",
            "description_width": "",
            "_view_module": "@jupyter-widgets/base",
            "_model_module_version": "1.5.0",
            "_view_count": null,
            "_view_module_version": "1.2.0",
            "_model_module": "@jupyter-widgets/controls"
          }
        },
        "ce177890efee465f98bca6e69ad4591b": {
          "model_module": "@jupyter-widgets/base",
          "model_name": "LayoutModel",
          "state": {
            "_view_name": "LayoutView",
            "grid_template_rows": null,
            "right": null,
            "justify_content": null,
            "_view_module": "@jupyter-widgets/base",
            "overflow": null,
            "_model_module_version": "1.2.0",
            "_view_count": null,
            "flex_flow": null,
            "width": null,
            "min_width": null,
            "border": null,
            "align_items": null,
            "bottom": null,
            "_model_module": "@jupyter-widgets/base",
            "top": null,
            "grid_column": null,
            "overflow_y": null,
            "overflow_x": null,
            "grid_auto_flow": null,
            "grid_area": null,
            "grid_template_columns": null,
            "flex": null,
            "_model_name": "LayoutModel",
            "justify_items": null,
            "grid_row": null,
            "max_height": null,
            "align_content": null,
            "visibility": null,
            "align_self": null,
            "height": null,
            "min_height": null,
            "padding": null,
            "grid_auto_rows": null,
            "grid_gap": null,
            "max_width": null,
            "order": null,
            "_view_module_version": "1.2.0",
            "grid_template_areas": null,
            "object_position": null,
            "object_fit": null,
            "grid_auto_columns": null,
            "margin": null,
            "display": null,
            "left": null
          }
        },
        "2c2677f2876f4752b41c9cd2170d4372": {
          "model_module": "@jupyter-widgets/controls",
          "model_name": "SliderStyleModel",
          "state": {
            "_view_name": "StyleView",
            "handle_color": null,
            "_model_name": "SliderStyleModel",
            "description_width": "",
            "_view_module": "@jupyter-widgets/base",
            "_model_module_version": "1.5.0",
            "_view_count": null,
            "_view_module_version": "1.2.0",
            "_model_module": "@jupyter-widgets/controls"
          }
        },
        "154a6e41d01347fdb9d22ead32ea1b91": {
          "model_module": "@jupyter-widgets/base",
          "model_name": "LayoutModel",
          "state": {
            "_view_name": "LayoutView",
            "grid_template_rows": null,
            "right": null,
            "justify_content": null,
            "_view_module": "@jupyter-widgets/base",
            "overflow": null,
            "_model_module_version": "1.2.0",
            "_view_count": null,
            "flex_flow": null,
            "width": null,
            "min_width": null,
            "border": null,
            "align_items": null,
            "bottom": null,
            "_model_module": "@jupyter-widgets/base",
            "top": null,
            "grid_column": null,
            "overflow_y": null,
            "overflow_x": null,
            "grid_auto_flow": null,
            "grid_area": null,
            "grid_template_columns": null,
            "flex": null,
            "_model_name": "LayoutModel",
            "justify_items": null,
            "grid_row": null,
            "max_height": null,
            "align_content": null,
            "visibility": null,
            "align_self": null,
            "height": null,
            "min_height": null,
            "padding": null,
            "grid_auto_rows": null,
            "grid_gap": null,
            "max_width": null,
            "order": null,
            "_view_module_version": "1.2.0",
            "grid_template_areas": null,
            "object_position": null,
            "object_fit": null,
            "grid_auto_columns": null,
            "margin": null,
            "display": null,
            "left": null
          }
        },
        "2384615fed0948d98b56c94b795e1182": {
          "model_module": "@jupyter-widgets/base",
          "model_name": "LayoutModel",
          "state": {
            "_view_name": "LayoutView",
            "grid_template_rows": null,
            "right": null,
            "justify_content": null,
            "_view_module": "@jupyter-widgets/base",
            "overflow": null,
            "_model_module_version": "1.2.0",
            "_view_count": null,
            "flex_flow": null,
            "width": null,
            "min_width": null,
            "border": null,
            "align_items": null,
            "bottom": null,
            "_model_module": "@jupyter-widgets/base",
            "top": null,
            "grid_column": null,
            "overflow_y": null,
            "overflow_x": null,
            "grid_auto_flow": null,
            "grid_area": null,
            "grid_template_columns": null,
            "flex": null,
            "_model_name": "LayoutModel",
            "justify_items": null,
            "grid_row": null,
            "max_height": null,
            "align_content": null,
            "visibility": null,
            "align_self": null,
            "height": null,
            "min_height": null,
            "padding": null,
            "grid_auto_rows": null,
            "grid_gap": null,
            "max_width": null,
            "order": null,
            "_view_module_version": "1.2.0",
            "grid_template_areas": null,
            "object_position": null,
            "object_fit": null,
            "grid_auto_columns": null,
            "margin": null,
            "display": null,
            "left": null
          }
        }
      }
    }
  },
  "cells": [
    {
      "cell_type": "markdown",
      "metadata": {
        "id": "8JBVC5Tk8yJd"
      },
      "source": [
        "Universidade Federal de Santa Catarina<br>\n",
        "Departamento de Engenharia Elétrica e Eletrônica<br>\n",
        "EEL7514 / EEL7513 / EEL410250 - Aprendizado de Máquina\n",
        "$\\newcommand{\\bX}{\\mathbf{X}}$\n",
        "$\\newcommand{\\bw}{\\mathbf{w}}$\n",
        "$\\newcommand{\\by}{\\mathbf{y}}$\n",
        "$\\newcommand{\\bx}{\\mathbf{x}}$\n",
        "$\\newcommand{\\RR}{\\mathbb{R}}$\n",
        "$\\newcommand{\\calS}{\\mathcal{S}}$\n",
        "\n",
        "# Exercício 7: Redes Profundas\n",
        "\n",
        "Neste exercício você irá construir modelos de redes neurais para realizar classificação e experimentar diversas configurações de hiperparâmetros."
      ]
    },
    {
      "cell_type": "code",
      "metadata": {
        "id": "u32AG3f88yJe",
        "outputId": "99fce7f7-77ca-45c3-e7bc-187d20cf10a1",
        "colab": {
          "base_uri": "https://localhost:8080/",
          "height": 68
        }
      },
      "source": [
        "import numpy as np\n",
        "import matplotlib.pyplot as plt\n",
        "%matplotlib inline\n",
        "from ipywidgets import interact\n",
        "from sklearn.neural_network import MLPClassifier\n",
        "\n",
        "import sys\n",
        "import tensorflow as tf\n",
        "print('Python version:', sys.version.split(' ')[0])\n",
        "print('TensorFlow version:', tf.__version__)\n",
        "print('GPU:', tf.config.list_physical_devices('GPU'))"
      ],
      "execution_count": 1,
      "outputs": [
        {
          "output_type": "stream",
          "text": [
            "Python version: 3.6.9\n",
            "TensorFlow version: 2.3.0\n",
            "GPU: [PhysicalDevice(name='/physical_device:GPU:0', device_type='GPU')]\n"
          ],
          "name": "stdout"
        }
      ]
    },
    {
      "cell_type": "markdown",
      "metadata": {
        "id": "RbGFQS7l8yJh"
      },
      "source": [
        "# 1. Conjunto de dados #1\n",
        "\n",
        "Para \"aquecer\", vamos começar utilizando o conjunto XOR do exercício anterior."
      ]
    },
    {
      "cell_type": "code",
      "metadata": {
        "id": "dD6SIvwp8yJi",
        "outputId": "9a39339e-bbc3-438e-f6a1-ee0cabf33bcf",
        "colab": {
          "base_uri": "https://localhost:8080/",
          "height": 51
        }
      },
      "source": [
        "from sklearn.datasets import make_blobs\n",
        "from sklearn.model_selection import train_test_split\n",
        "X_train, y_train = make_blobs(n_samples=400, n_features=2, centers=[[0,0],[1,1],[0,1],[1,0]], cluster_std=0.15, random_state=0)\n",
        "y_train = (y_train >= 2).astype(int)\n",
        "X_train, X_val, y_train, y_val = train_test_split(X_train, y_train, test_size=1/4, random_state=0)\n",
        "print(X_train.shape, y_train.shape)\n",
        "print(X_val.shape, y_val.shape)"
      ],
      "execution_count": 2,
      "outputs": [
        {
          "output_type": "stream",
          "text": [
            "(300, 2) (300,)\n",
            "(100, 2) (100,)\n"
          ],
          "name": "stdout"
        }
      ]
    },
    {
      "cell_type": "markdown",
      "metadata": {
        "id": "9FVYxBOx8yJk"
      },
      "source": [
        "1. Usando a biblioteca sklearn, treine uma rede neural de 2 camadas (1 oculta) para classificação. Utilize o otimizador Adam com parâmetros padrão, exceto pela taxa de aprendizado (constante), que deve ser escolhida apropriadamente. Obtenha 100% de acurácia de treinamento e de validação e calcule o valor da perda ao final do treinamento. Além disso, trace a curva da perda de treinamento ao longo das épocas.\n",
        "\n",
        "#### Dicas\n",
        "- Para obter a curva de perda no treinamento, você pode utilizar `model.loss_curve_`.\n",
        "- Note que o sklearn usa uma terminologia por vezes inconsistente com a literatura da área (mas consistente internamente em sua API). Por exemplo, o parâmetro `max_iter` corresponde ao número de épocas, não necessariamente ao número de atualizações de pesos. Outro aspecto incômodo é juntar todos os hiperparâmetros do treinamento dentro da definição do modelo, o que além de tornar a chamada extensa, faz com que, dependendo da configuração, alguns parâmetros se tornem desnecessários ou mudem de definição."
      ]
    },
    {
      "cell_type": "code",
      "metadata": {
        "id": "8QFWXAmNdY9D"
      },
      "source": [
        "from sklearn.neural_network import MLPClassifier\n",
        "from sklearn.metrics import log_loss"
      ],
      "execution_count": 3,
      "outputs": []
    },
    {
      "cell_type": "code",
      "metadata": {
        "id": "OX8AA8OHdZFz",
        "outputId": "d009a737-b4ce-4bf0-e8ae-80ae6d9180e9",
        "colab": {
          "base_uri": "https://localhost:8080/",
          "height": 431,
          "referenced_widgets": [
            "a2b59ee8d7ac4742bd6b887b8ef23974",
            "75c6b8c3f8184b7fb42dfb2666b17f60",
            "5b4e243de5de4feebc0559561fb8d7b0",
            "2cace7f478a04b27a7d2213ecb57e48b",
            "fef47333ff1c4e68ae8085cfd0ff6956",
            "ea34e69ed2b742e9bb8736117c3ac559",
            "ce177890efee465f98bca6e69ad4591b",
            "2c2677f2876f4752b41c9cd2170d4372",
            "154a6e41d01347fdb9d22ead32ea1b91",
            "2384615fed0948d98b56c94b795e1182"
          ]
        }
      },
      "source": [
        "@interact(lr = ['constant', 'invscaling', 'adaptive'], units = (0,100,10)) \n",
        "def _(lr,units):\n",
        "  model = MLPClassifier(hidden_layer_sizes=[units], activation='relu', solver = 'adam', learning_rate=lr,)\n",
        "  model.fit(X_train,y_train)\n",
        "  print(f'Train accuracy: {round(model.score(X_train,y_train),2)*100}%')\n",
        "  print(f'  Val accuracy: {round(model.score(X_val,y_val),2)*100}%')\n",
        "  print(f'loss: {model.loss_}')\n",
        "  plt.plot(model.loss_curve_)"
      ],
      "execution_count": 4,
      "outputs": [
        {
          "output_type": "display_data",
          "data": {
            "application/vnd.jupyter.widget-view+json": {
              "model_id": "a2b59ee8d7ac4742bd6b887b8ef23974",
              "version_minor": 0,
              "version_major": 2
            },
            "text/plain": [
              "interactive(children=(Dropdown(description='lr', options=('constant', 'invscaling', 'adaptive'), value='consta…"
            ]
          },
          "metadata": {
            "tags": []
          }
        }
      ]
    },
    {
      "cell_type": "code",
      "metadata": {
        "id": "yjmXxR9rRWUY",
        "outputId": "732f4bab-ec83-44d7-fa8b-2957bd99ae02",
        "colab": {
          "base_uri": "https://localhost:8080/",
          "height": 387
        }
      },
      "source": [
        "  model = MLPClassifier(hidden_layer_sizes=[100], activation='relu', solver = 'adam', learning_rate='constant')\n",
        "  model.fit(X_train,y_train)\n",
        "  print(f'Train accuracy: {round(model.score(X_train,y_train),2)*100}%')\n",
        "  print(f'  Val accuracy: {round(model.score(X_val,y_val),2)*100}%')\n",
        "  print(f'loss: {model.loss_}')\n",
        "  plt.plot(model.loss_curve_)"
      ],
      "execution_count": 5,
      "outputs": [
        {
          "output_type": "stream",
          "text": [
            "Train accuracy: 100.0%\n",
            "  Val accuracy: 100.0%\n",
            "loss: 0.1351351726562674\n"
          ],
          "name": "stdout"
        },
        {
          "output_type": "stream",
          "text": [
            "/usr/local/lib/python3.6/dist-packages/sklearn/neural_network/_multilayer_perceptron.py:571: ConvergenceWarning: Stochastic Optimizer: Maximum iterations (200) reached and the optimization hasn't converged yet.\n",
            "  % self.max_iter, ConvergenceWarning)\n"
          ],
          "name": "stderr"
        },
        {
          "output_type": "execute_result",
          "data": {
            "text/plain": [
              "[<matplotlib.lines.Line2D at 0x7f30415ac4a8>]"
            ]
          },
          "metadata": {
            "tags": []
          },
          "execution_count": 5
        },
        {
          "output_type": "display_data",
          "data": {
            "image/png": "[encoded data removed]",
            "text/plain": [
              "<Figure size 432x288 with 1 Axes>"
            ]
          },
          "metadata": {
            "tags": [],
            "needs_background": "light"
          }
        }
      ]
    },
    {
      "cell_type": "code",
      "metadata": {
        "id": "kxz0Nvatkyi0"
      },
      "source": [
        ""
      ],
      "execution_count": 5,
      "outputs": []
    },
    {
      "cell_type": "markdown",
      "metadata": {
        "id": "9caTd3Gr9pev"
      },
      "source": [
        "2. Repita o item anterior usando [Keras](https://keras.io/), a API de alto-nível do [TensorFlow](https://www.tensorflow.org/), disponível através do módulo `tensorflow.keras`. Certifique-se de estar usando TensorFlow 2.x.\n",
        "\n",
        "\n",
        "### Dicas\n",
        "- Ao invés de instalar o TensorFlow e rodar localmente em sua máquina, uma opção mais simples é utilizar o serviço em nuvem gratuito [Google Colab](https://colab.research.google.com), que já possui todas as bibliotecas necessárias instaladas, inclusive o TensorFlow 2.x.\n",
        "\n",
        "- Leia a documentação do Keras para aprender a utilizá-lo. Para quem está começando, é recomendável (e suficiente para este exercício) usar a classe [Sequential](https://keras.io/guides/sequential_model). É útil também conhecer sobre funções de [ativação](https://keras.io/activations), funções de [perda](https://keras.io/losses), métodos de [otimização](https://keras.io/api/optimizers) e o processo de [treinamento e avaliação](https://keras.io/guides/training_with_built_in_methods/) de modelos.\n",
        "- No Keras, ao contrário do sklearn, é necessário especificar explicitamente a camada de saída, sua função de ativação, e a função de perda utilizada. (No sklearn, essa escolha é automática a partir dos valores encontrados em `y_train`.) \n",
        "- É recommendável utilizar o comando `model.summary()` para obter uma descrição de todas as camadas da rede neural.\n",
        "- Para configurar a taxa de aprendizado, é necessário instanciar um otimizador, caso contrário será usado o valor padrão.\n",
        "- Para obter a curva de perda no treinamento, utilize \n",
        "```python\n",
        "history = model.fit(...)\n",
        "history.history['loss']\n",
        "```\n",
        "- Se quiser garantir a reprodutibilidade, utilize `tf.random.set_seed()` **antes** de definir o modelo (os pesos são inicializados no momento da adição de cada camada).\n"
      ]
    },
    {
      "cell_type": "code",
      "metadata": {
        "id": "0tAa4k0qvhb7"
      },
      "source": [
        "import tensorflow as tf\n",
        "from tensorflow.keras import layers, Sequential\n",
        "model = tf.random.set_seed(40)\n",
        "model = Sequential()\n",
        "#Dense(neuronios, função, input_shape = número de atributos)\n",
        "model.add(layers.Dense(units = 50, activation = 'relu', input_dim = ( X_train.shape[1]), name = 'input')) # camada oculta\n",
        "model.add(layers.Dense(units = 1, activation = 'sigmoid', name = 'output')) # camada de saída\n",
        "#optimizer = keras.optimizers.Adam(learning_rate =0.01)\n",
        "model.compile(optimizer = 'adam', loss = 'binary_crossentropy', metrics=['accuracy'])\n",
        "history = model.fit(X_train,y_train, epochs = 200)"
      ],
      "execution_count": null,
      "outputs": []
    },
    {
      "cell_type": "code",
      "metadata": {
        "id": "B8RvArGuvhVu",
        "outputId": "098e8660-98bd-4c4e-f7f4-096244c1feaf",
        "colab": {
          "base_uri": "https://localhost:8080/",
          "height": 221
        }
      },
      "source": [
        "model.summary()"
      ],
      "execution_count": 34,
      "outputs": [
        {
          "output_type": "stream",
          "text": [
            "Model: \"sequential_10\"\n",
            "_________________________________________________________________\n",
            "Layer (type)                 Output Shape              Param #   \n",
            "=================================================================\n",
            "input (Dense)                (None, 50)                150       \n",
            "_________________________________________________________________\n",
            "output (Dense)               (None, 1)                 51        \n",
            "=================================================================\n",
            "Total params: 201\n",
            "Trainable params: 201\n",
            "Non-trainable params: 0\n",
            "_________________________________________________________________\n"
          ],
          "name": "stdout"
        }
      ]
    },
    {
      "cell_type": "code",
      "metadata": {
        "id": "7Dm1D01avhQ2",
        "outputId": "5f56220f-ce04-41e9-dc22-be44781409c5",
        "colab": {
          "base_uri": "https://localhost:8080/",
          "height": 85
        }
      },
      "source": [
        "print(f'Train accuracy: {model.evaluate(X_train,y_train)[1] * 100}%')\n",
        "print(f'  Val accuracy: {model.evaluate(X_val,y_val)[1] * 100}%')"
      ],
      "execution_count": 35,
      "outputs": [
        {
          "output_type": "stream",
          "text": [
            "10/10 [==============================] - 0s 2ms/step - loss: 0.0138 - accuracy: 1.0000\n",
            "Train accuracy: 100.0%\n",
            "4/4 [==============================] - 0s 2ms/step - loss: 0.0180 - accuracy: 1.0000\n",
            "  Val accuracy: 100.0%\n"
          ],
          "name": "stdout"
        }
      ]
    },
    {
      "cell_type": "code",
      "metadata": {
        "id": "LtQY9rYap3m6",
        "outputId": "ba0c0fe9-5758-4bd6-ca25-a55f042f12e4",
        "colab": {
          "base_uri": "https://localhost:8080/",
          "height": 34
        }
      },
      "source": [
        "print(history.history.keys())"
      ],
      "execution_count": 36,
      "outputs": [
        {
          "output_type": "stream",
          "text": [
            "dict_keys(['loss', 'accuracy'])\n"
          ],
          "name": "stdout"
        }
      ]
    },
    {
      "cell_type": "code",
      "metadata": {
        "id": "cTAgEmIR7zOk",
        "outputId": "c83058f8-058e-43cf-ad99-f3bf03a384b6",
        "colab": {
          "base_uri": "https://localhost:8080/",
          "height": 282
        }
      },
      "source": [
        "plt.plot(history.history['loss'])"
      ],
      "execution_count": 37,
      "outputs": [
        {
          "output_type": "execute_result",
          "data": {
            "text/plain": [
              "[<matplotlib.lines.Line2D at 0x7f2fd9570080>]"
            ]
          },
          "metadata": {
            "tags": []
          },
          "execution_count": 37
        },
        {
          "output_type": "display_data",
          "data": {
            "image/png": "[encoded data removed]",
            "text/plain": [
              "<Figure size 432x288 with 1 Axes>"
            ]
          },
          "metadata": {
            "tags": [],
            "needs_background": "light"
          }
        }
      ]
    },
    {
      "cell_type": "markdown",
      "metadata": {
        "id": "C1_Nv7Ue8yJq"
      },
      "source": [
        "# 2. Conjunto de dados #2"
      ]
    },
    {
      "cell_type": "markdown",
      "metadata": {
        "id": "FtFvGGoz8yJq"
      },
      "source": [
        "A partir de agora, desenvolva seus modelos de aprendizado profundo utilizando o Keras/TensorFlow, o qual possui muito mais recursos do que o sklearn e é mais otimizado para desempenho.\n",
        "\n",
        "O segundo conjunto de dados é o conjunto de dígitos manuscritos [MNIST](https://en.wikipedia.org/wiki/MNIST_database), o qual possui 70000 amostras, sendo 10000 amostras de teste. Este é um conjunto clássico e -- embora não seja mais recomendado para avaliação do estado da arte -- ainda vastamente utilizado para experimentação e aprendizado. O conjunto pode ser facilmente carregado pelos comandos abaixo."
      ]
    },
    {
      "cell_type": "code",
      "metadata": {
        "id": "Z_QuyzsY8yJt",
        "outputId": "a3ac34a7-041a-4188-bb5d-f554079b112e",
        "colab": {
          "base_uri": "https://localhost:8080/",
          "height": 51
        }
      },
      "source": [
        "from tensorflow.keras.datasets import mnist\n",
        "(x_train, y_train), (x_test, y_test) = mnist.load_data()\n",
        "x_train = x_train / 255.0\n",
        "x_test = x_test / 255.0\n",
        "print(x_train.shape, y_train.shape)\n",
        "print(x_test.shape, y_test.shape)"
      ],
      "execution_count": 78,
      "outputs": [
        {
          "output_type": "stream",
          "text": [
            "(60000, 28, 28) (60000,)\n",
            "(10000, 28, 28) (10000,)\n"
          ],
          "name": "stdout"
        }
      ]
    },
    {
      "cell_type": "markdown",
      "metadata": {
        "id": "r-eqvqs48yJz"
      },
      "source": [
        "Observe a diferença na notação convencional quando usamos o Keras (ou qualquer outro *framework* de aprendizado profundo): `x` (minúsculo) ao invés de `X` (maiúsculo). Isto ocorre porque o Keras nos permite trabalhar diretamente com os dados em seu formato original, neste caso, como um tensor 3D. Portanto, não é necessário redimensionar (*reshape*) os dados antes de aplicar o modelo, assim como perde o sentido usar uma notação especial para denotar uma matriz (tensor 2D).\n",
        "\n",
        "Caso seja necessário redimensionar os dados em algum estágio do modelo, isso pode ser feito internamente com camadas do Keras. Em particular, para redimensionar para o formato convencional de tensor 2D `(n_samples, n_features)`, pode ser usada a camada `Flatten`. Isto é sempre necessário antes de aplicar uma camada `Dense`, a qual só opera na última dimensão. No nosso caso, as duas dimensões (28,28) serão \"achatadas\" em uma única de (784,):"
      ]
    },
    {
      "cell_type": "code",
      "metadata": {
        "id": "Ro8Fry-hXNX0",
        "outputId": "4865d9da-4f8e-45f8-8905-f32638bc08e0",
        "colab": {
          "base_uri": "https://localhost:8080/",
          "height": 187
        }
      },
      "source": [
        "from tensorflow.keras.layers import Flatten\n",
        "model = Sequential()\n",
        "model.add(tf.keras.Input(shape=(28,28)))\n",
        "model.add(Flatten())\n",
        "model.summary()"
      ],
      "execution_count": 79,
      "outputs": [
        {
          "output_type": "stream",
          "text": [
            "Model: \"sequential_38\"\n",
            "_________________________________________________________________\n",
            "Layer (type)                 Output Shape              Param #   \n",
            "=================================================================\n",
            "flatten_11 (Flatten)         (None, 784)               0         \n",
            "=================================================================\n",
            "Total params: 0\n",
            "Trainable params: 0\n",
            "Non-trainable params: 0\n",
            "_________________________________________________________________\n"
          ],
          "name": "stdout"
        }
      ]
    },
    {
      "cell_type": "code",
      "metadata": {
        "id": "bZaDfK-h8yJz",
        "outputId": "a40489e4-00d8-4db1-89ac-5172fe7016dc",
        "colab": {
          "base_uri": "https://localhost:8080/",
          "height": 268
        }
      },
      "source": [
        "# Exemplo de uma imagem\n",
        "i = 2\n",
        "plt.imshow(x_train[i], cmap=plt.cm.gray_r);\n",
        "plt.title('y = {}'.format(y_train[i]));\n",
        "plt.xticks([]);\n",
        "plt.yticks([]);"
      ],
      "execution_count": 80,
      "outputs": [
        {
          "output_type": "display_data",
          "data": {
            "image/png": "[encoded data removed]",
            "text/plain": [
              "<Figure size 432x288 with 1 Axes>"
            ]
          },
          "metadata": {
            "tags": []
          }
        }
      ]
    },
    {
      "cell_type": "code",
      "metadata": {
        "id": "cOlqeQyW8yJ1",
        "outputId": "0f3ce356-6f35-4ccb-a4e8-63ac2f92a797",
        "colab": {
          "base_uri": "https://localhost:8080/",
          "height": 355
        }
      },
      "source": [
        "plt.figure(figsize=(12,12))\n",
        "for i in range(50):\n",
        "    plt.subplot(10,10,i+1)\n",
        "    plt.imshow(x_train[i], cmap=plt.cm.gray_r);\n",
        "    plt.xticks([]);\n",
        "    plt.yticks([]);"
      ],
      "execution_count": 81,
      "outputs": [
        {
          "output_type": "display_data",
          "data": {
            "image/png": "[encoded data removed]",
            "text/plain": [
              "<Figure size 864x864 with 50 Axes>"
            ]
          },
          "metadata": {
            "tags": []
          }
        }
      ]
    },
    {
      "cell_type": "markdown",
      "metadata": {
        "id": "d2rCCfwBGcZV"
      },
      "source": [
        "## Tarefas\n",
        "\n",
        "1. Separe um conjunto de validação com 5000 amostras (por exemplo, as últimas 5000 amostras do conjunto de treinamento). Confirme que a distribuição das classes é parecida com a do conjunto de treinamento (não precisa ser exatamente igual).\n",
        "\n",
        "#### Dica\n",
        "- Para calcular e visualizar um histograma, você pode utilizar a função `plt.hist()`, opcionalmente definindo os parâmetros `density` e `alpha`, entre outros."
      ]
    },
    {
      "cell_type": "code",
      "metadata": {
        "id": "BbOerXklcK41"
      },
      "source": [
        "from sklearn.model_selection import train_test_split\n",
        "x_train, x_val, y_train, y_val = train_test_split(x_train, y_train, test_size=0.08333, random_state=42)"
      ],
      "execution_count": 82,
      "outputs": []
    },
    {
      "cell_type": "code",
      "metadata": {
        "id": "ivhqgDzDO7Kg",
        "outputId": "411f5b8e-170c-483c-ac7c-9d3ab12d20fc",
        "colab": {
          "base_uri": "https://localhost:8080/",
          "height": 136
        }
      },
      "source": [
        "print('NOVO SHAPE:')\n",
        "print(f'Train: {x_train.shape, y_train.shape}')\n",
        "print(f'  Val: {x_val.shape, y_val.shape}')\n",
        "print('-'*40)\n",
        "print('Distribuição de classes:')\n",
        "print(f'Train: {len(np.unique(y_train))}')\n",
        "print(f'  Val: {len(np.unique(y_val))}')"
      ],
      "execution_count": 83,
      "outputs": [
        {
          "output_type": "stream",
          "text": [
            "NOVO SHAPE:\n",
            "Train: ((55000, 28, 28), (55000,))\n",
            "  Val: ((5000, 28, 28), (5000,))\n",
            "----------------------------------------\n",
            "Distribuição de classes:\n",
            "Train: 10\n",
            "  Val: 10\n"
          ],
          "name": "stdout"
        }
      ]
    },
    {
      "cell_type": "code",
      "metadata": {
        "id": "xTaqrI3Na-JN",
        "outputId": "6b804516-d995-47af-bc33-6b9aa2d575ad",
        "colab": {
          "base_uri": "https://localhost:8080/",
          "height": 244
        }
      },
      "source": [
        "fig, (ax1,ax2) = plt.subplots(1,2)\n",
        "ax1.imshow(x_train[1], cmap='gray')\n",
        "ax1.set_title(f'[Train] Número: {y_train[1]}')\n",
        "\n",
        "ax2.imshow(x_val[1], cmap='gray')\n",
        "ax2.set_title(f'[Val] Número: {y_val[1]}')\n",
        "plt.tight_layout()"
      ],
      "execution_count": 84,
      "outputs": [
        {
          "output_type": "display_data",
          "data": {
            "image/png": "[encoded data removed]",
            "text/plain": [
              "<Figure size 432x288 with 2 Axes>"
            ]
          },
          "metadata": {
            "tags": [],
            "needs_background": "light"
          }
        }
      ]
    },
    {
      "cell_type": "markdown",
      "metadata": {
        "id": "n0lFSrgoR45t"
      },
      "source": [
        "2. Para desenvolvimento do modelo, considere um subconjunto de treinamento com poucas amostras, por exemplo, as primeiras 10000, e também um número pequeno de épocas, por exemplo, 10. Isso vai permitir uma rápida experimentação. Uma vez finalizado o desenvolvimento, você poderá aumentar esses valores. Inicialmente, construa um modelo **baseline** sem nenhuma camada oculta, treine-o e confirme que está funcionando corretamente.\n",
        "1. Por hora, ignore o conjunto de validação. Tente obter 100% de acurácia de treinamento (com o conjunto reduzido) e apenas 10 épocas. O objetivo é garantir que o modelo possui capacidade suficiente para este problema. Fique à vontade para variar quaisquer hiperparâmetros do modelo ou do treinamento, mas utilize apenas conceitos já abordados na disciplina (i.e., não utilize camadas convolucionais). Tenha em mente as seguintes observações:\n",
        " - A taxa de aprendizado é provavelmente o hiperparâmetro mais importante, no sentido de que, mesmo que você consiga supostamente encontrar os melhores valores de todos os demais hiperparâmetros (inclusive da arquitetura do modelo), ainda assim o modelo poderá ter um desempenho ruim se a taxa de aprendizado não for ajustada adequadamente.\n",
        " - Em geral, cada modificação em algum hiperparâmetro pode exigir um novo ajuste da taxa de aprendizado (i.e., o seu valor ótimo pode mudar), embora alguns hiperparâmetros tenham um impacto maior do que outros.\n",
        " - O batch size tem um impacto grande na velocidade do treinamento, além de impactar no desempenho do modelo. De maneira geral, aumentar o batch size reduz o tempo de treinamento de uma época (por quê?), mas pode piorar o desempenho para um número fixo de épocas (por quê?). Assim, uma recomendação básica é utilizar o maior batch size possível tal que o desempenho do modelo (para um número fixo de épocas) não apresente degradação significativa. Minimizar o tempo de treinamento é essencial para uma rápida experimentação.\n",
        " - Naturalmente, o desempenho ótimo para cada valor de batch size envolve um ajuste da taxa de aprendizado. Uma regra prática (empírica) é: se o batch size é multiplicado por um fator F, então, para obter um desempenho semelhante, a taxa de aprendizado também deve ser multiplicada por F. Note que essa regra não é exata, mas serve como um bom ponto de partida.\n",
        "1. Relate suas principais observações sobre quais abordagens foram bem sucedidas ou não.\n",
        "\n",
        "#### Dicas\n",
        "- Para um problema multi-classe com codificação compacta $y \\in \\{0,1,\\ldots,9\\}$ (i.e., que **não** é *one-hot encoding*), a função perda adequada é a `'sparse_categorical_crossentropy'`. Nesse caso não é necessário codificar como *one-hot*.\n",
        "- O Keras permite monitorar, durante o treinamento, não apenas a perda, mas também outras métricas, como a acurácia, tanto de treinamento quanto de validação. Para isso, configure o parâmetro `metrics` ao executar `model.compile`. As curvas estarão disponíveis no parâmetro history.\n",
        "- Para avaliar o efeito de um hiperparâmetro, é muito útil garantir que não há outras fontes de \"ruído\" ou variação, assim cada hiperparâmetro pode ser avaliado isoladamente. Em particular, a inicialização dos pesos do modelo deve ser determinística. Para isso, utilize `tf.random.set_seed()` antes de definir o modelo. Isso também garante a reprodutibilidade dos resultados, caso você precise executar o treinamento novamente.\n",
        "- Para medir o tempo de execução de uma célula do notebook, utilize `%%time` na primeira linha da célula.\n",
        "- É usual (e tipicamente suficiente) variar o batch size em potências de 2.\n",
        "- Se desejar utilizar a GPU do Colab para acelerar o treinamento, selecione-a no menu *Runtime/Change runtime type*. Para os modelos deste exercício, porém, o ganho computacional provavelmente não será tão expressivo. Note também que é possível que a inicialização de pesos seja diferente de quando o modelo é executado sem GPU, ainda que a mesma *random seed* tenha sido definida."
      ]
    },
    {
      "cell_type": "code",
      "metadata": {
        "id": "7mz045j3qjwM",
        "outputId": "255aa193-ad32-4582-b14d-318a5924572d",
        "colab": {
          "base_uri": "https://localhost:8080/",
          "height": 391
        }
      },
      "source": [
        "%%time\n",
        "input = 28*28\n",
        "model = tf.random.set_seed(42)\n",
        "model = Sequential()\n",
        "model.add(Flatten()) # 784 inputs\n",
        "model.add(layers.Dense(units = 10, activation = 'softmax', name = 'output')) # camada de saída\n",
        "\n",
        "optimizer = tf.keras.optimizers.Adam(learning_rate = 0.01)\n",
        "model.compile(optimizer = optimizer, loss = 'sparse_categorical_crossentropy', metrics=['accuracy'])\n",
        "\n",
        "history = model.fit(x_train[:10000],y_train[:10000], epochs = 10, batch_size=32, verbose=1)"
      ],
      "execution_count": 124,
      "outputs": [
        {
          "output_type": "stream",
          "text": [
            "Epoch 1/10\n",
            "313/313 [==============================] - 1s 2ms/step - loss: 0.4655 - accuracy: 0.8624\n",
            "Epoch 2/10\n",
            "313/313 [==============================] - 1s 2ms/step - loss: 0.3212 - accuracy: 0.9066\n",
            "Epoch 3/10\n",
            "313/313 [==============================] - 1s 2ms/step - loss: 0.2879 - accuracy: 0.9183\n",
            "Epoch 4/10\n",
            "313/313 [==============================] - 1s 2ms/step - loss: 0.2733 - accuracy: 0.9214\n",
            "Epoch 5/10\n",
            "313/313 [==============================] - 1s 2ms/step - loss: 0.2542 - accuracy: 0.9268\n",
            "Epoch 6/10\n",
            "313/313 [==============================] - 1s 2ms/step - loss: 0.2471 - accuracy: 0.9239\n",
            "Epoch 7/10\n",
            "313/313 [==============================] - 1s 2ms/step - loss: 0.2332 - accuracy: 0.9299\n",
            "Epoch 8/10\n",
            "313/313 [==============================] - 1s 2ms/step - loss: 0.2260 - accuracy: 0.9306\n",
            "Epoch 9/10\n",
            "313/313 [==============================] - 1s 2ms/step - loss: 0.2181 - accuracy: 0.9353\n",
            "Epoch 10/10\n",
            "313/313 [==============================] - 1s 2ms/step - loss: 0.2132 - accuracy: 0.9347\n",
            "CPU times: user 7.36 s, sys: 768 ms, total: 8.13 s\n",
            "Wall time: 6.07 s\n"
          ],
          "name": "stdout"
        }
      ]
    },
    {
      "cell_type": "code",
      "metadata": {
        "id": "CuMktLsNqkUo",
        "outputId": "eb2e5604-a159-4fed-bd9b-83ed90d695b4",
        "colab": {
          "base_uri": "https://localhost:8080/",
          "height": 51
        }
      },
      "source": [
        "model.evaluate(x_train[:10000],y_train[:10000])"
      ],
      "execution_count": 94,
      "outputs": [
        {
          "output_type": "stream",
          "text": [
            "313/313 [==============================] - 1s 2ms/step - loss: 0.1620 - accuracy: 0.9526\n"
          ],
          "name": "stdout"
        },
        {
          "output_type": "execute_result",
          "data": {
            "text/plain": [
              "[0.16195154190063477, 0.9526000022888184]"
            ]
          },
          "metadata": {
            "tags": []
          },
          "execution_count": 94
        }
      ]
    },
    {
      "cell_type": "markdown",
      "metadata": {
        "id": "vLFmp-xm2fzw"
      },
      "source": [
        "### Tente obter 100% de acurácia de treinamento (com o conjunto reduzido) e apenas 10 épocas"
      ]
    },
    {
      "cell_type": "code",
      "metadata": {
        "id": "_pynQHMH2bmV",
        "outputId": "f17b2289-60f9-4fe5-dcb1-f9c161f465af",
        "colab": {
          "base_uri": "https://localhost:8080/",
          "height": 391
        }
      },
      "source": [
        "%%time\n",
        "input = 28*28\n",
        "model = tf.random.set_seed(10)\n",
        "model = Sequential()\n",
        "model.add(Flatten()) # 784 inputs\n",
        "model.add(layers.Dense(units = 128, activation = 'relu', input_shape = (28,28) , name = 'input1'))\n",
        "model.add(layers.Dense(units = 1, activation = 'softmax', name = 'output')) # camada de saída\n",
        "\n",
        "\n",
        "optimizer = tf.keras.optimizers.Adam(learning_rate = 0.03)\n",
        "model.compile(optimizer = optimizer, loss = 'sparse_categorical_crossentropy', metrics=['accuracy'])\n",
        "\n",
        "history = model.fit(x_train[:10000],y_train[:10000], epochs = 10, batch_size=32)"
      ],
      "execution_count": 138,
      "outputs": [
        {
          "output_type": "stream",
          "text": [
            "Epoch 1/10\n",
            "313/313 [==============================] - 1s 2ms/step - loss: nan - accuracy: 0.0990\n",
            "Epoch 2/10\n",
            "313/313 [==============================] - 1s 2ms/step - loss: nan - accuracy: 0.0986\n",
            "Epoch 3/10\n",
            "313/313 [==============================] - 1s 2ms/step - loss: nan - accuracy: 0.0986\n",
            "Epoch 4/10\n",
            "313/313 [==============================] - 1s 2ms/step - loss: nan - accuracy: 0.0986\n",
            "Epoch 5/10\n",
            "313/313 [==============================] - 1s 2ms/step - loss: nan - accuracy: 0.0986\n",
            "Epoch 6/10\n",
            "313/313 [==============================] - 1s 2ms/step - loss: nan - accuracy: 0.0986\n",
            "Epoch 7/10\n",
            "313/313 [==============================] - 1s 2ms/step - loss: nan - accuracy: 0.0986\n",
            "Epoch 8/10\n",
            "313/313 [==============================] - 1s 2ms/step - loss: nan - accuracy: 0.0986\n",
            "Epoch 9/10\n",
            "313/313 [==============================] - 1s 2ms/step - loss: nan - accuracy: 0.0986\n",
            "Epoch 10/10\n",
            "313/313 [==============================] - 1s 2ms/step - loss: nan - accuracy: 0.0986\n",
            "CPU times: user 8.49 s, sys: 864 ms, total: 9.35 s\n",
            "Wall time: 7.06 s\n"
          ],
          "name": "stdout"
        }
      ]
    },
    {
      "cell_type": "code",
      "metadata": {
        "id": "SP_cqKb72bgQ",
        "outputId": "63f99bb4-4fe3-48aa-d977-21cd25f122b1",
        "colab": {
          "base_uri": "https://localhost:8080/",
          "height": 255
        }
      },
      "source": [
        "model.summary()"
      ],
      "execution_count": 128,
      "outputs": [
        {
          "output_type": "stream",
          "text": [
            "Model: \"sequential_70\"\n",
            "_________________________________________________________________\n",
            "Layer (type)                 Output Shape              Param #   \n",
            "=================================================================\n",
            "flatten_44 (Flatten)         (None, 784)               0         \n",
            "_________________________________________________________________\n",
            "input1 (Dense)               (None, 128)               100480    \n",
            "_________________________________________________________________\n",
            "output (Dense)               (None, 1)                 129       \n",
            "=================================================================\n",
            "Total params: 100,609\n",
            "Trainable params: 100,609\n",
            "Non-trainable params: 0\n",
            "_________________________________________________________________\n"
          ],
          "name": "stdout"
        }
      ]
    },
    {
      "cell_type": "code",
      "metadata": {
        "id": "m-cwa1fY6CAs",
        "outputId": "a6da09a9-6634-4962-cdda-a6db68906029",
        "colab": {
          "base_uri": "https://localhost:8080/",
          "height": 51
        }
      },
      "source": [
        "model.evaluate(x_train[:10000],y_train[:10000])"
      ],
      "execution_count": 139,
      "outputs": [
        {
          "output_type": "stream",
          "text": [
            "313/313 [==============================] - 1s 2ms/step - loss: nan - accuracy: 0.0986\n"
          ],
          "name": "stdout"
        },
        {
          "output_type": "execute_result",
          "data": {
            "text/plain": [
              "[nan, 0.09860000014305115]"
            ]
          },
          "metadata": {
            "tags": []
          },
          "execution_count": 139
        }
      ]
    },
    {
      "cell_type": "code",
      "metadata": {
        "id": "znsGqvS46B76"
      },
      "source": [
        ""
      ],
      "execution_count": null,
      "outputs": []
    },
    {
      "cell_type": "markdown",
      "metadata": {
        "id": "OwHxmwkdTHiZ"
      },
      "source": [
        "5. Agora, monitore também a acurácia de validação ao longo do treinamento, e ao final trace dois gráficos em função do número de épocas, um com a perda de treinamento e de validação e outro com a acurácia de treinamento e de validação.\n",
        "1. Altere o tamanho do conjunto de treinamento para 55000 e veja se consegue obter uma acurácia de validação de pelo menos 98% (em alguma época). A partir de agora, utilize quantas épocas desejar. Ao final do treinamento, sempre trace as curvas de perda e acurácia para os dois conjuntos.\n",
        "1. Mantenha os hiperparâmetros do modelo e altere apenas o tamanho do conjunto de treinamento. Trace um gráfico da acurácia de treinamento e da acurácia máxima de validação (para alguma época) em função do tamanho do conjunto de treinamento, por exemplo, em intervalos de 5 ou 10 mil amostras, até o máximo de 55000. Esta curva é conhecida em alguns contextos como curva de aprendizado (*learning curve*). Trace também o gráfico da época ótima em que foi obtida a máxima acurácia de validação, em função do tamanho do conjunto de treinamento. Que conclusões podem ser tiradas a partir desses resultados?\n",
        "1. Finalmente, utilize todas as 60000 amostras para treinamento (e naturalmente não utilize conjunto de validação), com um número de épocas apropriadamente escolhido. Em seguida, meça o desempenho no conjunto de teste.\n",
        "1. Para o modelo final que você desenvolveu, mostre alguns exemplos de predições erradas no conjunto de teste.\n",
        "1. Visualize como uma imagem os pesos da primeira camada oculta. Para isso, rode a célula abaixo:\n"
      ]
    },
    {
      "cell_type": "code",
      "metadata": {
        "id": "rUlFXTXf1Qt8"
      },
      "source": [
        ""
      ],
      "execution_count": null,
      "outputs": []
    },
    {
      "cell_type": "code",
      "metadata": {
        "id": "7wV--B0x1QyD"
      },
      "source": [
        ""
      ],
      "execution_count": null,
      "outputs": []
    },
    {
      "cell_type": "code",
      "metadata": {
        "id": "JLT8EZCkCHfa"
      },
      "source": [
        "W = model.weights[0].numpy()\n",
        "vmax = np.abs(W).max()\n",
        "@interact(i=(0,int(np.ceil(W.shape[1]/10))-1))\n",
        "def _(i=0):\n",
        "  plt.figure(figsize=(16,2.4));\n",
        "  # para ver de 10 em 10\n",
        "  for j in range(min(10, W.shape[1]-10*i)):\n",
        "    plt.subplot(1,10,j+1)\n",
        "    w = W[:,10*i+j].reshape(28,28)\n",
        "    plt.imshow(w, cmap=plt.cm.bwr, vmin=-vmax, vmax=vmax); # (-,0,+) = (blue, white, red)\n",
        "    plt.xticks([]);\n",
        "    plt.yticks([]);"
      ],
      "execution_count": null,
      "outputs": []
    },
    {
      "cell_type": "markdown",
      "metadata": {
        "id": "MtIXwBuGCGcT"
      },
      "source": [
        "11. Relate suas principais conclusões com este exercício.\n",
        "1. (OPCIONAL) O que acontece se é aplicada uma permutação aleatória nos pixels de todas as imagens (a mesma permutação para todas as imagens)? O desempenho do modelo se altera? Você consegue identificar corretamente os dígitos? O que podemos concluir sobre o aprendizado do modelo?\n",
        "\n",
        "#### Dicas\n",
        "- Funções úteis: `plt.figure(figsize=(...))`, `plt.subplot()`, `plt.plot(..., label=...)`, `plt.xlabel()`, `plt.legend()`\n",
        "- Quando usamos *early stopping*, perdemos parcialmente o controle sobre o número de épocas de treinamento como um hiperparâmetro. Nesse caso, após o desenvolvimento de um modelo, se desejarmos identificar seus hiperparâmetros, é conveniente registrar e fixar o número de épocas de treinamento efetivamente utilizadas e parar de utilizar *early stopping*.\n",
        "- Se quiser salvar o melhor modelo encontrado, mas sem usar *early stopping*, você pode utilizar a *callback* `tf.keras.callbacks.ModelCheckpoint`. Alternativamente, você pode usar *early stopping* com uma paciência suficientemente grande (maior que o número de épocas)."
      ]
    },
    {
      "cell_type": "code",
      "metadata": {
        "id": "xgBBqa-q8yJ5"
      },
      "source": [
        ""
      ],
      "execution_count": null,
      "outputs": []
    }
  ]
}