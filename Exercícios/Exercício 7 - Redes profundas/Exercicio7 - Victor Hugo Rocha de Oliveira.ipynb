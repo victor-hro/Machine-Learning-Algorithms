{
  "nbformat": 4,
  "nbformat_minor": 0,
  "metadata": {
    "accelerator": "GPU",
    "colab": {
      "name": "exercicio7.ipynb",
      "provenance": []
    },
    "kernelspec": {
      "display_name": "Python 3",
      "language": "python",
      "name": "python3"
    },
    "language_info": {
      "codemirror_mode": {
        "name": "ipython",
        "version": 3
      },
      "file_extension": ".py",
      "mimetype": "text/x-python",
      "name": "python",
      "nbconvert_exporter": "python",
      "pygments_lexer": "ipython3",
      "version": "3.8.3"
    },
    "widgets": {
      "application/vnd.jupyter.widget-state+json": {
        "4f2e9bbce4dc4957b6c3348b3e476d02": {
          "model_module": "@jupyter-widgets/controls",
          "model_name": "VBoxModel",
          "state": {
            "_view_name": "VBoxView",
            "_dom_classes": [
              "widget-interact"
            ],
            "_model_name": "VBoxModel",
            "_view_module": "@jupyter-widgets/controls",
            "_model_module_version": "1.5.0",
            "_view_count": null,
            "_view_module_version": "1.5.0",
            "box_style": "",
            "layout": "IPY_MODEL_a52d09a4a7934d79976cf6be6115d4dd",
            "_model_module": "@jupyter-widgets/controls",
            "children": [
              "IPY_MODEL_40a1ee1d923c4298ba7d288333359649",
              "IPY_MODEL_53c8d372763a4796a112e2d897d84249",
              "IPY_MODEL_380c957cab384994ab6810ea819effbb"
            ]
          }
        },
        "a52d09a4a7934d79976cf6be6115d4dd": {
          "model_module": "@jupyter-widgets/base",
          "model_name": "LayoutModel",
          "state": {
            "_view_name": "LayoutView",
            "grid_template_rows": null,
            "right": null,
            "justify_content": null,
            "_view_module": "@jupyter-widgets/base",
            "overflow": null,
            "_model_module_version": "1.2.0",
            "_view_count": null,
            "flex_flow": null,
            "width": null,
            "min_width": null,
            "border": null,
            "align_items": null,
            "bottom": null,
            "_model_module": "@jupyter-widgets/base",
            "top": null,
            "grid_column": null,
            "overflow_y": null,
            "overflow_x": null,
            "grid_auto_flow": null,
            "grid_area": null,
            "grid_template_columns": null,
            "flex": null,
            "_model_name": "LayoutModel",
            "justify_items": null,
            "grid_row": null,
            "max_height": null,
            "align_content": null,
            "visibility": null,
            "align_self": null,
            "height": null,
            "min_height": null,
            "padding": null,
            "grid_auto_rows": null,
            "grid_gap": null,
            "max_width": null,
            "order": null,
            "_view_module_version": "1.2.0",
            "grid_template_areas": null,
            "object_position": null,
            "object_fit": null,
            "grid_auto_columns": null,
            "margin": null,
            "display": null,
            "left": null
          }
        },
        "40a1ee1d923c4298ba7d288333359649": {
          "model_module": "@jupyter-widgets/controls",
          "model_name": "DropdownModel",
          "state": {
            "_options_labels": [
              "constant",
              "invscaling",
              "adaptive"
            ],
            "_view_name": "DropdownView",
            "style": "IPY_MODEL_8d894184c38a436a85cbbf6df9fde95a",
            "_dom_classes": [],
            "description": "lr",
            "_model_name": "DropdownModel",
            "index": 0,
            "_view_module": "@jupyter-widgets/controls",
            "_model_module_version": "1.5.0",
            "_view_count": null,
            "disabled": false,
            "_view_module_version": "1.5.0",
            "description_tooltip": null,
            "_model_module": "@jupyter-widgets/controls",
            "layout": "IPY_MODEL_16aa9b11399344028619215648a06016"
          }
        },
        "53c8d372763a4796a112e2d897d84249": {
          "model_module": "@jupyter-widgets/controls",
          "model_name": "IntSliderModel",
          "state": {
            "_view_name": "IntSliderView",
            "style": "IPY_MODEL_d40c2fa3ec28415e99197f1b07166700",
            "_dom_classes": [],
            "description": "units",
            "step": 10,
            "_model_name": "IntSliderModel",
            "orientation": "horizontal",
            "max": 100,
            "_view_module": "@jupyter-widgets/controls",
            "_model_module_version": "1.5.0",
            "value": 50,
            "_view_count": null,
            "disabled": false,
            "_view_module_version": "1.5.0",
            "min": 0,
            "continuous_update": true,
            "readout_format": "d",
            "description_tooltip": null,
            "readout": true,
            "_model_module": "@jupyter-widgets/controls",
            "layout": "IPY_MODEL_b515866cc379429d8113c35f8b860f73"
          }
        },
        "380c957cab384994ab6810ea819effbb": {
          "model_module": "@jupyter-widgets/output",
          "model_name": "OutputModel",
          "state": {
            "_view_name": "OutputView",
            "msg_id": "",
            "_dom_classes": [],
            "_model_name": "OutputModel",
            "outputs": [
              {
                "output_type": "stream",
                "metadata": {
                  "tags": []
                },
                "text": "Train accuracy: 100.0%\n  Val accuracy: 100.0%\nloss: 0.22186531829779435\n",
                "stream": "stdout"
              },
              {
                "output_type": "stream",
                "metadata": {
                  "tags": []
                },
                "text": "/usr/local/lib/python3.6/dist-packages/sklearn/neural_network/_multilayer_perceptron.py:571: ConvergenceWarning: Stochastic Optimizer: Maximum iterations (200) reached and the optimization hasn't converged yet.\n  % self.max_iter, ConvergenceWarning)\n",
                "stream": "stderr"
              },
              {
                "output_type": "display_data",
                "metadata": {
                  "tags": [],
                  "needs_background": "light"
                },
                "image/png": "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\n",
                "text/plain": "<Figure size 432x288 with 1 Axes>"
              }
            ],
            "_view_module": "@jupyter-widgets/output",
            "_model_module_version": "1.0.0",
            "_view_count": null,
            "_view_module_version": "1.0.0",
            "layout": "IPY_MODEL_cba65897bd5847d3b6d8084c54c5d9bc",
            "_model_module": "@jupyter-widgets/output"
          }
        },
        "8d894184c38a436a85cbbf6df9fde95a": {
          "model_module": "@jupyter-widgets/controls",
          "model_name": "DescriptionStyleModel",
          "state": {
            "_view_name": "StyleView",
            "_model_name": "DescriptionStyleModel",
            "description_width": "",
            "_view_module": "@jupyter-widgets/base",
            "_model_module_version": "1.5.0",
            "_view_count": null,
            "_view_module_version": "1.2.0",
            "_model_module": "@jupyter-widgets/controls"
          }
        },
        "16aa9b11399344028619215648a06016": {
          "model_module": "@jupyter-widgets/base",
          "model_name": "LayoutModel",
          "state": {
            "_view_name": "LayoutView",
            "grid_template_rows": null,
            "right": null,
            "justify_content": null,
            "_view_module": "@jupyter-widgets/base",
            "overflow": null,
            "_model_module_version": "1.2.0",
            "_view_count": null,
            "flex_flow": null,
            "width": null,
            "min_width": null,
            "border": null,
            "align_items": null,
            "bottom": null,
            "_model_module": "@jupyter-widgets/base",
            "top": null,
            "grid_column": null,
            "overflow_y": null,
            "overflow_x": null,
            "grid_auto_flow": null,
            "grid_area": null,
            "grid_template_columns": null,
            "flex": null,
            "_model_name": "LayoutModel",
            "justify_items": null,
            "grid_row": null,
            "max_height": null,
            "align_content": null,
            "visibility": null,
            "align_self": null,
            "height": null,
            "min_height": null,
            "padding": null,
            "grid_auto_rows": null,
            "grid_gap": null,
            "max_width": null,
            "order": null,
            "_view_module_version": "1.2.0",
            "grid_template_areas": null,
            "object_position": null,
            "object_fit": null,
            "grid_auto_columns": null,
            "margin": null,
            "display": null,
            "left": null
          }
        },
        "d40c2fa3ec28415e99197f1b07166700": {
          "model_module": "@jupyter-widgets/controls",
          "model_name": "SliderStyleModel",
          "state": {
            "_view_name": "StyleView",
            "handle_color": null,
            "_model_name": "SliderStyleModel",
            "description_width": "",
            "_view_module": "@jupyter-widgets/base",
            "_model_module_version": "1.5.0",
            "_view_count": null,
            "_view_module_version": "1.2.0",
            "_model_module": "@jupyter-widgets/controls"
          }
        },
        "b515866cc379429d8113c35f8b860f73": {
          "model_module": "@jupyter-widgets/base",
          "model_name": "LayoutModel",
          "state": {
            "_view_name": "LayoutView",
            "grid_template_rows": null,
            "right": null,
            "justify_content": null,
            "_view_module": "@jupyter-widgets/base",
            "overflow": null,
            "_model_module_version": "1.2.0",
            "_view_count": null,
            "flex_flow": null,
            "width": null,
            "min_width": null,
            "border": null,
            "align_items": null,
            "bottom": null,
            "_model_module": "@jupyter-widgets/base",
            "top": null,
            "grid_column": null,
            "overflow_y": null,
            "overflow_x": null,
            "grid_auto_flow": null,
            "grid_area": null,
            "grid_template_columns": null,
            "flex": null,
            "_model_name": "LayoutModel",
            "justify_items": null,
            "grid_row": null,
            "max_height": null,
            "align_content": null,
            "visibility": null,
            "align_self": null,
            "height": null,
            "min_height": null,
            "padding": null,
            "grid_auto_rows": null,
            "grid_gap": null,
            "max_width": null,
            "order": null,
            "_view_module_version": "1.2.0",
            "grid_template_areas": null,
            "object_position": null,
            "object_fit": null,
            "grid_auto_columns": null,
            "margin": null,
            "display": null,
            "left": null
          }
        },
        "cba65897bd5847d3b6d8084c54c5d9bc": {
          "model_module": "@jupyter-widgets/base",
          "model_name": "LayoutModel",
          "state": {
            "_view_name": "LayoutView",
            "grid_template_rows": null,
            "right": null,
            "justify_content": null,
            "_view_module": "@jupyter-widgets/base",
            "overflow": null,
            "_model_module_version": "1.2.0",
            "_view_count": null,
            "flex_flow": null,
            "width": null,
            "min_width": null,
            "border": null,
            "align_items": null,
            "bottom": null,
            "_model_module": "@jupyter-widgets/base",
            "top": null,
            "grid_column": null,
            "overflow_y": null,
            "overflow_x": null,
            "grid_auto_flow": null,
            "grid_area": null,
            "grid_template_columns": null,
            "flex": null,
            "_model_name": "LayoutModel",
            "justify_items": null,
            "grid_row": null,
            "max_height": null,
            "align_content": null,
            "visibility": null,
            "align_self": null,
            "height": null,
            "min_height": null,
            "padding": null,
            "grid_auto_rows": null,
            "grid_gap": null,
            "max_width": null,
            "order": null,
            "_view_module_version": "1.2.0",
            "grid_template_areas": null,
            "object_position": null,
            "object_fit": null,
            "grid_auto_columns": null,
            "margin": null,
            "display": null,
            "left": null
          }
        }
      }
    }
  },
  "cells": [
    {
      "cell_type": "markdown",
      "metadata": {
        "id": "8JBVC5Tk8yJd"
      },
      "source": [
        "Universidade Federal de Santa Catarina<br>\n",
        "Departamento de Engenharia Elétrica e Eletrônica<br>\n",
        "EEL7514 / EEL7513 / EEL410250 - Aprendizado de Máquina\n",
        "$\\newcommand{\\bX}{\\mathbf{X}}$\n",
        "$\\newcommand{\\bw}{\\mathbf{w}}$\n",
        "$\\newcommand{\\by}{\\mathbf{y}}$\n",
        "$\\newcommand{\\bx}{\\mathbf{x}}$\n",
        "$\\newcommand{\\RR}{\\mathbb{R}}$\n",
        "$\\newcommand{\\calS}{\\mathcal{S}}$\n",
        "\n",
        "# Exercício 7: Redes Profundas\n",
        "\n",
        "Neste exercício você irá construir modelos de redes neurais para realizar classificação e experimentar diversas configurações de hiperparâmetros."
      ]
    },
    {
      "cell_type": "code",
      "metadata": {
        "id": "u32AG3f88yJe",
        "outputId": "f808c12b-2f6e-4801-c1fa-4d6c01689515",
        "colab": {
          "base_uri": "https://localhost:8080/",
          "height": 68
        }
      },
      "source": [
        "import numpy as np\n",
        "import matplotlib.pyplot as plt\n",
        "%matplotlib inline\n",
        "from ipywidgets import interact\n",
        "from sklearn.neural_network import MLPClassifier\n",
        "\n",
        "import sys\n",
        "import tensorflow as tf\n",
        "print('Python version:', sys.version.split(' ')[0])\n",
        "print('TensorFlow version:', tf.__version__)\n",
        "print('GPU:', tf.config.list_physical_devices('GPU'))"
      ],
      "execution_count": 1,
      "outputs": [
        {
          "output_type": "stream",
          "text": [
            "Python version: 3.6.9\n",
            "TensorFlow version: 2.3.0\n",
            "GPU: [PhysicalDevice(name='/physical_device:GPU:0', device_type='GPU')]\n"
          ],
          "name": "stdout"
        }
      ]
    },
    {
      "cell_type": "markdown",
      "metadata": {
        "id": "RbGFQS7l8yJh"
      },
      "source": [
        "# 1. Conjunto de dados #1\n",
        "\n",
        "Para \"aquecer\", vamos começar utilizando o conjunto XOR do exercício anterior."
      ]
    },
    {
      "cell_type": "code",
      "metadata": {
        "id": "dD6SIvwp8yJi",
        "outputId": "4a91f5fa-e8f2-4c4d-e593-141b4d17d94a",
        "colab": {
          "base_uri": "https://localhost:8080/",
          "height": 51
        }
      },
      "source": [
        "from sklearn.datasets import make_blobs\n",
        "from sklearn.model_selection import train_test_split\n",
        "X_train, y_train = make_blobs(n_samples=400, n_features=2, centers=[[0,0],[1,1],[0,1],[1,0]], cluster_std=0.15, random_state=0)\n",
        "y_train = (y_train >= 2).astype(int)\n",
        "X_train, X_val, y_train, y_val = train_test_split(X_train, y_train, test_size=1/4, random_state=0)\n",
        "print(X_train.shape, y_train.shape)\n",
        "print(X_val.shape, y_val.shape)"
      ],
      "execution_count": 2,
      "outputs": [
        {
          "output_type": "stream",
          "text": [
            "(300, 2) (300,)\n",
            "(100, 2) (100,)\n"
          ],
          "name": "stdout"
        }
      ]
    },
    {
      "cell_type": "markdown",
      "metadata": {
        "id": "9FVYxBOx8yJk"
      },
      "source": [
        "1. Usando a biblioteca sklearn, treine uma rede neural de 2 camadas (1 oculta) para classificação. Utilize o otimizador Adam com parâmetros padrão, exceto pela taxa de aprendizado (constante), que deve ser escolhida apropriadamente. Obtenha 100% de acurácia de treinamento e de validação e calcule o valor da perda ao final do treinamento. Além disso, trace a curva da perda de treinamento ao longo das épocas.\n",
        "\n",
        "#### Dicas\n",
        "- Para obter a curva de perda no treinamento, você pode utilizar `model.loss_curve_`.\n",
        "- Note que o sklearn usa uma terminologia por vezes inconsistente com a literatura da área (mas consistente internamente em sua API). Por exemplo, o parâmetro `max_iter` corresponde ao número de épocas, não necessariamente ao número de atualizações de pesos. Outro aspecto incômodo é juntar todos os hiperparâmetros do treinamento dentro da definição do modelo, o que além de tornar a chamada extensa, faz com que, dependendo da configuração, alguns parâmetros se tornem desnecessários ou mudem de definição."
      ]
    },
    {
      "cell_type": "code",
      "metadata": {
        "id": "8QFWXAmNdY9D"
      },
      "source": [
        "from sklearn.neural_network import MLPClassifier\n",
        "from sklearn.metrics import log_loss"
      ],
      "execution_count": 3,
      "outputs": []
    },
    {
      "cell_type": "code",
      "metadata": {
        "id": "OX8AA8OHdZFz",
        "outputId": "eb3326f5-44dc-4d84-9745-940a636e8f9c",
        "colab": {
          "base_uri": "https://localhost:8080/",
          "height": 431,
          "referenced_widgets": [
            "4f2e9bbce4dc4957b6c3348b3e476d02",
            "a52d09a4a7934d79976cf6be6115d4dd",
            "40a1ee1d923c4298ba7d288333359649",
            "53c8d372763a4796a112e2d897d84249",
            "380c957cab384994ab6810ea819effbb",
            "8d894184c38a436a85cbbf6df9fde95a",
            "16aa9b11399344028619215648a06016",
            "d40c2fa3ec28415e99197f1b07166700",
            "b515866cc379429d8113c35f8b860f73",
            "cba65897bd5847d3b6d8084c54c5d9bc"
          ]
        }
      },
      "source": [
        "@interact(lr = ['constant', 'invscaling', 'adaptive'], units = (0,100,10)) \n",
        "def _(lr,units):\n",
        "  model = MLPClassifier(hidden_layer_sizes=[units], activation='relu', solver = 'adam', learning_rate=lr,)\n",
        "  model.fit(X_train,y_train)\n",
        "  print(f'Train accuracy: {round(model.score(X_train,y_train),2)*100}%')\n",
        "  print(f'  Val accuracy: {round(model.score(X_val,y_val),2)*100}%')\n",
        "  print(f'loss: {model.loss_}')\n",
        "  plt.plot(model.loss_curve_)"
      ],
      "execution_count": 4,
      "outputs": [
        {
          "output_type": "display_data",
          "data": {
            "application/vnd.jupyter.widget-view+json": {
              "model_id": "4f2e9bbce4dc4957b6c3348b3e476d02",
              "version_minor": 0,
              "version_major": 2
            },
            "text/plain": [
              "interactive(children=(Dropdown(description='lr', options=('constant', 'invscaling', 'adaptive'), value='consta…"
            ]
          },
          "metadata": {
            "tags": []
          }
        }
      ]
    },
    {
      "cell_type": "code",
      "metadata": {
        "id": "yjmXxR9rRWUY",
        "outputId": "f282db5f-5641-498d-ccf9-a964746e34d2",
        "colab": {
          "base_uri": "https://localhost:8080/",
          "height": 387
        }
      },
      "source": [
        "  model = MLPClassifier(hidden_layer_sizes=[100], activation='relu', solver = 'adam', learning_rate='constant')\n",
        "  model.fit(X_train,y_train)\n",
        "  print(f'Train accuracy: {round(model.score(X_train,y_train),2)*100}%')\n",
        "  print(f'  Val accuracy: {round(model.score(X_val,y_val),2)*100}%')\n",
        "  print(f'loss: {model.loss_}')\n",
        "  plt.plot(model.loss_curve_)"
      ],
      "execution_count": 5,
      "outputs": [
        {
          "output_type": "stream",
          "text": [
            "Train accuracy: 100.0%\n",
            "  Val accuracy: 100.0%\n",
            "loss: 0.15321505407152594\n"
          ],
          "name": "stdout"
        },
        {
          "output_type": "stream",
          "text": [
            "/usr/local/lib/python3.6/dist-packages/sklearn/neural_network/_multilayer_perceptron.py:571: ConvergenceWarning: Stochastic Optimizer: Maximum iterations (200) reached and the optimization hasn't converged yet.\n",
            "  % self.max_iter, ConvergenceWarning)\n"
          ],
          "name": "stderr"
        },
        {
          "output_type": "execute_result",
          "data": {
            "text/plain": [
              "[<matplotlib.lines.Line2D at 0x7f63001794e0>]"
            ]
          },
          "metadata": {
            "tags": []
          },
          "execution_count": 5
        },
        {
          "output_type": "display_data",
          "data": {
            "image/png": "[encoded data removed]",
            "text/plain": [
              "<Figure size 432x288 with 1 Axes>"
            ]
          },
          "metadata": {
            "tags": [],
            "needs_background": "light"
          }
        }
      ]
    },
    {
      "cell_type": "code",
      "metadata": {
        "id": "kxz0Nvatkyi0"
      },
      "source": [
        ""
      ],
      "execution_count": 5,
      "outputs": []
    },
    {
      "cell_type": "markdown",
      "metadata": {
        "id": "9caTd3Gr9pev"
      },
      "source": [
        "2. Repita o item anterior usando [Keras](https://keras.io/), a API de alto-nível do [TensorFlow](https://www.tensorflow.org/), disponível através do módulo `tensorflow.keras`. Certifique-se de estar usando TensorFlow 2.x.\n",
        "\n",
        "\n",
        "### Dicas\n",
        "- Ao invés de instalar o TensorFlow e rodar localmente em sua máquina, uma opção mais simples é utilizar o serviço em nuvem gratuito [Google Colab](https://colab.research.google.com), que já possui todas as bibliotecas necessárias instaladas, inclusive o TensorFlow 2.x.\n",
        "\n",
        "- Leia a documentação do Keras para aprender a utilizá-lo. Para quem está começando, é recomendável (e suficiente para este exercício) usar a classe [Sequential](https://keras.io/guides/sequential_model). É útil também conhecer sobre funções de [ativação](https://keras.io/activations), funções de [perda](https://keras.io/losses), métodos de [otimização](https://keras.io/api/optimizers) e o processo de [treinamento e avaliação](https://keras.io/guides/training_with_built_in_methods/) de modelos.\n",
        "- No Keras, ao contrário do sklearn, é necessário especificar explicitamente a camada de saída, sua função de ativação, e a função de perda utilizada. (No sklearn, essa escolha é automática a partir dos valores encontrados em `y_train`.) \n",
        "- É recommendável utilizar o comando `model.summary()` para obter uma descrição de todas as camadas da rede neural.\n",
        "- Para configurar a taxa de aprendizado, é necessário instanciar um otimizador, caso contrário será usado o valor padrão.\n",
        "- Para obter a curva de perda no treinamento, utilize \n",
        "```python\n",
        "history = model.fit(...)\n",
        "history.history['loss']\n",
        "```\n",
        "- Se quiser garantir a reprodutibilidade, utilize `tf.random.set_seed()` **antes** de definir o modelo (os pesos são inicializados no momento da adição de cada camada).\n"
      ]
    },
    {
      "cell_type": "code",
      "metadata": {
        "id": "0tAa4k0qvhb7",
        "outputId": "ef57241f-9136-49d5-9185-974f0dab7604",
        "colab": {
          "base_uri": "https://localhost:8080/",
          "height": 1000
        }
      },
      "source": [
        "import tensorflow as tf\n",
        "from tensorflow.keras import layers, Sequential\n",
        "model = tf.random.set_seed(40)\n",
        "model = Sequential()\n",
        "#Dense(neuronios, função, input_shape = número de atributos)\n",
        "model.add(layers.Dense(units = 50, activation = 'relu', input_dim = ( X_train.shape[1]), name = 'input')) # camada oculta\n",
        "model.add(layers.Dense(units = 1, activation = 'sigmoid', name = 'output')) # camada de saída\n",
        "#optimizer = keras.optimizers.Adam(learning_rate =0.01)\n",
        "model.compile(optimizer = 'adam', loss = 'binary_crossentropy', metrics=['accuracy'])\n",
        "history = model.fit(X_train,y_train, epochs = 200)"
      ],
      "execution_count": 6,
      "outputs": [
        {
          "output_type": "stream",
          "text": [
            "Epoch 1/200\n",
            "10/10 [==============================] - 0s 2ms/step - loss: 0.7366 - accuracy: 0.4933\n",
            "Epoch 2/200\n",
            "10/10 [==============================] - 0s 2ms/step - loss: 0.7208 - accuracy: 0.4533\n",
            "Epoch 3/200\n",
            "10/10 [==============================] - 0s 2ms/step - loss: 0.7076 - accuracy: 0.4300\n",
            "Epoch 4/200\n",
            "10/10 [==============================] - 0s 2ms/step - loss: 0.6956 - accuracy: 0.4867\n",
            "Epoch 5/200\n",
            "10/10 [==============================] - 0s 2ms/step - loss: 0.6842 - accuracy: 0.6167\n",
            "Epoch 6/200\n",
            "10/10 [==============================] - 0s 2ms/step - loss: 0.6732 - accuracy: 0.6833\n",
            "Epoch 7/200\n",
            "10/10 [==============================] - 0s 2ms/step - loss: 0.6623 - accuracy: 0.7000\n",
            "Epoch 8/200\n",
            "10/10 [==============================] - 0s 3ms/step - loss: 0.6509 - accuracy: 0.7100\n",
            "Epoch 9/200\n",
            "10/10 [==============================] - 0s 2ms/step - loss: 0.6391 - accuracy: 0.8100\n",
            "Epoch 10/200\n",
            "10/10 [==============================] - 0s 2ms/step - loss: 0.6274 - accuracy: 0.8933\n",
            "Epoch 11/200\n",
            "10/10 [==============================] - 0s 2ms/step - loss: 0.6151 - accuracy: 0.9533\n",
            "Epoch 12/200\n",
            "10/10 [==============================] - 0s 2ms/step - loss: 0.6027 - accuracy: 0.9833\n",
            "Epoch 13/200\n",
            "10/10 [==============================] - 0s 2ms/step - loss: 0.5906 - accuracy: 0.9900\n",
            "Epoch 14/200\n",
            "10/10 [==============================] - 0s 3ms/step - loss: 0.5779 - accuracy: 0.9967\n",
            "Epoch 15/200\n",
            "10/10 [==============================] - 0s 2ms/step - loss: 0.5655 - accuracy: 0.9967\n",
            "Epoch 16/200\n",
            "10/10 [==============================] - 0s 2ms/step - loss: 0.5532 - accuracy: 1.0000\n",
            "Epoch 17/200\n",
            "10/10 [==============================] - 0s 2ms/step - loss: 0.5403 - accuracy: 1.0000\n",
            "Epoch 18/200\n",
            "10/10 [==============================] - 0s 2ms/step - loss: 0.5278 - accuracy: 1.0000\n",
            "Epoch 19/200\n",
            "10/10 [==============================] - 0s 2ms/step - loss: 0.5149 - accuracy: 1.0000\n",
            "Epoch 20/200\n",
            "10/10 [==============================] - 0s 2ms/step - loss: 0.5020 - accuracy: 1.0000\n",
            "Epoch 21/200\n",
            "10/10 [==============================] - 0s 2ms/step - loss: 0.4889 - accuracy: 1.0000\n",
            "Epoch 22/200\n",
            "10/10 [==============================] - 0s 2ms/step - loss: 0.4760 - accuracy: 1.0000\n",
            "Epoch 23/200\n",
            "10/10 [==============================] - 0s 2ms/step - loss: 0.4629 - accuracy: 1.0000\n",
            "Epoch 24/200\n",
            "10/10 [==============================] - 0s 2ms/step - loss: 0.4499 - accuracy: 1.0000\n",
            "Epoch 25/200\n",
            "10/10 [==============================] - 0s 2ms/step - loss: 0.4372 - accuracy: 1.0000\n",
            "Epoch 26/200\n",
            "10/10 [==============================] - 0s 2ms/step - loss: 0.4239 - accuracy: 1.0000\n",
            "Epoch 27/200\n",
            "10/10 [==============================] - 0s 2ms/step - loss: 0.4110 - accuracy: 1.0000\n",
            "Epoch 28/200\n",
            "10/10 [==============================] - 0s 2ms/step - loss: 0.3982 - accuracy: 1.0000\n",
            "Epoch 29/200\n",
            "10/10 [==============================] - 0s 2ms/step - loss: 0.3858 - accuracy: 1.0000\n",
            "Epoch 30/200\n",
            "10/10 [==============================] - 0s 2ms/step - loss: 0.3736 - accuracy: 1.0000\n",
            "Epoch 31/200\n",
            "10/10 [==============================] - 0s 2ms/step - loss: 0.3614 - accuracy: 1.0000\n",
            "Epoch 32/200\n",
            "10/10 [==============================] - 0s 2ms/step - loss: 0.3497 - accuracy: 1.0000\n",
            "Epoch 33/200\n",
            "10/10 [==============================] - 0s 2ms/step - loss: 0.3381 - accuracy: 1.0000\n",
            "Epoch 34/200\n",
            "10/10 [==============================] - 0s 2ms/step - loss: 0.3264 - accuracy: 1.0000\n",
            "Epoch 35/200\n",
            "10/10 [==============================] - 0s 2ms/step - loss: 0.3148 - accuracy: 1.0000\n",
            "Epoch 36/200\n",
            "10/10 [==============================] - 0s 2ms/step - loss: 0.3034 - accuracy: 1.0000\n",
            "Epoch 37/200\n",
            "10/10 [==============================] - 0s 2ms/step - loss: 0.2923 - accuracy: 1.0000\n",
            "Epoch 38/200\n",
            "10/10 [==============================] - 0s 2ms/step - loss: 0.2821 - accuracy: 1.0000\n",
            "Epoch 39/200\n",
            "10/10 [==============================] - 0s 2ms/step - loss: 0.2720 - accuracy: 1.0000\n",
            "Epoch 40/200\n",
            "10/10 [==============================] - 0s 2ms/step - loss: 0.2623 - accuracy: 1.0000\n",
            "Epoch 41/200\n",
            "10/10 [==============================] - 0s 2ms/step - loss: 0.2526 - accuracy: 1.0000\n",
            "Epoch 42/200\n",
            "10/10 [==============================] - 0s 2ms/step - loss: 0.2438 - accuracy: 1.0000\n",
            "Epoch 43/200\n",
            "10/10 [==============================] - 0s 3ms/step - loss: 0.2352 - accuracy: 1.0000\n",
            "Epoch 44/200\n",
            "10/10 [==============================] - 0s 2ms/step - loss: 0.2269 - accuracy: 1.0000\n",
            "Epoch 45/200\n",
            "10/10 [==============================] - 0s 2ms/step - loss: 0.2188 - accuracy: 1.0000\n",
            "Epoch 46/200\n",
            "10/10 [==============================] - 0s 2ms/step - loss: 0.2113 - accuracy: 1.0000\n",
            "Epoch 47/200\n",
            "10/10 [==============================] - 0s 2ms/step - loss: 0.2040 - accuracy: 1.0000\n",
            "Epoch 48/200\n",
            "10/10 [==============================] - 0s 2ms/step - loss: 0.1969 - accuracy: 1.0000\n",
            "Epoch 49/200\n",
            "10/10 [==============================] - 0s 2ms/step - loss: 0.1901 - accuracy: 1.0000\n",
            "Epoch 50/200\n",
            "10/10 [==============================] - 0s 2ms/step - loss: 0.1838 - accuracy: 1.0000\n",
            "Epoch 51/200\n",
            "10/10 [==============================] - 0s 2ms/step - loss: 0.1776 - accuracy: 1.0000\n",
            "Epoch 52/200\n",
            "10/10 [==============================] - 0s 2ms/step - loss: 0.1717 - accuracy: 1.0000\n",
            "Epoch 53/200\n",
            "10/10 [==============================] - 0s 2ms/step - loss: 0.1661 - accuracy: 1.0000\n",
            "Epoch 54/200\n",
            "10/10 [==============================] - 0s 2ms/step - loss: 0.1607 - accuracy: 1.0000\n",
            "Epoch 55/200\n",
            "10/10 [==============================] - 0s 2ms/step - loss: 0.1556 - accuracy: 1.0000\n",
            "Epoch 56/200\n",
            "10/10 [==============================] - 0s 2ms/step - loss: 0.1507 - accuracy: 1.0000\n",
            "Epoch 57/200\n",
            "10/10 [==============================] - 0s 2ms/step - loss: 0.1459 - accuracy: 1.0000\n",
            "Epoch 58/200\n",
            "10/10 [==============================] - 0s 2ms/step - loss: 0.1414 - accuracy: 1.0000\n",
            "Epoch 59/200\n",
            "10/10 [==============================] - 0s 2ms/step - loss: 0.1370 - accuracy: 1.0000\n",
            "Epoch 60/200\n",
            "10/10 [==============================] - 0s 2ms/step - loss: 0.1331 - accuracy: 1.0000\n",
            "Epoch 61/200\n",
            "10/10 [==============================] - 0s 3ms/step - loss: 0.1290 - accuracy: 1.0000\n",
            "Epoch 62/200\n",
            "10/10 [==============================] - 0s 3ms/step - loss: 0.1251 - accuracy: 1.0000\n",
            "Epoch 63/200\n",
            "10/10 [==============================] - 0s 3ms/step - loss: 0.1215 - accuracy: 1.0000\n",
            "Epoch 64/200\n",
            "10/10 [==============================] - 0s 3ms/step - loss: 0.1180 - accuracy: 1.0000\n",
            "Epoch 65/200\n",
            "10/10 [==============================] - 0s 3ms/step - loss: 0.1146 - accuracy: 1.0000\n",
            "Epoch 66/200\n",
            "10/10 [==============================] - 0s 2ms/step - loss: 0.1114 - accuracy: 1.0000\n",
            "Epoch 67/200\n",
            "10/10 [==============================] - 0s 2ms/step - loss: 0.1083 - accuracy: 1.0000\n",
            "Epoch 68/200\n",
            "10/10 [==============================] - 0s 3ms/step - loss: 0.1053 - accuracy: 1.0000\n",
            "Epoch 69/200\n",
            "10/10 [==============================] - 0s 3ms/step - loss: 0.1024 - accuracy: 1.0000\n",
            "Epoch 70/200\n",
            "10/10 [==============================] - 0s 2ms/step - loss: 0.0997 - accuracy: 1.0000\n",
            "Epoch 71/200\n",
            "10/10 [==============================] - 0s 2ms/step - loss: 0.0970 - accuracy: 1.0000\n",
            "Epoch 72/200\n",
            "10/10 [==============================] - 0s 2ms/step - loss: 0.0945 - accuracy: 1.0000\n",
            "Epoch 73/200\n",
            "10/10 [==============================] - 0s 2ms/step - loss: 0.0921 - accuracy: 1.0000\n",
            "Epoch 74/200\n",
            "10/10 [==============================] - 0s 3ms/step - loss: 0.0897 - accuracy: 1.0000\n",
            "Epoch 75/200\n",
            "10/10 [==============================] - 0s 2ms/step - loss: 0.0875 - accuracy: 1.0000\n",
            "Epoch 76/200\n",
            "10/10 [==============================] - 0s 3ms/step - loss: 0.0853 - accuracy: 1.0000\n",
            "Epoch 77/200\n",
            "10/10 [==============================] - 0s 2ms/step - loss: 0.0831 - accuracy: 1.0000\n",
            "Epoch 78/200\n",
            "10/10 [==============================] - 0s 2ms/step - loss: 0.0812 - accuracy: 1.0000\n",
            "Epoch 79/200\n",
            "10/10 [==============================] - 0s 2ms/step - loss: 0.0792 - accuracy: 1.0000\n",
            "Epoch 80/200\n",
            "10/10 [==============================] - 0s 3ms/step - loss: 0.0774 - accuracy: 1.0000\n",
            "Epoch 81/200\n",
            "10/10 [==============================] - 0s 3ms/step - loss: 0.0756 - accuracy: 1.0000\n",
            "Epoch 82/200\n",
            "10/10 [==============================] - 0s 2ms/step - loss: 0.0738 - accuracy: 1.0000\n",
            "Epoch 83/200\n",
            "10/10 [==============================] - 0s 3ms/step - loss: 0.0721 - accuracy: 1.0000\n",
            "Epoch 84/200\n",
            "10/10 [==============================] - 0s 2ms/step - loss: 0.0705 - accuracy: 1.0000\n",
            "Epoch 85/200\n",
            "10/10 [==============================] - 0s 2ms/step - loss: 0.0689 - accuracy: 1.0000\n",
            "Epoch 86/200\n",
            "10/10 [==============================] - 0s 2ms/step - loss: 0.0674 - accuracy: 1.0000\n",
            "Epoch 87/200\n",
            "10/10 [==============================] - 0s 2ms/step - loss: 0.0660 - accuracy: 1.0000\n",
            "Epoch 88/200\n",
            "10/10 [==============================] - 0s 2ms/step - loss: 0.0645 - accuracy: 1.0000\n",
            "Epoch 89/200\n",
            "10/10 [==============================] - 0s 2ms/step - loss: 0.0633 - accuracy: 1.0000\n",
            "Epoch 90/200\n",
            "10/10 [==============================] - 0s 2ms/step - loss: 0.0618 - accuracy: 1.0000\n",
            "Epoch 91/200\n",
            "10/10 [==============================] - 0s 2ms/step - loss: 0.0605 - accuracy: 1.0000\n",
            "Epoch 92/200\n",
            "10/10 [==============================] - 0s 2ms/step - loss: 0.0593 - accuracy: 1.0000\n",
            "Epoch 93/200\n",
            "10/10 [==============================] - 0s 2ms/step - loss: 0.0581 - accuracy: 1.0000\n",
            "Epoch 94/200\n",
            "10/10 [==============================] - 0s 2ms/step - loss: 0.0570 - accuracy: 1.0000\n",
            "Epoch 95/200\n",
            "10/10 [==============================] - 0s 2ms/step - loss: 0.0558 - accuracy: 1.0000\n",
            "Epoch 96/200\n",
            "10/10 [==============================] - 0s 2ms/step - loss: 0.0546 - accuracy: 1.0000\n",
            "Epoch 97/200\n",
            "10/10 [==============================] - 0s 2ms/step - loss: 0.0536 - accuracy: 1.0000\n",
            "Epoch 98/200\n",
            "10/10 [==============================] - 0s 2ms/step - loss: 0.0525 - accuracy: 1.0000\n",
            "Epoch 99/200\n",
            "10/10 [==============================] - 0s 3ms/step - loss: 0.0516 - accuracy: 1.0000\n",
            "Epoch 100/200\n",
            "10/10 [==============================] - 0s 3ms/step - loss: 0.0506 - accuracy: 1.0000\n",
            "Epoch 101/200\n",
            "10/10 [==============================] - 0s 3ms/step - loss: 0.0496 - accuracy: 1.0000\n",
            "Epoch 102/200\n",
            "10/10 [==============================] - 0s 2ms/step - loss: 0.0487 - accuracy: 1.0000\n",
            "Epoch 103/200\n",
            "10/10 [==============================] - 0s 3ms/step - loss: 0.0478 - accuracy: 1.0000\n",
            "Epoch 104/200\n",
            "10/10 [==============================] - 0s 2ms/step - loss: 0.0469 - accuracy: 1.0000\n",
            "Epoch 105/200\n",
            "10/10 [==============================] - 0s 2ms/step - loss: 0.0461 - accuracy: 1.0000\n",
            "Epoch 106/200\n",
            "10/10 [==============================] - 0s 2ms/step - loss: 0.0453 - accuracy: 1.0000\n",
            "Epoch 107/200\n",
            "10/10 [==============================] - 0s 2ms/step - loss: 0.0445 - accuracy: 1.0000\n",
            "Epoch 108/200\n",
            "10/10 [==============================] - 0s 2ms/step - loss: 0.0437 - accuracy: 1.0000\n",
            "Epoch 109/200\n",
            "10/10 [==============================] - 0s 3ms/step - loss: 0.0429 - accuracy: 1.0000\n",
            "Epoch 110/200\n",
            "10/10 [==============================] - 0s 2ms/step - loss: 0.0422 - accuracy: 1.0000\n",
            "Epoch 111/200\n",
            "10/10 [==============================] - 0s 2ms/step - loss: 0.0416 - accuracy: 1.0000\n",
            "Epoch 112/200\n",
            "10/10 [==============================] - 0s 2ms/step - loss: 0.0408 - accuracy: 1.0000\n",
            "Epoch 113/200\n",
            "10/10 [==============================] - 0s 2ms/step - loss: 0.0401 - accuracy: 1.0000\n",
            "Epoch 114/200\n",
            "10/10 [==============================] - 0s 2ms/step - loss: 0.0395 - accuracy: 1.0000\n",
            "Epoch 115/200\n",
            "10/10 [==============================] - 0s 2ms/step - loss: 0.0388 - accuracy: 1.0000\n",
            "Epoch 116/200\n",
            "10/10 [==============================] - 0s 2ms/step - loss: 0.0382 - accuracy: 1.0000\n",
            "Epoch 117/200\n",
            "10/10 [==============================] - 0s 2ms/step - loss: 0.0376 - accuracy: 1.0000\n",
            "Epoch 118/200\n",
            "10/10 [==============================] - 0s 3ms/step - loss: 0.0370 - accuracy: 1.0000\n",
            "Epoch 119/200\n",
            "10/10 [==============================] - 0s 3ms/step - loss: 0.0364 - accuracy: 1.0000\n",
            "Epoch 120/200\n",
            "10/10 [==============================] - 0s 3ms/step - loss: 0.0359 - accuracy: 1.0000\n",
            "Epoch 121/200\n",
            "10/10 [==============================] - 0s 3ms/step - loss: 0.0353 - accuracy: 1.0000\n",
            "Epoch 122/200\n",
            "10/10 [==============================] - 0s 3ms/step - loss: 0.0347 - accuracy: 1.0000\n",
            "Epoch 123/200\n",
            "10/10 [==============================] - 0s 3ms/step - loss: 0.0342 - accuracy: 1.0000\n",
            "Epoch 124/200\n",
            "10/10 [==============================] - 0s 3ms/step - loss: 0.0337 - accuracy: 1.0000\n",
            "Epoch 125/200\n",
            "10/10 [==============================] - 0s 3ms/step - loss: 0.0332 - accuracy: 1.0000\n",
            "Epoch 126/200\n",
            "10/10 [==============================] - 0s 3ms/step - loss: 0.0327 - accuracy: 1.0000\n",
            "Epoch 127/200\n",
            "10/10 [==============================] - 0s 3ms/step - loss: 0.0322 - accuracy: 1.0000\n",
            "Epoch 128/200\n",
            "10/10 [==============================] - 0s 3ms/step - loss: 0.0318 - accuracy: 1.0000\n",
            "Epoch 129/200\n",
            "10/10 [==============================] - 0s 3ms/step - loss: 0.0313 - accuracy: 1.0000\n",
            "Epoch 130/200\n",
            "10/10 [==============================] - 0s 3ms/step - loss: 0.0309 - accuracy: 1.0000\n",
            "Epoch 131/200\n",
            "10/10 [==============================] - 0s 3ms/step - loss: 0.0304 - accuracy: 1.0000\n",
            "Epoch 132/200\n",
            "10/10 [==============================] - 0s 3ms/step - loss: 0.0300 - accuracy: 1.0000\n",
            "Epoch 133/200\n",
            "10/10 [==============================] - 0s 3ms/step - loss: 0.0296 - accuracy: 1.0000\n",
            "Epoch 134/200\n",
            "10/10 [==============================] - 0s 3ms/step - loss: 0.0291 - accuracy: 1.0000\n",
            "Epoch 135/200\n",
            "10/10 [==============================] - 0s 3ms/step - loss: 0.0288 - accuracy: 1.0000\n",
            "Epoch 136/200\n",
            "10/10 [==============================] - 0s 2ms/step - loss: 0.0284 - accuracy: 1.0000\n",
            "Epoch 137/200\n",
            "10/10 [==============================] - 0s 3ms/step - loss: 0.0280 - accuracy: 1.0000\n",
            "Epoch 138/200\n",
            "10/10 [==============================] - 0s 2ms/step - loss: 0.0276 - accuracy: 1.0000\n",
            "Epoch 139/200\n",
            "10/10 [==============================] - 0s 2ms/step - loss: 0.0272 - accuracy: 1.0000\n",
            "Epoch 140/200\n",
            "10/10 [==============================] - 0s 3ms/step - loss: 0.0269 - accuracy: 1.0000\n",
            "Epoch 141/200\n",
            "10/10 [==============================] - 0s 2ms/step - loss: 0.0265 - accuracy: 1.0000\n",
            "Epoch 142/200\n",
            "10/10 [==============================] - 0s 2ms/step - loss: 0.0262 - accuracy: 1.0000\n",
            "Epoch 143/200\n",
            "10/10 [==============================] - 0s 2ms/step - loss: 0.0259 - accuracy: 1.0000\n",
            "Epoch 144/200\n",
            "10/10 [==============================] - 0s 2ms/step - loss: 0.0255 - accuracy: 1.0000\n",
            "Epoch 145/200\n",
            "10/10 [==============================] - 0s 2ms/step - loss: 0.0252 - accuracy: 1.0000\n",
            "Epoch 146/200\n",
            "10/10 [==============================] - 0s 2ms/step - loss: 0.0249 - accuracy: 1.0000\n",
            "Epoch 147/200\n",
            "10/10 [==============================] - 0s 2ms/step - loss: 0.0245 - accuracy: 1.0000\n",
            "Epoch 148/200\n",
            "10/10 [==============================] - 0s 2ms/step - loss: 0.0242 - accuracy: 1.0000\n",
            "Epoch 149/200\n",
            "10/10 [==============================] - 0s 3ms/step - loss: 0.0239 - accuracy: 1.0000\n",
            "Epoch 150/200\n",
            "10/10 [==============================] - 0s 2ms/step - loss: 0.0236 - accuracy: 1.0000\n",
            "Epoch 151/200\n",
            "10/10 [==============================] - 0s 2ms/step - loss: 0.0234 - accuracy: 1.0000\n",
            "Epoch 152/200\n",
            "10/10 [==============================] - 0s 2ms/step - loss: 0.0231 - accuracy: 1.0000\n",
            "Epoch 153/200\n",
            "10/10 [==============================] - 0s 3ms/step - loss: 0.0228 - accuracy: 1.0000\n",
            "Epoch 154/200\n",
            "10/10 [==============================] - 0s 2ms/step - loss: 0.0225 - accuracy: 1.0000\n",
            "Epoch 155/200\n",
            "10/10 [==============================] - 0s 2ms/step - loss: 0.0223 - accuracy: 1.0000\n",
            "Epoch 156/200\n",
            "10/10 [==============================] - 0s 2ms/step - loss: 0.0220 - accuracy: 1.0000\n",
            "Epoch 157/200\n",
            "10/10 [==============================] - 0s 3ms/step - loss: 0.0217 - accuracy: 1.0000\n",
            "Epoch 158/200\n",
            "10/10 [==============================] - 0s 3ms/step - loss: 0.0215 - accuracy: 1.0000\n",
            "Epoch 159/200\n",
            "10/10 [==============================] - 0s 3ms/step - loss: 0.0212 - accuracy: 1.0000\n",
            "Epoch 160/200\n",
            "10/10 [==============================] - 0s 3ms/step - loss: 0.0210 - accuracy: 1.0000\n",
            "Epoch 161/200\n",
            "10/10 [==============================] - 0s 3ms/step - loss: 0.0207 - accuracy: 1.0000\n",
            "Epoch 162/200\n",
            "10/10 [==============================] - 0s 3ms/step - loss: 0.0205 - accuracy: 1.0000\n",
            "Epoch 163/200\n",
            "10/10 [==============================] - 0s 3ms/step - loss: 0.0203 - accuracy: 1.0000\n",
            "Epoch 164/200\n",
            "10/10 [==============================] - 0s 3ms/step - loss: 0.0201 - accuracy: 1.0000\n",
            "Epoch 165/200\n",
            "10/10 [==============================] - 0s 3ms/step - loss: 0.0199 - accuracy: 1.0000\n",
            "Epoch 166/200\n",
            "10/10 [==============================] - 0s 3ms/step - loss: 0.0197 - accuracy: 1.0000\n",
            "Epoch 167/200\n",
            "10/10 [==============================] - 0s 3ms/step - loss: 0.0194 - accuracy: 1.0000\n",
            "Epoch 168/200\n",
            "10/10 [==============================] - 0s 3ms/step - loss: 0.0192 - accuracy: 1.0000\n",
            "Epoch 169/200\n",
            "10/10 [==============================] - 0s 3ms/step - loss: 0.0190 - accuracy: 1.0000\n",
            "Epoch 170/200\n",
            "10/10 [==============================] - 0s 3ms/step - loss: 0.0188 - accuracy: 1.0000\n",
            "Epoch 171/200\n",
            "10/10 [==============================] - 0s 3ms/step - loss: 0.0186 - accuracy: 1.0000\n",
            "Epoch 172/200\n",
            "10/10 [==============================] - 0s 3ms/step - loss: 0.0183 - accuracy: 1.0000\n",
            "Epoch 173/200\n",
            "10/10 [==============================] - 0s 3ms/step - loss: 0.0182 - accuracy: 1.0000\n",
            "Epoch 174/200\n",
            "10/10 [==============================] - 0s 3ms/step - loss: 0.0180 - accuracy: 1.0000\n",
            "Epoch 175/200\n",
            "10/10 [==============================] - 0s 3ms/step - loss: 0.0178 - accuracy: 1.0000\n",
            "Epoch 176/200\n",
            "10/10 [==============================] - 0s 3ms/step - loss: 0.0176 - accuracy: 1.0000\n",
            "Epoch 177/200\n",
            "10/10 [==============================] - 0s 3ms/step - loss: 0.0174 - accuracy: 1.0000\n",
            "Epoch 178/200\n",
            "10/10 [==============================] - 0s 3ms/step - loss: 0.0172 - accuracy: 1.0000\n",
            "Epoch 179/200\n",
            "10/10 [==============================] - 0s 2ms/step - loss: 0.0171 - accuracy: 1.0000\n",
            "Epoch 180/200\n",
            "10/10 [==============================] - 0s 2ms/step - loss: 0.0169 - accuracy: 1.0000\n",
            "Epoch 181/200\n",
            "10/10 [==============================] - 0s 2ms/step - loss: 0.0167 - accuracy: 1.0000\n",
            "Epoch 182/200\n",
            "10/10 [==============================] - 0s 2ms/step - loss: 0.0166 - accuracy: 1.0000\n",
            "Epoch 183/200\n",
            "10/10 [==============================] - 0s 2ms/step - loss: 0.0164 - accuracy: 1.0000\n",
            "Epoch 184/200\n",
            "10/10 [==============================] - 0s 2ms/step - loss: 0.0162 - accuracy: 1.0000\n",
            "Epoch 185/200\n",
            "10/10 [==============================] - 0s 2ms/step - loss: 0.0161 - accuracy: 1.0000\n",
            "Epoch 186/200\n",
            "10/10 [==============================] - 0s 3ms/step - loss: 0.0159 - accuracy: 1.0000\n",
            "Epoch 187/200\n",
            "10/10 [==============================] - 0s 2ms/step - loss: 0.0158 - accuracy: 1.0000\n",
            "Epoch 188/200\n",
            "10/10 [==============================] - 0s 2ms/step - loss: 0.0156 - accuracy: 1.0000\n",
            "Epoch 189/200\n",
            "10/10 [==============================] - 0s 2ms/step - loss: 0.0155 - accuracy: 1.0000\n",
            "Epoch 190/200\n",
            "10/10 [==============================] - 0s 2ms/step - loss: 0.0153 - accuracy: 1.0000\n",
            "Epoch 191/200\n",
            "10/10 [==============================] - 0s 3ms/step - loss: 0.0152 - accuracy: 1.0000\n",
            "Epoch 192/200\n",
            "10/10 [==============================] - 0s 2ms/step - loss: 0.0150 - accuracy: 1.0000\n",
            "Epoch 193/200\n",
            "10/10 [==============================] - 0s 2ms/step - loss: 0.0149 - accuracy: 1.0000\n",
            "Epoch 194/200\n",
            "10/10 [==============================] - 0s 3ms/step - loss: 0.0147 - accuracy: 1.0000\n",
            "Epoch 195/200\n",
            "10/10 [==============================] - 0s 2ms/step - loss: 0.0146 - accuracy: 1.0000\n",
            "Epoch 196/200\n",
            "10/10 [==============================] - 0s 2ms/step - loss: 0.0144 - accuracy: 1.0000\n",
            "Epoch 197/200\n",
            "10/10 [==============================] - 0s 3ms/step - loss: 0.0143 - accuracy: 1.0000\n",
            "Epoch 198/200\n",
            "10/10 [==============================] - 0s 2ms/step - loss: 0.0142 - accuracy: 1.0000\n",
            "Epoch 199/200\n",
            "10/10 [==============================] - 0s 2ms/step - loss: 0.0140 - accuracy: 1.0000\n",
            "Epoch 200/200\n",
            "10/10 [==============================] - 0s 2ms/step - loss: 0.0139 - accuracy: 1.0000\n"
          ],
          "name": "stdout"
        }
      ]
    },
    {
      "cell_type": "code",
      "metadata": {
        "id": "B8RvArGuvhVu",
        "outputId": "9ef3384e-f9eb-4164-8eb8-e14fe2837801",
        "colab": {
          "base_uri": "https://localhost:8080/",
          "height": 221
        }
      },
      "source": [
        "model.summary()"
      ],
      "execution_count": 7,
      "outputs": [
        {
          "output_type": "stream",
          "text": [
            "Model: \"sequential\"\n",
            "_________________________________________________________________\n",
            "Layer (type)                 Output Shape              Param #   \n",
            "=================================================================\n",
            "input (Dense)                (None, 50)                150       \n",
            "_________________________________________________________________\n",
            "output (Dense)               (None, 1)                 51        \n",
            "=================================================================\n",
            "Total params: 201\n",
            "Trainable params: 201\n",
            "Non-trainable params: 0\n",
            "_________________________________________________________________\n"
          ],
          "name": "stdout"
        }
      ]
    },
    {
      "cell_type": "code",
      "metadata": {
        "id": "7Dm1D01avhQ2",
        "outputId": "e79d0add-d5ff-4b17-a2ad-145806927f21",
        "colab": {
          "base_uri": "https://localhost:8080/",
          "height": 85
        }
      },
      "source": [
        "print(f'Train accuracy: {model.evaluate(X_train,y_train)[1] * 100}%')\n",
        "print(f'  Val accuracy: {model.evaluate(X_val,y_val)[1] * 100}%')"
      ],
      "execution_count": 8,
      "outputs": [
        {
          "output_type": "stream",
          "text": [
            "10/10 [==============================] - 0s 2ms/step - loss: 0.0138 - accuracy: 1.0000\n",
            "Train accuracy: 100.0%\n",
            "4/4 [==============================] - 0s 2ms/step - loss: 0.0180 - accuracy: 1.0000\n",
            "  Val accuracy: 100.0%\n"
          ],
          "name": "stdout"
        }
      ]
    },
    {
      "cell_type": "code",
      "metadata": {
        "id": "LtQY9rYap3m6",
        "outputId": "f08e9ed1-2d27-4131-b062-a529f9c6097a",
        "colab": {
          "base_uri": "https://localhost:8080/",
          "height": 34
        }
      },
      "source": [
        "print(history.history.keys())"
      ],
      "execution_count": 9,
      "outputs": [
        {
          "output_type": "stream",
          "text": [
            "dict_keys(['loss', 'accuracy'])\n"
          ],
          "name": "stdout"
        }
      ]
    },
    {
      "cell_type": "code",
      "metadata": {
        "id": "cTAgEmIR7zOk",
        "outputId": "55b5d0ea-b3ed-4c82-d6c9-981c3490475d",
        "colab": {
          "base_uri": "https://localhost:8080/",
          "height": 282
        }
      },
      "source": [
        "plt.plot(history.history['loss'])"
      ],
      "execution_count": 10,
      "outputs": [
        {
          "output_type": "execute_result",
          "data": {
            "text/plain": [
              "[<matplotlib.lines.Line2D at 0x7f62ae013c50>]"
            ]
          },
          "metadata": {
            "tags": []
          },
          "execution_count": 10
        },
        {
          "output_type": "display_data",
          "data": {
            "image/png": "[encoded data removed]",
            "text/plain": [
              "<Figure size 432x288 with 1 Axes>"
            ]
          },
          "metadata": {
            "tags": [],
            "needs_background": "light"
          }
        }
      ]
    },
    {
      "cell_type": "markdown",
      "metadata": {
        "id": "C1_Nv7Ue8yJq"
      },
      "source": [
        "# 2. Conjunto de dados #2"
      ]
    },
    {
      "cell_type": "markdown",
      "metadata": {
        "id": "FtFvGGoz8yJq"
      },
      "source": [
        "A partir de agora, desenvolva seus modelos de aprendizado profundo utilizando o Keras/TensorFlow, o qual possui muito mais recursos do que o sklearn e é mais otimizado para desempenho.\n",
        "\n",
        "O segundo conjunto de dados é o conjunto de dígitos manuscritos [MNIST](https://en.wikipedia.org/wiki/MNIST_database), o qual possui 70000 amostras, sendo 10000 amostras de teste. Este é um conjunto clássico e -- embora não seja mais recomendado para avaliação do estado da arte -- ainda vastamente utilizado para experimentação e aprendizado. O conjunto pode ser facilmente carregado pelos comandos abaixo."
      ]
    },
    {
      "cell_type": "code",
      "metadata": {
        "id": "Z_QuyzsY8yJt",
        "outputId": "e7aa6b4d-2b2f-4653-b07f-21b2ff4bdc9d",
        "colab": {
          "base_uri": "https://localhost:8080/",
          "height": 85
        }
      },
      "source": [
        "from tensorflow.keras.datasets import mnist\n",
        "(x_train, y_train), (x_test, y_test) = mnist.load_data()\n",
        "x_train = x_train / 255.0\n",
        "x_test = x_test / 255.0\n",
        "print(x_train.shape, y_train.shape)\n",
        "print(x_test.shape, y_test.shape)"
      ],
      "execution_count": 11,
      "outputs": [
        {
          "output_type": "stream",
          "text": [
            "Downloading data from https://storage.googleapis.com/tensorflow/tf-keras-datasets/mnist.npz\n",
            "11493376/11490434 [==============================] - 0s 0us/step\n",
            "(60000, 28, 28) (60000,)\n",
            "(10000, 28, 28) (10000,)\n"
          ],
          "name": "stdout"
        }
      ]
    },
    {
      "cell_type": "markdown",
      "metadata": {
        "id": "r-eqvqs48yJz"
      },
      "source": [
        "Observe a diferença na notação convencional quando usamos o Keras (ou qualquer outro *framework* de aprendizado profundo): `x` (minúsculo) ao invés de `X` (maiúsculo). Isto ocorre porque o Keras nos permite trabalhar diretamente com os dados em seu formato original, neste caso, como um tensor 3D. Portanto, não é necessário redimensionar (*reshape*) os dados antes de aplicar o modelo, assim como perde o sentido usar uma notação especial para denotar uma matriz (tensor 2D).\n",
        "\n",
        "Caso seja necessário redimensionar os dados em algum estágio do modelo, isso pode ser feito internamente com camadas do Keras. Em particular, para redimensionar para o formato convencional de tensor 2D `(n_samples, n_features)`, pode ser usada a camada `Flatten`. Isto é sempre necessário antes de aplicar uma camada `Dense`, a qual só opera na última dimensão. No nosso caso, as duas dimensões (28,28) serão \"achatadas\" em uma única de (784,):"
      ]
    },
    {
      "cell_type": "code",
      "metadata": {
        "id": "Ro8Fry-hXNX0",
        "outputId": "52e16b2c-5d83-415c-de01-1ed5266e4ab0",
        "colab": {
          "base_uri": "https://localhost:8080/",
          "height": 187
        }
      },
      "source": [
        "from tensorflow.keras.layers import Flatten\n",
        "model = Sequential()\n",
        "model.add(tf.keras.Input(shape=(28,28)))\n",
        "model.add(Flatten())\n",
        "model.summary()"
      ],
      "execution_count": 12,
      "outputs": [
        {
          "output_type": "stream",
          "text": [
            "Model: \"sequential_1\"\n",
            "_________________________________________________________________\n",
            "Layer (type)                 Output Shape              Param #   \n",
            "=================================================================\n",
            "flatten (Flatten)            (None, 784)               0         \n",
            "=================================================================\n",
            "Total params: 0\n",
            "Trainable params: 0\n",
            "Non-trainable params: 0\n",
            "_________________________________________________________________\n"
          ],
          "name": "stdout"
        }
      ]
    },
    {
      "cell_type": "code",
      "metadata": {
        "id": "bZaDfK-h8yJz",
        "outputId": "9c7ca56e-6a74-4c54-ed03-ebcdbc00cc36",
        "colab": {
          "base_uri": "https://localhost:8080/",
          "height": 268
        }
      },
      "source": [
        "# Exemplo de uma imagem\n",
        "i = 2\n",
        "plt.imshow(x_train[i], cmap=plt.cm.gray_r);\n",
        "plt.title('y = {}'.format(y_train[i]));\n",
        "plt.xticks([]);\n",
        "plt.yticks([]);"
      ],
      "execution_count": 13,
      "outputs": [
        {
          "output_type": "display_data",
          "data": {
            "image/png": "[encoded data removed]",
            "text/plain": [
              "<Figure size 432x288 with 1 Axes>"
            ]
          },
          "metadata": {
            "tags": []
          }
        }
      ]
    },
    {
      "cell_type": "code",
      "metadata": {
        "id": "cOlqeQyW8yJ1",
        "outputId": "c21dc796-adf8-4fd9-951f-905c8cad9abd",
        "colab": {
          "base_uri": "https://localhost:8080/",
          "height": 355
        }
      },
      "source": [
        "plt.figure(figsize=(12,12))\n",
        "for i in range(50):\n",
        "    plt.subplot(10,10,i+1)\n",
        "    plt.imshow(x_train[i], cmap=plt.cm.gray_r);\n",
        "    plt.xticks([]);\n",
        "    plt.yticks([]);"
      ],
      "execution_count": 14,
      "outputs": [
        {
          "output_type": "display_data",
          "data": {
            "image/png": "[encoded data removed]",
            "text/plain": [
              "<Figure size 864x864 with 50 Axes>"
            ]
          },
          "metadata": {
            "tags": []
          }
        }
      ]
    },
    {
      "cell_type": "markdown",
      "metadata": {
        "id": "d2rCCfwBGcZV"
      },
      "source": [
        "## Tarefas\n",
        "\n",
        "1. Separe um conjunto de validação com 5000 amostras (por exemplo, as últimas 5000 amostras do conjunto de treinamento). Confirme que a distribuição das classes é parecida com a do conjunto de treinamento (não precisa ser exatamente igual).\n",
        "\n",
        "#### Dica\n",
        "- Para calcular e visualizar um histograma, você pode utilizar a função `plt.hist()`, opcionalmente definindo os parâmetros `density` e `alpha`, entre outros."
      ]
    },
    {
      "cell_type": "code",
      "metadata": {
        "id": "BbOerXklcK41"
      },
      "source": [
        "from sklearn.model_selection import train_test_split\n",
        "x_train, x_val, y_train, y_val = train_test_split(x_train, y_train, test_size=0.08333, random_state=42)"
      ],
      "execution_count": 15,
      "outputs": []
    },
    {
      "cell_type": "code",
      "metadata": {
        "id": "ivhqgDzDO7Kg",
        "outputId": "3cc06be6-c33e-4176-d80c-817e3620681d",
        "colab": {
          "base_uri": "https://localhost:8080/",
          "height": 136
        }
      },
      "source": [
        "print('NOVO SHAPE:')\n",
        "print(f'Train: {x_train.shape, y_train.shape}')\n",
        "print(f'  Val: {x_val.shape, y_val.shape}')\n",
        "print('-'*40)\n",
        "print('Distribuição de classes:')\n",
        "print(f'Train: {len(np.unique(y_train))}')\n",
        "print(f'  Val: {len(np.unique(y_val))}')"
      ],
      "execution_count": 16,
      "outputs": [
        {
          "output_type": "stream",
          "text": [
            "NOVO SHAPE:\n",
            "Train: ((55000, 28, 28), (55000,))\n",
            "  Val: ((5000, 28, 28), (5000,))\n",
            "----------------------------------------\n",
            "Distribuição de classes:\n",
            "Train: 10\n",
            "  Val: 10\n"
          ],
          "name": "stdout"
        }
      ]
    },
    {
      "cell_type": "code",
      "metadata": {
        "id": "xTaqrI3Na-JN",
        "outputId": "ce5de70a-b38a-4cf4-812b-7b7ad5bd3f8d",
        "colab": {
          "base_uri": "https://localhost:8080/",
          "height": 244
        }
      },
      "source": [
        "fig, (ax1,ax2) = plt.subplots(1,2)\n",
        "ax1.imshow(x_train[1], cmap='gray')\n",
        "ax1.set_title(f'[Train] Número: {y_train[1]}')\n",
        "\n",
        "ax2.imshow(x_val[1], cmap='gray')\n",
        "ax2.set_title(f'[Val] Número: {y_val[1]}')\n",
        "plt.tight_layout()"
      ],
      "execution_count": 17,
      "outputs": [
        {
          "output_type": "display_data",
          "data": {
            "image/png": "[encoded data removed]",
            "text/plain": [
              "<Figure size 432x288 with 2 Axes>"
            ]
          },
          "metadata": {
            "tags": [],
            "needs_background": "light"
          }
        }
      ]
    },
    {
      "cell_type": "markdown",
      "metadata": {
        "id": "n0lFSrgoR45t"
      },
      "source": [
        "2. Para desenvolvimento do modelo, considere um subconjunto de treinamento com poucas amostras, por exemplo, as primeiras 10000, e também um número pequeno de épocas, por exemplo, 10. Isso vai permitir uma rápida experimentação. Uma vez finalizado o desenvolvimento, você poderá aumentar esses valores. Inicialmente, construa um modelo **baseline** sem nenhuma camada oculta, treine-o e confirme que está funcionando corretamente.\n",
        "1. Por hora, ignore o conjunto de validação. Tente obter 100% de acurácia de treinamento (com o conjunto reduzido) e apenas 10 épocas. O objetivo é garantir que o modelo possui capacidade suficiente para este problema. Fique à vontade para variar quaisquer hiperparâmetros do modelo ou do treinamento, mas utilize apenas conceitos já abordados na disciplina (i.e., não utilize camadas convolucionais). Tenha em mente as seguintes observações:\n",
        " - A taxa de aprendizado é provavelmente o hiperparâmetro mais importante, no sentido de que, mesmo que você consiga supostamente encontrar os melhores valores de todos os demais hiperparâmetros (inclusive da arquitetura do modelo), ainda assim o modelo poderá ter um desempenho ruim se a taxa de aprendizado não for ajustada adequadamente.\n",
        " - Em geral, cada modificação em algum hiperparâmetro pode exigir um novo ajuste da taxa de aprendizado (i.e., o seu valor ótimo pode mudar), embora alguns hiperparâmetros tenham um impacto maior do que outros.\n",
        " - O batch size tem um impacto grande na velocidade do treinamento, além de impactar no desempenho do modelo. De maneira geral, aumentar o batch size reduz o tempo de treinamento de uma época (por quê?), mas pode piorar o desempenho para um número fixo de épocas (por quê?). Assim, uma recomendação básica é utilizar o maior batch size possível tal que o desempenho do modelo (para um número fixo de épocas) não apresente degradação significativa. Minimizar o tempo de treinamento é essencial para uma rápida experimentação.\n",
        " - Naturalmente, o desempenho ótimo para cada valor de batch size envolve um ajuste da taxa de aprendizado. Uma regra prática (empírica) é: se o batch size é multiplicado por um fator F, então, para obter um desempenho semelhante, a taxa de aprendizado também deve ser multiplicada por F. Note que essa regra não é exata, mas serve como um bom ponto de partida.\n",
        "1. Relate suas principais observações sobre quais abordagens foram bem sucedidas ou não.\n",
        "\n",
        "#### Dicas\n",
        "- Para um problema multi-classe com codificação compacta $y \\in \\{0,1,\\ldots,9\\}$ (i.e., que **não** é *one-hot encoding*), a função perda adequada é a `'sparse_categorical_crossentropy'`. Nesse caso não é necessário codificar como *one-hot*.\n",
        "- O Keras permite monitorar, durante o treinamento, não apenas a perda, mas também outras métricas, como a acurácia, tanto de treinamento quanto de validação. Para isso, configure o parâmetro `metrics` ao executar `model.compile`. As curvas estarão disponíveis no parâmetro history.\n",
        "- Para avaliar o efeito de um hiperparâmetro, é muito útil garantir que não há outras fontes de \"ruído\" ou variação, assim cada hiperparâmetro pode ser avaliado isoladamente. Em particular, a inicialização dos pesos do modelo deve ser determinística. Para isso, utilize `tf.random.set_seed()` antes de definir o modelo. Isso também garante a reprodutibilidade dos resultados, caso você precise executar o treinamento novamente.\n",
        "- Para medir o tempo de execução de uma célula do notebook, utilize `%%time` na primeira linha da célula.\n",
        "- É usual (e tipicamente suficiente) variar o batch size em potências de 2.\n",
        "- Se desejar utilizar a GPU do Colab para acelerar o treinamento, selecione-a no menu *Runtime/Change runtime type*. Para os modelos deste exercício, porém, o ganho computacional provavelmente não será tão expressivo. Note também que é possível que a inicialização de pesos seja diferente de quando o modelo é executado sem GPU, ainda que a mesma *random seed* tenha sido definida."
      ]
    },
    {
      "cell_type": "code",
      "metadata": {
        "id": "7mz045j3qjwM"
      },
      "source": [
        "%%time\n",
        "input = 28*28\n",
        "model = tf.random.set_seed(42)\n",
        "model = Sequential()\n",
        "model.add(Flatten()) # 784 inputs\n",
        "model.add(layers.Dense(units = 10, activation = 'softmax', name = 'output')) # camada de saída\n",
        "\n",
        "optimizer = tf.keras.optimizers.Adam(learning_rate = 0.01)\n",
        "model.compile(optimizer = optimizer, loss = 'sparse_categorical_crossentropy', metrics=['accuracy'])\n",
        "\n",
        "history = model.fit(x_train[:10000],y_train[:10000], epochs = 10, batch_size=32, verbose=1)"
      ],
      "execution_count": null,
      "outputs": []
    },
    {
      "cell_type": "code",
      "metadata": {
        "id": "CuMktLsNqkUo",
        "outputId": "bcc22215-87e5-41f0-dbd1-4bea21a39625",
        "colab": {
          "base_uri": "https://localhost:8080/",
          "height": 51
        }
      },
      "source": [
        "model.evaluate(x_train[:10000],y_train[:10000])"
      ],
      "execution_count": 19,
      "outputs": [
        {
          "output_type": "stream",
          "text": [
            "313/313 [==============================] - 1s 2ms/step - loss: 0.1620 - accuracy: 0.9526\n"
          ],
          "name": "stdout"
        },
        {
          "output_type": "execute_result",
          "data": {
            "text/plain": [
              "[0.16195149719715118, 0.9526000022888184]"
            ]
          },
          "metadata": {
            "tags": []
          },
          "execution_count": 19
        }
      ]
    },
    {
      "cell_type": "markdown",
      "metadata": {
        "id": "vLFmp-xm2fzw"
      },
      "source": [
        "### Tente obter 100% de acurácia de treinamento (com o conjunto reduzido) e apenas 10 épocas"
      ]
    },
    {
      "cell_type": "code",
      "metadata": {
        "id": "_pynQHMH2bmV",
        "outputId": "bff2bb52-f123-44a5-f53a-6f854092021b",
        "colab": {
          "base_uri": "https://localhost:8080/",
          "height": 391
        }
      },
      "source": [
        "%%time\n",
        "input = 28*28\n",
        "model = tf.random.set_seed(10)\n",
        "model = Sequential()\n",
        "model.add(Flatten()) # 784 inputs\n",
        "model.add(layers.Dense(units = 32, activation = 'relu', input_shape = (28,28) , name = 'input1'))\n",
        "model.add(layers.Dense(units = 10, activation = 'softmax', name = 'output')) # camada de saída\n",
        "\n",
        "\n",
        "optimizer = tf.keras.optimizers.Adam(learning_rate = 0.003)\n",
        "model.compile(optimizer = optimizer, loss = 'sparse_categorical_crossentropy', metrics=['accuracy'])\n",
        "\n",
        "history = model.fit(x_train[:10000],y_train[:10000], epochs = 10, batch_size=32)"
      ],
      "execution_count": 25,
      "outputs": [
        {
          "output_type": "stream",
          "text": [
            "Epoch 1/10\n",
            "313/313 [==============================] - 1s 2ms/step - loss: 0.4990 - accuracy: 0.8561\n",
            "Epoch 2/10\n",
            "313/313 [==============================] - 1s 2ms/step - loss: 0.2563 - accuracy: 0.9242\n",
            "Epoch 3/10\n",
            "313/313 [==============================] - 1s 2ms/step - loss: 0.1889 - accuracy: 0.9442\n",
            "Epoch 4/10\n",
            "313/313 [==============================] - 1s 2ms/step - loss: 0.1463 - accuracy: 0.9560\n",
            "Epoch 5/10\n",
            "313/313 [==============================] - 1s 2ms/step - loss: 0.1153 - accuracy: 0.9674\n",
            "Epoch 6/10\n",
            "313/313 [==============================] - 1s 2ms/step - loss: 0.0959 - accuracy: 0.9704\n",
            "Epoch 7/10\n",
            "313/313 [==============================] - 1s 2ms/step - loss: 0.0838 - accuracy: 0.9735\n",
            "Epoch 8/10\n",
            "313/313 [==============================] - 1s 2ms/step - loss: 0.0658 - accuracy: 0.9802\n",
            "Epoch 9/10\n",
            "313/313 [==============================] - 1s 2ms/step - loss: 0.0510 - accuracy: 0.9845\n",
            "Epoch 10/10\n",
            "313/313 [==============================] - 1s 2ms/step - loss: 0.0426 - accuracy: 0.9884\n",
            "CPU times: user 7.66 s, sys: 848 ms, total: 8.51 s\n",
            "Wall time: 6.74 s\n"
          ],
          "name": "stdout"
        }
      ]
    },
    {
      "cell_type": "code",
      "metadata": {
        "id": "SP_cqKb72bgQ",
        "outputId": "f218d1c6-d286-495e-e89f-285fda302492",
        "colab": {
          "base_uri": "https://localhost:8080/",
          "height": 255
        }
      },
      "source": [
        "model.summary()"
      ],
      "execution_count": 26,
      "outputs": [
        {
          "output_type": "stream",
          "text": [
            "Model: \"sequential_7\"\n",
            "_________________________________________________________________\n",
            "Layer (type)                 Output Shape              Param #   \n",
            "=================================================================\n",
            "flatten_6 (Flatten)          (None, 784)               0         \n",
            "_________________________________________________________________\n",
            "input1 (Dense)               (None, 32)                25120     \n",
            "_________________________________________________________________\n",
            "output (Dense)               (None, 10)                330       \n",
            "=================================================================\n",
            "Total params: 25,450\n",
            "Trainable params: 25,450\n",
            "Non-trainable params: 0\n",
            "_________________________________________________________________\n"
          ],
          "name": "stdout"
        }
      ]
    },
    {
      "cell_type": "code",
      "metadata": {
        "id": "m-cwa1fY6CAs",
        "outputId": "89d467fd-c92e-4b9a-8e2b-fe62945fc699",
        "colab": {
          "base_uri": "https://localhost:8080/",
          "height": 51
        }
      },
      "source": [
        "model.evaluate(x_train[:10000],y_train[:10000])"
      ],
      "execution_count": 27,
      "outputs": [
        {
          "output_type": "stream",
          "text": [
            "313/313 [==============================] - 1s 2ms/step - loss: 0.0323 - accuracy: 0.9929\n"
          ],
          "name": "stdout"
        },
        {
          "output_type": "execute_result",
          "data": {
            "text/plain": [
              "[0.03231402114033699, 0.992900013923645]"
            ]
          },
          "metadata": {
            "tags": []
          },
          "execution_count": 27
        }
      ]
    },
    {
      "cell_type": "code",
      "metadata": {
        "id": "znsGqvS46B76"
      },
      "source": [
        ""
      ],
      "execution_count": null,
      "outputs": []
    },
    {
      "cell_type": "markdown",
      "metadata": {
        "id": "OwHxmwkdTHiZ"
      },
      "source": [
        "5. Agora, monitore também a acurácia de validação ao longo do treinamento, e ao final trace dois gráficos em função do número de épocas, um com a perda de treinamento e de validação e outro com a acurácia de treinamento e de validação.\n",
        "1. Altere o tamanho do conjunto de treinamento para 55000 e veja se consegue obter uma acurácia de validação de pelo menos 98% (em alguma época). A partir de agora, utilize quantas épocas desejar. Ao final do treinamento, sempre trace as curvas de perda e acurácia para os dois conjuntos.\n",
        "1. Mantenha os hiperparâmetros do modelo e altere apenas o tamanho do conjunto de treinamento. Trace um gráfico da acurácia de treinamento e da acurácia máxima de validação (para alguma época) em função do tamanho do conjunto de treinamento, por exemplo, em intervalos de 5 ou 10 mil amostras, até o máximo de 55000. Esta curva é conhecida em alguns contextos como curva de aprendizado (*learning curve*). Trace também o gráfico da época ótima em que foi obtida a máxima acurácia de validação, em função do tamanho do conjunto de treinamento. Que conclusões podem ser tiradas a partir desses resultados?\n",
        "1. Finalmente, utilize todas as 60000 amostras para treinamento (e naturalmente não utilize conjunto de validação), com um número de épocas apropriadamente escolhido. Em seguida, meça o desempenho no conjunto de teste.\n",
        "1. Para o modelo final que você desenvolveu, mostre alguns exemplos de predições erradas no conjunto de teste.\n",
        "1. Visualize como uma imagem os pesos da primeira camada oculta. Para isso, rode a célula abaixo:\n"
      ]
    },
    {
      "cell_type": "markdown",
      "metadata": {
        "id": "14emDt5M32Ye"
      },
      "source": [
        "Altere o tamanho do conjunto de treinamento para 55000 e veja se consegue obter uma acurácia de validação de pelo menos 98%\n"
      ]
    },
    {
      "cell_type": "code",
      "metadata": {
        "id": "rUlFXTXf1Qt8"
      },
      "source": [
        "%%time\n",
        "input = 28*28\n",
        "model = tf.random.set_seed(10)\n",
        "model = Sequential()\n",
        "model.add(Flatten()) # 784 inputs\n",
        "model.add(layers.Dense(units = 32, activation = 'relu', input_shape = (28,28) , name = 'layer1'))\n",
        "model.add(layers.Dense(units = 16, activation = 'relu', input_shape = (28,28) , name = 'layer2'))\n",
        "model.add(layers.Dense(units = 10, activation = 'softmax', name = 'output')) # camada de saída\n",
        "\n",
        "\n",
        "optimizer = tf.keras.optimizers.Adam(learning_rate = 0.003)\n",
        "model.compile(optimizer = optimizer, loss = 'sparse_categorical_crossentropy', metrics=['accuracy'])\n",
        "\n",
        "history = model.fit(x_train,y_train, validation_data=(x_val,y_val), epochs = 15, batch_size=32)"
      ],
      "execution_count": null,
      "outputs": []
    },
    {
      "cell_type": "code",
      "metadata": {
        "id": "7wV--B0x1QyD",
        "outputId": "48c0422a-217b-411f-cfc5-07b2783f636c",
        "colab": {
          "base_uri": "https://localhost:8080/",
          "height": 51
        }
      },
      "source": [
        "model.evaluate(x_val,y_val)"
      ],
      "execution_count": 34,
      "outputs": [
        {
          "output_type": "stream",
          "text": [
            "157/157 [==============================] - 0s 2ms/step - loss: 0.1416 - accuracy: 0.9660\n"
          ],
          "name": "stdout"
        },
        {
          "output_type": "execute_result",
          "data": {
            "text/plain": [
              "[0.14155663549900055, 0.9660000205039978]"
            ]
          },
          "metadata": {
            "tags": []
          },
          "execution_count": 34
        }
      ]
    },
    {
      "cell_type": "code",
      "metadata": {
        "id": "6heUY2Z14DvW",
        "outputId": "243778bc-c362-4127-aad9-a4ecd97c9179",
        "colab": {
          "base_uri": "https://localhost:8080/",
          "height": 282
        }
      },
      "source": [
        "plt.plot(history.history['loss'])\n",
        "plt.plot(history.history['val_loss'])"
      ],
      "execution_count": 46,
      "outputs": [
        {
          "output_type": "execute_result",
          "data": {
            "text/plain": [
              "[<matplotlib.lines.Line2D at 0x7f62ae0757b8>]"
            ]
          },
          "metadata": {
            "tags": []
          },
          "execution_count": 46
        },
        {
          "output_type": "display_data",
          "data": {
            "image/png": "[encoded data removed]",
            "text/plain": [
              "<Figure size 432x288 with 1 Axes>"
            ]
          },
          "metadata": {
            "tags": [],
            "needs_background": "light"
          }
        }
      ]
    },
    {
      "cell_type": "code",
      "metadata": {
        "id": "i0ZxBMkK4bti",
        "outputId": "8040ea11-eaff-4f99-b2ec-4347ca96da29",
        "colab": {
          "base_uri": "https://localhost:8080/",
          "height": 282
        }
      },
      "source": [
        "plt.plot(history.history['accuracy'])\n",
        "plt.plot(history.history['val_accuracy'])"
      ],
      "execution_count": 47,
      "outputs": [
        {
          "output_type": "execute_result",
          "data": {
            "text/plain": [
              "[<matplotlib.lines.Line2D at 0x7f629c6736d8>]"
            ]
          },
          "metadata": {
            "tags": []
          },
          "execution_count": 47
        },
        {
          "output_type": "display_data",
          "data": {
            "image/png": "[encoded data removed]",
            "text/plain": [
              "<Figure size 432x288 with 1 Axes>"
            ]
          },
          "metadata": {
            "tags": [],
            "needs_background": "light"
          }
        }
      ]
    },
    {
      "cell_type": "code",
      "metadata": {
        "id": "2mJxBsCD4Dr2"
      },
      "source": [
        ""
      ],
      "execution_count": null,
      "outputs": []
    },
    {
      "cell_type": "code",
      "metadata": {
        "id": "JLT8EZCkCHfa"
      },
      "source": [
        "W = model.weights[0].numpy()\n",
        "vmax = np.abs(W).max()\n",
        "@interact(i=(0,int(np.ceil(W.shape[1]/10))-1))\n",
        "def _(i=0):\n",
        "  plt.figure(figsize=(16,2.4));\n",
        "  # para ver de 10 em 10\n",
        "  for j in range(min(10, W.shape[1]-10*i)):\n",
        "    plt.subplot(1,10,j+1)\n",
        "    w = W[:,10*i+j].reshape(28,28)\n",
        "    plt.imshow(w, cmap=plt.cm.bwr, vmin=-vmax, vmax=vmax); # (-,0,+) = (blue, white, red)\n",
        "    plt.xticks([]);\n",
        "    plt.yticks([]);"
      ],
      "execution_count": null,
      "outputs": []
    },
    {
      "cell_type": "markdown",
      "metadata": {
        "id": "MtIXwBuGCGcT"
      },
      "source": [
        "11. Relate suas principais conclusões com este exercício.\n",
        "1. (OPCIONAL) O que acontece se é aplicada uma permutação aleatória nos pixels de todas as imagens (a mesma permutação para todas as imagens)? O desempenho do modelo se altera? Você consegue identificar corretamente os dígitos? O que podemos concluir sobre o aprendizado do modelo?\n",
        "\n",
        "#### Dicas\n",
        "- Funções úteis: `plt.figure(figsize=(...))`, `plt.subplot()`, `plt.plot(..., label=...)`, `plt.xlabel()`, `plt.legend()`\n",
        "- Quando usamos *early stopping*, perdemos parcialmente o controle sobre o número de épocas de treinamento como um hiperparâmetro. Nesse caso, após o desenvolvimento de um modelo, se desejarmos identificar seus hiperparâmetros, é conveniente registrar e fixar o número de épocas de treinamento efetivamente utilizadas e parar de utilizar *early stopping*.\n",
        "- Se quiser salvar o melhor modelo encontrado, mas sem usar *early stopping*, você pode utilizar a *callback* `tf.keras.callbacks.ModelCheckpoint`. Alternativamente, você pode usar *early stopping* com uma paciência suficientemente grande (maior que o número de épocas)."
      ]
    },
    {
      "cell_type": "code",
      "metadata": {
        "id": "xgBBqa-q8yJ5"
      },
      "source": [
        ""
      ],
      "execution_count": null,
      "outputs": []
    }
  ]
}