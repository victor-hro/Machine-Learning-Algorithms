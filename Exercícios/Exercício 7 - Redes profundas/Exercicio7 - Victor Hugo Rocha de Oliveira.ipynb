{
  "nbformat": 4,
  "nbformat_minor": 0,
  "metadata": {
    "accelerator": "GPU",
    "colab": {
      "name": "exercicio7.ipynb",
      "provenance": []
    },
    "kernelspec": {
      "display_name": "Python 3",
      "language": "python",
      "name": "python3"
    },
    "language_info": {
      "codemirror_mode": {
        "name": "ipython",
        "version": 3
      },
      "file_extension": ".py",
      "mimetype": "text/x-python",
      "name": "python",
      "nbconvert_exporter": "python",
      "pygments_lexer": "ipython3",
      "version": "3.8.3"
    },
    "widgets": {
      "application/vnd.jupyter.widget-state+json": {
        "bd2cf447f197430593ccd5de682a2759": {
          "model_module": "@jupyter-widgets/controls",
          "model_name": "VBoxModel",
          "state": {
            "_view_name": "VBoxView",
            "_dom_classes": [
              "widget-interact"
            ],
            "_model_name": "VBoxModel",
            "_view_module": "@jupyter-widgets/controls",
            "_model_module_version": "1.5.0",
            "_view_count": null,
            "_view_module_version": "1.5.0",
            "box_style": "",
            "layout": "IPY_MODEL_06a24e91d6654bc2ae059221cc68b8df",
            "_model_module": "@jupyter-widgets/controls",
            "children": [
              "IPY_MODEL_f19dda0b3f054d79ab97b84ef191f362",
              "IPY_MODEL_ca2f3f957da44ffc8f44553fb3a23a2e",
              "IPY_MODEL_c0f208daa4a948c2a45f719a6fdff4f8"
            ]
          }
        },
        "06a24e91d6654bc2ae059221cc68b8df": {
          "model_module": "@jupyter-widgets/base",
          "model_name": "LayoutModel",
          "state": {
            "_view_name": "LayoutView",
            "grid_template_rows": null,
            "right": null,
            "justify_content": null,
            "_view_module": "@jupyter-widgets/base",
            "overflow": null,
            "_model_module_version": "1.2.0",
            "_view_count": null,
            "flex_flow": null,
            "width": null,
            "min_width": null,
            "border": null,
            "align_items": null,
            "bottom": null,
            "_model_module": "@jupyter-widgets/base",
            "top": null,
            "grid_column": null,
            "overflow_y": null,
            "overflow_x": null,
            "grid_auto_flow": null,
            "grid_area": null,
            "grid_template_columns": null,
            "flex": null,
            "_model_name": "LayoutModel",
            "justify_items": null,
            "grid_row": null,
            "max_height": null,
            "align_content": null,
            "visibility": null,
            "align_self": null,
            "height": null,
            "min_height": null,
            "padding": null,
            "grid_auto_rows": null,
            "grid_gap": null,
            "max_width": null,
            "order": null,
            "_view_module_version": "1.2.0",
            "grid_template_areas": null,
            "object_position": null,
            "object_fit": null,
            "grid_auto_columns": null,
            "margin": null,
            "display": null,
            "left": null
          }
        },
        "f19dda0b3f054d79ab97b84ef191f362": {
          "model_module": "@jupyter-widgets/controls",
          "model_name": "DropdownModel",
          "state": {
            "_options_labels": [
              "constant",
              "invscaling",
              "adaptive"
            ],
            "_view_name": "DropdownView",
            "style": "IPY_MODEL_142e7411769147c7afd530d1acdb6997",
            "_dom_classes": [],
            "description": "lr",
            "_model_name": "DropdownModel",
            "index": 0,
            "_view_module": "@jupyter-widgets/controls",
            "_model_module_version": "1.5.0",
            "_view_count": null,
            "disabled": false,
            "_view_module_version": "1.5.0",
            "description_tooltip": null,
            "_model_module": "@jupyter-widgets/controls",
            "layout": "IPY_MODEL_8c1fbed66f694570ad3fbeb49a90867a"
          }
        },
        "ca2f3f957da44ffc8f44553fb3a23a2e": {
          "model_module": "@jupyter-widgets/controls",
          "model_name": "IntSliderModel",
          "state": {
            "_view_name": "IntSliderView",
            "style": "IPY_MODEL_f4094e4689ca4e56ad0988e5be133763",
            "_dom_classes": [],
            "description": "units",
            "step": 10,
            "_model_name": "IntSliderModel",
            "orientation": "horizontal",
            "max": 100,
            "_view_module": "@jupyter-widgets/controls",
            "_model_module_version": "1.5.0",
            "value": 50,
            "_view_count": null,
            "disabled": false,
            "_view_module_version": "1.5.0",
            "min": 0,
            "continuous_update": true,
            "readout_format": "d",
            "description_tooltip": null,
            "readout": true,
            "_model_module": "@jupyter-widgets/controls",
            "layout": "IPY_MODEL_16140db8be99452886b3387bb139f18d"
          }
        },
        "c0f208daa4a948c2a45f719a6fdff4f8": {
          "model_module": "@jupyter-widgets/output",
          "model_name": "OutputModel",
          "state": {
            "_view_name": "OutputView",
            "msg_id": "",
            "_dom_classes": [],
            "_model_name": "OutputModel",
            "outputs": [
              {
                "output_type": "stream",
                "metadata": {
                  "tags": []
                },
                "text": "Train accuracy: 100.0%\n  Val accuracy: 100.0%\nloss: 0.3051758343681441\n",
                "stream": "stdout"
              },
              {
                "output_type": "stream",
                "metadata": {
                  "tags": []
                },
                "text": "/usr/local/lib/python3.6/dist-packages/sklearn/neural_network/_multilayer_perceptron.py:571: ConvergenceWarning: Stochastic Optimizer: Maximum iterations (200) reached and the optimization hasn't converged yet.\n  % self.max_iter, ConvergenceWarning)\n",
                "stream": "stderr"
              },
              {
                "output_type": "display_data",
                "metadata": {
                  "tags": [],
                  "needs_background": "light"
                },
                "image/png": "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\n",
                "text/plain": "<Figure size 432x288 with 1 Axes>"
              }
            ],
            "_view_module": "@jupyter-widgets/output",
            "_model_module_version": "1.0.0",
            "_view_count": null,
            "_view_module_version": "1.0.0",
            "layout": "IPY_MODEL_1382f2c966bf413e9e35f0c3bd1f5ed5",
            "_model_module": "@jupyter-widgets/output"
          }
        },
        "142e7411769147c7afd530d1acdb6997": {
          "model_module": "@jupyter-widgets/controls",
          "model_name": "DescriptionStyleModel",
          "state": {
            "_view_name": "StyleView",
            "_model_name": "DescriptionStyleModel",
            "description_width": "",
            "_view_module": "@jupyter-widgets/base",
            "_model_module_version": "1.5.0",
            "_view_count": null,
            "_view_module_version": "1.2.0",
            "_model_module": "@jupyter-widgets/controls"
          }
        },
        "8c1fbed66f694570ad3fbeb49a90867a": {
          "model_module": "@jupyter-widgets/base",
          "model_name": "LayoutModel",
          "state": {
            "_view_name": "LayoutView",
            "grid_template_rows": null,
            "right": null,
            "justify_content": null,
            "_view_module": "@jupyter-widgets/base",
            "overflow": null,
            "_model_module_version": "1.2.0",
            "_view_count": null,
            "flex_flow": null,
            "width": null,
            "min_width": null,
            "border": null,
            "align_items": null,
            "bottom": null,
            "_model_module": "@jupyter-widgets/base",
            "top": null,
            "grid_column": null,
            "overflow_y": null,
            "overflow_x": null,
            "grid_auto_flow": null,
            "grid_area": null,
            "grid_template_columns": null,
            "flex": null,
            "_model_name": "LayoutModel",
            "justify_items": null,
            "grid_row": null,
            "max_height": null,
            "align_content": null,
            "visibility": null,
            "align_self": null,
            "height": null,
            "min_height": null,
            "padding": null,
            "grid_auto_rows": null,
            "grid_gap": null,
            "max_width": null,
            "order": null,
            "_view_module_version": "1.2.0",
            "grid_template_areas": null,
            "object_position": null,
            "object_fit": null,
            "grid_auto_columns": null,
            "margin": null,
            "display": null,
            "left": null
          }
        },
        "f4094e4689ca4e56ad0988e5be133763": {
          "model_module": "@jupyter-widgets/controls",
          "model_name": "SliderStyleModel",
          "state": {
            "_view_name": "StyleView",
            "handle_color": null,
            "_model_name": "SliderStyleModel",
            "description_width": "",
            "_view_module": "@jupyter-widgets/base",
            "_model_module_version": "1.5.0",
            "_view_count": null,
            "_view_module_version": "1.2.0",
            "_model_module": "@jupyter-widgets/controls"
          }
        },
        "16140db8be99452886b3387bb139f18d": {
          "model_module": "@jupyter-widgets/base",
          "model_name": "LayoutModel",
          "state": {
            "_view_name": "LayoutView",
            "grid_template_rows": null,
            "right": null,
            "justify_content": null,
            "_view_module": "@jupyter-widgets/base",
            "overflow": null,
            "_model_module_version": "1.2.0",
            "_view_count": null,
            "flex_flow": null,
            "width": null,
            "min_width": null,
            "border": null,
            "align_items": null,
            "bottom": null,
            "_model_module": "@jupyter-widgets/base",
            "top": null,
            "grid_column": null,
            "overflow_y": null,
            "overflow_x": null,
            "grid_auto_flow": null,
            "grid_area": null,
            "grid_template_columns": null,
            "flex": null,
            "_model_name": "LayoutModel",
            "justify_items": null,
            "grid_row": null,
            "max_height": null,
            "align_content": null,
            "visibility": null,
            "align_self": null,
            "height": null,
            "min_height": null,
            "padding": null,
            "grid_auto_rows": null,
            "grid_gap": null,
            "max_width": null,
            "order": null,
            "_view_module_version": "1.2.0",
            "grid_template_areas": null,
            "object_position": null,
            "object_fit": null,
            "grid_auto_columns": null,
            "margin": null,
            "display": null,
            "left": null
          }
        },
        "1382f2c966bf413e9e35f0c3bd1f5ed5": {
          "model_module": "@jupyter-widgets/base",
          "model_name": "LayoutModel",
          "state": {
            "_view_name": "LayoutView",
            "grid_template_rows": null,
            "right": null,
            "justify_content": null,
            "_view_module": "@jupyter-widgets/base",
            "overflow": null,
            "_model_module_version": "1.2.0",
            "_view_count": null,
            "flex_flow": null,
            "width": null,
            "min_width": null,
            "border": null,
            "align_items": null,
            "bottom": null,
            "_model_module": "@jupyter-widgets/base",
            "top": null,
            "grid_column": null,
            "overflow_y": null,
            "overflow_x": null,
            "grid_auto_flow": null,
            "grid_area": null,
            "grid_template_columns": null,
            "flex": null,
            "_model_name": "LayoutModel",
            "justify_items": null,
            "grid_row": null,
            "max_height": null,
            "align_content": null,
            "visibility": null,
            "align_self": null,
            "height": null,
            "min_height": null,
            "padding": null,
            "grid_auto_rows": null,
            "grid_gap": null,
            "max_width": null,
            "order": null,
            "_view_module_version": "1.2.0",
            "grid_template_areas": null,
            "object_position": null,
            "object_fit": null,
            "grid_auto_columns": null,
            "margin": null,
            "display": null,
            "left": null
          }
        }
      }
    }
  },
  "cells": [
    {
      "cell_type": "markdown",
      "metadata": {
        "id": "8JBVC5Tk8yJd"
      },
      "source": [
        "Universidade Federal de Santa Catarina<br>\n",
        "Departamento de Engenharia Elétrica e Eletrônica<br>\n",
        "EEL7514 / EEL7513 / EEL410250 - Aprendizado de Máquina\n",
        "$\\newcommand{\\bX}{\\mathbf{X}}$\n",
        "$\\newcommand{\\bw}{\\mathbf{w}}$\n",
        "$\\newcommand{\\by}{\\mathbf{y}}$\n",
        "$\\newcommand{\\bx}{\\mathbf{x}}$\n",
        "$\\newcommand{\\RR}{\\mathbb{R}}$\n",
        "$\\newcommand{\\calS}{\\mathcal{S}}$\n",
        "\n",
        "# Exercício 7: Redes Profundas\n",
        "\n",
        "Neste exercício você irá construir modelos de redes neurais para realizar classificação e experimentar diversas configurações de hiperparâmetros."
      ]
    },
    {
      "cell_type": "code",
      "metadata": {
        "id": "u32AG3f88yJe",
        "outputId": "e80cf9bc-1bb7-4dfd-fafe-1f328b0e50a0",
        "colab": {
          "base_uri": "https://localhost:8080/",
          "height": 68
        }
      },
      "source": [
        "import numpy as np\n",
        "import matplotlib.pyplot as plt\n",
        "%matplotlib inline\n",
        "from ipywidgets import interact\n",
        "from sklearn.neural_network import MLPClassifier\n",
        "\n",
        "import sys\n",
        "import tensorflow as tf\n",
        "print('Python version:', sys.version.split(' ')[0])\n",
        "print('TensorFlow version:', tf.__version__)\n",
        "print('GPU:', tf.config.list_physical_devices('GPU'))"
      ],
      "execution_count": 1,
      "outputs": [
        {
          "output_type": "stream",
          "text": [
            "Python version: 3.6.9\n",
            "TensorFlow version: 2.3.0\n",
            "GPU: [PhysicalDevice(name='/physical_device:GPU:0', device_type='GPU')]\n"
          ],
          "name": "stdout"
        }
      ]
    },
    {
      "cell_type": "markdown",
      "metadata": {
        "id": "RbGFQS7l8yJh"
      },
      "source": [
        "# 1. Conjunto de dados #1\n",
        "\n",
        "Para \"aquecer\", vamos começar utilizando o conjunto XOR do exercício anterior."
      ]
    },
    {
      "cell_type": "code",
      "metadata": {
        "id": "dD6SIvwp8yJi",
        "outputId": "d2fb8610-b8c3-4779-f523-5866c5b3fd0f",
        "colab": {
          "base_uri": "https://localhost:8080/",
          "height": 51
        }
      },
      "source": [
        "from sklearn.datasets import make_blobs\n",
        "from sklearn.model_selection import train_test_split\n",
        "X_train, y_train = make_blobs(n_samples=400, n_features=2, centers=[[0,0],[1,1],[0,1],[1,0]], cluster_std=0.15, random_state=0)\n",
        "y_train = (y_train >= 2).astype(int)\n",
        "X_train, X_val, y_train, y_val = train_test_split(X_train, y_train, test_size=1/4, random_state=0)\n",
        "print(X_train.shape, y_train.shape)\n",
        "print(X_val.shape, y_val.shape)"
      ],
      "execution_count": 2,
      "outputs": [
        {
          "output_type": "stream",
          "text": [
            "(300, 2) (300,)\n",
            "(100, 2) (100,)\n"
          ],
          "name": "stdout"
        }
      ]
    },
    {
      "cell_type": "markdown",
      "metadata": {
        "id": "9FVYxBOx8yJk"
      },
      "source": [
        "1. Usando a biblioteca sklearn, treine uma rede neural de 2 camadas (1 oculta) para classificação. Utilize o otimizador Adam com parâmetros padrão, exceto pela taxa de aprendizado (constante), que deve ser escolhida apropriadamente. Obtenha 100% de acurácia de treinamento e de validação e calcule o valor da perda ao final do treinamento. Além disso, trace a curva da perda de treinamento ao longo das épocas.\n",
        "\n",
        "#### Dicas\n",
        "- Para obter a curva de perda no treinamento, você pode utilizar `model.loss_curve_`.\n",
        "- Note que o sklearn usa uma terminologia por vezes inconsistente com a literatura da área (mas consistente internamente em sua API). Por exemplo, o parâmetro `max_iter` corresponde ao número de épocas, não necessariamente ao número de atualizações de pesos. Outro aspecto incômodo é juntar todos os hiperparâmetros do treinamento dentro da definição do modelo, o que além de tornar a chamada extensa, faz com que, dependendo da configuração, alguns parâmetros se tornem desnecessários ou mudem de definição."
      ]
    },
    {
      "cell_type": "code",
      "metadata": {
        "id": "8QFWXAmNdY9D"
      },
      "source": [
        "from sklearn.neural_network import MLPClassifier\n",
        "from sklearn.metrics import log_loss"
      ],
      "execution_count": 3,
      "outputs": []
    },
    {
      "cell_type": "code",
      "metadata": {
        "id": "OX8AA8OHdZFz",
        "outputId": "eccce822-79f9-4d4c-eea1-83ca21f5cd78",
        "colab": {
          "base_uri": "https://localhost:8080/",
          "height": 431,
          "referenced_widgets": [
            "bd2cf447f197430593ccd5de682a2759",
            "06a24e91d6654bc2ae059221cc68b8df",
            "f19dda0b3f054d79ab97b84ef191f362",
            "ca2f3f957da44ffc8f44553fb3a23a2e",
            "c0f208daa4a948c2a45f719a6fdff4f8",
            "142e7411769147c7afd530d1acdb6997",
            "8c1fbed66f694570ad3fbeb49a90867a",
            "f4094e4689ca4e56ad0988e5be133763",
            "16140db8be99452886b3387bb139f18d",
            "1382f2c966bf413e9e35f0c3bd1f5ed5"
          ]
        }
      },
      "source": [
        "@interact(lr = ['constant', 'invscaling', 'adaptive'], units = (0,100,10)) \n",
        "def _(lr,units):\n",
        "  model = MLPClassifier(hidden_layer_sizes=[units], activation='relu', solver = 'adam', learning_rate=lr,)\n",
        "  model.fit(X_train,y_train)\n",
        "  print(f'Train accuracy: {round(model.score(X_train,y_train),2)*100}%')\n",
        "  print(f'  Val accuracy: {round(model.score(X_val,y_val),2)*100}%')\n",
        "  print(f'loss: {model.loss_}')\n",
        "  plt.plot(model.loss_curve_)"
      ],
      "execution_count": 4,
      "outputs": [
        {
          "output_type": "display_data",
          "data": {
            "application/vnd.jupyter.widget-view+json": {
              "model_id": "bd2cf447f197430593ccd5de682a2759",
              "version_minor": 0,
              "version_major": 2
            },
            "text/plain": [
              "interactive(children=(Dropdown(description='lr', options=('constant', 'invscaling', 'adaptive'), value='consta…"
            ]
          },
          "metadata": {
            "tags": []
          }
        }
      ]
    },
    {
      "cell_type": "code",
      "metadata": {
        "id": "yjmXxR9rRWUY",
        "outputId": "c223a285-d86e-4f3c-a776-7393d8d21b94",
        "colab": {
          "base_uri": "https://localhost:8080/",
          "height": 387
        }
      },
      "source": [
        "  model = MLPClassifier(hidden_layer_sizes=[100], activation='relu', solver = 'adam', learning_rate='constant')\n",
        "  model.fit(X_train,y_train)\n",
        "  print(f'Train accuracy: {round(model.score(X_train,y_train),2)*100}%')\n",
        "  print(f'  Val accuracy: {round(model.score(X_val,y_val),2)*100}%')\n",
        "  print(f'loss: {model.loss_}')\n",
        "  plt.plot(model.loss_curve_)"
      ],
      "execution_count": 5,
      "outputs": [
        {
          "output_type": "stream",
          "text": [
            "Train accuracy: 100.0%\n",
            "  Val accuracy: 100.0%\n",
            "loss: 0.13590435072476525\n"
          ],
          "name": "stdout"
        },
        {
          "output_type": "stream",
          "text": [
            "/usr/local/lib/python3.6/dist-packages/sklearn/neural_network/_multilayer_perceptron.py:571: ConvergenceWarning: Stochastic Optimizer: Maximum iterations (200) reached and the optimization hasn't converged yet.\n",
            "  % self.max_iter, ConvergenceWarning)\n"
          ],
          "name": "stderr"
        },
        {
          "output_type": "execute_result",
          "data": {
            "text/plain": [
              "[<matplotlib.lines.Line2D at 0x7f29411e3748>]"
            ]
          },
          "metadata": {
            "tags": []
          },
          "execution_count": 5
        },
        {
          "output_type": "display_data",
          "data": {
            "image/png": "[encoded data removed]",
            "text/plain": [
              "<Figure size 432x288 with 1 Axes>"
            ]
          },
          "metadata": {
            "tags": [],
            "needs_background": "light"
          }
        }
      ]
    },
    {
      "cell_type": "code",
      "metadata": {
        "id": "kxz0Nvatkyi0"
      },
      "source": [
        ""
      ],
      "execution_count": 5,
      "outputs": []
    },
    {
      "cell_type": "markdown",
      "metadata": {
        "id": "9caTd3Gr9pev"
      },
      "source": [
        "2. Repita o item anterior usando [Keras](https://keras.io/), a API de alto-nível do [TensorFlow](https://www.tensorflow.org/), disponível através do módulo `tensorflow.keras`. Certifique-se de estar usando TensorFlow 2.x.\n",
        "\n",
        "\n",
        "### Dicas\n",
        "- Ao invés de instalar o TensorFlow e rodar localmente em sua máquina, uma opção mais simples é utilizar o serviço em nuvem gratuito [Google Colab](https://colab.research.google.com), que já possui todas as bibliotecas necessárias instaladas, inclusive o TensorFlow 2.x.\n",
        "\n",
        "- Leia a documentação do Keras para aprender a utilizá-lo. Para quem está começando, é recomendável (e suficiente para este exercício) usar a classe [Sequential](https://keras.io/guides/sequential_model). É útil também conhecer sobre funções de [ativação](https://keras.io/activations), funções de [perda](https://keras.io/losses), métodos de [otimização](https://keras.io/api/optimizers) e o processo de [treinamento e avaliação](https://keras.io/guides/training_with_built_in_methods/) de modelos.\n",
        "- No Keras, ao contrário do sklearn, é necessário especificar explicitamente a camada de saída, sua função de ativação, e a função de perda utilizada. (No sklearn, essa escolha é automática a partir dos valores encontrados em `y_train`.) \n",
        "- É recommendável utilizar o comando `model.summary()` para obter uma descrição de todas as camadas da rede neural.\n",
        "- Para configurar a taxa de aprendizado, é necessário instanciar um otimizador, caso contrário será usado o valor padrão.\n",
        "- Para obter a curva de perda no treinamento, utilize \n",
        "```python\n",
        "history = model.fit(...)\n",
        "history.history['loss']\n",
        "```\n",
        "- Se quiser garantir a reprodutibilidade, utilize `tf.random.set_seed()` **antes** de definir o modelo (os pesos são inicializados no momento da adição de cada camada).\n"
      ]
    },
    {
      "cell_type": "code",
      "metadata": {
        "id": "0tAa4k0qvhb7",
        "outputId": "bd2e43cc-7bec-4fb5-fde5-7e482fe5a890",
        "colab": {
          "base_uri": "https://localhost:8080/",
          "height": 1000
        }
      },
      "source": [
        "import tensorflow as tf\n",
        "from tensorflow.keras import layers, Sequential\n",
        "model = tf.random.set_seed(40)\n",
        "model = Sequential()\n",
        "#Dense(neuronios, função, input_shape = número de atributos)\n",
        "model.add(layers.Dense(units = 50, activation = 'relu', input_dim = ( X_train.shape[1]), name = 'input')) # camada oculta\n",
        "model.add(layers.Dense(units = 1, activation = 'sigmoid', name = 'output')) # camada de saída\n",
        "#optimizer = keras.optimizers.Adam(learning_rate =0.01)\n",
        "model.compile(optimizer = 'adam', loss = 'binary_crossentropy', metrics=['accuracy'])\n",
        "history = model.fit(X_train,y_train, epochs = 200)"
      ],
      "execution_count": 6,
      "outputs": [
        {
          "output_type": "stream",
          "text": [
            "Epoch 1/200\n",
            "10/10 [==============================] - 0s 2ms/step - loss: 0.7366 - accuracy: 0.4933\n",
            "Epoch 2/200\n",
            "10/10 [==============================] - 0s 2ms/step - loss: 0.7208 - accuracy: 0.4533\n",
            "Epoch 3/200\n",
            "10/10 [==============================] - 0s 2ms/step - loss: 0.7076 - accuracy: 0.4300\n",
            "Epoch 4/200\n",
            "10/10 [==============================] - 0s 2ms/step - loss: 0.6956 - accuracy: 0.4867\n",
            "Epoch 5/200\n",
            "10/10 [==============================] - 0s 2ms/step - loss: 0.6842 - accuracy: 0.6167\n",
            "Epoch 6/200\n",
            "10/10 [==============================] - 0s 2ms/step - loss: 0.6732 - accuracy: 0.6833\n",
            "Epoch 7/200\n",
            "10/10 [==============================] - 0s 2ms/step - loss: 0.6623 - accuracy: 0.7000\n",
            "Epoch 8/200\n",
            "10/10 [==============================] - 0s 2ms/step - loss: 0.6509 - accuracy: 0.7100\n",
            "Epoch 9/200\n",
            "10/10 [==============================] - 0s 2ms/step - loss: 0.6391 - accuracy: 0.8100\n",
            "Epoch 10/200\n",
            "10/10 [==============================] - 0s 2ms/step - loss: 0.6274 - accuracy: 0.8933\n",
            "Epoch 11/200\n",
            "10/10 [==============================] - 0s 2ms/step - loss: 0.6151 - accuracy: 0.9533\n",
            "Epoch 12/200\n",
            "10/10 [==============================] - 0s 2ms/step - loss: 0.6027 - accuracy: 0.9833\n",
            "Epoch 13/200\n",
            "10/10 [==============================] - 0s 2ms/step - loss: 0.5906 - accuracy: 0.9900\n",
            "Epoch 14/200\n",
            "10/10 [==============================] - 0s 2ms/step - loss: 0.5779 - accuracy: 0.9967\n",
            "Epoch 15/200\n",
            "10/10 [==============================] - 0s 2ms/step - loss: 0.5655 - accuracy: 0.9967\n",
            "Epoch 16/200\n",
            "10/10 [==============================] - 0s 2ms/step - loss: 0.5532 - accuracy: 1.0000\n",
            "Epoch 17/200\n",
            "10/10 [==============================] - 0s 2ms/step - loss: 0.5403 - accuracy: 1.0000\n",
            "Epoch 18/200\n",
            "10/10 [==============================] - 0s 2ms/step - loss: 0.5278 - accuracy: 1.0000\n",
            "Epoch 19/200\n",
            "10/10 [==============================] - 0s 2ms/step - loss: 0.5149 - accuracy: 1.0000\n",
            "Epoch 20/200\n",
            "10/10 [==============================] - 0s 2ms/step - loss: 0.5020 - accuracy: 1.0000\n",
            "Epoch 21/200\n",
            "10/10 [==============================] - 0s 2ms/step - loss: 0.4889 - accuracy: 1.0000\n",
            "Epoch 22/200\n",
            "10/10 [==============================] - 0s 2ms/step - loss: 0.4760 - accuracy: 1.0000\n",
            "Epoch 23/200\n",
            "10/10 [==============================] - 0s 2ms/step - loss: 0.4629 - accuracy: 1.0000\n",
            "Epoch 24/200\n",
            "10/10 [==============================] - 0s 2ms/step - loss: 0.4499 - accuracy: 1.0000\n",
            "Epoch 25/200\n",
            "10/10 [==============================] - 0s 2ms/step - loss: 0.4372 - accuracy: 1.0000\n",
            "Epoch 26/200\n",
            "10/10 [==============================] - 0s 2ms/step - loss: 0.4239 - accuracy: 1.0000\n",
            "Epoch 27/200\n",
            "10/10 [==============================] - 0s 2ms/step - loss: 0.4110 - accuracy: 1.0000\n",
            "Epoch 28/200\n",
            "10/10 [==============================] - 0s 2ms/step - loss: 0.3982 - accuracy: 1.0000\n",
            "Epoch 29/200\n",
            "10/10 [==============================] - 0s 2ms/step - loss: 0.3858 - accuracy: 1.0000\n",
            "Epoch 30/200\n",
            "10/10 [==============================] - 0s 2ms/step - loss: 0.3736 - accuracy: 1.0000\n",
            "Epoch 31/200\n",
            "10/10 [==============================] - 0s 2ms/step - loss: 0.3614 - accuracy: 1.0000\n",
            "Epoch 32/200\n",
            "10/10 [==============================] - 0s 2ms/step - loss: 0.3497 - accuracy: 1.0000\n",
            "Epoch 33/200\n",
            "10/10 [==============================] - 0s 2ms/step - loss: 0.3381 - accuracy: 1.0000\n",
            "Epoch 34/200\n",
            "10/10 [==============================] - 0s 3ms/step - loss: 0.3264 - accuracy: 1.0000\n",
            "Epoch 35/200\n",
            "10/10 [==============================] - 0s 2ms/step - loss: 0.3148 - accuracy: 1.0000\n",
            "Epoch 36/200\n",
            "10/10 [==============================] - 0s 2ms/step - loss: 0.3034 - accuracy: 1.0000\n",
            "Epoch 37/200\n",
            "10/10 [==============================] - 0s 2ms/step - loss: 0.2923 - accuracy: 1.0000\n",
            "Epoch 38/200\n",
            "10/10 [==============================] - 0s 2ms/step - loss: 0.2821 - accuracy: 1.0000\n",
            "Epoch 39/200\n",
            "10/10 [==============================] - 0s 2ms/step - loss: 0.2720 - accuracy: 1.0000\n",
            "Epoch 40/200\n",
            "10/10 [==============================] - 0s 2ms/step - loss: 0.2623 - accuracy: 1.0000\n",
            "Epoch 41/200\n",
            "10/10 [==============================] - 0s 2ms/step - loss: 0.2526 - accuracy: 1.0000\n",
            "Epoch 42/200\n",
            "10/10 [==============================] - 0s 2ms/step - loss: 0.2438 - accuracy: 1.0000\n",
            "Epoch 43/200\n",
            "10/10 [==============================] - 0s 2ms/step - loss: 0.2352 - accuracy: 1.0000\n",
            "Epoch 44/200\n",
            "10/10 [==============================] - 0s 2ms/step - loss: 0.2269 - accuracy: 1.0000\n",
            "Epoch 45/200\n",
            "10/10 [==============================] - 0s 2ms/step - loss: 0.2188 - accuracy: 1.0000\n",
            "Epoch 46/200\n",
            "10/10 [==============================] - 0s 2ms/step - loss: 0.2113 - accuracy: 1.0000\n",
            "Epoch 47/200\n",
            "10/10 [==============================] - 0s 2ms/step - loss: 0.2040 - accuracy: 1.0000\n",
            "Epoch 48/200\n",
            "10/10 [==============================] - 0s 2ms/step - loss: 0.1969 - accuracy: 1.0000\n",
            "Epoch 49/200\n",
            "10/10 [==============================] - 0s 2ms/step - loss: 0.1901 - accuracy: 1.0000\n",
            "Epoch 50/200\n",
            "10/10 [==============================] - 0s 2ms/step - loss: 0.1838 - accuracy: 1.0000\n",
            "Epoch 51/200\n",
            "10/10 [==============================] - 0s 2ms/step - loss: 0.1776 - accuracy: 1.0000\n",
            "Epoch 52/200\n",
            "10/10 [==============================] - 0s 2ms/step - loss: 0.1717 - accuracy: 1.0000\n",
            "Epoch 53/200\n",
            "10/10 [==============================] - 0s 2ms/step - loss: 0.1661 - accuracy: 1.0000\n",
            "Epoch 54/200\n",
            "10/10 [==============================] - 0s 3ms/step - loss: 0.1607 - accuracy: 1.0000\n",
            "Epoch 55/200\n",
            "10/10 [==============================] - 0s 2ms/step - loss: 0.1556 - accuracy: 1.0000\n",
            "Epoch 56/200\n",
            "10/10 [==============================] - 0s 2ms/step - loss: 0.1507 - accuracy: 1.0000\n",
            "Epoch 57/200\n",
            "10/10 [==============================] - 0s 2ms/step - loss: 0.1459 - accuracy: 1.0000\n",
            "Epoch 58/200\n",
            "10/10 [==============================] - 0s 2ms/step - loss: 0.1414 - accuracy: 1.0000\n",
            "Epoch 59/200\n",
            "10/10 [==============================] - 0s 2ms/step - loss: 0.1370 - accuracy: 1.0000\n",
            "Epoch 60/200\n",
            "10/10 [==============================] - 0s 2ms/step - loss: 0.1331 - accuracy: 1.0000\n",
            "Epoch 61/200\n",
            "10/10 [==============================] - 0s 2ms/step - loss: 0.1290 - accuracy: 1.0000\n",
            "Epoch 62/200\n",
            "10/10 [==============================] - 0s 2ms/step - loss: 0.1251 - accuracy: 1.0000\n",
            "Epoch 63/200\n",
            "10/10 [==============================] - 0s 2ms/step - loss: 0.1215 - accuracy: 1.0000\n",
            "Epoch 64/200\n",
            "10/10 [==============================] - 0s 2ms/step - loss: 0.1180 - accuracy: 1.0000\n",
            "Epoch 65/200\n",
            "10/10 [==============================] - 0s 2ms/step - loss: 0.1146 - accuracy: 1.0000\n",
            "Epoch 66/200\n",
            "10/10 [==============================] - 0s 2ms/step - loss: 0.1114 - accuracy: 1.0000\n",
            "Epoch 67/200\n",
            "10/10 [==============================] - 0s 2ms/step - loss: 0.1083 - accuracy: 1.0000\n",
            "Epoch 68/200\n",
            "10/10 [==============================] - 0s 2ms/step - loss: 0.1053 - accuracy: 1.0000\n",
            "Epoch 69/200\n",
            "10/10 [==============================] - 0s 2ms/step - loss: 0.1024 - accuracy: 1.0000\n",
            "Epoch 70/200\n",
            "10/10 [==============================] - 0s 2ms/step - loss: 0.0997 - accuracy: 1.0000\n",
            "Epoch 71/200\n",
            "10/10 [==============================] - 0s 2ms/step - loss: 0.0970 - accuracy: 1.0000\n",
            "Epoch 72/200\n",
            "10/10 [==============================] - 0s 2ms/step - loss: 0.0945 - accuracy: 1.0000\n",
            "Epoch 73/200\n",
            "10/10 [==============================] - 0s 3ms/step - loss: 0.0921 - accuracy: 1.0000\n",
            "Epoch 74/200\n",
            "10/10 [==============================] - 0s 2ms/step - loss: 0.0897 - accuracy: 1.0000\n",
            "Epoch 75/200\n",
            "10/10 [==============================] - 0s 2ms/step - loss: 0.0875 - accuracy: 1.0000\n",
            "Epoch 76/200\n",
            "10/10 [==============================] - 0s 2ms/step - loss: 0.0853 - accuracy: 1.0000\n",
            "Epoch 77/200\n",
            "10/10 [==============================] - 0s 2ms/step - loss: 0.0831 - accuracy: 1.0000\n",
            "Epoch 78/200\n",
            "10/10 [==============================] - 0s 2ms/step - loss: 0.0812 - accuracy: 1.0000\n",
            "Epoch 79/200\n",
            "10/10 [==============================] - 0s 2ms/step - loss: 0.0792 - accuracy: 1.0000\n",
            "Epoch 80/200\n",
            "10/10 [==============================] - 0s 2ms/step - loss: 0.0774 - accuracy: 1.0000\n",
            "Epoch 81/200\n",
            "10/10 [==============================] - 0s 2ms/step - loss: 0.0756 - accuracy: 1.0000\n",
            "Epoch 82/200\n",
            "10/10 [==============================] - 0s 2ms/step - loss: 0.0738 - accuracy: 1.0000\n",
            "Epoch 83/200\n",
            "10/10 [==============================] - 0s 2ms/step - loss: 0.0721 - accuracy: 1.0000\n",
            "Epoch 84/200\n",
            "10/10 [==============================] - 0s 2ms/step - loss: 0.0705 - accuracy: 1.0000\n",
            "Epoch 85/200\n",
            "10/10 [==============================] - 0s 2ms/step - loss: 0.0689 - accuracy: 1.0000\n",
            "Epoch 86/200\n",
            "10/10 [==============================] - 0s 2ms/step - loss: 0.0674 - accuracy: 1.0000\n",
            "Epoch 87/200\n",
            "10/10 [==============================] - 0s 2ms/step - loss: 0.0660 - accuracy: 1.0000\n",
            "Epoch 88/200\n",
            "10/10 [==============================] - 0s 2ms/step - loss: 0.0645 - accuracy: 1.0000\n",
            "Epoch 89/200\n",
            "10/10 [==============================] - 0s 2ms/step - loss: 0.0633 - accuracy: 1.0000\n",
            "Epoch 90/200\n",
            "10/10 [==============================] - 0s 2ms/step - loss: 0.0618 - accuracy: 1.0000\n",
            "Epoch 91/200\n",
            "10/10 [==============================] - 0s 3ms/step - loss: 0.0605 - accuracy: 1.0000\n",
            "Epoch 92/200\n",
            "10/10 [==============================] - 0s 2ms/step - loss: 0.0593 - accuracy: 1.0000\n",
            "Epoch 93/200\n",
            "10/10 [==============================] - 0s 2ms/step - loss: 0.0581 - accuracy: 1.0000\n",
            "Epoch 94/200\n",
            "10/10 [==============================] - 0s 2ms/step - loss: 0.0570 - accuracy: 1.0000\n",
            "Epoch 95/200\n",
            "10/10 [==============================] - 0s 2ms/step - loss: 0.0558 - accuracy: 1.0000\n",
            "Epoch 96/200\n",
            "10/10 [==============================] - 0s 2ms/step - loss: 0.0546 - accuracy: 1.0000\n",
            "Epoch 97/200\n",
            "10/10 [==============================] - 0s 2ms/step - loss: 0.0536 - accuracy: 1.0000\n",
            "Epoch 98/200\n",
            "10/10 [==============================] - 0s 2ms/step - loss: 0.0525 - accuracy: 1.0000\n",
            "Epoch 99/200\n",
            "10/10 [==============================] - 0s 2ms/step - loss: 0.0516 - accuracy: 1.0000\n",
            "Epoch 100/200\n",
            "10/10 [==============================] - 0s 2ms/step - loss: 0.0506 - accuracy: 1.0000\n",
            "Epoch 101/200\n",
            "10/10 [==============================] - 0s 2ms/step - loss: 0.0496 - accuracy: 1.0000\n",
            "Epoch 102/200\n",
            "10/10 [==============================] - 0s 2ms/step - loss: 0.0487 - accuracy: 1.0000\n",
            "Epoch 103/200\n",
            "10/10 [==============================] - 0s 2ms/step - loss: 0.0478 - accuracy: 1.0000\n",
            "Epoch 104/200\n",
            "10/10 [==============================] - 0s 2ms/step - loss: 0.0469 - accuracy: 1.0000\n",
            "Epoch 105/200\n",
            "10/10 [==============================] - 0s 2ms/step - loss: 0.0461 - accuracy: 1.0000\n",
            "Epoch 106/200\n",
            "10/10 [==============================] - 0s 2ms/step - loss: 0.0453 - accuracy: 1.0000\n",
            "Epoch 107/200\n",
            "10/10 [==============================] - 0s 2ms/step - loss: 0.0445 - accuracy: 1.0000\n",
            "Epoch 108/200\n",
            "10/10 [==============================] - 0s 2ms/step - loss: 0.0437 - accuracy: 1.0000\n",
            "Epoch 109/200\n",
            "10/10 [==============================] - 0s 2ms/step - loss: 0.0429 - accuracy: 1.0000\n",
            "Epoch 110/200\n",
            "10/10 [==============================] - 0s 2ms/step - loss: 0.0422 - accuracy: 1.0000\n",
            "Epoch 111/200\n",
            "10/10 [==============================] - 0s 2ms/step - loss: 0.0416 - accuracy: 1.0000\n",
            "Epoch 112/200\n",
            "10/10 [==============================] - 0s 2ms/step - loss: 0.0408 - accuracy: 1.0000\n",
            "Epoch 113/200\n",
            "10/10 [==============================] - 0s 2ms/step - loss: 0.0401 - accuracy: 1.0000\n",
            "Epoch 114/200\n",
            "10/10 [==============================] - 0s 2ms/step - loss: 0.0395 - accuracy: 1.0000\n",
            "Epoch 115/200\n",
            "10/10 [==============================] - 0s 3ms/step - loss: 0.0388 - accuracy: 1.0000\n",
            "Epoch 116/200\n",
            "10/10 [==============================] - 0s 2ms/step - loss: 0.0382 - accuracy: 1.0000\n",
            "Epoch 117/200\n",
            "10/10 [==============================] - 0s 2ms/step - loss: 0.0376 - accuracy: 1.0000\n",
            "Epoch 118/200\n",
            "10/10 [==============================] - 0s 2ms/step - loss: 0.0370 - accuracy: 1.0000\n",
            "Epoch 119/200\n",
            "10/10 [==============================] - 0s 2ms/step - loss: 0.0364 - accuracy: 1.0000\n",
            "Epoch 120/200\n",
            "10/10 [==============================] - 0s 2ms/step - loss: 0.0359 - accuracy: 1.0000\n",
            "Epoch 121/200\n",
            "10/10 [==============================] - 0s 2ms/step - loss: 0.0353 - accuracy: 1.0000\n",
            "Epoch 122/200\n",
            "10/10 [==============================] - 0s 2ms/step - loss: 0.0347 - accuracy: 1.0000\n",
            "Epoch 123/200\n",
            "10/10 [==============================] - 0s 2ms/step - loss: 0.0342 - accuracy: 1.0000\n",
            "Epoch 124/200\n",
            "10/10 [==============================] - 0s 2ms/step - loss: 0.0337 - accuracy: 1.0000\n",
            "Epoch 125/200\n",
            "10/10 [==============================] - 0s 2ms/step - loss: 0.0332 - accuracy: 1.0000\n",
            "Epoch 126/200\n",
            "10/10 [==============================] - 0s 2ms/step - loss: 0.0327 - accuracy: 1.0000\n",
            "Epoch 127/200\n",
            "10/10 [==============================] - 0s 2ms/step - loss: 0.0322 - accuracy: 1.0000\n",
            "Epoch 128/200\n",
            "10/10 [==============================] - 0s 2ms/step - loss: 0.0318 - accuracy: 1.0000\n",
            "Epoch 129/200\n",
            "10/10 [==============================] - 0s 3ms/step - loss: 0.0313 - accuracy: 1.0000\n",
            "Epoch 130/200\n",
            "10/10 [==============================] - 0s 2ms/step - loss: 0.0309 - accuracy: 1.0000\n",
            "Epoch 131/200\n",
            "10/10 [==============================] - 0s 2ms/step - loss: 0.0304 - accuracy: 1.0000\n",
            "Epoch 132/200\n",
            "10/10 [==============================] - 0s 2ms/step - loss: 0.0300 - accuracy: 1.0000\n",
            "Epoch 133/200\n",
            "10/10 [==============================] - 0s 2ms/step - loss: 0.0296 - accuracy: 1.0000\n",
            "Epoch 134/200\n",
            "10/10 [==============================] - 0s 2ms/step - loss: 0.0291 - accuracy: 1.0000\n",
            "Epoch 135/200\n",
            "10/10 [==============================] - 0s 2ms/step - loss: 0.0288 - accuracy: 1.0000\n",
            "Epoch 136/200\n",
            "10/10 [==============================] - 0s 2ms/step - loss: 0.0284 - accuracy: 1.0000\n",
            "Epoch 137/200\n",
            "10/10 [==============================] - 0s 2ms/step - loss: 0.0280 - accuracy: 1.0000\n",
            "Epoch 138/200\n",
            "10/10 [==============================] - 0s 2ms/step - loss: 0.0276 - accuracy: 1.0000\n",
            "Epoch 139/200\n",
            "10/10 [==============================] - 0s 2ms/step - loss: 0.0272 - accuracy: 1.0000\n",
            "Epoch 140/200\n",
            "10/10 [==============================] - 0s 2ms/step - loss: 0.0269 - accuracy: 1.0000\n",
            "Epoch 141/200\n",
            "10/10 [==============================] - 0s 2ms/step - loss: 0.0265 - accuracy: 1.0000\n",
            "Epoch 142/200\n",
            "10/10 [==============================] - 0s 2ms/step - loss: 0.0262 - accuracy: 1.0000\n",
            "Epoch 143/200\n",
            "10/10 [==============================] - 0s 2ms/step - loss: 0.0259 - accuracy: 1.0000\n",
            "Epoch 144/200\n",
            "10/10 [==============================] - 0s 2ms/step - loss: 0.0255 - accuracy: 1.0000\n",
            "Epoch 145/200\n",
            "10/10 [==============================] - 0s 2ms/step - loss: 0.0252 - accuracy: 1.0000\n",
            "Epoch 146/200\n",
            "10/10 [==============================] - 0s 2ms/step - loss: 0.0249 - accuracy: 1.0000\n",
            "Epoch 147/200\n",
            "10/10 [==============================] - 0s 2ms/step - loss: 0.0245 - accuracy: 1.0000\n",
            "Epoch 148/200\n",
            "10/10 [==============================] - 0s 2ms/step - loss: 0.0242 - accuracy: 1.0000\n",
            "Epoch 149/200\n",
            "10/10 [==============================] - 0s 2ms/step - loss: 0.0239 - accuracy: 1.0000\n",
            "Epoch 150/200\n",
            "10/10 [==============================] - 0s 2ms/step - loss: 0.0236 - accuracy: 1.0000\n",
            "Epoch 151/200\n",
            "10/10 [==============================] - 0s 2ms/step - loss: 0.0234 - accuracy: 1.0000\n",
            "Epoch 152/200\n",
            "10/10 [==============================] - 0s 2ms/step - loss: 0.0231 - accuracy: 1.0000\n",
            "Epoch 153/200\n",
            "10/10 [==============================] - 0s 2ms/step - loss: 0.0228 - accuracy: 1.0000\n",
            "Epoch 154/200\n",
            "10/10 [==============================] - 0s 2ms/step - loss: 0.0225 - accuracy: 1.0000\n",
            "Epoch 155/200\n",
            "10/10 [==============================] - 0s 2ms/step - loss: 0.0223 - accuracy: 1.0000\n",
            "Epoch 156/200\n",
            "10/10 [==============================] - 0s 2ms/step - loss: 0.0220 - accuracy: 1.0000\n",
            "Epoch 157/200\n",
            "10/10 [==============================] - 0s 2ms/step - loss: 0.0217 - accuracy: 1.0000\n",
            "Epoch 158/200\n",
            "10/10 [==============================] - 0s 2ms/step - loss: 0.0215 - accuracy: 1.0000\n",
            "Epoch 159/200\n",
            "10/10 [==============================] - 0s 2ms/step - loss: 0.0212 - accuracy: 1.0000\n",
            "Epoch 160/200\n",
            "10/10 [==============================] - 0s 2ms/step - loss: 0.0210 - accuracy: 1.0000\n",
            "Epoch 161/200\n",
            "10/10 [==============================] - 0s 2ms/step - loss: 0.0207 - accuracy: 1.0000\n",
            "Epoch 162/200\n",
            "10/10 [==============================] - 0s 2ms/step - loss: 0.0205 - accuracy: 1.0000\n",
            "Epoch 163/200\n",
            "10/10 [==============================] - 0s 2ms/step - loss: 0.0203 - accuracy: 1.0000\n",
            "Epoch 164/200\n",
            "10/10 [==============================] - 0s 2ms/step - loss: 0.0201 - accuracy: 1.0000\n",
            "Epoch 165/200\n",
            "10/10 [==============================] - 0s 3ms/step - loss: 0.0199 - accuracy: 1.0000\n",
            "Epoch 166/200\n",
            "10/10 [==============================] - 0s 2ms/step - loss: 0.0197 - accuracy: 1.0000\n",
            "Epoch 167/200\n",
            "10/10 [==============================] - 0s 2ms/step - loss: 0.0194 - accuracy: 1.0000\n",
            "Epoch 168/200\n",
            "10/10 [==============================] - 0s 2ms/step - loss: 0.0192 - accuracy: 1.0000\n",
            "Epoch 169/200\n",
            "10/10 [==============================] - 0s 2ms/step - loss: 0.0190 - accuracy: 1.0000\n",
            "Epoch 170/200\n",
            "10/10 [==============================] - 0s 2ms/step - loss: 0.0188 - accuracy: 1.0000\n",
            "Epoch 171/200\n",
            "10/10 [==============================] - 0s 2ms/step - loss: 0.0186 - accuracy: 1.0000\n",
            "Epoch 172/200\n",
            "10/10 [==============================] - 0s 2ms/step - loss: 0.0183 - accuracy: 1.0000\n",
            "Epoch 173/200\n",
            "10/10 [==============================] - 0s 2ms/step - loss: 0.0182 - accuracy: 1.0000\n",
            "Epoch 174/200\n",
            "10/10 [==============================] - 0s 2ms/step - loss: 0.0180 - accuracy: 1.0000\n",
            "Epoch 175/200\n",
            "10/10 [==============================] - 0s 2ms/step - loss: 0.0178 - accuracy: 1.0000\n",
            "Epoch 176/200\n",
            "10/10 [==============================] - 0s 2ms/step - loss: 0.0176 - accuracy: 1.0000\n",
            "Epoch 177/200\n",
            "10/10 [==============================] - 0s 2ms/step - loss: 0.0174 - accuracy: 1.0000\n",
            "Epoch 178/200\n",
            "10/10 [==============================] - 0s 2ms/step - loss: 0.0172 - accuracy: 1.0000\n",
            "Epoch 179/200\n",
            "10/10 [==============================] - 0s 2ms/step - loss: 0.0171 - accuracy: 1.0000\n",
            "Epoch 180/200\n",
            "10/10 [==============================] - 0s 2ms/step - loss: 0.0169 - accuracy: 1.0000\n",
            "Epoch 181/200\n",
            "10/10 [==============================] - 0s 2ms/step - loss: 0.0167 - accuracy: 1.0000\n",
            "Epoch 182/200\n",
            "10/10 [==============================] - 0s 3ms/step - loss: 0.0166 - accuracy: 1.0000\n",
            "Epoch 183/200\n",
            "10/10 [==============================] - 0s 2ms/step - loss: 0.0164 - accuracy: 1.0000\n",
            "Epoch 184/200\n",
            "10/10 [==============================] - 0s 4ms/step - loss: 0.0162 - accuracy: 1.0000\n",
            "Epoch 185/200\n",
            "10/10 [==============================] - 0s 2ms/step - loss: 0.0161 - accuracy: 1.0000\n",
            "Epoch 186/200\n",
            "10/10 [==============================] - 0s 2ms/step - loss: 0.0159 - accuracy: 1.0000\n",
            "Epoch 187/200\n",
            "10/10 [==============================] - 0s 2ms/step - loss: 0.0158 - accuracy: 1.0000\n",
            "Epoch 188/200\n",
            "10/10 [==============================] - 0s 3ms/step - loss: 0.0156 - accuracy: 1.0000\n",
            "Epoch 189/200\n",
            "10/10 [==============================] - 0s 2ms/step - loss: 0.0155 - accuracy: 1.0000\n",
            "Epoch 190/200\n",
            "10/10 [==============================] - 0s 2ms/step - loss: 0.0153 - accuracy: 1.0000\n",
            "Epoch 191/200\n",
            "10/10 [==============================] - 0s 2ms/step - loss: 0.0152 - accuracy: 1.0000\n",
            "Epoch 192/200\n",
            "10/10 [==============================] - 0s 2ms/step - loss: 0.0150 - accuracy: 1.0000\n",
            "Epoch 193/200\n",
            "10/10 [==============================] - 0s 2ms/step - loss: 0.0149 - accuracy: 1.0000\n",
            "Epoch 194/200\n",
            "10/10 [==============================] - 0s 2ms/step - loss: 0.0147 - accuracy: 1.0000\n",
            "Epoch 195/200\n",
            "10/10 [==============================] - 0s 3ms/step - loss: 0.0146 - accuracy: 1.0000\n",
            "Epoch 196/200\n",
            "10/10 [==============================] - 0s 2ms/step - loss: 0.0144 - accuracy: 1.0000\n",
            "Epoch 197/200\n",
            "10/10 [==============================] - 0s 2ms/step - loss: 0.0143 - accuracy: 1.0000\n",
            "Epoch 198/200\n",
            "10/10 [==============================] - 0s 2ms/step - loss: 0.0142 - accuracy: 1.0000\n",
            "Epoch 199/200\n",
            "10/10 [==============================] - 0s 2ms/step - loss: 0.0140 - accuracy: 1.0000\n",
            "Epoch 200/200\n",
            "10/10 [==============================] - 0s 3ms/step - loss: 0.0139 - accuracy: 1.0000\n"
          ],
          "name": "stdout"
        }
      ]
    },
    {
      "cell_type": "code",
      "metadata": {
        "id": "B8RvArGuvhVu",
        "outputId": "1490b4e5-b872-4c1f-8507-1454ee38ae75",
        "colab": {
          "base_uri": "https://localhost:8080/",
          "height": 221
        }
      },
      "source": [
        "model.summary()"
      ],
      "execution_count": 7,
      "outputs": [
        {
          "output_type": "stream",
          "text": [
            "Model: \"sequential\"\n",
            "_________________________________________________________________\n",
            "Layer (type)                 Output Shape              Param #   \n",
            "=================================================================\n",
            "input (Dense)                (None, 50)                150       \n",
            "_________________________________________________________________\n",
            "output (Dense)               (None, 1)                 51        \n",
            "=================================================================\n",
            "Total params: 201\n",
            "Trainable params: 201\n",
            "Non-trainable params: 0\n",
            "_________________________________________________________________\n"
          ],
          "name": "stdout"
        }
      ]
    },
    {
      "cell_type": "code",
      "metadata": {
        "id": "7Dm1D01avhQ2",
        "outputId": "c23a9aa0-5f8d-4586-f309-15cf33ce431d",
        "colab": {
          "base_uri": "https://localhost:8080/",
          "height": 85
        }
      },
      "source": [
        "print(f'Train accuracy: {model.evaluate(X_train,y_train)[1] * 100}%')\n",
        "print(f'  Val accuracy: {model.evaluate(X_val,y_val)[1] * 100}%')"
      ],
      "execution_count": 8,
      "outputs": [
        {
          "output_type": "stream",
          "text": [
            "10/10 [==============================] - 0s 2ms/step - loss: 0.0138 - accuracy: 1.0000\n",
            "Train accuracy: 100.0%\n",
            "4/4 [==============================] - 0s 2ms/step - loss: 0.0180 - accuracy: 1.0000\n",
            "  Val accuracy: 100.0%\n"
          ],
          "name": "stdout"
        }
      ]
    },
    {
      "cell_type": "code",
      "metadata": {
        "id": "LtQY9rYap3m6",
        "outputId": "b2827189-f01d-4c1c-e9db-3518eaec2616",
        "colab": {
          "base_uri": "https://localhost:8080/",
          "height": 34
        }
      },
      "source": [
        "print(history.history.keys())"
      ],
      "execution_count": 9,
      "outputs": [
        {
          "output_type": "stream",
          "text": [
            "dict_keys(['loss', 'accuracy'])\n"
          ],
          "name": "stdout"
        }
      ]
    },
    {
      "cell_type": "code",
      "metadata": {
        "id": "cTAgEmIR7zOk",
        "outputId": "18e7b307-5aae-4bbf-b4c5-0bf2f5935aa4",
        "colab": {
          "base_uri": "https://localhost:8080/",
          "height": 282
        }
      },
      "source": [
        "plt.plot(history.history['loss'])"
      ],
      "execution_count": 10,
      "outputs": [
        {
          "output_type": "execute_result",
          "data": {
            "text/plain": [
              "[<matplotlib.lines.Line2D at 0x7f293a439c50>]"
            ]
          },
          "metadata": {
            "tags": []
          },
          "execution_count": 10
        },
        {
          "output_type": "display_data",
          "data": {
            "image/png": "[encoded data removed]",
            "text/plain": [
              "<Figure size 432x288 with 1 Axes>"
            ]
          },
          "metadata": {
            "tags": [],
            "needs_background": "light"
          }
        }
      ]
    },
    {
      "cell_type": "markdown",
      "metadata": {
        "id": "C1_Nv7Ue8yJq"
      },
      "source": [
        "# 2. Conjunto de dados #2"
      ]
    },
    {
      "cell_type": "markdown",
      "metadata": {
        "id": "FtFvGGoz8yJq"
      },
      "source": [
        "A partir de agora, desenvolva seus modelos de aprendizado profundo utilizando o Keras/TensorFlow, o qual possui muito mais recursos do que o sklearn e é mais otimizado para desempenho.\n",
        "\n",
        "O segundo conjunto de dados é o conjunto de dígitos manuscritos [MNIST](https://en.wikipedia.org/wiki/MNIST_database), o qual possui 70000 amostras, sendo 10000 amostras de teste. Este é um conjunto clássico e -- embora não seja mais recomendado para avaliação do estado da arte -- ainda vastamente utilizado para experimentação e aprendizado. O conjunto pode ser facilmente carregado pelos comandos abaixo."
      ]
    },
    {
      "cell_type": "code",
      "metadata": {
        "id": "Z_QuyzsY8yJt",
        "outputId": "a448e29c-1b27-4fbd-dba5-786c23d43e97",
        "colab": {
          "base_uri": "https://localhost:8080/",
          "height": 85
        }
      },
      "source": [
        "from tensorflow.keras.datasets import mnist\n",
        "(x_train, y_train), (x_test, y_test) = mnist.load_data()\n",
        "x_train = x_train / 255.0\n",
        "x_test = x_test / 255.0\n",
        "print(x_train.shape, y_train.shape)\n",
        "print(x_test.shape, y_test.shape)"
      ],
      "execution_count": 11,
      "outputs": [
        {
          "output_type": "stream",
          "text": [
            "Downloading data from https://storage.googleapis.com/tensorflow/tf-keras-datasets/mnist.npz\n",
            "11493376/11490434 [==============================] - 0s 0us/step\n",
            "(60000, 28, 28) (60000,)\n",
            "(10000, 28, 28) (10000,)\n"
          ],
          "name": "stdout"
        }
      ]
    },
    {
      "cell_type": "markdown",
      "metadata": {
        "id": "r-eqvqs48yJz"
      },
      "source": [
        "Observe a diferença na notação convencional quando usamos o Keras (ou qualquer outro *framework* de aprendizado profundo): `x` (minúsculo) ao invés de `X` (maiúsculo). Isto ocorre porque o Keras nos permite trabalhar diretamente com os dados em seu formato original, neste caso, como um tensor 3D. Portanto, não é necessário redimensionar (*reshape*) os dados antes de aplicar o modelo, assim como perde o sentido usar uma notação especial para denotar uma matriz (tensor 2D).\n",
        "\n",
        "Caso seja necessário redimensionar os dados em algum estágio do modelo, isso pode ser feito internamente com camadas do Keras. Em particular, para redimensionar para o formato convencional de tensor 2D `(n_samples, n_features)`, pode ser usada a camada `Flatten`. Isto é sempre necessário antes de aplicar uma camada `Dense`, a qual só opera na última dimensão. No nosso caso, as duas dimensões (28,28) serão \"achatadas\" em uma única de (784,):"
      ]
    },
    {
      "cell_type": "code",
      "metadata": {
        "id": "Ro8Fry-hXNX0",
        "outputId": "658a2c5e-2232-4d9d-b93b-42e9416c0205",
        "colab": {
          "base_uri": "https://localhost:8080/",
          "height": 187
        }
      },
      "source": [
        "from tensorflow.keras.layers import Flatten\n",
        "model = Sequential()\n",
        "model.add(tf.keras.Input(shape=(28,28)))\n",
        "model.add(Flatten())\n",
        "model.summary()"
      ],
      "execution_count": 12,
      "outputs": [
        {
          "output_type": "stream",
          "text": [
            "Model: \"sequential_1\"\n",
            "_________________________________________________________________\n",
            "Layer (type)                 Output Shape              Param #   \n",
            "=================================================================\n",
            "flatten (Flatten)            (None, 784)               0         \n",
            "=================================================================\n",
            "Total params: 0\n",
            "Trainable params: 0\n",
            "Non-trainable params: 0\n",
            "_________________________________________________________________\n"
          ],
          "name": "stdout"
        }
      ]
    },
    {
      "cell_type": "code",
      "metadata": {
        "id": "bZaDfK-h8yJz",
        "outputId": "1e6a6428-a55f-4774-87d2-c5427d604aa3",
        "colab": {
          "base_uri": "https://localhost:8080/",
          "height": 268
        }
      },
      "source": [
        "# Exemplo de uma imagem\n",
        "i = 2\n",
        "plt.imshow(x_train[i], cmap=plt.cm.gray_r);\n",
        "plt.title('y = {}'.format(y_train[i]));\n",
        "plt.xticks([]);\n",
        "plt.yticks([]);"
      ],
      "execution_count": 13,
      "outputs": [
        {
          "output_type": "display_data",
          "data": {
            "image/png": "[encoded data removed]",
            "text/plain": [
              "<Figure size 432x288 with 1 Axes>"
            ]
          },
          "metadata": {
            "tags": []
          }
        }
      ]
    },
    {
      "cell_type": "code",
      "metadata": {
        "id": "cOlqeQyW8yJ1",
        "outputId": "5bc9de2a-4975-45ff-eaa4-8623da8141c9",
        "colab": {
          "base_uri": "https://localhost:8080/",
          "height": 355
        }
      },
      "source": [
        "plt.figure(figsize=(12,12))\n",
        "for i in range(50):\n",
        "    plt.subplot(10,10,i+1)\n",
        "    plt.imshow(x_train[i], cmap=plt.cm.gray_r);\n",
        "    plt.xticks([]);\n",
        "    plt.yticks([]);"
      ],
      "execution_count": 14,
      "outputs": [
        {
          "output_type": "display_data",
          "data": {
            "image/png": "[encoded data removed]",
            "text/plain": [
              "<Figure size 864x864 with 50 Axes>"
            ]
          },
          "metadata": {
            "tags": []
          }
        }
      ]
    },
    {
      "cell_type": "markdown",
      "metadata": {
        "id": "d2rCCfwBGcZV"
      },
      "source": [
        "## Tarefas\n",
        "\n",
        "1. Separe um conjunto de validação com 5000 amostras (por exemplo, as últimas 5000 amostras do conjunto de treinamento). Confirme que a distribuição das classes é parecida com a do conjunto de treinamento (não precisa ser exatamente igual).\n",
        "\n",
        "#### Dica\n",
        "- Para calcular e visualizar um histograma, você pode utilizar a função `plt.hist()`, opcionalmente definindo os parâmetros `density` e `alpha`, entre outros."
      ]
    },
    {
      "cell_type": "code",
      "metadata": {
        "id": "BbOerXklcK41"
      },
      "source": [
        "from sklearn.model_selection import train_test_split\n",
        "x_train, x_val, y_train, y_val = train_test_split(x_train, y_train, test_size=0.08333, random_state=42)"
      ],
      "execution_count": 15,
      "outputs": []
    },
    {
      "cell_type": "code",
      "metadata": {
        "id": "ivhqgDzDO7Kg",
        "outputId": "f7929882-4806-4258-84a3-4c88f7fe1493",
        "colab": {
          "base_uri": "https://localhost:8080/",
          "height": 136
        }
      },
      "source": [
        "print('NOVO SHAPE:')\n",
        "print(f'Train: {x_train.shape, y_train.shape}')\n",
        "print(f'  Val: {x_val.shape, y_val.shape}')\n",
        "print('-'*40)\n",
        "print('Distribuição de classes:')\n",
        "print(f'Train: {len(np.unique(y_train))}')\n",
        "print(f'  Val: {len(np.unique(y_val))}')"
      ],
      "execution_count": 16,
      "outputs": [
        {
          "output_type": "stream",
          "text": [
            "NOVO SHAPE:\n",
            "Train: ((55000, 28, 28), (55000,))\n",
            "  Val: ((5000, 28, 28), (5000,))\n",
            "----------------------------------------\n",
            "Distribuição de classes:\n",
            "Train: 10\n",
            "  Val: 10\n"
          ],
          "name": "stdout"
        }
      ]
    },
    {
      "cell_type": "code",
      "metadata": {
        "id": "xTaqrI3Na-JN",
        "outputId": "3f1a9e6e-56ec-4586-e8ee-9ff8784efb9c",
        "colab": {
          "base_uri": "https://localhost:8080/",
          "height": 244
        }
      },
      "source": [
        "fig, (ax1,ax2) = plt.subplots(1,2)\n",
        "ax1.imshow(x_train[1], cmap='gray')\n",
        "ax1.set_title(f'[Train] Número: {y_train[1]}')\n",
        "\n",
        "ax2.imshow(x_val[1], cmap='gray')\n",
        "ax2.set_title(f'[Val] Número: {y_val[1]}')\n",
        "plt.tight_layout()"
      ],
      "execution_count": 17,
      "outputs": [
        {
          "output_type": "display_data",
          "data": {
            "image/png": "[encoded data removed]",
            "text/plain": [
              "<Figure size 432x288 with 2 Axes>"
            ]
          },
          "metadata": {
            "tags": [],
            "needs_background": "light"
          }
        }
      ]
    },
    {
      "cell_type": "markdown",
      "metadata": {
        "id": "n0lFSrgoR45t"
      },
      "source": [
        "2. Para desenvolvimento do modelo, considere um subconjunto de treinamento com poucas amostras, por exemplo, as primeiras 10000, e também um número pequeno de épocas, por exemplo, 10. Isso vai permitir uma rápida experimentação. Uma vez finalizado o desenvolvimento, você poderá aumentar esses valores. Inicialmente, construa um modelo **baseline** sem nenhuma camada oculta, treine-o e confirme que está funcionando corretamente.\n",
        "1. Por hora, ignore o conjunto de validação. Tente obter 100% de acurácia de treinamento (com o conjunto reduzido) e apenas 10 épocas. O objetivo é garantir que o modelo possui capacidade suficiente para este problema. Fique à vontade para variar quaisquer hiperparâmetros do modelo ou do treinamento, mas utilize apenas conceitos já abordados na disciplina (i.e., não utilize camadas convolucionais). Tenha em mente as seguintes observações:\n",
        " - A taxa de aprendizado é provavelmente o hiperparâmetro mais importante, no sentido de que, mesmo que você consiga supostamente encontrar os melhores valores de todos os demais hiperparâmetros (inclusive da arquitetura do modelo), ainda assim o modelo poderá ter um desempenho ruim se a taxa de aprendizado não for ajustada adequadamente.\n",
        " - Em geral, cada modificação em algum hiperparâmetro pode exigir um novo ajuste da taxa de aprendizado (i.e., o seu valor ótimo pode mudar), embora alguns hiperparâmetros tenham um impacto maior do que outros.\n",
        " - O batch size tem um impacto grande na velocidade do treinamento, além de impactar no desempenho do modelo. De maneira geral, aumentar o batch size reduz o tempo de treinamento de uma época (por quê?), mas pode piorar o desempenho para um número fixo de épocas (por quê?). Assim, uma recomendação básica é utilizar o maior batch size possível tal que o desempenho do modelo (para um número fixo de épocas) não apresente degradação significativa. Minimizar o tempo de treinamento é essencial para uma rápida experimentação.\n",
        " - Naturalmente, o desempenho ótimo para cada valor de batch size envolve um ajuste da taxa de aprendizado. Uma regra prática (empírica) é: se o batch size é multiplicado por um fator F, então, para obter um desempenho semelhante, a taxa de aprendizado também deve ser multiplicada por F. Note que essa regra não é exata, mas serve como um bom ponto de partida.\n",
        "1. Relate suas principais observações sobre quais abordagens foram bem sucedidas ou não.\n",
        "\n",
        "#### Dicas\n",
        "- Para um problema multi-classe com codificação compacta $y \\in \\{0,1,\\ldots,9\\}$ (i.e., que **não** é *one-hot encoding*), a função perda adequada é a `'sparse_categorical_crossentropy'`. Nesse caso não é necessário codificar como *one-hot*.\n",
        "- O Keras permite monitorar, durante o treinamento, não apenas a perda, mas também outras métricas, como a acurácia, tanto de treinamento quanto de validação. Para isso, configure o parâmetro `metrics` ao executar `model.compile`. As curvas estarão disponíveis no parâmetro history.\n",
        "- Para avaliar o efeito de um hiperparâmetro, é muito útil garantir que não há outras fontes de \"ruído\" ou variação, assim cada hiperparâmetro pode ser avaliado isoladamente. Em particular, a inicialização dos pesos do modelo deve ser determinística. Para isso, utilize `tf.random.set_seed()` antes de definir o modelo. Isso também garante a reprodutibilidade dos resultados, caso você precise executar o treinamento novamente.\n",
        "- Para medir o tempo de execução de uma célula do notebook, utilize `%%time` na primeira linha da célula.\n",
        "- É usual (e tipicamente suficiente) variar o batch size em potências de 2.\n",
        "- Se desejar utilizar a GPU do Colab para acelerar o treinamento, selecione-a no menu *Runtime/Change runtime type*. Para os modelos deste exercício, porém, o ganho computacional provavelmente não será tão expressivo. Note também que é possível que a inicialização de pesos seja diferente de quando o modelo é executado sem GPU, ainda que a mesma *random seed* tenha sido definida."
      ]
    },
    {
      "cell_type": "markdown",
      "metadata": {
        "id": "qn1y_uMCXW77"
      },
      "source": [
        "\n",
        "\n",
        "---\n",
        "### modelo baseline\n",
        "\n",
        "\n",
        "---\n",
        "\n",
        "\n",
        "\n",
        "---\n",
        "\n",
        "\n"
      ]
    },
    {
      "cell_type": "code",
      "metadata": {
        "id": "7mz045j3qjwM"
      },
      "source": [
        "%%time\n",
        "input = 28*28\n",
        "model = tf.random.set_seed(42)\n",
        "model = Sequential()\n",
        "model.add(Flatten()) # 784 inputs\n",
        "model.add(layers.Dense(units = 10, activation = 'softmax', name = 'output')) # camada de saída\n",
        "\n",
        "optimizer = tf.keras.optimizers.Adam(learning_rate = 0.01)\n",
        "model.compile(optimizer = optimizer, loss = 'sparse_categorical_crossentropy', metrics=['accuracy'])\n",
        "\n",
        "history = model.fit(x_train[:10000],y_train[:10000], epochs = 10, batch_size=32, verbose=1)"
      ],
      "execution_count": null,
      "outputs": []
    },
    {
      "cell_type": "code",
      "metadata": {
        "id": "CuMktLsNqkUo",
        "outputId": "bcc22215-87e5-41f0-dbd1-4bea21a39625",
        "colab": {
          "base_uri": "https://localhost:8080/",
          "height": 51
        }
      },
      "source": [
        "model.evaluate(x_train[:10000],y_train[:10000])"
      ],
      "execution_count": 19,
      "outputs": [
        {
          "output_type": "stream",
          "text": [
            "313/313 [==============================] - 1s 2ms/step - loss: 0.1620 - accuracy: 0.9526\n"
          ],
          "name": "stdout"
        },
        {
          "output_type": "execute_result",
          "data": {
            "text/plain": [
              "[0.16195149719715118, 0.9526000022888184]"
            ]
          },
          "metadata": {
            "tags": []
          },
          "execution_count": 19
        }
      ]
    },
    {
      "cell_type": "markdown",
      "metadata": {
        "id": "vLFmp-xm2fzw"
      },
      "source": [
        "\n",
        "\n",
        "---\n",
        "\n",
        "\n",
        "### Tente obter 100% de acurácia de treinamento (com o conjunto reduzido) e apenas 10 épocas\n",
        "\n",
        "\n",
        "\n",
        "---\n",
        "\n",
        "\n",
        "\n",
        "---\n",
        "\n",
        "\n",
        "\n"
      ]
    },
    {
      "cell_type": "code",
      "metadata": {
        "id": "_pynQHMH2bmV",
        "outputId": "91ab054f-7103-4edd-9c94-50e12321e7a3",
        "colab": {
          "base_uri": "https://localhost:8080/",
          "height": 391
        }
      },
      "source": [
        "%%time\n",
        "model = tf.random.set_seed(10)\n",
        "model = Sequential()\n",
        "model.add(Flatten()) # 784 inputs\n",
        "model.add(layers.Dense(units = 32, activation = 'relu', input_shape = (28,28) , name = 'input1'))\n",
        "model.add(layers.Dense(units = 10, activation = 'softmax', name = 'output')) # camada de saída\n",
        "\n",
        "\n",
        "optimizer = tf.keras.optimizers.Adam(learning_rate = 0.003)\n",
        "model.compile(optimizer = optimizer, loss = 'sparse_categorical_crossentropy', metrics=['accuracy'])\n",
        "\n",
        "history = model.fit(x_train[:10000],y_train[:10000], validation_data=(x_val,y_val), epochs = 10, batch_size=32)"
      ],
      "execution_count": 19,
      "outputs": [
        {
          "output_type": "stream",
          "text": [
            "Epoch 1/10\n",
            "313/313 [==============================] - 1s 3ms/step - loss: 0.4990 - accuracy: 0.8561 - val_loss: 0.3042 - val_accuracy: 0.9126\n",
            "Epoch 2/10\n",
            "313/313 [==============================] - 1s 3ms/step - loss: 0.2563 - accuracy: 0.9242 - val_loss: 0.2433 - val_accuracy: 0.9300\n",
            "Epoch 3/10\n",
            "313/313 [==============================] - 1s 3ms/step - loss: 0.1889 - accuracy: 0.9442 - val_loss: 0.2332 - val_accuracy: 0.9298\n",
            "Epoch 4/10\n",
            "313/313 [==============================] - 1s 3ms/step - loss: 0.1463 - accuracy: 0.9560 - val_loss: 0.2127 - val_accuracy: 0.9358\n",
            "Epoch 5/10\n",
            "313/313 [==============================] - 1s 2ms/step - loss: 0.1153 - accuracy: 0.9674 - val_loss: 0.2099 - val_accuracy: 0.9400\n",
            "Epoch 6/10\n",
            "313/313 [==============================] - 1s 3ms/step - loss: 0.0959 - accuracy: 0.9704 - val_loss: 0.2125 - val_accuracy: 0.9392\n",
            "Epoch 7/10\n",
            "313/313 [==============================] - 1s 2ms/step - loss: 0.0838 - accuracy: 0.9735 - val_loss: 0.2198 - val_accuracy: 0.9394\n",
            "Epoch 8/10\n",
            "313/313 [==============================] - 1s 2ms/step - loss: 0.0658 - accuracy: 0.9802 - val_loss: 0.2086 - val_accuracy: 0.9444\n",
            "Epoch 9/10\n",
            "313/313 [==============================] - 1s 3ms/step - loss: 0.0510 - accuracy: 0.9845 - val_loss: 0.2341 - val_accuracy: 0.9394\n",
            "Epoch 10/10\n",
            "313/313 [==============================] - 1s 2ms/step - loss: 0.0426 - accuracy: 0.9884 - val_loss: 0.2232 - val_accuracy: 0.9404\n",
            "CPU times: user 9.62 s, sys: 1.14 s, total: 10.8 s\n",
            "Wall time: 8.28 s\n"
          ],
          "name": "stdout"
        }
      ]
    },
    {
      "cell_type": "code",
      "metadata": {
        "id": "SP_cqKb72bgQ",
        "outputId": "fe751dad-2db4-4f65-f8c7-c72cd825898b",
        "colab": {
          "base_uri": "https://localhost:8080/",
          "height": 255
        }
      },
      "source": [
        "model.summary()"
      ],
      "execution_count": 20,
      "outputs": [
        {
          "output_type": "stream",
          "text": [
            "Model: \"sequential_3\"\n",
            "_________________________________________________________________\n",
            "Layer (type)                 Output Shape              Param #   \n",
            "=================================================================\n",
            "flatten_2 (Flatten)          (None, 784)               0         \n",
            "_________________________________________________________________\n",
            "input1 (Dense)               (None, 32)                25120     \n",
            "_________________________________________________________________\n",
            "output (Dense)               (None, 10)                330       \n",
            "=================================================================\n",
            "Total params: 25,450\n",
            "Trainable params: 25,450\n",
            "Non-trainable params: 0\n",
            "_________________________________________________________________\n"
          ],
          "name": "stdout"
        }
      ]
    },
    {
      "cell_type": "code",
      "metadata": {
        "id": "m-cwa1fY6CAs",
        "outputId": "5e43bf95-752e-42df-9c1c-77e63b51dc71",
        "colab": {
          "base_uri": "https://localhost:8080/",
          "height": 68
        }
      },
      "source": [
        "train_loss, train_acc = model.evaluate(x_train[:10000],y_train[:10000])\n",
        "print(f'Loss: {train_loss}')\n",
        "print(f'Accuracy: {round(train_acc,2)*100}%')"
      ],
      "execution_count": 24,
      "outputs": [
        {
          "output_type": "stream",
          "text": [
            "313/313 [==============================] - 0s 2ms/step - loss: 0.0323 - accuracy: 0.9929\n",
            "Loss: 0.032314006239175797\n",
            "Accuracy: 99.0%\n"
          ],
          "name": "stdout"
        }
      ]
    },
    {
      "cell_type": "markdown",
      "metadata": {
        "id": "OwHxmwkdTHiZ"
      },
      "source": [
        "5. Agora, monitore também a acurácia de validação ao longo do treinamento, e ao final trace dois gráficos em função do número de épocas, um com a perda de treinamento e de validação e outro com a acurácia de treinamento e de validação.\n",
        "1. Altere o tamanho do conjunto de treinamento para 55000 e veja se consegue obter uma acurácia de validação de pelo menos 98% (em alguma época). A partir de agora, utilize quantas épocas desejar. Ao final do treinamento, sempre trace as curvas de perda e acurácia para os dois conjuntos.\n",
        "1. Mantenha os hiperparâmetros do modelo e altere apenas o tamanho do conjunto de treinamento. Trace um gráfico da acurácia de treinamento e da acurácia máxima de validação (para alguma época) em função do tamanho do conjunto de treinamento, por exemplo, em intervalos de 5 ou 10 mil amostras, até o máximo de 55000. Esta curva é conhecida em alguns contextos como curva de aprendizado (*learning curve*). Trace também o gráfico da época ótima em que foi obtida a máxima acurácia de validação, em função do tamanho do conjunto de treinamento. Que conclusões podem ser tiradas a partir desses resultados?\n",
        "1. Finalmente, utilize todas as 60000 amostras para treinamento (e naturalmente não utilize conjunto de validação), com um número de épocas apropriadamente escolhido. Em seguida, meça o desempenho no conjunto de teste.\n",
        "1. Para o modelo final que você desenvolveu, mostre alguns exemplos de predições erradas no conjunto de teste.\n",
        "1. Visualize como uma imagem os pesos da primeira camada oculta. Para isso, rode a célula abaixo:\n"
      ]
    },
    {
      "cell_type": "markdown",
      "metadata": {
        "id": "XPhX9AKBYTOl"
      },
      "source": [
        "\n",
        "\n",
        "---\n",
        "### Agora, monitore também a acurácia de validação ao longo do treinamento, e ao final trace dois gráficos em função do número de épocas, um com a perda de treinamento e de validação e outro com a acurácia de treinamento e de validação.\n",
        "\n",
        "---\n",
        "\n"
      ]
    },
    {
      "cell_type": "code",
      "metadata": {
        "id": "IrdJTrw6YkBe",
        "outputId": "675af67b-ced6-4e21-a783-828e5e96b214",
        "colab": {
          "base_uri": "https://localhost:8080/",
          "height": 68
        }
      },
      "source": [
        "val_loss, val_acc = model.evaluate(x_val[:10000],y_val[:10000])\n",
        "print(f'Loss: {val_loss}')\n",
        "print(f'Accuracy: {round(val_acc,2)*100}%')"
      ],
      "execution_count": 25,
      "outputs": [
        {
          "output_type": "stream",
          "text": [
            "157/157 [==============================] - 0s 2ms/step - loss: 0.2232 - accuracy: 0.9404\n",
            "Loss: 0.22316794097423553\n",
            "Accuracy: 94.0%\n"
          ],
          "name": "stdout"
        }
      ]
    },
    {
      "cell_type": "code",
      "metadata": {
        "id": "0O_csU0ZYkFi",
        "outputId": "c8437a32-b0ba-4a91-cd0a-21f0713ce316",
        "colab": {
          "base_uri": "https://localhost:8080/",
          "height": 297
        }
      },
      "source": [
        "plt.plot(history.history['loss'])\n",
        "plt.plot(history.history['val_loss'])\n",
        "plt.legend(['Train Loss', 'Val Loss'])\n",
        "plt.title('Perda de treinamento e de validação')\n",
        "plt.tight_layout()"
      ],
      "execution_count": 29,
      "outputs": [
        {
          "output_type": "display_data",
          "data": {
            "image/png": "[encoded data removed]",
            "text/plain": [
              "<Figure size 432x288 with 1 Axes>"
            ]
          },
          "metadata": {
            "tags": [],
            "needs_background": "light"
          }
        }
      ]
    },
    {
      "cell_type": "code",
      "metadata": {
        "id": "CNCHaPWiaIaT",
        "outputId": "80bfd4d5-ff79-4ed0-9ee5-8847f43fede6",
        "colab": {
          "base_uri": "https://localhost:8080/",
          "height": 297
        }
      },
      "source": [
        "plt.plot(history.history['accuracy'])\n",
        "plt.plot(history.history['val_accuracy'])\n",
        "plt.legend(['Train accuracy', 'Val accuracy'])\n",
        "plt.title('Acurácia de treinamento e de validação')\n",
        "plt.tight_layout()"
      ],
      "execution_count": 30,
      "outputs": [
        {
          "output_type": "display_data",
          "data": {
            "image/png": "[encoded data removed]",
            "text/plain": [
              "<Figure size 432x288 with 1 Axes>"
            ]
          },
          "metadata": {
            "tags": [],
            "needs_background": "light"
          }
        }
      ]
    },
    {
      "cell_type": "markdown",
      "metadata": {
        "id": "14emDt5M32Ye"
      },
      "source": [
        "\n",
        "\n",
        "---\n",
        "### Altere o tamanho do conjunto de treinamento para 55000 e veja se consegue obter uma acurácia de validação de pelo menos 98%\n",
        "---\n"
      ]
    },
    {
      "cell_type": "code",
      "metadata": {
        "id": "rUlFXTXf1Qt8",
        "outputId": "9d2de7b1-4e68-4b60-cb3a-d223fe6f397d",
        "colab": {
          "base_uri": "https://localhost:8080/",
          "height": 561
        }
      },
      "source": [
        "%%time\n",
        "model = tf.random.set_seed(15)\n",
        "model = Sequential()\n",
        "model.add(Flatten()) # 784 inputs\n",
        "model.add(layers.Dense(units = 32, activation = 'relu', input_shape = (28,28) , name = 'layer1'))\n",
        "#model.add(layers.Dense(units = 12, activation = 'relu', name = 'layer2'))\n",
        "model.add(layers.Dense(units = 10, activation = 'softmax', name = 'output')) # camada de saída\n",
        "\n",
        "\n",
        "optimizer = tf.keras.optimizers.Adam(learning_rate = 0.001)\n",
        "model.compile(optimizer = optimizer, loss = 'sparse_categorical_crossentropy', metrics=['accuracy'])\n",
        "\n",
        "history = model.fit(x_train,y_train, validation_data=(x_val,y_val), epochs = 15, batch_size=16)"
      ],
      "execution_count": 67,
      "outputs": [
        {
          "output_type": "stream",
          "text": [
            "Epoch 1/15\n",
            "3438/3438 [==============================] - 7s 2ms/step - loss: 0.3179 - accuracy: 0.9093 - val_loss: 0.1872 - val_accuracy: 0.9452\n",
            "Epoch 2/15\n",
            "3438/3438 [==============================] - 7s 2ms/step - loss: 0.1721 - accuracy: 0.9501 - val_loss: 0.1523 - val_accuracy: 0.9560\n",
            "Epoch 3/15\n",
            "3438/3438 [==============================] - 7s 2ms/step - loss: 0.1360 - accuracy: 0.9602 - val_loss: 0.1350 - val_accuracy: 0.9622\n",
            "Epoch 4/15\n",
            "3438/3438 [==============================] - 7s 2ms/step - loss: 0.1159 - accuracy: 0.9660 - val_loss: 0.1330 - val_accuracy: 0.9632\n",
            "Epoch 5/15\n",
            "3438/3438 [==============================] - 7s 2ms/step - loss: 0.1013 - accuracy: 0.9695 - val_loss: 0.1256 - val_accuracy: 0.9650\n",
            "Epoch 6/15\n",
            "3438/3438 [==============================] - 7s 2ms/step - loss: 0.0905 - accuracy: 0.9727 - val_loss: 0.1198 - val_accuracy: 0.9664\n",
            "Epoch 7/15\n",
            "3438/3438 [==============================] - 7s 2ms/step - loss: 0.0815 - accuracy: 0.9747 - val_loss: 0.1276 - val_accuracy: 0.9620\n",
            "Epoch 8/15\n",
            "3438/3438 [==============================] - 7s 2ms/step - loss: 0.0754 - accuracy: 0.9773 - val_loss: 0.1236 - val_accuracy: 0.9668\n",
            "Epoch 9/15\n",
            "3438/3438 [==============================] - 7s 2ms/step - loss: 0.0691 - accuracy: 0.9785 - val_loss: 0.1186 - val_accuracy: 0.9660\n",
            "Epoch 10/15\n",
            "3438/3438 [==============================] - 7s 2ms/step - loss: 0.0636 - accuracy: 0.9799 - val_loss: 0.1286 - val_accuracy: 0.9632\n",
            "Epoch 11/15\n",
            "3438/3438 [==============================] - 7s 2ms/step - loss: 0.0583 - accuracy: 0.9826 - val_loss: 0.1200 - val_accuracy: 0.9678\n",
            "Epoch 12/15\n",
            "3438/3438 [==============================] - 7s 2ms/step - loss: 0.0542 - accuracy: 0.9826 - val_loss: 0.1218 - val_accuracy: 0.9698\n",
            "Epoch 13/15\n",
            "3438/3438 [==============================] - 7s 2ms/step - loss: 0.0499 - accuracy: 0.9845 - val_loss: 0.1285 - val_accuracy: 0.9664\n",
            "Epoch 14/15\n",
            "3438/3438 [==============================] - 7s 2ms/step - loss: 0.0471 - accuracy: 0.9851 - val_loss: 0.1377 - val_accuracy: 0.9650\n",
            "Epoch 15/15\n",
            "3438/3438 [==============================] - 7s 2ms/step - loss: 0.0435 - accuracy: 0.9865 - val_loss: 0.1266 - val_accuracy: 0.9660\n",
            "CPU times: user 2min 2s, sys: 13 s, total: 2min 15s\n",
            "Wall time: 1min 40s\n"
          ],
          "name": "stdout"
        }
      ]
    },
    {
      "cell_type": "code",
      "metadata": {
        "id": "7wV--B0x1QyD",
        "outputId": "b9571f34-dc5a-465d-9376-e2171d8b5aa1",
        "colab": {
          "base_uri": "https://localhost:8080/",
          "height": 68
        }
      },
      "source": [
        "train_loss, train_acc = model.evaluate(x_train[:10000],y_train[:10000])\n",
        "print(f'Train Loss: {train_loss}')\n",
        "print(f'Train Accuracy: {round(train_acc,2)*100}%')"
      ],
      "execution_count": 68,
      "outputs": [
        {
          "output_type": "stream",
          "text": [
            "313/313 [==============================] - 1s 2ms/step - loss: 0.0317 - accuracy: 0.9902\n",
            "Train Loss: 0.031652845442295074\n",
            "Train Accuracy: 99.0%\n"
          ],
          "name": "stdout"
        }
      ]
    },
    {
      "cell_type": "code",
      "metadata": {
        "id": "32xs_gewdkP7",
        "outputId": "60bc6fd2-90f0-444e-d1f9-35822c2e2267",
        "colab": {
          "base_uri": "https://localhost:8080/",
          "height": 68
        }
      },
      "source": [
        "val_loss, val_acc = model.evaluate(x_val[:10000],y_val[:10000])\n",
        "print(f'Val Loss: {val_loss}')\n",
        "print(f'Val Accuracy: {round(val_acc,2)*100}%')"
      ],
      "execution_count": 69,
      "outputs": [
        {
          "output_type": "stream",
          "text": [
            "157/157 [==============================] - 0s 2ms/step - loss: 0.1266 - accuracy: 0.9660\n",
            "Val Loss: 0.1265568733215332\n",
            "Val Accuracy: 97.0%\n"
          ],
          "name": "stdout"
        }
      ]
    },
    {
      "cell_type": "code",
      "metadata": {
        "id": "6heUY2Z14DvW",
        "outputId": "36f18a0b-3df3-4413-f65d-fc188e04065f",
        "colab": {
          "base_uri": "https://localhost:8080/",
          "height": 297
        }
      },
      "source": [
        "plt.plot(history.history['loss'])\n",
        "plt.plot(history.history['val_loss'])\n",
        "plt.legend(['Train Loss', 'Val Loss'])\n",
        "plt.title('Perda de treinamento e de validação')\n",
        "plt.tight_layout()"
      ],
      "execution_count": 70,
      "outputs": [
        {
          "output_type": "display_data",
          "data": {
            "image/png": "[encoded data removed]",
            "text/plain": [
              "<Figure size 432x288 with 1 Axes>"
            ]
          },
          "metadata": {
            "tags": [],
            "needs_background": "light"
          }
        }
      ]
    },
    {
      "cell_type": "code",
      "metadata": {
        "id": "i0ZxBMkK4bti",
        "outputId": "bf9e8a8b-99c9-476b-c699-e861e5fbf0b0",
        "colab": {
          "base_uri": "https://localhost:8080/",
          "height": 297
        }
      },
      "source": [
        "plt.plot(history.history['accuracy'])\n",
        "plt.plot(history.history['val_accuracy'])\n",
        "plt.legend(['Train accuracy', 'Val accuracy'])\n",
        "plt.title('Acurácia de treinamento e de validação')\n",
        "plt.tight_layout()"
      ],
      "execution_count": 71,
      "outputs": [
        {
          "output_type": "display_data",
          "data": {
            "image/png": "[encoded data removed]",
            "text/plain": [
              "<Figure size 432x288 with 1 Axes>"
            ]
          },
          "metadata": {
            "tags": [],
            "needs_background": "light"
          }
        }
      ]
    },
    {
      "cell_type": "markdown",
      "metadata": {
        "id": "L0ykUzJqdPMC"
      },
      "source": [
        "\n",
        "\n",
        "---\n",
        "Mantenha os hiperparâmetros do modelo e altere apenas o tamanho do conjunto de treinamento. Trace um gráfico da acurácia de treinamento e da acurácia máxima de validação (para alguma época) em função do tamanho do conjunto de treinamento, por exemplo, em intervalos de 5 ou 10 mil amostras, até o máximo de 55000. Esta curva é conhecida em alguns contextos como curva de aprendizado (learning curve). Trace também o gráfico da época ótima em que foi obtida a máxima acurácia de validação, em função do tamanho do conjunto de treinamento. Que conclusões podem ser tiradas a partir desses resultados?\n",
        "\n",
        "---\n",
        "\n"
      ]
    },
    {
      "cell_type": "code",
      "metadata": {
        "id": "y8W-yNdHvArb"
      },
      "source": [
        "def treinamento(x,y):\n",
        "  model = tf.random.set_seed(15)\n",
        "  model = Sequential()\n",
        "  model.add(Flatten()) # 784 inputs\n",
        "  model.add(layers.Dense(units = 32, activation = 'relu', input_shape = (28,28) , name = 'layer1'))\n",
        "  model.add(layers.Dense(units = 10, activation = 'softmax', name = 'output')) # camada de saída\n",
        "\n",
        "  optimizer = tf.keras.optimizers.Adam(learning_rate = 0.001)\n",
        "  model.compile(optimizer = optimizer, loss = 'sparse_categorical_crossentropy', metrics=['accuracy'])\n",
        "\n",
        "  history = model.fit(x,y, validation_data=(x_val,y_val), epochs = 15, batch_size=16)\n",
        "  return history"
      ],
      "execution_count": 93,
      "outputs": []
    },
    {
      "cell_type": "code",
      "metadata": {
        "id": "TNoEvKn7vAwy"
      },
      "source": [
        "learning20mil = treinamento(x_train[:20000], y_train[:20000])"
      ],
      "execution_count": null,
      "outputs": []
    },
    {
      "cell_type": "code",
      "metadata": {
        "id": "wlKehFoevA0w",
        "outputId": "f03644a4-30fa-4768-c173-c237a0a6ace7",
        "colab": {
          "base_uri": "https://localhost:8080/",
          "height": 297
        }
      },
      "source": [
        "plt.plot(history.history['accuracy'])\n",
        "plt.plot(history.history['val_accuracy'])\n",
        "plt.legend(['Train accuracy', 'Val accuracy'])\n",
        "plt.title('Máxima acurácia de treinamento e de validação')\n",
        "plt.grid()\n",
        "plt.tight_layout()"
      ],
      "execution_count": 95,
      "outputs": [
        {
          "output_type": "display_data",
          "data": {
            "image/png": "[encoded data removed]",
            "text/plain": [
              "<Figure size 432x288 with 1 Axes>"
            ]
          },
          "metadata": {
            "tags": [],
            "needs_background": "light"
          }
        }
      ]
    },
    {
      "cell_type": "code",
      "metadata": {
        "id": "cpUzYkEW9lmp"
      },
      "source": [
        ""
      ],
      "execution_count": null,
      "outputs": []
    },
    {
      "cell_type": "code",
      "metadata": {
        "id": "GhWM4BkhvAuv"
      },
      "source": [
        ""
      ],
      "execution_count": null,
      "outputs": []
    },
    {
      "cell_type": "code",
      "metadata": {
        "id": "wn3m4UjZvAo4"
      },
      "source": [
        ""
      ],
      "execution_count": null,
      "outputs": []
    },
    {
      "cell_type": "code",
      "metadata": {
        "id": "zXUTuGw4eDpJ",
        "outputId": "bfd11f2a-76b6-4397-da37-e090873c11af",
        "colab": {
          "base_uri": "https://localhost:8080/",
          "height": 459
        }
      },
      "source": [
        "%%time\n",
        "\n",
        "learning = []\n",
        "\n",
        "x_range = [x_train[:20000], x_train[:30000], x_train[:40000], x_train[:55000]]\n",
        "y_range = [y_train[:20000], y_train[:30000], y_train[:40000], y_train[:55000]]\n",
        "\n",
        "\n",
        "for x_amostras, y_amostras in x_range, y_range: \n",
        "  model = tf.random.set_seed(15)\n",
        "  model = Sequential()\n",
        "  model.add(Flatten()) # 784 inputs\n",
        "  model.add(layers.Dense(units = 32, activation = 'relu', input_shape = (28,28) , name = 'layer1'))\n",
        "  model.add(layers.Dense(units = 10, activation = 'softmax', name = 'output')) # camada de saída\n",
        "\n",
        "\n",
        "  optimizer = tf.keras.optimizers.Adam(learning_rate = 0.001)\n",
        "  model.compile(optimizer = optimizer, loss = 'sparse_categorical_crossentropy', metrics=['accuracy'])\n",
        "\n",
        "  history = model.fit(x_amostras,y_amostras, validation_data=(x_val,y_val), epochs = 15, batch_size=16)\n",
        "  learning.append(history)"
      ],
      "execution_count": 75,
      "outputs": [
        {
          "output_type": "error",
          "ename": "ValueError",
          "evalue": "ignored",
          "traceback": [
            "\u001b[0;31m---------------------------------------------------------------------------\u001b[0m",
            "\u001b[0;31mValueError\u001b[0m                                Traceback (most recent call last)",
            "\u001b[0;32m<ipython-input-75-d0f88bbf02b8>\u001b[0m in \u001b[0;36m<module>\u001b[0;34m()\u001b[0m\n\u001b[0;32m----> 1\u001b[0;31m \u001b[0mget_ipython\u001b[0m\u001b[0;34m(\u001b[0m\u001b[0;34m)\u001b[0m\u001b[0;34m.\u001b[0m\u001b[0mrun_cell_magic\u001b[0m\u001b[0;34m(\u001b[0m\u001b[0;34m'time'\u001b[0m\u001b[0;34m,\u001b[0m \u001b[0;34m''\u001b[0m\u001b[0;34m,\u001b[0m \u001b[0;34m\"\\nlearning = []\\n\\nx_range = [x_train[:20000], x_train[:30000], x_train[:40000], x_train[:55000]]\\ny_range = [y_train[:20000], y_train[:30000], y_train[:40000], y_train[:55000]]\\n\\n\\nfor x_amostras, y_amostras in x_range, y_range: \\n  model = tf.random.set_seed(15)\\n  model = Sequential()\\n  model.add(Flatten()) # 784 inputs\\n  model.add(layers.Dense(units = 32, activation = 'relu', input_shape = (28,28) , name = 'layer1'))\\n  model.add(layers.Dense(units = 10, activation = 'softmax', name = 'output')) # camada de saída\\n\\n\\n  optimizer = tf.keras.optimizers.Adam(learning_rate = 0.001)\\n  model.compile(optimizer = optimizer, loss = 'sparse_categorical_crossentropy', metrics=['accuracy'])\\n\\n  history = model.fit(x_amostras,y_amostras, validation_data=(x_val,y_val), epochs = 15, batch_size=16)\\n  learning.append(history)\"\u001b[0m\u001b[0;34m)\u001b[0m\u001b[0;34m\u001b[0m\u001b[0;34m\u001b[0m\u001b[0m\n\u001b[0m",
            "\u001b[0;32m/usr/local/lib/python3.6/dist-packages/IPython/core/interactiveshell.py\u001b[0m in \u001b[0;36mrun_cell_magic\u001b[0;34m(self, magic_name, line, cell)\u001b[0m\n\u001b[1;32m   2115\u001b[0m             \u001b[0mmagic_arg_s\u001b[0m \u001b[0;34m=\u001b[0m \u001b[0mself\u001b[0m\u001b[0;34m.\u001b[0m\u001b[0mvar_expand\u001b[0m\u001b[0;34m(\u001b[0m\u001b[0mline\u001b[0m\u001b[0;34m,\u001b[0m \u001b[0mstack_depth\u001b[0m\u001b[0;34m)\u001b[0m\u001b[0;34m\u001b[0m\u001b[0;34m\u001b[0m\u001b[0m\n\u001b[1;32m   2116\u001b[0m             \u001b[0;32mwith\u001b[0m \u001b[0mself\u001b[0m\u001b[0;34m.\u001b[0m\u001b[0mbuiltin_trap\u001b[0m\u001b[0;34m:\u001b[0m\u001b[0;34m\u001b[0m\u001b[0;34m\u001b[0m\u001b[0m\n\u001b[0;32m-> 2117\u001b[0;31m                 \u001b[0mresult\u001b[0m \u001b[0;34m=\u001b[0m \u001b[0mfn\u001b[0m\u001b[0;34m(\u001b[0m\u001b[0mmagic_arg_s\u001b[0m\u001b[0;34m,\u001b[0m \u001b[0mcell\u001b[0m\u001b[0;34m)\u001b[0m\u001b[0;34m\u001b[0m\u001b[0;34m\u001b[0m\u001b[0m\n\u001b[0m\u001b[1;32m   2118\u001b[0m             \u001b[0;32mreturn\u001b[0m \u001b[0mresult\u001b[0m\u001b[0;34m\u001b[0m\u001b[0;34m\u001b[0m\u001b[0m\n\u001b[1;32m   2119\u001b[0m \u001b[0;34m\u001b[0m\u001b[0m\n",
            "\u001b[0;32m<decorator-gen-60>\u001b[0m in \u001b[0;36mtime\u001b[0;34m(self, line, cell, local_ns)\u001b[0m\n",
            "\u001b[0;32m/usr/local/lib/python3.6/dist-packages/IPython/core/magic.py\u001b[0m in \u001b[0;36m<lambda>\u001b[0;34m(f, *a, **k)\u001b[0m\n\u001b[1;32m    186\u001b[0m     \u001b[0;31m# but it's overkill for just that one bit of state.\u001b[0m\u001b[0;34m\u001b[0m\u001b[0;34m\u001b[0m\u001b[0;34m\u001b[0m\u001b[0m\n\u001b[1;32m    187\u001b[0m     \u001b[0;32mdef\u001b[0m \u001b[0mmagic_deco\u001b[0m\u001b[0;34m(\u001b[0m\u001b[0marg\u001b[0m\u001b[0;34m)\u001b[0m\u001b[0;34m:\u001b[0m\u001b[0;34m\u001b[0m\u001b[0;34m\u001b[0m\u001b[0m\n\u001b[0;32m--> 188\u001b[0;31m         \u001b[0mcall\u001b[0m \u001b[0;34m=\u001b[0m \u001b[0;32mlambda\u001b[0m \u001b[0mf\u001b[0m\u001b[0;34m,\u001b[0m \u001b[0;34m*\u001b[0m\u001b[0ma\u001b[0m\u001b[0;34m,\u001b[0m \u001b[0;34m**\u001b[0m\u001b[0mk\u001b[0m\u001b[0;34m:\u001b[0m \u001b[0mf\u001b[0m\u001b[0;34m(\u001b[0m\u001b[0;34m*\u001b[0m\u001b[0ma\u001b[0m\u001b[0;34m,\u001b[0m \u001b[0;34m**\u001b[0m\u001b[0mk\u001b[0m\u001b[0;34m)\u001b[0m\u001b[0;34m\u001b[0m\u001b[0;34m\u001b[0m\u001b[0m\n\u001b[0m\u001b[1;32m    189\u001b[0m \u001b[0;34m\u001b[0m\u001b[0m\n\u001b[1;32m    190\u001b[0m         \u001b[0;32mif\u001b[0m \u001b[0mcallable\u001b[0m\u001b[0;34m(\u001b[0m\u001b[0marg\u001b[0m\u001b[0;34m)\u001b[0m\u001b[0;34m:\u001b[0m\u001b[0;34m\u001b[0m\u001b[0;34m\u001b[0m\u001b[0m\n",
            "\u001b[0;32m/usr/local/lib/python3.6/dist-packages/IPython/core/magics/execution.py\u001b[0m in \u001b[0;36mtime\u001b[0;34m(self, line, cell, local_ns)\u001b[0m\n\u001b[1;32m   1191\u001b[0m         \u001b[0;32melse\u001b[0m\u001b[0;34m:\u001b[0m\u001b[0;34m\u001b[0m\u001b[0;34m\u001b[0m\u001b[0m\n\u001b[1;32m   1192\u001b[0m             \u001b[0mst\u001b[0m \u001b[0;34m=\u001b[0m \u001b[0mclock2\u001b[0m\u001b[0;34m(\u001b[0m\u001b[0;34m)\u001b[0m\u001b[0;34m\u001b[0m\u001b[0;34m\u001b[0m\u001b[0m\n\u001b[0;32m-> 1193\u001b[0;31m             \u001b[0mexec\u001b[0m\u001b[0;34m(\u001b[0m\u001b[0mcode\u001b[0m\u001b[0;34m,\u001b[0m \u001b[0mglob\u001b[0m\u001b[0;34m,\u001b[0m \u001b[0mlocal_ns\u001b[0m\u001b[0;34m)\u001b[0m\u001b[0;34m\u001b[0m\u001b[0;34m\u001b[0m\u001b[0m\n\u001b[0m\u001b[1;32m   1194\u001b[0m             \u001b[0mend\u001b[0m \u001b[0;34m=\u001b[0m \u001b[0mclock2\u001b[0m\u001b[0;34m(\u001b[0m\u001b[0;34m)\u001b[0m\u001b[0;34m\u001b[0m\u001b[0;34m\u001b[0m\u001b[0m\n\u001b[1;32m   1195\u001b[0m             \u001b[0mout\u001b[0m \u001b[0;34m=\u001b[0m \u001b[0;32mNone\u001b[0m\u001b[0;34m\u001b[0m\u001b[0;34m\u001b[0m\u001b[0m\n",
            "\u001b[0;32m<timed exec>\u001b[0m in \u001b[0;36m<module>\u001b[0;34m()\u001b[0m\n",
            "\u001b[0;31mValueError\u001b[0m: too many values to unpack (expected 2)"
          ]
        }
      ]
    },
    {
      "cell_type": "markdown",
      "metadata": {
        "id": "C4FThSQqd-or"
      },
      "source": [
        "\n",
        "\n",
        "---\n",
        "\n",
        "\n",
        "Finalmente, utilize todas as 60000 amostras para treinamento (e naturalmente não utilize conjunto de validação), com um número de épocas apropriadamente escolhido. Em seguida, meça o desempenho no conjunto de teste.\n",
        "\n",
        "---\n",
        "\n",
        "\n"
      ]
    },
    {
      "cell_type": "code",
      "metadata": {
        "id": "2mJxBsCD4Dr2"
      },
      "source": [
        "from tensorflow.keras.datasets import mnist\n",
        "(x_train, y_train), (x_test, y_test) = mnist.load_data()\n",
        "x_train = x_train / 255.0\n",
        "x_test = x_test / 255.0\n",
        "print(x_train.shape, y_train.shape)\n",
        "print(x_test.shape, y_test.shape)"
      ],
      "execution_count": null,
      "outputs": []
    },
    {
      "cell_type": "code",
      "metadata": {
        "id": "SD_t5-VCdOsm"
      },
      "source": [
        ""
      ],
      "execution_count": null,
      "outputs": []
    },
    {
      "cell_type": "code",
      "metadata": {
        "id": "H9Y2n3RKdO0Q"
      },
      "source": [
        ""
      ],
      "execution_count": null,
      "outputs": []
    },
    {
      "cell_type": "code",
      "metadata": {
        "id": "uNZBxiicdOyH"
      },
      "source": [
        ""
      ],
      "execution_count": null,
      "outputs": []
    },
    {
      "cell_type": "code",
      "metadata": {
        "id": "faLojK8qdOvm"
      },
      "source": [
        ""
      ],
      "execution_count": null,
      "outputs": []
    },
    {
      "cell_type": "code",
      "metadata": {
        "id": "24WLsHDJdOqT"
      },
      "source": [
        ""
      ],
      "execution_count": null,
      "outputs": []
    },
    {
      "cell_type": "code",
      "metadata": {
        "id": "JLT8EZCkCHfa"
      },
      "source": [
        "W = model.weights[0].numpy()\n",
        "vmax = np.abs(W).max()\n",
        "@interact(i=(0,int(np.ceil(W.shape[1]/10))-1))\n",
        "def _(i=0):\n",
        "  plt.figure(figsize=(16,2.4));\n",
        "  # para ver de 10 em 10\n",
        "  for j in range(min(10, W.shape[1]-10*i)):\n",
        "    plt.subplot(1,10,j+1)\n",
        "    w = W[:,10*i+j].reshape(28,28)\n",
        "    plt.imshow(w, cmap=plt.cm.bwr, vmin=-vmax, vmax=vmax); # (-,0,+) = (blue, white, red)\n",
        "    plt.xticks([]);\n",
        "    plt.yticks([]);"
      ],
      "execution_count": null,
      "outputs": []
    },
    {
      "cell_type": "markdown",
      "metadata": {
        "id": "MtIXwBuGCGcT"
      },
      "source": [
        "11. Relate suas principais conclusões com este exercício.\n",
        "1. (OPCIONAL) O que acontece se é aplicada uma permutação aleatória nos pixels de todas as imagens (a mesma permutação para todas as imagens)? O desempenho do modelo se altera? Você consegue identificar corretamente os dígitos? O que podemos concluir sobre o aprendizado do modelo?\n",
        "\n",
        "#### Dicas\n",
        "- Funções úteis: `plt.figure(figsize=(...))`, `plt.subplot()`, `plt.plot(..., label=...)`, `plt.xlabel()`, `plt.legend()`\n",
        "- Quando usamos *early stopping*, perdemos parcialmente o controle sobre o número de épocas de treinamento como um hiperparâmetro. Nesse caso, após o desenvolvimento de um modelo, se desejarmos identificar seus hiperparâmetros, é conveniente registrar e fixar o número de épocas de treinamento efetivamente utilizadas e parar de utilizar *early stopping*.\n",
        "- Se quiser salvar o melhor modelo encontrado, mas sem usar *early stopping*, você pode utilizar a *callback* `tf.keras.callbacks.ModelCheckpoint`. Alternativamente, você pode usar *early stopping* com uma paciência suficientemente grande (maior que o número de épocas)."
      ]
    },
    {
      "cell_type": "code",
      "metadata": {
        "id": "xgBBqa-q8yJ5"
      },
      "source": [
        ""
      ],
      "execution_count": null,
      "outputs": []
    }
  ]
}