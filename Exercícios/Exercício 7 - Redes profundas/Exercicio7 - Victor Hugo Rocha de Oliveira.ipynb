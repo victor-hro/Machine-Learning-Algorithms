{
  "nbformat": 4,
  "nbformat_minor": 0,
  "metadata": {
    "accelerator": "GPU",
    "colab": {
      "name": "exercicio7.ipynb",
      "provenance": []
    },
    "kernelspec": {
      "display_name": "Python 3",
      "language": "python",
      "name": "python3"
    },
    "language_info": {
      "codemirror_mode": {
        "name": "ipython",
        "version": 3
      },
      "file_extension": ".py",
      "mimetype": "text/x-python",
      "name": "python",
      "nbconvert_exporter": "python",
      "pygments_lexer": "ipython3",
      "version": "3.8.3"
    },
    "widgets": {
      "application/vnd.jupyter.widget-state+json": {
        "11f29694edef41c4bb6b7cea8d79e8eb": {
          "model_module": "@jupyter-widgets/controls",
          "model_name": "VBoxModel",
          "state": {
            "_view_name": "VBoxView",
            "_dom_classes": [
              "widget-interact"
            ],
            "_model_name": "VBoxModel",
            "_view_module": "@jupyter-widgets/controls",
            "_model_module_version": "1.5.0",
            "_view_count": null,
            "_view_module_version": "1.5.0",
            "box_style": "",
            "layout": "IPY_MODEL_2f3dbbfecc224302b9f37945870336f7",
            "_model_module": "@jupyter-widgets/controls",
            "children": [
              "IPY_MODEL_f06b47d19ee84a85aa341e9eab006ca0",
              "IPY_MODEL_4d28f7668849440b969ba38357f7febf",
              "IPY_MODEL_d447e90105e04018b1c41db91cffeee2"
            ]
          }
        },
        "2f3dbbfecc224302b9f37945870336f7": {
          "model_module": "@jupyter-widgets/base",
          "model_name": "LayoutModel",
          "state": {
            "_view_name": "LayoutView",
            "grid_template_rows": null,
            "right": null,
            "justify_content": null,
            "_view_module": "@jupyter-widgets/base",
            "overflow": null,
            "_model_module_version": "1.2.0",
            "_view_count": null,
            "flex_flow": null,
            "width": null,
            "min_width": null,
            "border": null,
            "align_items": null,
            "bottom": null,
            "_model_module": "@jupyter-widgets/base",
            "top": null,
            "grid_column": null,
            "overflow_y": null,
            "overflow_x": null,
            "grid_auto_flow": null,
            "grid_area": null,
            "grid_template_columns": null,
            "flex": null,
            "_model_name": "LayoutModel",
            "justify_items": null,
            "grid_row": null,
            "max_height": null,
            "align_content": null,
            "visibility": null,
            "align_self": null,
            "height": null,
            "min_height": null,
            "padding": null,
            "grid_auto_rows": null,
            "grid_gap": null,
            "max_width": null,
            "order": null,
            "_view_module_version": "1.2.0",
            "grid_template_areas": null,
            "object_position": null,
            "object_fit": null,
            "grid_auto_columns": null,
            "margin": null,
            "display": null,
            "left": null
          }
        },
        "f06b47d19ee84a85aa341e9eab006ca0": {
          "model_module": "@jupyter-widgets/controls",
          "model_name": "DropdownModel",
          "state": {
            "_options_labels": [
              "constant",
              "invscaling",
              "adaptive"
            ],
            "_view_name": "DropdownView",
            "style": "IPY_MODEL_46c330d664544b11bee032376de64ab3",
            "_dom_classes": [],
            "description": "lr",
            "_model_name": "DropdownModel",
            "index": 0,
            "_view_module": "@jupyter-widgets/controls",
            "_model_module_version": "1.5.0",
            "_view_count": null,
            "disabled": false,
            "_view_module_version": "1.5.0",
            "description_tooltip": null,
            "_model_module": "@jupyter-widgets/controls",
            "layout": "IPY_MODEL_fb74924a8dd54e8b9ebdb46feba42e13"
          }
        },
        "4d28f7668849440b969ba38357f7febf": {
          "model_module": "@jupyter-widgets/controls",
          "model_name": "IntSliderModel",
          "state": {
            "_view_name": "IntSliderView",
            "style": "IPY_MODEL_756afa56d8784fa58ae1e156c514a4d3",
            "_dom_classes": [],
            "description": "units",
            "step": 10,
            "_model_name": "IntSliderModel",
            "orientation": "horizontal",
            "max": 100,
            "_view_module": "@jupyter-widgets/controls",
            "_model_module_version": "1.5.0",
            "value": 50,
            "_view_count": null,
            "disabled": false,
            "_view_module_version": "1.5.0",
            "min": 0,
            "continuous_update": true,
            "readout_format": "d",
            "description_tooltip": null,
            "readout": true,
            "_model_module": "@jupyter-widgets/controls",
            "layout": "IPY_MODEL_4100bbe74ed34152ab49d5775bfd8a9d"
          }
        },
        "d447e90105e04018b1c41db91cffeee2": {
          "model_module": "@jupyter-widgets/output",
          "model_name": "OutputModel",
          "state": {
            "_view_name": "OutputView",
            "msg_id": "",
            "_dom_classes": [],
            "_model_name": "OutputModel",
            "outputs": [
              {
                "output_type": "stream",
                "metadata": {
                  "tags": []
                },
                "text": "/usr/local/lib/python3.6/dist-packages/sklearn/neural_network/_multilayer_perceptron.py:571: ConvergenceWarning: Stochastic Optimizer: Maximum iterations (200) reached and the optimization hasn't converged yet.\n  % self.max_iter, ConvergenceWarning)\n",
                "stream": "stderr"
              },
              {
                "output_type": "stream",
                "metadata": {
                  "tags": []
                },
                "text": "Train accuracy: 100.0%\n  Val accuracy: 100.0%\nloss: 0.2948930512417269\n",
                "stream": "stdout"
              },
              {
                "output_type": "display_data",
                "metadata": {
                  "tags": [],
                  "needs_background": "light"
                },
                "image/png": "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\n",
                "text/plain": "<Figure size 432x288 with 1 Axes>"
              }
            ],
            "_view_module": "@jupyter-widgets/output",
            "_model_module_version": "1.0.0",
            "_view_count": null,
            "_view_module_version": "1.0.0",
            "layout": "IPY_MODEL_9da017168f964657bb80461c63b91711",
            "_model_module": "@jupyter-widgets/output"
          }
        },
        "46c330d664544b11bee032376de64ab3": {
          "model_module": "@jupyter-widgets/controls",
          "model_name": "DescriptionStyleModel",
          "state": {
            "_view_name": "StyleView",
            "_model_name": "DescriptionStyleModel",
            "description_width": "",
            "_view_module": "@jupyter-widgets/base",
            "_model_module_version": "1.5.0",
            "_view_count": null,
            "_view_module_version": "1.2.0",
            "_model_module": "@jupyter-widgets/controls"
          }
        },
        "fb74924a8dd54e8b9ebdb46feba42e13": {
          "model_module": "@jupyter-widgets/base",
          "model_name": "LayoutModel",
          "state": {
            "_view_name": "LayoutView",
            "grid_template_rows": null,
            "right": null,
            "justify_content": null,
            "_view_module": "@jupyter-widgets/base",
            "overflow": null,
            "_model_module_version": "1.2.0",
            "_view_count": null,
            "flex_flow": null,
            "width": null,
            "min_width": null,
            "border": null,
            "align_items": null,
            "bottom": null,
            "_model_module": "@jupyter-widgets/base",
            "top": null,
            "grid_column": null,
            "overflow_y": null,
            "overflow_x": null,
            "grid_auto_flow": null,
            "grid_area": null,
            "grid_template_columns": null,
            "flex": null,
            "_model_name": "LayoutModel",
            "justify_items": null,
            "grid_row": null,
            "max_height": null,
            "align_content": null,
            "visibility": null,
            "align_self": null,
            "height": null,
            "min_height": null,
            "padding": null,
            "grid_auto_rows": null,
            "grid_gap": null,
            "max_width": null,
            "order": null,
            "_view_module_version": "1.2.0",
            "grid_template_areas": null,
            "object_position": null,
            "object_fit": null,
            "grid_auto_columns": null,
            "margin": null,
            "display": null,
            "left": null
          }
        },
        "756afa56d8784fa58ae1e156c514a4d3": {
          "model_module": "@jupyter-widgets/controls",
          "model_name": "SliderStyleModel",
          "state": {
            "_view_name": "StyleView",
            "handle_color": null,
            "_model_name": "SliderStyleModel",
            "description_width": "",
            "_view_module": "@jupyter-widgets/base",
            "_model_module_version": "1.5.0",
            "_view_count": null,
            "_view_module_version": "1.2.0",
            "_model_module": "@jupyter-widgets/controls"
          }
        },
        "4100bbe74ed34152ab49d5775bfd8a9d": {
          "model_module": "@jupyter-widgets/base",
          "model_name": "LayoutModel",
          "state": {
            "_view_name": "LayoutView",
            "grid_template_rows": null,
            "right": null,
            "justify_content": null,
            "_view_module": "@jupyter-widgets/base",
            "overflow": null,
            "_model_module_version": "1.2.0",
            "_view_count": null,
            "flex_flow": null,
            "width": null,
            "min_width": null,
            "border": null,
            "align_items": null,
            "bottom": null,
            "_model_module": "@jupyter-widgets/base",
            "top": null,
            "grid_column": null,
            "overflow_y": null,
            "overflow_x": null,
            "grid_auto_flow": null,
            "grid_area": null,
            "grid_template_columns": null,
            "flex": null,
            "_model_name": "LayoutModel",
            "justify_items": null,
            "grid_row": null,
            "max_height": null,
            "align_content": null,
            "visibility": null,
            "align_self": null,
            "height": null,
            "min_height": null,
            "padding": null,
            "grid_auto_rows": null,
            "grid_gap": null,
            "max_width": null,
            "order": null,
            "_view_module_version": "1.2.0",
            "grid_template_areas": null,
            "object_position": null,
            "object_fit": null,
            "grid_auto_columns": null,
            "margin": null,
            "display": null,
            "left": null
          }
        },
        "9da017168f964657bb80461c63b91711": {
          "model_module": "@jupyter-widgets/base",
          "model_name": "LayoutModel",
          "state": {
            "_view_name": "LayoutView",
            "grid_template_rows": null,
            "right": null,
            "justify_content": null,
            "_view_module": "@jupyter-widgets/base",
            "overflow": null,
            "_model_module_version": "1.2.0",
            "_view_count": null,
            "flex_flow": null,
            "width": null,
            "min_width": null,
            "border": null,
            "align_items": null,
            "bottom": null,
            "_model_module": "@jupyter-widgets/base",
            "top": null,
            "grid_column": null,
            "overflow_y": null,
            "overflow_x": null,
            "grid_auto_flow": null,
            "grid_area": null,
            "grid_template_columns": null,
            "flex": null,
            "_model_name": "LayoutModel",
            "justify_items": null,
            "grid_row": null,
            "max_height": null,
            "align_content": null,
            "visibility": null,
            "align_self": null,
            "height": null,
            "min_height": null,
            "padding": null,
            "grid_auto_rows": null,
            "grid_gap": null,
            "max_width": null,
            "order": null,
            "_view_module_version": "1.2.0",
            "grid_template_areas": null,
            "object_position": null,
            "object_fit": null,
            "grid_auto_columns": null,
            "margin": null,
            "display": null,
            "left": null
          }
        }
      }
    }
  },
  "cells": [
    {
      "cell_type": "markdown",
      "metadata": {
        "id": "8JBVC5Tk8yJd"
      },
      "source": [
        "Universidade Federal de Santa Catarina<br>\n",
        "Departamento de Engenharia Elétrica e Eletrônica<br>\n",
        "EEL7514 / EEL7513 / EEL410250 - Aprendizado de Máquina\n",
        "$\\newcommand{\\bX}{\\mathbf{X}}$\n",
        "$\\newcommand{\\bw}{\\mathbf{w}}$\n",
        "$\\newcommand{\\by}{\\mathbf{y}}$\n",
        "$\\newcommand{\\bx}{\\mathbf{x}}$\n",
        "$\\newcommand{\\RR}{\\mathbb{R}}$\n",
        "$\\newcommand{\\calS}{\\mathcal{S}}$\n",
        "\n",
        "# Exercício 7: Redes Profundas\n",
        "\n",
        "Neste exercício você irá construir modelos de redes neurais para realizar classificação e experimentar diversas configurações de hiperparâmetros."
      ]
    },
    {
      "cell_type": "code",
      "metadata": {
        "id": "u32AG3f88yJe",
        "outputId": "10eabe09-6036-4342-d343-efb6f2a8353d",
        "colab": {
          "base_uri": "https://localhost:8080/",
          "height": 68
        }
      },
      "source": [
        "import numpy as np\n",
        "import matplotlib.pyplot as plt\n",
        "%matplotlib inline\n",
        "from ipywidgets import interact\n",
        "from sklearn.neural_network import MLPClassifier\n",
        "\n",
        "import sys\n",
        "import tensorflow as tf\n",
        "print('Python version:', sys.version.split(' ')[0])\n",
        "print('TensorFlow version:', tf.__version__)\n",
        "print('GPU:', tf.config.list_physical_devices('GPU'))"
      ],
      "execution_count": 187,
      "outputs": [
        {
          "output_type": "stream",
          "text": [
            "Python version: 3.6.9\n",
            "TensorFlow version: 2.3.0\n",
            "GPU: [PhysicalDevice(name='/physical_device:GPU:0', device_type='GPU')]\n"
          ],
          "name": "stdout"
        }
      ]
    },
    {
      "cell_type": "markdown",
      "metadata": {
        "id": "RbGFQS7l8yJh"
      },
      "source": [
        "# 1. Conjunto de dados #1\n",
        "\n",
        "Para \"aquecer\", vamos começar utilizando o conjunto XOR do exercício anterior."
      ]
    },
    {
      "cell_type": "code",
      "metadata": {
        "id": "dD6SIvwp8yJi",
        "outputId": "3ca9d379-a140-4c90-8b7e-9eb85b35c456",
        "colab": {
          "base_uri": "https://localhost:8080/",
          "height": 51
        }
      },
      "source": [
        "from sklearn.datasets import make_blobs\n",
        "from sklearn.model_selection import train_test_split\n",
        "X_train, y_train = make_blobs(n_samples=400, n_features=2, centers=[[0,0],[1,1],[0,1],[1,0]], cluster_std=0.15, random_state=0)\n",
        "y_train = (y_train >= 2).astype(int)\n",
        "X_train, X_val, y_train, y_val = train_test_split(X_train, y_train, test_size=1/4, random_state=0)\n",
        "print(X_train.shape, y_train.shape)\n",
        "print(X_val.shape, y_val.shape)"
      ],
      "execution_count": 188,
      "outputs": [
        {
          "output_type": "stream",
          "text": [
            "(300, 2) (300,)\n",
            "(100, 2) (100,)\n"
          ],
          "name": "stdout"
        }
      ]
    },
    {
      "cell_type": "markdown",
      "metadata": {
        "id": "9FVYxBOx8yJk"
      },
      "source": [
        "1. Usando a biblioteca sklearn, treine uma rede neural de 2 camadas (1 oculta) para classificação. Utilize o otimizador Adam com parâmetros padrão, exceto pela taxa de aprendizado (constante), que deve ser escolhida apropriadamente. Obtenha 100% de acurácia de treinamento e de validação e calcule o valor da perda ao final do treinamento. Além disso, trace a curva da perda de treinamento ao longo das épocas.\n",
        "\n",
        "#### Dicas\n",
        "- Para obter a curva de perda no treinamento, você pode utilizar `model.loss_curve_`.\n",
        "- Note que o sklearn usa uma terminologia por vezes inconsistente com a literatura da área (mas consistente internamente em sua API). Por exemplo, o parâmetro `max_iter` corresponde ao número de épocas, não necessariamente ao número de atualizações de pesos. Outro aspecto incômodo é juntar todos os hiperparâmetros do treinamento dentro da definição do modelo, o que além de tornar a chamada extensa, faz com que, dependendo da configuração, alguns parâmetros se tornem desnecessários ou mudem de definição."
      ]
    },
    {
      "cell_type": "code",
      "metadata": {
        "id": "8QFWXAmNdY9D"
      },
      "source": [
        "from sklearn.neural_network import MLPClassifier\n",
        "from sklearn.metrics import log_loss"
      ],
      "execution_count": 189,
      "outputs": []
    },
    {
      "cell_type": "code",
      "metadata": {
        "id": "OX8AA8OHdZFz",
        "outputId": "a1ebc592-915e-4524-fb68-9032701e8302",
        "colab": {
          "base_uri": "https://localhost:8080/",
          "height": 431,
          "referenced_widgets": [
            "11f29694edef41c4bb6b7cea8d79e8eb",
            "2f3dbbfecc224302b9f37945870336f7",
            "f06b47d19ee84a85aa341e9eab006ca0",
            "4d28f7668849440b969ba38357f7febf",
            "d447e90105e04018b1c41db91cffeee2",
            "46c330d664544b11bee032376de64ab3",
            "fb74924a8dd54e8b9ebdb46feba42e13",
            "756afa56d8784fa58ae1e156c514a4d3",
            "4100bbe74ed34152ab49d5775bfd8a9d",
            "9da017168f964657bb80461c63b91711"
          ]
        }
      },
      "source": [
        "@interact(lr = ['constant', 'invscaling', 'adaptive'], units = (0,100,10)) \n",
        "def _(lr,units):\n",
        "  model = MLPClassifier(hidden_layer_sizes=[units], activation='relu', solver = 'adam', learning_rate=lr,)\n",
        "  model.fit(X_train,y_train)\n",
        "  print(f'Train accuracy: {round(model.score(X_train,y_train),2)*100}%')\n",
        "  print(f'  Val accuracy: {round(model.score(X_val,y_val),2)*100}%')\n",
        "  print(f'loss: {model.loss_}')\n",
        "  plt.plot(model.loss_curve_)"
      ],
      "execution_count": 190,
      "outputs": [
        {
          "output_type": "display_data",
          "data": {
            "application/vnd.jupyter.widget-view+json": {
              "model_id": "11f29694edef41c4bb6b7cea8d79e8eb",
              "version_minor": 0,
              "version_major": 2
            },
            "text/plain": [
              "interactive(children=(Dropdown(description='lr', options=('constant', 'invscaling', 'adaptive'), value='consta…"
            ]
          },
          "metadata": {
            "tags": []
          }
        }
      ]
    },
    {
      "cell_type": "code",
      "metadata": {
        "id": "yjmXxR9rRWUY",
        "outputId": "425b00ab-f8c8-4a1d-be0d-8ce2f4ff8802",
        "colab": {
          "base_uri": "https://localhost:8080/",
          "height": 390
        }
      },
      "source": [
        "  model = MLPClassifier(hidden_layer_sizes=[100], activation='relu', solver = 'adam', learning_rate='constant')\n",
        "  model.fit(X_train,y_train)\n",
        "  print(f'Train accuracy: {round(model.score(X_train,y_train),2)*100}%')\n",
        "  print(f'  Val accuracy: {round(model.score(X_val,y_val),2)*100}%')\n",
        "  print(f'loss: {model.loss_}')\n",
        "  plt.plot(model.loss_curve_)"
      ],
      "execution_count": 191,
      "outputs": [
        {
          "output_type": "stream",
          "text": [
            "Train accuracy: 100.0%\n",
            "  Val accuracy: 100.0%\n",
            "loss: 0.11793542722759201\n"
          ],
          "name": "stdout"
        },
        {
          "output_type": "stream",
          "text": [
            "/usr/local/lib/python3.6/dist-packages/sklearn/neural_network/_multilayer_perceptron.py:571: ConvergenceWarning: Stochastic Optimizer: Maximum iterations (200) reached and the optimization hasn't converged yet.\n",
            "  % self.max_iter, ConvergenceWarning)\n"
          ],
          "name": "stderr"
        },
        {
          "output_type": "execute_result",
          "data": {
            "text/plain": [
              "[<matplotlib.lines.Line2D at 0x7f59b6fd5e10>]"
            ]
          },
          "metadata": {
            "tags": []
          },
          "execution_count": 191
        },
        {
          "output_type": "display_data",
          "data": {
            "image/png": "[encoded data removed]",
            "text/plain": [
              "<Figure size 432x288 with 1 Axes>"
            ]
          },
          "metadata": {
            "tags": [],
            "needs_background": "light"
          }
        }
      ]
    },
    {
      "cell_type": "code",
      "metadata": {
        "id": "kxz0Nvatkyi0"
      },
      "source": [
        ""
      ],
      "execution_count": 191,
      "outputs": []
    },
    {
      "cell_type": "markdown",
      "metadata": {
        "id": "9caTd3Gr9pev"
      },
      "source": [
        "2. Repita o item anterior usando [Keras](https://keras.io/), a API de alto-nível do [TensorFlow](https://www.tensorflow.org/), disponível através do módulo `tensorflow.keras`. Certifique-se de estar usando TensorFlow 2.x.\n",
        "\n",
        "\n",
        "### Dicas\n",
        "- Ao invés de instalar o TensorFlow e rodar localmente em sua máquina, uma opção mais simples é utilizar o serviço em nuvem gratuito [Google Colab](https://colab.research.google.com), que já possui todas as bibliotecas necessárias instaladas, inclusive o TensorFlow 2.x.\n",
        "\n",
        "- Leia a documentação do Keras para aprender a utilizá-lo. Para quem está começando, é recomendável (e suficiente para este exercício) usar a classe [Sequential](https://keras.io/guides/sequential_model). É útil também conhecer sobre funções de [ativação](https://keras.io/activations), funções de [perda](https://keras.io/losses), métodos de [otimização](https://keras.io/api/optimizers) e o processo de [treinamento e avaliação](https://keras.io/guides/training_with_built_in_methods/) de modelos.\n",
        "- No Keras, ao contrário do sklearn, é necessário especificar explicitamente a camada de saída, sua função de ativação, e a função de perda utilizada. (No sklearn, essa escolha é automática a partir dos valores encontrados em `y_train`.) \n",
        "- É recommendável utilizar o comando `model.summary()` para obter uma descrição de todas as camadas da rede neural.\n",
        "- Para configurar a taxa de aprendizado, é necessário instanciar um otimizador, caso contrário será usado o valor padrão.\n",
        "- Para obter a curva de perda no treinamento, utilize \n",
        "```python\n",
        "history = model.fit(...)\n",
        "history.history['loss']\n",
        "```\n",
        "- Se quiser garantir a reprodutibilidade, utilize `tf.random.set_seed()` **antes** de definir o modelo (os pesos são inicializados no momento da adição de cada camada).\n"
      ]
    },
    {
      "cell_type": "code",
      "metadata": {
        "id": "0tAa4k0qvhb7"
      },
      "source": [
        "import tensorflow as tf\n",
        "from tensorflow.keras import layers, Sequential\n",
        "model = Sequential()\n",
        "model.add(layers.Dense(units = 100, activation = 'relu', input_shape = ( X_train.shape[1],), name = 'input')) # camada oculta\n",
        "model.add(layers.Dense(units = 1, activation = 'sigmoid', name = 'output')) # camada de saída\n",
        "#optimizer = keras.optimizers.Adam(learning_rate =0.01)\n",
        "model.compile(optimizer = 'adam', loss = 'binary_crossentropy', metrics=['accuracy'])\n",
        "#history = model.fit(X_train,y_train, epochs = 200)"
      ],
      "execution_count": 192,
      "outputs": []
    },
    {
      "cell_type": "code",
      "metadata": {
        "id": "B8RvArGuvhVu",
        "outputId": "2d5b5f53-2f11-4ef1-ec1e-6a837287f26b",
        "colab": {
          "base_uri": "https://localhost:8080/",
          "height": 221
        }
      },
      "source": [
        "model.summary()"
      ],
      "execution_count": 193,
      "outputs": [
        {
          "output_type": "stream",
          "text": [
            "Model: \"sequential_8\"\n",
            "_________________________________________________________________\n",
            "Layer (type)                 Output Shape              Param #   \n",
            "=================================================================\n",
            "input (Dense)                (None, 100)               300       \n",
            "_________________________________________________________________\n",
            "output (Dense)               (None, 1)                 101       \n",
            "=================================================================\n",
            "Total params: 401\n",
            "Trainable params: 401\n",
            "Non-trainable params: 0\n",
            "_________________________________________________________________\n"
          ],
          "name": "stdout"
        }
      ]
    },
    {
      "cell_type": "code",
      "metadata": {
        "id": "7Dm1D01avhQ2",
        "outputId": "c4d0223e-9770-4f4d-9fc1-7a53cec7ccfa",
        "colab": {
          "base_uri": "https://localhost:8080/",
          "height": 85
        }
      },
      "source": [
        "print(f'Train accuracy: {model.evaluate(X_train,y_train)[1] * 100}%')\n",
        "print(f'  Val accuracy: {model.evaluate(X_val,y_val)[1] * 100}%')"
      ],
      "execution_count": 194,
      "outputs": [
        {
          "output_type": "stream",
          "text": [
            "10/10 [==============================] - 0s 2ms/step - loss: 0.7036 - accuracy: 0.2567\n",
            "Train accuracy: 25.66666603088379%\n",
            "4/4 [==============================] - 0s 3ms/step - loss: 0.7017 - accuracy: 0.2900\n",
            "  Val accuracy: 28.999999165534973%\n"
          ],
          "name": "stdout"
        }
      ]
    },
    {
      "cell_type": "code",
      "metadata": {
        "id": "LtQY9rYap3m6",
        "outputId": "3f078a98-6fa7-4880-e3f3-67882f3bc99c",
        "colab": {
          "base_uri": "https://localhost:8080/",
          "height": 34
        }
      },
      "source": [
        "print(history.history.keys())"
      ],
      "execution_count": 195,
      "outputs": [
        {
          "output_type": "stream",
          "text": [
            "dict_keys(['loss', 'accuracy'])\n"
          ],
          "name": "stdout"
        }
      ]
    },
    {
      "cell_type": "code",
      "metadata": {
        "id": "cTAgEmIR7zOk",
        "outputId": "47527dcf-a44a-4133-965b-c41c2ac7f149",
        "colab": {
          "base_uri": "https://localhost:8080/",
          "height": 282
        }
      },
      "source": [
        "plt.plot(history.history['loss'])"
      ],
      "execution_count": 196,
      "outputs": [
        {
          "output_type": "execute_result",
          "data": {
            "text/plain": [
              "[<matplotlib.lines.Line2D at 0x7f59b74ef438>]"
            ]
          },
          "metadata": {
            "tags": []
          },
          "execution_count": 196
        },
        {
          "output_type": "display_data",
          "data": {
            "image/png": "[encoded data removed]",
            "text/plain": [
              "<Figure size 432x288 with 1 Axes>"
            ]
          },
          "metadata": {
            "tags": [],
            "needs_background": "light"
          }
        }
      ]
    },
    {
      "cell_type": "markdown",
      "metadata": {
        "id": "C1_Nv7Ue8yJq"
      },
      "source": [
        "# 2. Conjunto de dados #2"
      ]
    },
    {
      "cell_type": "markdown",
      "metadata": {
        "id": "FtFvGGoz8yJq"
      },
      "source": [
        "A partir de agora, desenvolva seus modelos de aprendizado profundo utilizando o Keras/TensorFlow, o qual possui muito mais recursos do que o sklearn e é mais otimizado para desempenho.\n",
        "\n",
        "O segundo conjunto de dados é o conjunto de dígitos manuscritos [MNIST](https://en.wikipedia.org/wiki/MNIST_database), o qual possui 70000 amostras, sendo 10000 amostras de teste. Este é um conjunto clássico e -- embora não seja mais recomendado para avaliação do estado da arte -- ainda vastamente utilizado para experimentação e aprendizado. O conjunto pode ser facilmente carregado pelos comandos abaixo."
      ]
    },
    {
      "cell_type": "code",
      "metadata": {
        "id": "Z_QuyzsY8yJt",
        "outputId": "cbff75ef-d718-4e40-ff3a-977553c66eda",
        "colab": {
          "base_uri": "https://localhost:8080/",
          "height": 51
        }
      },
      "source": [
        "from tensorflow.keras.datasets import mnist\n",
        "(x_train, y_train), (x_test, y_test) = mnist.load_data()\n",
        "x_train = x_train / 255.0\n",
        "x_test = x_test / 255.0\n",
        "print(x_train.shape, y_train.shape)\n",
        "print(x_test.shape, y_test.shape)"
      ],
      "execution_count": 213,
      "outputs": [
        {
          "output_type": "stream",
          "text": [
            "(60000, 28, 28) (60000,)\n",
            "(10000, 28, 28) (10000,)\n"
          ],
          "name": "stdout"
        }
      ]
    },
    {
      "cell_type": "markdown",
      "metadata": {
        "id": "r-eqvqs48yJz"
      },
      "source": [
        "Observe a diferença na notação convencional quando usamos o Keras (ou qualquer outro *framework* de aprendizado profundo): `x` (minúsculo) ao invés de `X` (maiúsculo). Isto ocorre porque o Keras nos permite trabalhar diretamente com os dados em seu formato original, neste caso, como um tensor 3D. Portanto, não é necessário redimensionar (*reshape*) os dados antes de aplicar o modelo, assim como perde o sentido usar uma notação especial para denotar uma matriz (tensor 2D).\n",
        "\n",
        "Caso seja necessário redimensionar os dados em algum estágio do modelo, isso pode ser feito internamente com camadas do Keras. Em particular, para redimensionar para o formato convencional de tensor 2D `(n_samples, n_features)`, pode ser usada a camada `Flatten`. Isto é sempre necessário antes de aplicar uma camada `Dense`, a qual só opera na última dimensão. No nosso caso, as duas dimensões (28,28) serão \"achatadas\" em uma única de (784,):"
      ]
    },
    {
      "cell_type": "code",
      "metadata": {
        "id": "Ro8Fry-hXNX0",
        "outputId": "dcd195b6-e817-41ec-e280-c0a05c81d40f",
        "colab": {
          "base_uri": "https://localhost:8080/",
          "height": 1000
        }
      },
      "source": [
        "from tensorflow.keras.layers import Flatten\n",
        "model = Sequential()\n",
        "model.add(x_train.reshape(x_train.shape[0],28,28,1))\n",
        "model.add(Flatten())\n",
        "model.summary()"
      ],
      "execution_count": 219,
      "outputs": [
        {
          "output_type": "error",
          "ename": "TypeError",
          "evalue": "ignored",
          "traceback": [
            "\u001b[0;31m---------------------------------------------------------------------------\u001b[0m",
            "\u001b[0;31mTypeError\u001b[0m                                 Traceback (most recent call last)",
            "\u001b[0;32m<ipython-input-219-c7942a720900>\u001b[0m in \u001b[0;36m<module>\u001b[0;34m()\u001b[0m\n\u001b[1;32m      1\u001b[0m \u001b[0;32mfrom\u001b[0m \u001b[0mtensorflow\u001b[0m\u001b[0;34m.\u001b[0m\u001b[0mkeras\u001b[0m\u001b[0;34m.\u001b[0m\u001b[0mlayers\u001b[0m \u001b[0;32mimport\u001b[0m \u001b[0mFlatten\u001b[0m\u001b[0;34m\u001b[0m\u001b[0;34m\u001b[0m\u001b[0m\n\u001b[1;32m      2\u001b[0m \u001b[0mmodel\u001b[0m \u001b[0;34m=\u001b[0m \u001b[0mSequential\u001b[0m\u001b[0;34m(\u001b[0m\u001b[0;34m)\u001b[0m\u001b[0;34m\u001b[0m\u001b[0;34m\u001b[0m\u001b[0m\n\u001b[0;32m----> 3\u001b[0;31m \u001b[0mmodel\u001b[0m\u001b[0;34m.\u001b[0m\u001b[0madd\u001b[0m\u001b[0;34m(\u001b[0m\u001b[0mx_train\u001b[0m\u001b[0;34m.\u001b[0m\u001b[0mreshape\u001b[0m\u001b[0;34m(\u001b[0m\u001b[0mx_train\u001b[0m\u001b[0;34m.\u001b[0m\u001b[0mshape\u001b[0m\u001b[0;34m[\u001b[0m\u001b[0;36m0\u001b[0m\u001b[0;34m]\u001b[0m\u001b[0;34m,\u001b[0m\u001b[0;36m28\u001b[0m\u001b[0;34m,\u001b[0m\u001b[0;36m28\u001b[0m\u001b[0;34m,\u001b[0m\u001b[0;36m1\u001b[0m\u001b[0;34m)\u001b[0m\u001b[0;34m)\u001b[0m\u001b[0;34m\u001b[0m\u001b[0;34m\u001b[0m\u001b[0m\n\u001b[0m\u001b[1;32m      4\u001b[0m \u001b[0mmodel\u001b[0m\u001b[0;34m.\u001b[0m\u001b[0madd\u001b[0m\u001b[0;34m(\u001b[0m\u001b[0mFlatten\u001b[0m\u001b[0;34m(\u001b[0m\u001b[0;34m)\u001b[0m\u001b[0;34m)\u001b[0m\u001b[0;34m\u001b[0m\u001b[0;34m\u001b[0m\u001b[0m\n\u001b[1;32m      5\u001b[0m \u001b[0mmodel\u001b[0m\u001b[0;34m.\u001b[0m\u001b[0msummary\u001b[0m\u001b[0;34m(\u001b[0m\u001b[0;34m)\u001b[0m\u001b[0;34m\u001b[0m\u001b[0;34m\u001b[0m\u001b[0m\n",
            "\u001b[0;32m/usr/local/lib/python3.6/dist-packages/tensorflow/python/training/tracking/base.py\u001b[0m in \u001b[0;36m_method_wrapper\u001b[0;34m(self, *args, **kwargs)\u001b[0m\n\u001b[1;32m    455\u001b[0m     \u001b[0mself\u001b[0m\u001b[0;34m.\u001b[0m\u001b[0m_self_setattr_tracking\u001b[0m \u001b[0;34m=\u001b[0m \u001b[0;32mFalse\u001b[0m  \u001b[0;31m# pylint: disable=protected-access\u001b[0m\u001b[0;34m\u001b[0m\u001b[0;34m\u001b[0m\u001b[0m\n\u001b[1;32m    456\u001b[0m     \u001b[0;32mtry\u001b[0m\u001b[0;34m:\u001b[0m\u001b[0;34m\u001b[0m\u001b[0;34m\u001b[0m\u001b[0m\n\u001b[0;32m--> 457\u001b[0;31m       \u001b[0mresult\u001b[0m \u001b[0;34m=\u001b[0m \u001b[0mmethod\u001b[0m\u001b[0;34m(\u001b[0m\u001b[0mself\u001b[0m\u001b[0;34m,\u001b[0m \u001b[0;34m*\u001b[0m\u001b[0margs\u001b[0m\u001b[0;34m,\u001b[0m \u001b[0;34m**\u001b[0m\u001b[0mkwargs\u001b[0m\u001b[0;34m)\u001b[0m\u001b[0;34m\u001b[0m\u001b[0;34m\u001b[0m\u001b[0m\n\u001b[0m\u001b[1;32m    458\u001b[0m     \u001b[0;32mfinally\u001b[0m\u001b[0;34m:\u001b[0m\u001b[0;34m\u001b[0m\u001b[0;34m\u001b[0m\u001b[0m\n\u001b[1;32m    459\u001b[0m       \u001b[0mself\u001b[0m\u001b[0;34m.\u001b[0m\u001b[0m_self_setattr_tracking\u001b[0m \u001b[0;34m=\u001b[0m \u001b[0mprevious_value\u001b[0m  \u001b[0;31m# pylint: disable=protected-access\u001b[0m\u001b[0;34m\u001b[0m\u001b[0;34m\u001b[0m\u001b[0m\n",
            "\u001b[0;32m/usr/local/lib/python3.6/dist-packages/tensorflow/python/keras/engine/sequential.py\u001b[0m in \u001b[0;36madd\u001b[0;34m(self, layer)\u001b[0m\n\u001b[1;32m    180\u001b[0m       raise TypeError('The added layer must be '\n\u001b[1;32m    181\u001b[0m                       \u001b[0;34m'an instance of class Layer. '\u001b[0m\u001b[0;34m\u001b[0m\u001b[0;34m\u001b[0m\u001b[0m\n\u001b[0;32m--> 182\u001b[0;31m                       'Found: ' + str(layer))\n\u001b[0m\u001b[1;32m    183\u001b[0m \u001b[0;34m\u001b[0m\u001b[0m\n\u001b[1;32m    184\u001b[0m     \u001b[0mtf_utils\u001b[0m\u001b[0;34m.\u001b[0m\u001b[0massert_no_legacy_layers\u001b[0m\u001b[0;34m(\u001b[0m\u001b[0;34m[\u001b[0m\u001b[0mlayer\u001b[0m\u001b[0;34m]\u001b[0m\u001b[0;34m)\u001b[0m\u001b[0;34m\u001b[0m\u001b[0;34m\u001b[0m\u001b[0m\n",
            "\u001b[0;31mTypeError\u001b[0m: The added layer must be an instance of class Layer. Found: [[[[0.]\n   [0.]\n   [0.]\n   ...\n   [0.]\n   [0.]\n   [0.]]\n\n  [[0.]\n   [0.]\n   [0.]\n   ...\n   [0.]\n   [0.]\n   [0.]]\n\n  [[0.]\n   [0.]\n   [0.]\n   ...\n   [0.]\n   [0.]\n   [0.]]\n\n  ...\n\n  [[0.]\n   [0.]\n   [0.]\n   ...\n   [0.]\n   [0.]\n   [0.]]\n\n  [[0.]\n   [0.]\n   [0.]\n   ...\n   [0.]\n   [0.]\n   [0.]]\n\n  [[0.]\n   [0.]\n   [0.]\n   ...\n   [0.]\n   [0.]\n   [0.]]]\n\n\n [[[0.]\n   [0.]\n   [0.]\n   ...\n   [0.]\n   [0.]\n   [0.]]\n\n  [[0.]\n   [0.]\n   [0.]\n   ...\n   [0.]\n   [0.]\n   [0.]]\n\n  [[0.]\n   [0.]\n   [0.]\n   ...\n   [0.]\n   [0.]\n   [0.]]\n\n  ...\n\n  [[0.]\n   [0.]\n   [0.]\n   ...\n   [0.]\n   [0.]\n   [0.]]\n\n  [[0.]\n   [0.]\n   [0.]\n   ...\n   [0.]\n   [0.]\n   [0.]]\n\n  [[0.]\n   [0.]\n   [0.]\n   ...\n   [0.]\n   [0.]\n   [0.]]]\n\n\n [[[0.]\n   [0.]\n   [0.]\n   ...\n   [0.]\n   [0.]\n   [0.]]\n\n  [[0.]\n   [0.]\n   [0.]\n   ...\n   [0.]\n   [0.]\n   [0.]]\n\n  [[0.]\n   [0.]\n   [0.]\n   ...\n   [0.]\n   [0.]\n   [0.]]\n\n  ...\n\n  [[0.]\n   [0.]\n   [0.]\n   ...\n   [0.]\n   [0.]\n   [0.]]\n\n  [[0.]\n   [0.]\n   [0.]\n   ...\n   [0.]\n   [0.]\n   [0.]]\n\n  [[0.]\n   [0.]\n   [0.]\n   ...\n   [0.]\n   [0.]\n   [0.]]]\n\n\n ...\n\n\n [[[0.]\n   [0.]\n   [0.]\n   ...\n   [0.]\n   [0.]\n   [0.]]\n\n  [[0.]\n   [0.]\n   [0.]\n   ...\n   [0.]\n   [0.]\n   [0.]]\n\n  [[0.]\n   [0.]\n   [0.]\n   ...\n   [0.]\n   [0.]\n   [0.]]\n\n  ...\n\n  [[0.]\n   [0.]\n   [0.]\n   ...\n   [0.]\n   [0.]\n   [0.]]\n\n  [[0.]\n   [0.]\n   [0.]\n   ...\n   [0.]\n   [0.]\n   [0.]]\n\n  [[0.]\n   [0.]\n   [0.]\n   ...\n   [0.]\n   [0.]\n   [0.]]]\n\n\n [[[0.]\n   [0.]\n   [0.]\n   ...\n   [0.]\n   [0.]\n   [0.]]\n\n  [[0.]\n   [0.]\n   [0.]\n   ...\n   [0.]\n   [0.]\n   [0.]]\n\n  [[0.]\n   [0.]\n   [0.]\n   ...\n   [0.]\n   [0.]\n   [0.]]\n\n  ...\n\n  [[0.]\n   [0.]\n   [0.]\n   ...\n   [0.]\n   [0.]\n   [0.]]\n\n  [[0.]\n   [0.]\n   [0.]\n   ...\n   [0.]\n   [0.]\n   [0.]]\n\n  [[0.]\n   [0.]\n   [0.]\n   ...\n   [0.]\n   [0.]\n   [0.]]]\n\n\n [[[0.]\n   [0.]\n   [0.]\n   ...\n   [0.]\n   [0.]\n   [0.]]\n\n  [[0.]\n   [0.]\n   [0.]\n   ...\n   [0.]\n   [0.]\n   [0.]]\n\n  [[0.]\n   [0.]\n   [0.]\n   ...\n   [0.]\n   [0.]\n   [0.]]\n\n  ...\n\n  [[0.]\n   [0.]\n   [0.]\n   ...\n   [0.]\n   [0.]\n   [0.]]\n\n  [[0.]\n   [0.]\n   [0.]\n   ...\n   [0.]\n   [0.]\n   [0.]]\n\n  [[0.]\n   [0.]\n   [0.]\n   ...\n   [0.]\n   [0.]\n   [0.]]]]"
          ]
        }
      ]
    },
    {
      "cell_type": "code",
      "metadata": {
        "id": "bZaDfK-h8yJz",
        "outputId": "01603e92-580f-4e02-ba91-651a5da2f932",
        "colab": {
          "base_uri": "https://localhost:8080/",
          "height": 268
        }
      },
      "source": [
        "# Exemplo de uma imagem\n",
        "i = 2\n",
        "plt.imshow(x_train[i], cmap=plt.cm.gray_r);\n",
        "plt.title('y = {}'.format(y_train[i]));\n",
        "plt.xticks([]);\n",
        "plt.yticks([]);"
      ],
      "execution_count": 220,
      "outputs": [
        {
          "output_type": "display_data",
          "data": {
            "image/png": "[encoded data removed]",
            "text/plain": [
              "<Figure size 432x288 with 1 Axes>"
            ]
          },
          "metadata": {
            "tags": []
          }
        }
      ]
    },
    {
      "cell_type": "code",
      "metadata": {
        "id": "cOlqeQyW8yJ1",
        "outputId": "d0e399a6-8c54-4d84-a998-9e9a6d92b593",
        "colab": {
          "base_uri": "https://localhost:8080/",
          "height": 248
        }
      },
      "source": [
        "plt.figure(figsize=(12,12))\n",
        "for i in range(50):\n",
        "    plt.subplot(10,10,i+1)\n",
        "    plt.imshow(x_train[i], cmap=plt.cm.gray_r);\n",
        "    plt.xticks([]);\n",
        "    plt.yticks([]);"
      ],
      "execution_count": 221,
      "outputs": [
        {
          "output_type": "error",
          "ename": "TypeError",
          "evalue": "ignored",
          "traceback": [
            "\u001b[0;31m---------------------------------------------------------------------------\u001b[0m",
            "\u001b[0;31mTypeError\u001b[0m                                 Traceback (most recent call last)",
            "\u001b[0;32m<ipython-input-221-815a9c3b6dfe>\u001b[0m in \u001b[0;36m<module>\u001b[0;34m()\u001b[0m\n\u001b[1;32m      1\u001b[0m \u001b[0mplt\u001b[0m\u001b[0;34m.\u001b[0m\u001b[0mfigure\u001b[0m\u001b[0;34m(\u001b[0m\u001b[0mfigsize\u001b[0m\u001b[0;34m=\u001b[0m\u001b[0;34m(\u001b[0m\u001b[0;36m12\u001b[0m\u001b[0;34m,\u001b[0m\u001b[0;36m12\u001b[0m\u001b[0;34m)\u001b[0m\u001b[0;34m)\u001b[0m\u001b[0;34m\u001b[0m\u001b[0;34m\u001b[0m\u001b[0m\n\u001b[0;32m----> 2\u001b[0;31m \u001b[0;32mfor\u001b[0m \u001b[0mi\u001b[0m \u001b[0;32min\u001b[0m \u001b[0mrange\u001b[0m\u001b[0;34m(\u001b[0m\u001b[0;36m50\u001b[0m\u001b[0;34m)\u001b[0m\u001b[0;34m:\u001b[0m\u001b[0;34m\u001b[0m\u001b[0;34m\u001b[0m\u001b[0m\n\u001b[0m\u001b[1;32m      3\u001b[0m     \u001b[0mplt\u001b[0m\u001b[0;34m.\u001b[0m\u001b[0msubplot\u001b[0m\u001b[0;34m(\u001b[0m\u001b[0;36m10\u001b[0m\u001b[0;34m,\u001b[0m\u001b[0;36m10\u001b[0m\u001b[0;34m,\u001b[0m\u001b[0mi\u001b[0m\u001b[0;34m+\u001b[0m\u001b[0;36m1\u001b[0m\u001b[0;34m)\u001b[0m\u001b[0;34m\u001b[0m\u001b[0;34m\u001b[0m\u001b[0m\n\u001b[1;32m      4\u001b[0m     \u001b[0mplt\u001b[0m\u001b[0;34m.\u001b[0m\u001b[0mimshow\u001b[0m\u001b[0;34m(\u001b[0m\u001b[0mx_train\u001b[0m\u001b[0;34m[\u001b[0m\u001b[0mi\u001b[0m\u001b[0;34m]\u001b[0m\u001b[0;34m,\u001b[0m \u001b[0mcmap\u001b[0m\u001b[0;34m=\u001b[0m\u001b[0mplt\u001b[0m\u001b[0;34m.\u001b[0m\u001b[0mcm\u001b[0m\u001b[0;34m.\u001b[0m\u001b[0mgray_r\u001b[0m\u001b[0;34m)\u001b[0m\u001b[0;34m;\u001b[0m\u001b[0;34m\u001b[0m\u001b[0;34m\u001b[0m\u001b[0m\n\u001b[1;32m      5\u001b[0m     \u001b[0mplt\u001b[0m\u001b[0;34m.\u001b[0m\u001b[0mxticks\u001b[0m\u001b[0;34m(\u001b[0m\u001b[0;34m[\u001b[0m\u001b[0;34m]\u001b[0m\u001b[0;34m)\u001b[0m\u001b[0;34m;\u001b[0m\u001b[0;34m\u001b[0m\u001b[0;34m\u001b[0m\u001b[0m\n",
            "\u001b[0;31mTypeError\u001b[0m: 'int' object is not callable"
          ]
        },
        {
          "output_type": "display_data",
          "data": {
            "text/plain": [
              "<Figure size 864x864 with 0 Axes>"
            ]
          },
          "metadata": {
            "tags": []
          }
        }
      ]
    },
    {
      "cell_type": "markdown",
      "metadata": {
        "id": "d2rCCfwBGcZV"
      },
      "source": [
        "## Tarefas\n",
        "\n",
        "1. Separe um conjunto de validação com 5000 amostras (por exemplo, as últimas 5000 amostras do conjunto de treinamento). Confirme que a distribuição das classes é parecida com a do conjunto de treinamento (não precisa ser exatamente igual).\n",
        "\n",
        "#### Dica\n",
        "- Para calcular e visualizar um histograma, você pode utilizar a função `plt.hist()`, opcionalmente definindo os parâmetros `density` e `alpha`, entre outros."
      ]
    },
    {
      "cell_type": "code",
      "metadata": {
        "id": "BbOerXklcK41"
      },
      "source": [
        "from sklearn.model_selection import train_test_split\n",
        "x_train, x_val, y_train, y_val = train_test_split(x_train, y_train, test_size=0.08333, random_state=42)"
      ],
      "execution_count": 222,
      "outputs": []
    },
    {
      "cell_type": "code",
      "metadata": {
        "id": "ivhqgDzDO7Kg",
        "outputId": "23bf09ff-eea9-49b3-c03c-f8bfb7b0883b",
        "colab": {
          "base_uri": "https://localhost:8080/",
          "height": 136
        }
      },
      "source": [
        "print('NOVO SHAPE:')\n",
        "print(f'Train: {x_train.shape, y_train.shape}')\n",
        "print(f'  Val: {x_val.shape, y_val.shape}')\n",
        "print('-'*40)\n",
        "print('Distribuição de classes:')\n",
        "print(f'Train: {len(np.unique(y_train))}')\n",
        "print(f'  Val: {len(np.unique(y_val))}')"
      ],
      "execution_count": 223,
      "outputs": [
        {
          "output_type": "stream",
          "text": [
            "NOVO SHAPE:\n",
            "Train: ((55000, 28, 28), (55000,))\n",
            "  Val: ((5000, 28, 28), (5000,))\n",
            "----------------------------------------\n",
            "Distribuição de classes:\n",
            "Train: 10\n",
            "  Val: 10\n"
          ],
          "name": "stdout"
        }
      ]
    },
    {
      "cell_type": "code",
      "metadata": {
        "id": "xTaqrI3Na-JN",
        "outputId": "1551580b-be70-4e25-be5b-4074d581b320",
        "colab": {
          "base_uri": "https://localhost:8080/",
          "height": 244
        }
      },
      "source": [
        "fig, (ax1,ax2) = plt.subplots(1,2)\n",
        "ax1.imshow(x_train[1], cmap='gray')\n",
        "ax1.set_title(f'[Train] Número: {y_train[1]}')\n",
        "\n",
        "ax2.imshow(x_val[1], cmap='gray')\n",
        "ax2.set_title(f'[Val] Número: {y_val[1]}')\n",
        "plt.tight_layout()"
      ],
      "execution_count": 224,
      "outputs": [
        {
          "output_type": "display_data",
          "data": {
            "image/png": "[encoded data removed]",
            "text/plain": [
              "<Figure size 432x288 with 2 Axes>"
            ]
          },
          "metadata": {
            "tags": [],
            "needs_background": "light"
          }
        }
      ]
    },
    {
      "cell_type": "markdown",
      "metadata": {
        "id": "n0lFSrgoR45t"
      },
      "source": [
        "2. Para desenvolvimento do modelo, considere um subconjunto de treinamento com poucas amostras, por exemplo, as primeiras 10000, e também um número pequeno de épocas, por exemplo, 10. Isso vai permitir uma rápida experimentação. Uma vez finalizado o desenvolvimento, você poderá aumentar esses valores. Inicialmente, construa um modelo **baseline** sem nenhuma camada oculta, treine-o e confirme que está funcionando corretamente.\n",
        "1. Por hora, ignore o conjunto de validação. Tente obter 100% de acurácia de treinamento (com o conjunto reduzido) e apenas 10 épocas. O objetivo é garantir que o modelo possui capacidade suficiente para este problema. Fique à vontade para variar quaisquer hiperparâmetros do modelo ou do treinamento, mas utilize apenas conceitos já abordados na disciplina (i.e., não utilize camadas convolucionais). Tenha em mente as seguintes observações:\n",
        " - A taxa de aprendizado é provavelmente o hiperparâmetro mais importante, no sentido de que, mesmo que você consiga supostamente encontrar os melhores valores de todos os demais hiperparâmetros (inclusive da arquitetura do modelo), ainda assim o modelo poderá ter um desempenho ruim se a taxa de aprendizado não for ajustada adequadamente.\n",
        " - Em geral, cada modificação em algum hiperparâmetro pode exigir um novo ajuste da taxa de aprendizado (i.e., o seu valor ótimo pode mudar), embora alguns hiperparâmetros tenham um impacto maior do que outros.\n",
        " - O batch size tem um impacto grande na velocidade do treinamento, além de impactar no desempenho do modelo. De maneira geral, aumentar o batch size reduz o tempo de treinamento de uma época (por quê?), mas pode piorar o desempenho para um número fixo de épocas (por quê?). Assim, uma recomendação básica é utilizar o maior batch size possível tal que o desempenho do modelo (para um número fixo de épocas) não apresente degradação significativa. Minimizar o tempo de treinamento é essencial para uma rápida experimentação.\n",
        " - Naturalmente, o desempenho ótimo para cada valor de batch size envolve um ajuste da taxa de aprendizado. Uma regra prática (empírica) é: se o batch size é multiplicado por um fator F, então, para obter um desempenho semelhante, a taxa de aprendizado também deve ser multiplicada por F. Note que essa regra não é exata, mas serve como um bom ponto de partida.\n",
        "1. Relate suas principais observações sobre quais abordagens foram bem sucedidas ou não.\n",
        "\n",
        "#### Dicas\n",
        "- Para um problema multi-classe com codificação compacta $y \\in \\{0,1,\\ldots,9\\}$ (i.e., que **não** é *one-hot encoding*), a função perda adequada é a `'sparse_categorical_crossentropy'`. Nesse caso não é necessário codificar como *one-hot*.\n",
        "- O Keras permite monitorar, durante o treinamento, não apenas a perda, mas também outras métricas, como a acurácia, tanto de treinamento quanto de validação. Para isso, configure o parâmetro `metrics` ao executar `model.compile`. As curvas estarão disponíveis no parâmetro history.\n",
        "- Para avaliar o efeito de um hiperparâmetro, é muito útil garantir que não há outras fontes de \"ruído\" ou variação, assim cada hiperparâmetro pode ser avaliado isoladamente. Em particular, a inicialização dos pesos do modelo deve ser determinística. Para isso, utilize `tf.random.set_seed()` antes de definir o modelo. Isso também garante a reprodutibilidade dos resultados, caso você precise executar o treinamento novamente.\n",
        "- Para medir o tempo de execução de uma célula do notebook, utilize `%%time` na primeira linha da célula.\n",
        "- É usual (e tipicamente suficiente) variar o batch size em potências de 2.\n",
        "- Se desejar utilizar a GPU do Colab para acelerar o treinamento, selecione-a no menu *Runtime/Change runtime type*. Para os modelos deste exercício, porém, o ganho computacional provavelmente não será tão expressivo. Note também que é possível que a inicialização de pesos seja diferente de quando o modelo é executado sem GPU, ainda que a mesma *random seed* tenha sido definida."
      ]
    },
    {
      "cell_type": "code",
      "metadata": {
        "id": "7mz045j3qjwM",
        "outputId": "f59c8d7a-979d-4928-8603-0deb5789532b",
        "colab": {
          "base_uri": "https://localhost:8080/",
          "height": 731
        }
      },
      "source": [
        "model = Sequential()\n",
        "model.add(layers.Dense(units = 0, activation = 'relu', input_shape = ( X_train.shape[1],), name = 'input')) # camada oculta\n",
        "model.add(layers.Dense(units = 1, activation = 'sigmoid', name = 'output')) # camada de saída\n",
        "optimizer = tf.keras.optimizers.Adam(learning_rate = 0.01)\n",
        "model.compile(optimizer = optimizer, loss = 'sparse_categorical_crossentropy', metrics=['accuracy'])\n",
        "history = model.fit(x_train[:10000],y_train[:10000], epochs = 10, batch_size=64)"
      ],
      "execution_count": 229,
      "outputs": [
        {
          "output_type": "stream",
          "text": [
            "Epoch 1/10\n"
          ],
          "name": "stdout"
        },
        {
          "output_type": "error",
          "ename": "ValueError",
          "evalue": "ignored",
          "traceback": [
            "\u001b[0;31m---------------------------------------------------------------------------\u001b[0m",
            "\u001b[0;31mValueError\u001b[0m                                Traceback (most recent call last)",
            "\u001b[0;32m<ipython-input-229-9ff188ad65af>\u001b[0m in \u001b[0;36m<module>\u001b[0;34m()\u001b[0m\n\u001b[1;32m      4\u001b[0m \u001b[0moptimizer\u001b[0m \u001b[0;34m=\u001b[0m \u001b[0mtf\u001b[0m\u001b[0;34m.\u001b[0m\u001b[0mkeras\u001b[0m\u001b[0;34m.\u001b[0m\u001b[0moptimizers\u001b[0m\u001b[0;34m.\u001b[0m\u001b[0mAdam\u001b[0m\u001b[0;34m(\u001b[0m\u001b[0mlearning_rate\u001b[0m \u001b[0;34m=\u001b[0m \u001b[0;36m0.01\u001b[0m\u001b[0;34m)\u001b[0m\u001b[0;34m\u001b[0m\u001b[0;34m\u001b[0m\u001b[0m\n\u001b[1;32m      5\u001b[0m \u001b[0mmodel\u001b[0m\u001b[0;34m.\u001b[0m\u001b[0mcompile\u001b[0m\u001b[0;34m(\u001b[0m\u001b[0moptimizer\u001b[0m \u001b[0;34m=\u001b[0m \u001b[0moptimizer\u001b[0m\u001b[0;34m,\u001b[0m \u001b[0mloss\u001b[0m \u001b[0;34m=\u001b[0m \u001b[0;34m'sparse_categorical_crossentropy'\u001b[0m\u001b[0;34m,\u001b[0m \u001b[0mmetrics\u001b[0m\u001b[0;34m=\u001b[0m\u001b[0;34m[\u001b[0m\u001b[0;34m'accuracy'\u001b[0m\u001b[0;34m]\u001b[0m\u001b[0;34m)\u001b[0m\u001b[0;34m\u001b[0m\u001b[0;34m\u001b[0m\u001b[0m\n\u001b[0;32m----> 6\u001b[0;31m \u001b[0mhistory\u001b[0m \u001b[0;34m=\u001b[0m \u001b[0mmodel\u001b[0m\u001b[0;34m.\u001b[0m\u001b[0mfit\u001b[0m\u001b[0;34m(\u001b[0m\u001b[0mx_train\u001b[0m\u001b[0;34m[\u001b[0m\u001b[0;34m:\u001b[0m\u001b[0;36m10000\u001b[0m\u001b[0;34m]\u001b[0m\u001b[0;34m,\u001b[0m\u001b[0my_train\u001b[0m\u001b[0;34m[\u001b[0m\u001b[0;34m:\u001b[0m\u001b[0;36m10000\u001b[0m\u001b[0;34m]\u001b[0m\u001b[0;34m,\u001b[0m \u001b[0mepochs\u001b[0m \u001b[0;34m=\u001b[0m \u001b[0;36m10\u001b[0m\u001b[0;34m,\u001b[0m \u001b[0mbatch_size\u001b[0m\u001b[0;34m=\u001b[0m\u001b[0;36m64\u001b[0m\u001b[0;34m)\u001b[0m\u001b[0;34m\u001b[0m\u001b[0;34m\u001b[0m\u001b[0m\n\u001b[0m",
            "\u001b[0;32m/usr/local/lib/python3.6/dist-packages/tensorflow/python/keras/engine/training.py\u001b[0m in \u001b[0;36m_method_wrapper\u001b[0;34m(self, *args, **kwargs)\u001b[0m\n\u001b[1;32m    106\u001b[0m   \u001b[0;32mdef\u001b[0m \u001b[0m_method_wrapper\u001b[0m\u001b[0;34m(\u001b[0m\u001b[0mself\u001b[0m\u001b[0;34m,\u001b[0m \u001b[0;34m*\u001b[0m\u001b[0margs\u001b[0m\u001b[0;34m,\u001b[0m \u001b[0;34m**\u001b[0m\u001b[0mkwargs\u001b[0m\u001b[0;34m)\u001b[0m\u001b[0;34m:\u001b[0m\u001b[0;34m\u001b[0m\u001b[0;34m\u001b[0m\u001b[0m\n\u001b[1;32m    107\u001b[0m     \u001b[0;32mif\u001b[0m \u001b[0;32mnot\u001b[0m \u001b[0mself\u001b[0m\u001b[0;34m.\u001b[0m\u001b[0m_in_multi_worker_mode\u001b[0m\u001b[0;34m(\u001b[0m\u001b[0;34m)\u001b[0m\u001b[0;34m:\u001b[0m  \u001b[0;31m# pylint: disable=protected-access\u001b[0m\u001b[0;34m\u001b[0m\u001b[0;34m\u001b[0m\u001b[0m\n\u001b[0;32m--> 108\u001b[0;31m       \u001b[0;32mreturn\u001b[0m \u001b[0mmethod\u001b[0m\u001b[0;34m(\u001b[0m\u001b[0mself\u001b[0m\u001b[0;34m,\u001b[0m \u001b[0;34m*\u001b[0m\u001b[0margs\u001b[0m\u001b[0;34m,\u001b[0m \u001b[0;34m**\u001b[0m\u001b[0mkwargs\u001b[0m\u001b[0;34m)\u001b[0m\u001b[0;34m\u001b[0m\u001b[0;34m\u001b[0m\u001b[0m\n\u001b[0m\u001b[1;32m    109\u001b[0m \u001b[0;34m\u001b[0m\u001b[0m\n\u001b[1;32m    110\u001b[0m     \u001b[0;31m# Running inside `run_distribute_coordinator` already.\u001b[0m\u001b[0;34m\u001b[0m\u001b[0;34m\u001b[0m\u001b[0;34m\u001b[0m\u001b[0m\n",
            "\u001b[0;32m/usr/local/lib/python3.6/dist-packages/tensorflow/python/keras/engine/training.py\u001b[0m in \u001b[0;36mfit\u001b[0;34m(self, x, y, batch_size, epochs, verbose, callbacks, validation_split, validation_data, shuffle, class_weight, sample_weight, initial_epoch, steps_per_epoch, validation_steps, validation_batch_size, validation_freq, max_queue_size, workers, use_multiprocessing)\u001b[0m\n\u001b[1;32m   1096\u001b[0m                 batch_size=batch_size):\n\u001b[1;32m   1097\u001b[0m               \u001b[0mcallbacks\u001b[0m\u001b[0;34m.\u001b[0m\u001b[0mon_train_batch_begin\u001b[0m\u001b[0;34m(\u001b[0m\u001b[0mstep\u001b[0m\u001b[0;34m)\u001b[0m\u001b[0;34m\u001b[0m\u001b[0;34m\u001b[0m\u001b[0m\n\u001b[0;32m-> 1098\u001b[0;31m               \u001b[0mtmp_logs\u001b[0m \u001b[0;34m=\u001b[0m \u001b[0mtrain_function\u001b[0m\u001b[0;34m(\u001b[0m\u001b[0miterator\u001b[0m\u001b[0;34m)\u001b[0m\u001b[0;34m\u001b[0m\u001b[0;34m\u001b[0m\u001b[0m\n\u001b[0m\u001b[1;32m   1099\u001b[0m               \u001b[0;32mif\u001b[0m \u001b[0mdata_handler\u001b[0m\u001b[0;34m.\u001b[0m\u001b[0mshould_sync\u001b[0m\u001b[0;34m:\u001b[0m\u001b[0;34m\u001b[0m\u001b[0;34m\u001b[0m\u001b[0m\n\u001b[1;32m   1100\u001b[0m                 \u001b[0mcontext\u001b[0m\u001b[0;34m.\u001b[0m\u001b[0masync_wait\u001b[0m\u001b[0;34m(\u001b[0m\u001b[0;34m)\u001b[0m\u001b[0;34m\u001b[0m\u001b[0;34m\u001b[0m\u001b[0m\n",
            "\u001b[0;32m/usr/local/lib/python3.6/dist-packages/tensorflow/python/eager/def_function.py\u001b[0m in \u001b[0;36m__call__\u001b[0;34m(self, *args, **kwds)\u001b[0m\n\u001b[1;32m    778\u001b[0m       \u001b[0;32melse\u001b[0m\u001b[0;34m:\u001b[0m\u001b[0;34m\u001b[0m\u001b[0;34m\u001b[0m\u001b[0m\n\u001b[1;32m    779\u001b[0m         \u001b[0mcompiler\u001b[0m \u001b[0;34m=\u001b[0m \u001b[0;34m\"nonXla\"\u001b[0m\u001b[0;34m\u001b[0m\u001b[0;34m\u001b[0m\u001b[0m\n\u001b[0;32m--> 780\u001b[0;31m         \u001b[0mresult\u001b[0m \u001b[0;34m=\u001b[0m \u001b[0mself\u001b[0m\u001b[0;34m.\u001b[0m\u001b[0m_call\u001b[0m\u001b[0;34m(\u001b[0m\u001b[0;34m*\u001b[0m\u001b[0margs\u001b[0m\u001b[0;34m,\u001b[0m \u001b[0;34m**\u001b[0m\u001b[0mkwds\u001b[0m\u001b[0;34m)\u001b[0m\u001b[0;34m\u001b[0m\u001b[0;34m\u001b[0m\u001b[0m\n\u001b[0m\u001b[1;32m    781\u001b[0m \u001b[0;34m\u001b[0m\u001b[0m\n\u001b[1;32m    782\u001b[0m       \u001b[0mnew_tracing_count\u001b[0m \u001b[0;34m=\u001b[0m \u001b[0mself\u001b[0m\u001b[0;34m.\u001b[0m\u001b[0m_get_tracing_count\u001b[0m\u001b[0;34m(\u001b[0m\u001b[0;34m)\u001b[0m\u001b[0;34m\u001b[0m\u001b[0;34m\u001b[0m\u001b[0m\n",
            "\u001b[0;32m/usr/local/lib/python3.6/dist-packages/tensorflow/python/eager/def_function.py\u001b[0m in \u001b[0;36m_call\u001b[0;34m(self, *args, **kwds)\u001b[0m\n\u001b[1;32m    821\u001b[0m       \u001b[0;31m# This is the first call of __call__, so we have to initialize.\u001b[0m\u001b[0;34m\u001b[0m\u001b[0;34m\u001b[0m\u001b[0;34m\u001b[0m\u001b[0m\n\u001b[1;32m    822\u001b[0m       \u001b[0minitializers\u001b[0m \u001b[0;34m=\u001b[0m \u001b[0;34m[\u001b[0m\u001b[0;34m]\u001b[0m\u001b[0;34m\u001b[0m\u001b[0;34m\u001b[0m\u001b[0m\n\u001b[0;32m--> 823\u001b[0;31m       \u001b[0mself\u001b[0m\u001b[0;34m.\u001b[0m\u001b[0m_initialize\u001b[0m\u001b[0;34m(\u001b[0m\u001b[0margs\u001b[0m\u001b[0;34m,\u001b[0m \u001b[0mkwds\u001b[0m\u001b[0;34m,\u001b[0m \u001b[0madd_initializers_to\u001b[0m\u001b[0;34m=\u001b[0m\u001b[0minitializers\u001b[0m\u001b[0;34m)\u001b[0m\u001b[0;34m\u001b[0m\u001b[0;34m\u001b[0m\u001b[0m\n\u001b[0m\u001b[1;32m    824\u001b[0m     \u001b[0;32mfinally\u001b[0m\u001b[0;34m:\u001b[0m\u001b[0;34m\u001b[0m\u001b[0;34m\u001b[0m\u001b[0m\n\u001b[1;32m    825\u001b[0m       \u001b[0;31m# At this point we know that the initialization is complete (or less\u001b[0m\u001b[0;34m\u001b[0m\u001b[0;34m\u001b[0m\u001b[0;34m\u001b[0m\u001b[0m\n",
            "\u001b[0;32m/usr/local/lib/python3.6/dist-packages/tensorflow/python/eager/def_function.py\u001b[0m in \u001b[0;36m_initialize\u001b[0;34m(self, args, kwds, add_initializers_to)\u001b[0m\n\u001b[1;32m    695\u001b[0m     self._concrete_stateful_fn = (\n\u001b[1;32m    696\u001b[0m         self._stateful_fn._get_concrete_function_internal_garbage_collected(  # pylint: disable=protected-access\n\u001b[0;32m--> 697\u001b[0;31m             *args, **kwds))\n\u001b[0m\u001b[1;32m    698\u001b[0m \u001b[0;34m\u001b[0m\u001b[0m\n\u001b[1;32m    699\u001b[0m     \u001b[0;32mdef\u001b[0m \u001b[0minvalid_creator_scope\u001b[0m\u001b[0;34m(\u001b[0m\u001b[0;34m*\u001b[0m\u001b[0munused_args\u001b[0m\u001b[0;34m,\u001b[0m \u001b[0;34m**\u001b[0m\u001b[0munused_kwds\u001b[0m\u001b[0;34m)\u001b[0m\u001b[0;34m:\u001b[0m\u001b[0;34m\u001b[0m\u001b[0;34m\u001b[0m\u001b[0m\n",
            "\u001b[0;32m/usr/local/lib/python3.6/dist-packages/tensorflow/python/eager/function.py\u001b[0m in \u001b[0;36m_get_concrete_function_internal_garbage_collected\u001b[0;34m(self, *args, **kwargs)\u001b[0m\n\u001b[1;32m   2853\u001b[0m       \u001b[0margs\u001b[0m\u001b[0;34m,\u001b[0m \u001b[0mkwargs\u001b[0m \u001b[0;34m=\u001b[0m \u001b[0;32mNone\u001b[0m\u001b[0;34m,\u001b[0m \u001b[0;32mNone\u001b[0m\u001b[0;34m\u001b[0m\u001b[0;34m\u001b[0m\u001b[0m\n\u001b[1;32m   2854\u001b[0m     \u001b[0;32mwith\u001b[0m \u001b[0mself\u001b[0m\u001b[0;34m.\u001b[0m\u001b[0m_lock\u001b[0m\u001b[0;34m:\u001b[0m\u001b[0;34m\u001b[0m\u001b[0;34m\u001b[0m\u001b[0m\n\u001b[0;32m-> 2855\u001b[0;31m       \u001b[0mgraph_function\u001b[0m\u001b[0;34m,\u001b[0m \u001b[0m_\u001b[0m\u001b[0;34m,\u001b[0m \u001b[0m_\u001b[0m \u001b[0;34m=\u001b[0m \u001b[0mself\u001b[0m\u001b[0;34m.\u001b[0m\u001b[0m_maybe_define_function\u001b[0m\u001b[0;34m(\u001b[0m\u001b[0margs\u001b[0m\u001b[0;34m,\u001b[0m \u001b[0mkwargs\u001b[0m\u001b[0;34m)\u001b[0m\u001b[0;34m\u001b[0m\u001b[0;34m\u001b[0m\u001b[0m\n\u001b[0m\u001b[1;32m   2856\u001b[0m     \u001b[0;32mreturn\u001b[0m \u001b[0mgraph_function\u001b[0m\u001b[0;34m\u001b[0m\u001b[0;34m\u001b[0m\u001b[0m\n\u001b[1;32m   2857\u001b[0m \u001b[0;34m\u001b[0m\u001b[0m\n",
            "\u001b[0;32m/usr/local/lib/python3.6/dist-packages/tensorflow/python/eager/function.py\u001b[0m in \u001b[0;36m_maybe_define_function\u001b[0;34m(self, args, kwargs)\u001b[0m\n\u001b[1;32m   3211\u001b[0m \u001b[0;34m\u001b[0m\u001b[0m\n\u001b[1;32m   3212\u001b[0m       \u001b[0mself\u001b[0m\u001b[0;34m.\u001b[0m\u001b[0m_function_cache\u001b[0m\u001b[0;34m.\u001b[0m\u001b[0mmissed\u001b[0m\u001b[0;34m.\u001b[0m\u001b[0madd\u001b[0m\u001b[0;34m(\u001b[0m\u001b[0mcall_context_key\u001b[0m\u001b[0;34m)\u001b[0m\u001b[0;34m\u001b[0m\u001b[0;34m\u001b[0m\u001b[0m\n\u001b[0;32m-> 3213\u001b[0;31m       \u001b[0mgraph_function\u001b[0m \u001b[0;34m=\u001b[0m \u001b[0mself\u001b[0m\u001b[0;34m.\u001b[0m\u001b[0m_create_graph_function\u001b[0m\u001b[0;34m(\u001b[0m\u001b[0margs\u001b[0m\u001b[0;34m,\u001b[0m \u001b[0mkwargs\u001b[0m\u001b[0;34m)\u001b[0m\u001b[0;34m\u001b[0m\u001b[0;34m\u001b[0m\u001b[0m\n\u001b[0m\u001b[1;32m   3214\u001b[0m       \u001b[0mself\u001b[0m\u001b[0;34m.\u001b[0m\u001b[0m_function_cache\u001b[0m\u001b[0;34m.\u001b[0m\u001b[0mprimary\u001b[0m\u001b[0;34m[\u001b[0m\u001b[0mcache_key\u001b[0m\u001b[0;34m]\u001b[0m \u001b[0;34m=\u001b[0m \u001b[0mgraph_function\u001b[0m\u001b[0;34m\u001b[0m\u001b[0;34m\u001b[0m\u001b[0m\n\u001b[1;32m   3215\u001b[0m       \u001b[0;32mreturn\u001b[0m \u001b[0mgraph_function\u001b[0m\u001b[0;34m,\u001b[0m \u001b[0margs\u001b[0m\u001b[0;34m,\u001b[0m \u001b[0mkwargs\u001b[0m\u001b[0;34m\u001b[0m\u001b[0;34m\u001b[0m\u001b[0m\n",
            "\u001b[0;32m/usr/local/lib/python3.6/dist-packages/tensorflow/python/eager/function.py\u001b[0m in \u001b[0;36m_create_graph_function\u001b[0;34m(self, args, kwargs, override_flat_arg_shapes)\u001b[0m\n\u001b[1;32m   3073\u001b[0m             \u001b[0marg_names\u001b[0m\u001b[0;34m=\u001b[0m\u001b[0marg_names\u001b[0m\u001b[0;34m,\u001b[0m\u001b[0;34m\u001b[0m\u001b[0;34m\u001b[0m\u001b[0m\n\u001b[1;32m   3074\u001b[0m             \u001b[0moverride_flat_arg_shapes\u001b[0m\u001b[0;34m=\u001b[0m\u001b[0moverride_flat_arg_shapes\u001b[0m\u001b[0;34m,\u001b[0m\u001b[0;34m\u001b[0m\u001b[0;34m\u001b[0m\u001b[0m\n\u001b[0;32m-> 3075\u001b[0;31m             capture_by_value=self._capture_by_value),\n\u001b[0m\u001b[1;32m   3076\u001b[0m         \u001b[0mself\u001b[0m\u001b[0;34m.\u001b[0m\u001b[0m_function_attributes\u001b[0m\u001b[0;34m,\u001b[0m\u001b[0;34m\u001b[0m\u001b[0;34m\u001b[0m\u001b[0m\n\u001b[1;32m   3077\u001b[0m         \u001b[0mfunction_spec\u001b[0m\u001b[0;34m=\u001b[0m\u001b[0mself\u001b[0m\u001b[0;34m.\u001b[0m\u001b[0mfunction_spec\u001b[0m\u001b[0;34m,\u001b[0m\u001b[0;34m\u001b[0m\u001b[0;34m\u001b[0m\u001b[0m\n",
            "\u001b[0;32m/usr/local/lib/python3.6/dist-packages/tensorflow/python/framework/func_graph.py\u001b[0m in \u001b[0;36mfunc_graph_from_py_func\u001b[0;34m(name, python_func, args, kwargs, signature, func_graph, autograph, autograph_options, add_control_dependencies, arg_names, op_return_value, collections, capture_by_value, override_flat_arg_shapes)\u001b[0m\n\u001b[1;32m    984\u001b[0m         \u001b[0m_\u001b[0m\u001b[0;34m,\u001b[0m \u001b[0moriginal_func\u001b[0m \u001b[0;34m=\u001b[0m \u001b[0mtf_decorator\u001b[0m\u001b[0;34m.\u001b[0m\u001b[0munwrap\u001b[0m\u001b[0;34m(\u001b[0m\u001b[0mpython_func\u001b[0m\u001b[0;34m)\u001b[0m\u001b[0;34m\u001b[0m\u001b[0;34m\u001b[0m\u001b[0m\n\u001b[1;32m    985\u001b[0m \u001b[0;34m\u001b[0m\u001b[0m\n\u001b[0;32m--> 986\u001b[0;31m       \u001b[0mfunc_outputs\u001b[0m \u001b[0;34m=\u001b[0m \u001b[0mpython_func\u001b[0m\u001b[0;34m(\u001b[0m\u001b[0;34m*\u001b[0m\u001b[0mfunc_args\u001b[0m\u001b[0;34m,\u001b[0m \u001b[0;34m**\u001b[0m\u001b[0mfunc_kwargs\u001b[0m\u001b[0;34m)\u001b[0m\u001b[0;34m\u001b[0m\u001b[0;34m\u001b[0m\u001b[0m\n\u001b[0m\u001b[1;32m    987\u001b[0m \u001b[0;34m\u001b[0m\u001b[0m\n\u001b[1;32m    988\u001b[0m       \u001b[0;31m# invariant: `func_outputs` contains only Tensors, CompositeTensors,\u001b[0m\u001b[0;34m\u001b[0m\u001b[0;34m\u001b[0m\u001b[0;34m\u001b[0m\u001b[0m\n",
            "\u001b[0;32m/usr/local/lib/python3.6/dist-packages/tensorflow/python/eager/def_function.py\u001b[0m in \u001b[0;36mwrapped_fn\u001b[0;34m(*args, **kwds)\u001b[0m\n\u001b[1;32m    598\u001b[0m         \u001b[0;31m# __wrapped__ allows AutoGraph to swap in a converted function. We give\u001b[0m\u001b[0;34m\u001b[0m\u001b[0;34m\u001b[0m\u001b[0;34m\u001b[0m\u001b[0m\n\u001b[1;32m    599\u001b[0m         \u001b[0;31m# the function a weak reference to itself to avoid a reference cycle.\u001b[0m\u001b[0;34m\u001b[0m\u001b[0;34m\u001b[0m\u001b[0;34m\u001b[0m\u001b[0m\n\u001b[0;32m--> 600\u001b[0;31m         \u001b[0;32mreturn\u001b[0m \u001b[0mweak_wrapped_fn\u001b[0m\u001b[0;34m(\u001b[0m\u001b[0;34m)\u001b[0m\u001b[0;34m.\u001b[0m\u001b[0m__wrapped__\u001b[0m\u001b[0;34m(\u001b[0m\u001b[0;34m*\u001b[0m\u001b[0margs\u001b[0m\u001b[0;34m,\u001b[0m \u001b[0;34m**\u001b[0m\u001b[0mkwds\u001b[0m\u001b[0;34m)\u001b[0m\u001b[0;34m\u001b[0m\u001b[0;34m\u001b[0m\u001b[0m\n\u001b[0m\u001b[1;32m    601\u001b[0m     \u001b[0mweak_wrapped_fn\u001b[0m \u001b[0;34m=\u001b[0m \u001b[0mweakref\u001b[0m\u001b[0;34m.\u001b[0m\u001b[0mref\u001b[0m\u001b[0;34m(\u001b[0m\u001b[0mwrapped_fn\u001b[0m\u001b[0;34m)\u001b[0m\u001b[0;34m\u001b[0m\u001b[0;34m\u001b[0m\u001b[0m\n\u001b[1;32m    602\u001b[0m \u001b[0;34m\u001b[0m\u001b[0m\n",
            "\u001b[0;32m/usr/local/lib/python3.6/dist-packages/tensorflow/python/framework/func_graph.py\u001b[0m in \u001b[0;36mwrapper\u001b[0;34m(*args, **kwargs)\u001b[0m\n\u001b[1;32m    971\u001b[0m           \u001b[0;32mexcept\u001b[0m \u001b[0mException\u001b[0m \u001b[0;32mas\u001b[0m \u001b[0me\u001b[0m\u001b[0;34m:\u001b[0m  \u001b[0;31m# pylint:disable=broad-except\u001b[0m\u001b[0;34m\u001b[0m\u001b[0;34m\u001b[0m\u001b[0m\n\u001b[1;32m    972\u001b[0m             \u001b[0;32mif\u001b[0m \u001b[0mhasattr\u001b[0m\u001b[0;34m(\u001b[0m\u001b[0me\u001b[0m\u001b[0;34m,\u001b[0m \u001b[0;34m\"ag_error_metadata\"\u001b[0m\u001b[0;34m)\u001b[0m\u001b[0;34m:\u001b[0m\u001b[0;34m\u001b[0m\u001b[0;34m\u001b[0m\u001b[0m\n\u001b[0;32m--> 973\u001b[0;31m               \u001b[0;32mraise\u001b[0m \u001b[0me\u001b[0m\u001b[0;34m.\u001b[0m\u001b[0mag_error_metadata\u001b[0m\u001b[0;34m.\u001b[0m\u001b[0mto_exception\u001b[0m\u001b[0;34m(\u001b[0m\u001b[0me\u001b[0m\u001b[0;34m)\u001b[0m\u001b[0;34m\u001b[0m\u001b[0;34m\u001b[0m\u001b[0m\n\u001b[0m\u001b[1;32m    974\u001b[0m             \u001b[0;32melse\u001b[0m\u001b[0;34m:\u001b[0m\u001b[0;34m\u001b[0m\u001b[0;34m\u001b[0m\u001b[0m\n\u001b[1;32m    975\u001b[0m               \u001b[0;32mraise\u001b[0m\u001b[0;34m\u001b[0m\u001b[0;34m\u001b[0m\u001b[0m\n",
            "\u001b[0;31mValueError\u001b[0m: in user code:\n\n    /usr/local/lib/python3.6/dist-packages/tensorflow/python/keras/engine/training.py:806 train_function  *\n        return step_function(self, iterator)\n    /usr/local/lib/python3.6/dist-packages/tensorflow/python/keras/engine/training.py:796 step_function  **\n        outputs = model.distribute_strategy.run(run_step, args=(data,))\n    /usr/local/lib/python3.6/dist-packages/tensorflow/python/distribute/distribute_lib.py:1211 run\n        return self._extended.call_for_each_replica(fn, args=args, kwargs=kwargs)\n    /usr/local/lib/python3.6/dist-packages/tensorflow/python/distribute/distribute_lib.py:2585 call_for_each_replica\n        return self._call_for_each_replica(fn, args, kwargs)\n    /usr/local/lib/python3.6/dist-packages/tensorflow/python/distribute/distribute_lib.py:2945 _call_for_each_replica\n        return fn(*args, **kwargs)\n    /usr/local/lib/python3.6/dist-packages/tensorflow/python/keras/engine/training.py:789 run_step  **\n        outputs = model.train_step(data)\n    /usr/local/lib/python3.6/dist-packages/tensorflow/python/keras/engine/training.py:747 train_step\n        y_pred = self(x, training=True)\n    /usr/local/lib/python3.6/dist-packages/tensorflow/python/keras/engine/base_layer.py:976 __call__\n        self.name)\n    /usr/local/lib/python3.6/dist-packages/tensorflow/python/keras/engine/input_spec.py:216 assert_input_compatibility\n        ' but received input with shape ' + str(shape))\n\n    ValueError: Input 0 of layer sequential_24 is incompatible with the layer: expected axis -1 of input shape to have value 2 but received input with shape [None, 28, 28]\n"
          ]
        }
      ]
    },
    {
      "cell_type": "code",
      "metadata": {
        "id": "CuMktLsNqkUo"
      },
      "source": [
        ""
      ],
      "execution_count": null,
      "outputs": []
    },
    {
      "cell_type": "code",
      "metadata": {
        "id": "5nDoma67qkaV"
      },
      "source": [
        ""
      ],
      "execution_count": null,
      "outputs": []
    },
    {
      "cell_type": "code",
      "metadata": {
        "id": "6KEr60jbqkhz"
      },
      "source": [
        ""
      ],
      "execution_count": null,
      "outputs": []
    },
    {
      "cell_type": "code",
      "metadata": {
        "id": "wjMZS4oZqkfn"
      },
      "source": [
        ""
      ],
      "execution_count": null,
      "outputs": []
    },
    {
      "cell_type": "code",
      "metadata": {
        "id": "3L8DcjLWqkYK"
      },
      "source": [
        ""
      ],
      "execution_count": null,
      "outputs": []
    },
    {
      "cell_type": "code",
      "metadata": {
        "id": "h0yLNtHl0Ahp"
      },
      "source": [
        ""
      ],
      "execution_count": null,
      "outputs": []
    },
    {
      "cell_type": "markdown",
      "metadata": {
        "id": "OwHxmwkdTHiZ"
      },
      "source": [
        "5. Agora, monitore também a acurácia de validação ao longo do treinamento, e ao final trace dois gráficos em função do número de épocas, um com a perda de treinamento e de validação e outro com a acurácia de treinamento e de validação.\n",
        "1. Altere o tamanho do conjunto de treinamento para 55000 e veja se consegue obter uma acurácia de validação de pelo menos 98% (em alguma época). A partir de agora, utilize quantas épocas desejar. Ao final do treinamento, sempre trace as curvas de perda e acurácia para os dois conjuntos.\n",
        "1. Mantenha os hiperparâmetros do modelo e altere apenas o tamanho do conjunto de treinamento. Trace um gráfico da acurácia de treinamento e da acurácia máxima de validação (para alguma época) em função do tamanho do conjunto de treinamento, por exemplo, em intervalos de 5 ou 10 mil amostras, até o máximo de 55000. Esta curva é conhecida em alguns contextos como curva de aprendizado (*learning curve*). Trace também o gráfico da época ótima em que foi obtida a máxima acurácia de validação, em função do tamanho do conjunto de treinamento. Que conclusões podem ser tiradas a partir desses resultados?\n",
        "1. Finalmente, utilize todas as 60000 amostras para treinamento (e naturalmente não utilize conjunto de validação), com um número de épocas apropriadamente escolhido. Em seguida, meça o desempenho no conjunto de teste.\n",
        "1. Para o modelo final que você desenvolveu, mostre alguns exemplos de predições erradas no conjunto de teste.\n",
        "1. Visualize como uma imagem os pesos da primeira camada oculta. Para isso, rode a célula abaixo:\n"
      ]
    },
    {
      "cell_type": "code",
      "metadata": {
        "id": "JLT8EZCkCHfa"
      },
      "source": [
        "W = model.weights[0].numpy()\n",
        "vmax = np.abs(W).max()\n",
        "@interact(i=(0,int(np.ceil(W.shape[1]/10))-1))\n",
        "def _(i=0):\n",
        "  plt.figure(figsize=(16,2.4));\n",
        "  # para ver de 10 em 10\n",
        "  for j in range(min(10, W.shape[1]-10*i)):\n",
        "    plt.subplot(1,10,j+1)\n",
        "    w = W[:,10*i+j].reshape(28,28)\n",
        "    plt.imshow(w, cmap=plt.cm.bwr, vmin=-vmax, vmax=vmax); # (-,0,+) = (blue, white, red)\n",
        "    plt.xticks([]);\n",
        "    plt.yticks([]);"
      ],
      "execution_count": null,
      "outputs": []
    },
    {
      "cell_type": "markdown",
      "metadata": {
        "id": "MtIXwBuGCGcT"
      },
      "source": [
        "11. Relate suas principais conclusões com este exercício.\n",
        "1. (OPCIONAL) O que acontece se é aplicada uma permutação aleatória nos pixels de todas as imagens (a mesma permutação para todas as imagens)? O desempenho do modelo se altera? Você consegue identificar corretamente os dígitos? O que podemos concluir sobre o aprendizado do modelo?\n",
        "\n",
        "#### Dicas\n",
        "- Funções úteis: `plt.figure(figsize=(...))`, `plt.subplot()`, `plt.plot(..., label=...)`, `plt.xlabel()`, `plt.legend()`\n",
        "- Quando usamos *early stopping*, perdemos parcialmente o controle sobre o número de épocas de treinamento como um hiperparâmetro. Nesse caso, após o desenvolvimento de um modelo, se desejarmos identificar seus hiperparâmetros, é conveniente registrar e fixar o número de épocas de treinamento efetivamente utilizadas e parar de utilizar *early stopping*.\n",
        "- Se quiser salvar o melhor modelo encontrado, mas sem usar *early stopping*, você pode utilizar a *callback* `tf.keras.callbacks.ModelCheckpoint`. Alternativamente, você pode usar *early stopping* com uma paciência suficientemente grande (maior que o número de épocas)."
      ]
    },
    {
      "cell_type": "code",
      "metadata": {
        "id": "xgBBqa-q8yJ5"
      },
      "source": [
        ""
      ],
      "execution_count": null,
      "outputs": []
    }
  ]
}