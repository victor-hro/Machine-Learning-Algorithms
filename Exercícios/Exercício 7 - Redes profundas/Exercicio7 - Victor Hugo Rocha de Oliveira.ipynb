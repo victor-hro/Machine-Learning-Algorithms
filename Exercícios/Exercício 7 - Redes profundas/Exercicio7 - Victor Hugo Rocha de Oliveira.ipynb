{
  "nbformat": 4,
  "nbformat_minor": 0,
  "metadata": {
    "accelerator": "GPU",
    "colab": {
      "name": "exercicio7.ipynb",
      "provenance": []
    },
    "kernelspec": {
      "display_name": "Python 3",
      "language": "python",
      "name": "python3"
    },
    "language_info": {
      "codemirror_mode": {
        "name": "ipython",
        "version": 3
      },
      "file_extension": ".py",
      "mimetype": "text/x-python",
      "name": "python",
      "nbconvert_exporter": "python",
      "pygments_lexer": "ipython3",
      "version": "3.8.3"
    },
    "widgets": {
      "application/vnd.jupyter.widget-state+json": {
        "bd2cf447f197430593ccd5de682a2759": {
          "model_module": "@jupyter-widgets/controls",
          "model_name": "VBoxModel",
          "state": {
            "_view_name": "VBoxView",
            "_dom_classes": [
              "widget-interact"
            ],
            "_model_name": "VBoxModel",
            "_view_module": "@jupyter-widgets/controls",
            "_model_module_version": "1.5.0",
            "_view_count": null,
            "_view_module_version": "1.5.0",
            "box_style": "",
            "layout": "IPY_MODEL_06a24e91d6654bc2ae059221cc68b8df",
            "_model_module": "@jupyter-widgets/controls",
            "children": [
              "IPY_MODEL_f19dda0b3f054d79ab97b84ef191f362",
              "IPY_MODEL_ca2f3f957da44ffc8f44553fb3a23a2e",
              "IPY_MODEL_c0f208daa4a948c2a45f719a6fdff4f8"
            ]
          }
        },
        "06a24e91d6654bc2ae059221cc68b8df": {
          "model_module": "@jupyter-widgets/base",
          "model_name": "LayoutModel",
          "state": {
            "_view_name": "LayoutView",
            "grid_template_rows": null,
            "right": null,
            "justify_content": null,
            "_view_module": "@jupyter-widgets/base",
            "overflow": null,
            "_model_module_version": "1.2.0",
            "_view_count": null,
            "flex_flow": null,
            "width": null,
            "min_width": null,
            "border": null,
            "align_items": null,
            "bottom": null,
            "_model_module": "@jupyter-widgets/base",
            "top": null,
            "grid_column": null,
            "overflow_y": null,
            "overflow_x": null,
            "grid_auto_flow": null,
            "grid_area": null,
            "grid_template_columns": null,
            "flex": null,
            "_model_name": "LayoutModel",
            "justify_items": null,
            "grid_row": null,
            "max_height": null,
            "align_content": null,
            "visibility": null,
            "align_self": null,
            "height": null,
            "min_height": null,
            "padding": null,
            "grid_auto_rows": null,
            "grid_gap": null,
            "max_width": null,
            "order": null,
            "_view_module_version": "1.2.0",
            "grid_template_areas": null,
            "object_position": null,
            "object_fit": null,
            "grid_auto_columns": null,
            "margin": null,
            "display": null,
            "left": null
          }
        },
        "f19dda0b3f054d79ab97b84ef191f362": {
          "model_module": "@jupyter-widgets/controls",
          "model_name": "DropdownModel",
          "state": {
            "_options_labels": [
              "constant",
              "invscaling",
              "adaptive"
            ],
            "_view_name": "DropdownView",
            "style": "IPY_MODEL_142e7411769147c7afd530d1acdb6997",
            "_dom_classes": [],
            "description": "lr",
            "_model_name": "DropdownModel",
            "index": 0,
            "_view_module": "@jupyter-widgets/controls",
            "_model_module_version": "1.5.0",
            "_view_count": null,
            "disabled": false,
            "_view_module_version": "1.5.0",
            "description_tooltip": null,
            "_model_module": "@jupyter-widgets/controls",
            "layout": "IPY_MODEL_8c1fbed66f694570ad3fbeb49a90867a"
          }
        },
        "ca2f3f957da44ffc8f44553fb3a23a2e": {
          "model_module": "@jupyter-widgets/controls",
          "model_name": "IntSliderModel",
          "state": {
            "_view_name": "IntSliderView",
            "style": "IPY_MODEL_f4094e4689ca4e56ad0988e5be133763",
            "_dom_classes": [],
            "description": "units",
            "step": 10,
            "_model_name": "IntSliderModel",
            "orientation": "horizontal",
            "max": 100,
            "_view_module": "@jupyter-widgets/controls",
            "_model_module_version": "1.5.0",
            "value": 50,
            "_view_count": null,
            "disabled": false,
            "_view_module_version": "1.5.0",
            "min": 0,
            "continuous_update": true,
            "readout_format": "d",
            "description_tooltip": null,
            "readout": true,
            "_model_module": "@jupyter-widgets/controls",
            "layout": "IPY_MODEL_16140db8be99452886b3387bb139f18d"
          }
        },
        "c0f208daa4a948c2a45f719a6fdff4f8": {
          "model_module": "@jupyter-widgets/output",
          "model_name": "OutputModel",
          "state": {
            "_view_name": "OutputView",
            "msg_id": "",
            "_dom_classes": [],
            "_model_name": "OutputModel",
            "outputs": [
              {
                "output_type": "stream",
                "metadata": {
                  "tags": []
                },
                "text": "Train accuracy: 100.0%\n  Val accuracy: 100.0%\nloss: 0.3051758343681441\n",
                "stream": "stdout"
              },
              {
                "output_type": "stream",
                "metadata": {
                  "tags": []
                },
                "text": "/usr/local/lib/python3.6/dist-packages/sklearn/neural_network/_multilayer_perceptron.py:571: ConvergenceWarning: Stochastic Optimizer: Maximum iterations (200) reached and the optimization hasn't converged yet.\n  % self.max_iter, ConvergenceWarning)\n",
                "stream": "stderr"
              },
              {
                "output_type": "display_data",
                "metadata": {
                  "tags": [],
                  "needs_background": "light"
                },
                "image/png": "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\n",
                "text/plain": "<Figure size 432x288 with 1 Axes>"
              }
            ],
            "_view_module": "@jupyter-widgets/output",
            "_model_module_version": "1.0.0",
            "_view_count": null,
            "_view_module_version": "1.0.0",
            "layout": "IPY_MODEL_1382f2c966bf413e9e35f0c3bd1f5ed5",
            "_model_module": "@jupyter-widgets/output"
          }
        },
        "142e7411769147c7afd530d1acdb6997": {
          "model_module": "@jupyter-widgets/controls",
          "model_name": "DescriptionStyleModel",
          "state": {
            "_view_name": "StyleView",
            "_model_name": "DescriptionStyleModel",
            "description_width": "",
            "_view_module": "@jupyter-widgets/base",
            "_model_module_version": "1.5.0",
            "_view_count": null,
            "_view_module_version": "1.2.0",
            "_model_module": "@jupyter-widgets/controls"
          }
        },
        "8c1fbed66f694570ad3fbeb49a90867a": {
          "model_module": "@jupyter-widgets/base",
          "model_name": "LayoutModel",
          "state": {
            "_view_name": "LayoutView",
            "grid_template_rows": null,
            "right": null,
            "justify_content": null,
            "_view_module": "@jupyter-widgets/base",
            "overflow": null,
            "_model_module_version": "1.2.0",
            "_view_count": null,
            "flex_flow": null,
            "width": null,
            "min_width": null,
            "border": null,
            "align_items": null,
            "bottom": null,
            "_model_module": "@jupyter-widgets/base",
            "top": null,
            "grid_column": null,
            "overflow_y": null,
            "overflow_x": null,
            "grid_auto_flow": null,
            "grid_area": null,
            "grid_template_columns": null,
            "flex": null,
            "_model_name": "LayoutModel",
            "justify_items": null,
            "grid_row": null,
            "max_height": null,
            "align_content": null,
            "visibility": null,
            "align_self": null,
            "height": null,
            "min_height": null,
            "padding": null,
            "grid_auto_rows": null,
            "grid_gap": null,
            "max_width": null,
            "order": null,
            "_view_module_version": "1.2.0",
            "grid_template_areas": null,
            "object_position": null,
            "object_fit": null,
            "grid_auto_columns": null,
            "margin": null,
            "display": null,
            "left": null
          }
        },
        "f4094e4689ca4e56ad0988e5be133763": {
          "model_module": "@jupyter-widgets/controls",
          "model_name": "SliderStyleModel",
          "state": {
            "_view_name": "StyleView",
            "handle_color": null,
            "_model_name": "SliderStyleModel",
            "description_width": "",
            "_view_module": "@jupyter-widgets/base",
            "_model_module_version": "1.5.0",
            "_view_count": null,
            "_view_module_version": "1.2.0",
            "_model_module": "@jupyter-widgets/controls"
          }
        },
        "16140db8be99452886b3387bb139f18d": {
          "model_module": "@jupyter-widgets/base",
          "model_name": "LayoutModel",
          "state": {
            "_view_name": "LayoutView",
            "grid_template_rows": null,
            "right": null,
            "justify_content": null,
            "_view_module": "@jupyter-widgets/base",
            "overflow": null,
            "_model_module_version": "1.2.0",
            "_view_count": null,
            "flex_flow": null,
            "width": null,
            "min_width": null,
            "border": null,
            "align_items": null,
            "bottom": null,
            "_model_module": "@jupyter-widgets/base",
            "top": null,
            "grid_column": null,
            "overflow_y": null,
            "overflow_x": null,
            "grid_auto_flow": null,
            "grid_area": null,
            "grid_template_columns": null,
            "flex": null,
            "_model_name": "LayoutModel",
            "justify_items": null,
            "grid_row": null,
            "max_height": null,
            "align_content": null,
            "visibility": null,
            "align_self": null,
            "height": null,
            "min_height": null,
            "padding": null,
            "grid_auto_rows": null,
            "grid_gap": null,
            "max_width": null,
            "order": null,
            "_view_module_version": "1.2.0",
            "grid_template_areas": null,
            "object_position": null,
            "object_fit": null,
            "grid_auto_columns": null,
            "margin": null,
            "display": null,
            "left": null
          }
        },
        "1382f2c966bf413e9e35f0c3bd1f5ed5": {
          "model_module": "@jupyter-widgets/base",
          "model_name": "LayoutModel",
          "state": {
            "_view_name": "LayoutView",
            "grid_template_rows": null,
            "right": null,
            "justify_content": null,
            "_view_module": "@jupyter-widgets/base",
            "overflow": null,
            "_model_module_version": "1.2.0",
            "_view_count": null,
            "flex_flow": null,
            "width": null,
            "min_width": null,
            "border": null,
            "align_items": null,
            "bottom": null,
            "_model_module": "@jupyter-widgets/base",
            "top": null,
            "grid_column": null,
            "overflow_y": null,
            "overflow_x": null,
            "grid_auto_flow": null,
            "grid_area": null,
            "grid_template_columns": null,
            "flex": null,
            "_model_name": "LayoutModel",
            "justify_items": null,
            "grid_row": null,
            "max_height": null,
            "align_content": null,
            "visibility": null,
            "align_self": null,
            "height": null,
            "min_height": null,
            "padding": null,
            "grid_auto_rows": null,
            "grid_gap": null,
            "max_width": null,
            "order": null,
            "_view_module_version": "1.2.0",
            "grid_template_areas": null,
            "object_position": null,
            "object_fit": null,
            "grid_auto_columns": null,
            "margin": null,
            "display": null,
            "left": null
          }
        },
        "99baff08248e4101ac97d09958f64522": {
          "model_module": "@jupyter-widgets/controls",
          "model_name": "VBoxModel",
          "state": {
            "_view_name": "VBoxView",
            "_dom_classes": [
              "widget-interact"
            ],
            "_model_name": "VBoxModel",
            "_view_module": "@jupyter-widgets/controls",
            "_model_module_version": "1.5.0",
            "_view_count": null,
            "_view_module_version": "1.5.0",
            "box_style": "",
            "layout": "IPY_MODEL_4ec7ebe1118e4631be4593bf14cf25ee",
            "_model_module": "@jupyter-widgets/controls",
            "children": [
              "IPY_MODEL_2216a218c7774100939abaf27b216fae",
              "IPY_MODEL_90b6ac4f5cf744f581abe5343bcd5aa6"
            ]
          }
        },
        "4ec7ebe1118e4631be4593bf14cf25ee": {
          "model_module": "@jupyter-widgets/base",
          "model_name": "LayoutModel",
          "state": {
            "_view_name": "LayoutView",
            "grid_template_rows": null,
            "right": null,
            "justify_content": null,
            "_view_module": "@jupyter-widgets/base",
            "overflow": null,
            "_model_module_version": "1.2.0",
            "_view_count": null,
            "flex_flow": null,
            "width": null,
            "min_width": null,
            "border": null,
            "align_items": null,
            "bottom": null,
            "_model_module": "@jupyter-widgets/base",
            "top": null,
            "grid_column": null,
            "overflow_y": null,
            "overflow_x": null,
            "grid_auto_flow": null,
            "grid_area": null,
            "grid_template_columns": null,
            "flex": null,
            "_model_name": "LayoutModel",
            "justify_items": null,
            "grid_row": null,
            "max_height": null,
            "align_content": null,
            "visibility": null,
            "align_self": null,
            "height": null,
            "min_height": null,
            "padding": null,
            "grid_auto_rows": null,
            "grid_gap": null,
            "max_width": null,
            "order": null,
            "_view_module_version": "1.2.0",
            "grid_template_areas": null,
            "object_position": null,
            "object_fit": null,
            "grid_auto_columns": null,
            "margin": null,
            "display": null,
            "left": null
          }
        },
        "2216a218c7774100939abaf27b216fae": {
          "model_module": "@jupyter-widgets/controls",
          "model_name": "IntSliderModel",
          "state": {
            "_view_name": "IntSliderView",
            "style": "IPY_MODEL_99779ef5c1f24930afa859a8e14a6f05",
            "_dom_classes": [],
            "description": "i",
            "step": 1,
            "_model_name": "IntSliderModel",
            "orientation": "horizontal",
            "max": 3,
            "_view_module": "@jupyter-widgets/controls",
            "_model_module_version": "1.5.0",
            "value": 1,
            "_view_count": null,
            "disabled": false,
            "_view_module_version": "1.5.0",
            "min": 0,
            "continuous_update": true,
            "readout_format": "d",
            "description_tooltip": null,
            "readout": true,
            "_model_module": "@jupyter-widgets/controls",
            "layout": "IPY_MODEL_abcce766049e4f8c8c24b53a41e2b579"
          }
        },
        "90b6ac4f5cf744f581abe5343bcd5aa6": {
          "model_module": "@jupyter-widgets/output",
          "model_name": "OutputModel",
          "state": {
            "_view_name": "OutputView",
            "msg_id": "",
            "_dom_classes": [],
            "_model_name": "OutputModel",
            "outputs": [
              {
                "output_type": "display_data",
                "metadata": {
                  "tags": []
                },
                "image/png": "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\n",
                "text/plain": "<Figure size 1152x172.8 with 10 Axes>"
              }
            ],
            "_view_module": "@jupyter-widgets/output",
            "_model_module_version": "1.0.0",
            "_view_count": null,
            "_view_module_version": "1.0.0",
            "layout": "IPY_MODEL_0a2b270c6bce4ec1a5b53979d08bcd4d",
            "_model_module": "@jupyter-widgets/output"
          }
        },
        "99779ef5c1f24930afa859a8e14a6f05": {
          "model_module": "@jupyter-widgets/controls",
          "model_name": "SliderStyleModel",
          "state": {
            "_view_name": "StyleView",
            "handle_color": null,
            "_model_name": "SliderStyleModel",
            "description_width": "",
            "_view_module": "@jupyter-widgets/base",
            "_model_module_version": "1.5.0",
            "_view_count": null,
            "_view_module_version": "1.2.0",
            "_model_module": "@jupyter-widgets/controls"
          }
        },
        "abcce766049e4f8c8c24b53a41e2b579": {
          "model_module": "@jupyter-widgets/base",
          "model_name": "LayoutModel",
          "state": {
            "_view_name": "LayoutView",
            "grid_template_rows": null,
            "right": null,
            "justify_content": null,
            "_view_module": "@jupyter-widgets/base",
            "overflow": null,
            "_model_module_version": "1.2.0",
            "_view_count": null,
            "flex_flow": null,
            "width": null,
            "min_width": null,
            "border": null,
            "align_items": null,
            "bottom": null,
            "_model_module": "@jupyter-widgets/base",
            "top": null,
            "grid_column": null,
            "overflow_y": null,
            "overflow_x": null,
            "grid_auto_flow": null,
            "grid_area": null,
            "grid_template_columns": null,
            "flex": null,
            "_model_name": "LayoutModel",
            "justify_items": null,
            "grid_row": null,
            "max_height": null,
            "align_content": null,
            "visibility": null,
            "align_self": null,
            "height": null,
            "min_height": null,
            "padding": null,
            "grid_auto_rows": null,
            "grid_gap": null,
            "max_width": null,
            "order": null,
            "_view_module_version": "1.2.0",
            "grid_template_areas": null,
            "object_position": null,
            "object_fit": null,
            "grid_auto_columns": null,
            "margin": null,
            "display": null,
            "left": null
          }
        },
        "0a2b270c6bce4ec1a5b53979d08bcd4d": {
          "model_module": "@jupyter-widgets/base",
          "model_name": "LayoutModel",
          "state": {
            "_view_name": "LayoutView",
            "grid_template_rows": null,
            "right": null,
            "justify_content": null,
            "_view_module": "@jupyter-widgets/base",
            "overflow": null,
            "_model_module_version": "1.2.0",
            "_view_count": null,
            "flex_flow": null,
            "width": null,
            "min_width": null,
            "border": null,
            "align_items": null,
            "bottom": null,
            "_model_module": "@jupyter-widgets/base",
            "top": null,
            "grid_column": null,
            "overflow_y": null,
            "overflow_x": null,
            "grid_auto_flow": null,
            "grid_area": null,
            "grid_template_columns": null,
            "flex": null,
            "_model_name": "LayoutModel",
            "justify_items": null,
            "grid_row": null,
            "max_height": null,
            "align_content": null,
            "visibility": null,
            "align_self": null,
            "height": null,
            "min_height": null,
            "padding": null,
            "grid_auto_rows": null,
            "grid_gap": null,
            "max_width": null,
            "order": null,
            "_view_module_version": "1.2.0",
            "grid_template_areas": null,
            "object_position": null,
            "object_fit": null,
            "grid_auto_columns": null,
            "margin": null,
            "display": null,
            "left": null
          }
        }
      }
    }
  },
  "cells": [
    {
      "cell_type": "markdown",
      "metadata": {
        "id": "8JBVC5Tk8yJd"
      },
      "source": [
        "Universidade Federal de Santa Catarina<br>\n",
        "Departamento de Engenharia Elétrica e Eletrônica<br>\n",
        "EEL7514 / EEL7513 / EEL410250 - Aprendizado de Máquina\n",
        "$\\newcommand{\\bX}{\\mathbf{X}}$\n",
        "$\\newcommand{\\bw}{\\mathbf{w}}$\n",
        "$\\newcommand{\\by}{\\mathbf{y}}$\n",
        "$\\newcommand{\\bx}{\\mathbf{x}}$\n",
        "$\\newcommand{\\RR}{\\mathbb{R}}$\n",
        "$\\newcommand{\\calS}{\\mathcal{S}}$\n",
        "\n",
        "# Exercício 7: Redes Profundas\n",
        "\n",
        "Neste exercício você irá construir modelos de redes neurais para realizar classificação e experimentar diversas configurações de hiperparâmetros."
      ]
    },
    {
      "cell_type": "code",
      "metadata": {
        "id": "u32AG3f88yJe",
        "outputId": "a6e32068-61d4-4485-9ff7-d4fcf8459d06",
        "colab": {
          "base_uri": "https://localhost:8080/",
          "height": 68
        }
      },
      "source": [
        "import numpy as np\n",
        "import matplotlib.pyplot as plt\n",
        "%matplotlib inline\n",
        "from ipywidgets import interact\n",
        "from sklearn.neural_network import MLPClassifier\n",
        "\n",
        "import sys\n",
        "import tensorflow as tf\n",
        "print('Python version:', sys.version.split(' ')[0])\n",
        "print('TensorFlow version:', tf.__version__)\n",
        "print('GPU:', tf.config.list_physical_devices('GPU'))"
      ],
      "execution_count": 96,
      "outputs": [
        {
          "output_type": "stream",
          "text": [
            "Python version: 3.6.9\n",
            "TensorFlow version: 2.3.0\n",
            "GPU: [PhysicalDevice(name='/physical_device:GPU:0', device_type='GPU')]\n"
          ],
          "name": "stdout"
        }
      ]
    },
    {
      "cell_type": "markdown",
      "metadata": {
        "id": "RbGFQS7l8yJh"
      },
      "source": [
        "# 1. Conjunto de dados #1\n",
        "\n",
        "Para \"aquecer\", vamos começar utilizando o conjunto XOR do exercício anterior."
      ]
    },
    {
      "cell_type": "code",
      "metadata": {
        "id": "dD6SIvwp8yJi",
        "outputId": "d2fb8610-b8c3-4779-f523-5866c5b3fd0f",
        "colab": {
          "base_uri": "https://localhost:8080/",
          "height": 51
        }
      },
      "source": [
        "from sklearn.datasets import make_blobs\n",
        "from sklearn.model_selection import train_test_split\n",
        "X_train, y_train = make_blobs(n_samples=400, n_features=2, centers=[[0,0],[1,1],[0,1],[1,0]], cluster_std=0.15, random_state=0)\n",
        "y_train = (y_train >= 2).astype(int)\n",
        "X_train, X_val, y_train, y_val = train_test_split(X_train, y_train, test_size=1/4, random_state=0)\n",
        "print(X_train.shape, y_train.shape)\n",
        "print(X_val.shape, y_val.shape)"
      ],
      "execution_count": null,
      "outputs": [
        {
          "output_type": "stream",
          "text": [
            "(300, 2) (300,)\n",
            "(100, 2) (100,)\n"
          ],
          "name": "stdout"
        }
      ]
    },
    {
      "cell_type": "markdown",
      "metadata": {
        "id": "9FVYxBOx8yJk"
      },
      "source": [
        "1. Usando a biblioteca sklearn, treine uma rede neural de 2 camadas (1 oculta) para classificação. Utilize o otimizador Adam com parâmetros padrão, exceto pela taxa de aprendizado (constante), que deve ser escolhida apropriadamente. Obtenha 100% de acurácia de treinamento e de validação e calcule o valor da perda ao final do treinamento. Além disso, trace a curva da perda de treinamento ao longo das épocas.\n",
        "\n",
        "#### Dicas\n",
        "- Para obter a curva de perda no treinamento, você pode utilizar `model.loss_curve_`.\n",
        "- Note que o sklearn usa uma terminologia por vezes inconsistente com a literatura da área (mas consistente internamente em sua API). Por exemplo, o parâmetro `max_iter` corresponde ao número de épocas, não necessariamente ao número de atualizações de pesos. Outro aspecto incômodo é juntar todos os hiperparâmetros do treinamento dentro da definição do modelo, o que além de tornar a chamada extensa, faz com que, dependendo da configuração, alguns parâmetros se tornem desnecessários ou mudem de definição."
      ]
    },
    {
      "cell_type": "code",
      "metadata": {
        "id": "8QFWXAmNdY9D"
      },
      "source": [
        "from sklearn.neural_network import MLPClassifier\n",
        "from sklearn.metrics import log_loss"
      ],
      "execution_count": null,
      "outputs": []
    },
    {
      "cell_type": "code",
      "metadata": {
        "id": "OX8AA8OHdZFz",
        "outputId": "eccce822-79f9-4d4c-eea1-83ca21f5cd78",
        "colab": {
          "base_uri": "https://localhost:8080/",
          "height": 431,
          "referenced_widgets": [
            "bd2cf447f197430593ccd5de682a2759",
            "06a24e91d6654bc2ae059221cc68b8df",
            "f19dda0b3f054d79ab97b84ef191f362",
            "ca2f3f957da44ffc8f44553fb3a23a2e",
            "c0f208daa4a948c2a45f719a6fdff4f8",
            "142e7411769147c7afd530d1acdb6997",
            "8c1fbed66f694570ad3fbeb49a90867a",
            "f4094e4689ca4e56ad0988e5be133763",
            "16140db8be99452886b3387bb139f18d",
            "1382f2c966bf413e9e35f0c3bd1f5ed5"
          ]
        }
      },
      "source": [
        "@interact(lr = ['constant', 'invscaling', 'adaptive'], units = (0,100,10)) \n",
        "def _(lr,units):\n",
        "  model = MLPClassifier(hidden_layer_sizes=[units], activation='relu', solver = 'adam', learning_rate=lr,)\n",
        "  model.fit(X_train,y_train)\n",
        "  print(f'Train accuracy: {round(model.score(X_train,y_train),2)*100}%')\n",
        "  print(f'  Val accuracy: {round(model.score(X_val,y_val),2)*100}%')\n",
        "  print(f'loss: {model.loss_}')\n",
        "  plt.plot(model.loss_curve_)"
      ],
      "execution_count": null,
      "outputs": [
        {
          "output_type": "display_data",
          "data": {
            "application/vnd.jupyter.widget-view+json": {
              "model_id": "bd2cf447f197430593ccd5de682a2759",
              "version_minor": 0,
              "version_major": 2
            },
            "text/plain": [
              "interactive(children=(Dropdown(description='lr', options=('constant', 'invscaling', 'adaptive'), value='consta…"
            ]
          },
          "metadata": {
            "tags": []
          }
        }
      ]
    },
    {
      "cell_type": "code",
      "metadata": {
        "id": "yjmXxR9rRWUY",
        "outputId": "c223a285-d86e-4f3c-a776-7393d8d21b94",
        "colab": {
          "base_uri": "https://localhost:8080/",
          "height": 387
        }
      },
      "source": [
        "  model = MLPClassifier(hidden_layer_sizes=[100], activation='relu', solver = 'adam', learning_rate='constant')\n",
        "  model.fit(X_train,y_train)\n",
        "  print(f'Train accuracy: {round(model.score(X_train,y_train),2)*100}%')\n",
        "  print(f'  Val accuracy: {round(model.score(X_val,y_val),2)*100}%')\n",
        "  print(f'loss: {model.loss_}')\n",
        "  plt.plot(model.loss_curve_)"
      ],
      "execution_count": null,
      "outputs": [
        {
          "output_type": "stream",
          "text": [
            "Train accuracy: 100.0%\n",
            "  Val accuracy: 100.0%\n",
            "loss: 0.13590435072476525\n"
          ],
          "name": "stdout"
        },
        {
          "output_type": "stream",
          "text": [
            "/usr/local/lib/python3.6/dist-packages/sklearn/neural_network/_multilayer_perceptron.py:571: ConvergenceWarning: Stochastic Optimizer: Maximum iterations (200) reached and the optimization hasn't converged yet.\n",
            "  % self.max_iter, ConvergenceWarning)\n"
          ],
          "name": "stderr"
        },
        {
          "output_type": "execute_result",
          "data": {
            "text/plain": [
              "[<matplotlib.lines.Line2D at 0x7f29411e3748>]"
            ]
          },
          "metadata": {
            "tags": []
          },
          "execution_count": 5
        },
        {
          "output_type": "display_data",
          "data": {
            "image/png": "[encoded data removed]",
            "text/plain": [
              "<Figure size 432x288 with 1 Axes>"
            ]
          },
          "metadata": {
            "tags": [],
            "needs_background": "light"
          }
        }
      ]
    },
    {
      "cell_type": "code",
      "metadata": {
        "id": "kxz0Nvatkyi0"
      },
      "source": [
        ""
      ],
      "execution_count": null,
      "outputs": []
    },
    {
      "cell_type": "markdown",
      "metadata": {
        "id": "9caTd3Gr9pev"
      },
      "source": [
        "2. Repita o item anterior usando [Keras](https://keras.io/), a API de alto-nível do [TensorFlow](https://www.tensorflow.org/), disponível através do módulo `tensorflow.keras`. Certifique-se de estar usando TensorFlow 2.x.\n",
        "\n",
        "\n",
        "### Dicas\n",
        "- Ao invés de instalar o TensorFlow e rodar localmente em sua máquina, uma opção mais simples é utilizar o serviço em nuvem gratuito [Google Colab](https://colab.research.google.com), que já possui todas as bibliotecas necessárias instaladas, inclusive o TensorFlow 2.x.\n",
        "\n",
        "- Leia a documentação do Keras para aprender a utilizá-lo. Para quem está começando, é recomendável (e suficiente para este exercício) usar a classe [Sequential](https://keras.io/guides/sequential_model). É útil também conhecer sobre funções de [ativação](https://keras.io/activations), funções de [perda](https://keras.io/losses), métodos de [otimização](https://keras.io/api/optimizers) e o processo de [treinamento e avaliação](https://keras.io/guides/training_with_built_in_methods/) de modelos.\n",
        "- No Keras, ao contrário do sklearn, é necessário especificar explicitamente a camada de saída, sua função de ativação, e a função de perda utilizada. (No sklearn, essa escolha é automática a partir dos valores encontrados em `y_train`.) \n",
        "- É recommendável utilizar o comando `model.summary()` para obter uma descrição de todas as camadas da rede neural.\n",
        "- Para configurar a taxa de aprendizado, é necessário instanciar um otimizador, caso contrário será usado o valor padrão.\n",
        "- Para obter a curva de perda no treinamento, utilize \n",
        "```python\n",
        "history = model.fit(...)\n",
        "history.history['loss']\n",
        "```\n",
        "- Se quiser garantir a reprodutibilidade, utilize `tf.random.set_seed()` **antes** de definir o modelo (os pesos são inicializados no momento da adição de cada camada).\n"
      ]
    },
    {
      "cell_type": "code",
      "metadata": {
        "id": "0tAa4k0qvhb7"
      },
      "source": [
        "import tensorflow as tf\n",
        "from tensorflow.keras import layers, Sequential\n",
        "model = tf.random.set_seed(40)\n",
        "model = Sequential()\n",
        "model.add(layers.Dense(units = 50, activation = 'relu', input_dim = ( X_train.shape[1]), name = 'input'))\n",
        "model.add(layers.Dense(units = 1, activation = 'sigmoid', name = 'output'))\n",
        "\n",
        "#optimizer = keras.optimizers.Adam(learning_rate =0.01)\n",
        "model.compile(optimizer = 'adam', loss = 'binary_crossentropy', metrics=['accuracy'])\n",
        "history = model.fit(X_train,y_train, epochs = 200)"
      ],
      "execution_count": null,
      "outputs": []
    },
    {
      "cell_type": "code",
      "metadata": {
        "id": "B8RvArGuvhVu",
        "outputId": "1490b4e5-b872-4c1f-8507-1454ee38ae75",
        "colab": {
          "base_uri": "https://localhost:8080/",
          "height": 221
        }
      },
      "source": [
        "model.summary()"
      ],
      "execution_count": null,
      "outputs": [
        {
          "output_type": "stream",
          "text": [
            "Model: \"sequential\"\n",
            "_________________________________________________________________\n",
            "Layer (type)                 Output Shape              Param #   \n",
            "=================================================================\n",
            "input (Dense)                (None, 50)                150       \n",
            "_________________________________________________________________\n",
            "output (Dense)               (None, 1)                 51        \n",
            "=================================================================\n",
            "Total params: 201\n",
            "Trainable params: 201\n",
            "Non-trainable params: 0\n",
            "_________________________________________________________________\n"
          ],
          "name": "stdout"
        }
      ]
    },
    {
      "cell_type": "code",
      "metadata": {
        "id": "7Dm1D01avhQ2",
        "outputId": "c23a9aa0-5f8d-4586-f309-15cf33ce431d",
        "colab": {
          "base_uri": "https://localhost:8080/",
          "height": 85
        }
      },
      "source": [
        "print(f'Train accuracy: {model.evaluate(X_train,y_train)[1] * 100}%')\n",
        "print(f'  Val accuracy: {model.evaluate(X_val,y_val)[1] * 100}%')"
      ],
      "execution_count": null,
      "outputs": [
        {
          "output_type": "stream",
          "text": [
            "10/10 [==============================] - 0s 2ms/step - loss: 0.0138 - accuracy: 1.0000\n",
            "Train accuracy: 100.0%\n",
            "4/4 [==============================] - 0s 2ms/step - loss: 0.0180 - accuracy: 1.0000\n",
            "  Val accuracy: 100.0%\n"
          ],
          "name": "stdout"
        }
      ]
    },
    {
      "cell_type": "code",
      "metadata": {
        "id": "LtQY9rYap3m6",
        "outputId": "b2827189-f01d-4c1c-e9db-3518eaec2616",
        "colab": {
          "base_uri": "https://localhost:8080/",
          "height": 34
        }
      },
      "source": [
        "print(history.history.keys())"
      ],
      "execution_count": null,
      "outputs": [
        {
          "output_type": "stream",
          "text": [
            "dict_keys(['loss', 'accuracy'])\n"
          ],
          "name": "stdout"
        }
      ]
    },
    {
      "cell_type": "code",
      "metadata": {
        "id": "cTAgEmIR7zOk",
        "outputId": "18e7b307-5aae-4bbf-b4c5-0bf2f5935aa4",
        "colab": {
          "base_uri": "https://localhost:8080/",
          "height": 282
        }
      },
      "source": [
        "plt.plot(history.history['loss'])"
      ],
      "execution_count": null,
      "outputs": [
        {
          "output_type": "execute_result",
          "data": {
            "text/plain": [
              "[<matplotlib.lines.Line2D at 0x7f293a439c50>]"
            ]
          },
          "metadata": {
            "tags": []
          },
          "execution_count": 10
        },
        {
          "output_type": "display_data",
          "data": {
            "image/png": "[encoded data removed]",
            "text/plain": [
              "<Figure size 432x288 with 1 Axes>"
            ]
          },
          "metadata": {
            "tags": [],
            "needs_background": "light"
          }
        }
      ]
    },
    {
      "cell_type": "markdown",
      "metadata": {
        "id": "C1_Nv7Ue8yJq"
      },
      "source": [
        "# 2. Conjunto de dados #2"
      ]
    },
    {
      "cell_type": "markdown",
      "metadata": {
        "id": "FtFvGGoz8yJq"
      },
      "source": [
        "A partir de agora, desenvolva seus modelos de aprendizado profundo utilizando o Keras/TensorFlow, o qual possui muito mais recursos do que o sklearn e é mais otimizado para desempenho.\n",
        "\n",
        "O segundo conjunto de dados é o conjunto de dígitos manuscritos [MNIST](https://en.wikipedia.org/wiki/MNIST_database), o qual possui 70000 amostras, sendo 10000 amostras de teste. Este é um conjunto clássico e -- embora não seja mais recomendado para avaliação do estado da arte -- ainda vastamente utilizado para experimentação e aprendizado. O conjunto pode ser facilmente carregado pelos comandos abaixo."
      ]
    },
    {
      "cell_type": "code",
      "metadata": {
        "id": "Z_QuyzsY8yJt",
        "outputId": "ea56f43b-9bab-4d1f-85a4-890df9011d97",
        "colab": {
          "base_uri": "https://localhost:8080/",
          "height": 51
        }
      },
      "source": [
        "from tensorflow.keras.datasets import mnist\n",
        "(x_train, y_train), (x_test, y_test) = mnist.load_data()\n",
        "x_train = x_train / 255.0\n",
        "x_test = x_test / 255.0\n",
        "print(x_train.shape, y_train.shape)\n",
        "print(x_test.shape, y_test.shape)"
      ],
      "execution_count": 193,
      "outputs": [
        {
          "output_type": "stream",
          "text": [
            "(60000, 28, 28) (60000,)\n",
            "(10000, 28, 28) (10000,)\n"
          ],
          "name": "stdout"
        }
      ]
    },
    {
      "cell_type": "markdown",
      "metadata": {
        "id": "r-eqvqs48yJz"
      },
      "source": [
        "Observe a diferença na notação convencional quando usamos o Keras (ou qualquer outro *framework* de aprendizado profundo): `x` (minúsculo) ao invés de `X` (maiúsculo). Isto ocorre porque o Keras nos permite trabalhar diretamente com os dados em seu formato original, neste caso, como um tensor 3D. Portanto, não é necessário redimensionar (*reshape*) os dados antes de aplicar o modelo, assim como perde o sentido usar uma notação especial para denotar uma matriz (tensor 2D).\n",
        "\n",
        "Caso seja necessário redimensionar os dados em algum estágio do modelo, isso pode ser feito internamente com camadas do Keras. Em particular, para redimensionar para o formato convencional de tensor 2D `(n_samples, n_features)`, pode ser usada a camada `Flatten`. Isto é sempre necessário antes de aplicar uma camada `Dense`, a qual só opera na última dimensão. No nosso caso, as duas dimensões (28,28) serão \"achatadas\" em uma única de (784,):"
      ]
    },
    {
      "cell_type": "code",
      "metadata": {
        "id": "Ro8Fry-hXNX0",
        "outputId": "660c067d-13b9-43d2-bb88-bb45df60b538",
        "colab": {
          "base_uri": "https://localhost:8080/",
          "height": 187
        }
      },
      "source": [
        "from tensorflow.keras.layers import Flatten\n",
        "model = Sequential()\n",
        "model.add(tf.keras.Input(shape=(28,28)))\n",
        "model.add(Flatten())\n",
        "model.summary()"
      ],
      "execution_count": 194,
      "outputs": [
        {
          "output_type": "stream",
          "text": [
            "Model: \"sequential_34\"\n",
            "_________________________________________________________________\n",
            "Layer (type)                 Output Shape              Param #   \n",
            "=================================================================\n",
            "flatten_33 (Flatten)         (None, 784)               0         \n",
            "=================================================================\n",
            "Total params: 0\n",
            "Trainable params: 0\n",
            "Non-trainable params: 0\n",
            "_________________________________________________________________\n"
          ],
          "name": "stdout"
        }
      ]
    },
    {
      "cell_type": "code",
      "metadata": {
        "id": "bZaDfK-h8yJz",
        "outputId": "ce8f1fdb-01e0-4cb3-a4c0-834e6d4f84ef",
        "colab": {
          "base_uri": "https://localhost:8080/",
          "height": 268
        }
      },
      "source": [
        "# Exemplo de uma imagem\n",
        "i = 2\n",
        "plt.imshow(x_train[i], cmap=plt.cm.gray_r);\n",
        "plt.title('y = {}'.format(y_train[i]));\n",
        "plt.xticks([]);\n",
        "plt.yticks([]);"
      ],
      "execution_count": 195,
      "outputs": [
        {
          "output_type": "display_data",
          "data": {
            "image/png": "[encoded data removed]",
            "text/plain": [
              "<Figure size 432x288 with 1 Axes>"
            ]
          },
          "metadata": {
            "tags": []
          }
        }
      ]
    },
    {
      "cell_type": "code",
      "metadata": {
        "id": "cOlqeQyW8yJ1",
        "outputId": "bdbe3346-7d9d-44e1-b8cc-91cc0acce20f",
        "colab": {
          "base_uri": "https://localhost:8080/",
          "height": 355
        }
      },
      "source": [
        "plt.figure(figsize=(12,12))\n",
        "for i in range(50):\n",
        "    plt.subplot(10,10,i+1)\n",
        "    plt.imshow(x_train[i], cmap=plt.cm.gray_r);\n",
        "    plt.xticks([]);\n",
        "    plt.yticks([]);"
      ],
      "execution_count": 196,
      "outputs": [
        {
          "output_type": "display_data",
          "data": {
            "image/png": "[encoded data removed]",
            "text/plain": [
              "<Figure size 864x864 with 50 Axes>"
            ]
          },
          "metadata": {
            "tags": []
          }
        }
      ]
    },
    {
      "cell_type": "markdown",
      "metadata": {
        "id": "d2rCCfwBGcZV"
      },
      "source": [
        "## Tarefas\n",
        "\n",
        "1. Separe um conjunto de validação com 5000 amostras (por exemplo, as últimas 5000 amostras do conjunto de treinamento). Confirme que a distribuição das classes é parecida com a do conjunto de treinamento (não precisa ser exatamente igual).\n",
        "\n",
        "#### Dica\n",
        "- Para calcular e visualizar um histograma, você pode utilizar a função `plt.hist()`, opcionalmente definindo os parâmetros `density` e `alpha`, entre outros."
      ]
    },
    {
      "cell_type": "code",
      "metadata": {
        "id": "BbOerXklcK41"
      },
      "source": [
        "from sklearn.model_selection import train_test_split\n",
        "x_train, x_val, y_train, y_val = train_test_split(x_train, y_train, test_size=0.08333, random_state=42)"
      ],
      "execution_count": 197,
      "outputs": []
    },
    {
      "cell_type": "code",
      "metadata": {
        "id": "ivhqgDzDO7Kg",
        "outputId": "d0a46ebf-e1d7-47b0-c323-3e1ce5b0689e",
        "colab": {
          "base_uri": "https://localhost:8080/",
          "height": 136
        }
      },
      "source": [
        "print('NOVO SHAPE:')\n",
        "print(f'Train: {x_train.shape, y_train.shape}')\n",
        "print(f'  Val: {x_val.shape, y_val.shape}')\n",
        "print('-'*40)\n",
        "print('Distribuição de classes:')\n",
        "print(f'Train: {len(np.unique(y_train))}')\n",
        "print(f'  Val: {len(np.unique(y_val))}')"
      ],
      "execution_count": 198,
      "outputs": [
        {
          "output_type": "stream",
          "text": [
            "NOVO SHAPE:\n",
            "Train: ((55000, 28, 28), (55000,))\n",
            "  Val: ((5000, 28, 28), (5000,))\n",
            "----------------------------------------\n",
            "Distribuição de classes:\n",
            "Train: 10\n",
            "  Val: 10\n"
          ],
          "name": "stdout"
        }
      ]
    },
    {
      "cell_type": "code",
      "metadata": {
        "id": "XDRhTz7KTxkT",
        "outputId": "a3e30e19-9fe1-49ca-bbd0-f9130547058f",
        "colab": {
          "base_uri": "https://localhost:8080/",
          "height": 297
        }
      },
      "source": [
        "plt.hist(y_val, density=True, alpha=1,color='b')\n",
        "plt.hist(y_test, density=True,alpha=1, color='r')\n",
        "plt.legend(['val','Test'], loc = 'lower left')\n",
        "plt.tight_layout()"
      ],
      "execution_count": 205,
      "outputs": [
        {
          "output_type": "display_data",
          "data": {
            "image/png": "[encoded data removed]",
            "text/plain": [
              "<Figure size 432x288 with 1 Axes>"
            ]
          },
          "metadata": {
            "tags": [],
            "needs_background": "light"
          }
        }
      ]
    },
    {
      "cell_type": "code",
      "metadata": {
        "id": "xTaqrI3Na-JN",
        "outputId": "268ce580-6b99-4b0b-92a0-ad0b42ab4e9e",
        "colab": {
          "base_uri": "https://localhost:8080/",
          "height": 244
        }
      },
      "source": [
        "fig, (ax1,ax2) = plt.subplots(1,2)\n",
        "ax1.imshow(x_train[1], cmap='gray')\n",
        "ax1.set_title(f'[Train] Número: {y_train[1]}')\n",
        "\n",
        "ax2.imshow(x_val[1], cmap='gray')\n",
        "ax2.set_title(f'[Val] Número: {y_val[1]}')\n",
        "plt.tight_layout()"
      ],
      "execution_count": 206,
      "outputs": [
        {
          "output_type": "display_data",
          "data": {
            "image/png": "[encoded data removed]",
            "text/plain": [
              "<Figure size 432x288 with 2 Axes>"
            ]
          },
          "metadata": {
            "tags": [],
            "needs_background": "light"
          }
        }
      ]
    },
    {
      "cell_type": "markdown",
      "metadata": {
        "id": "n0lFSrgoR45t"
      },
      "source": [
        "2. Para desenvolvimento do modelo, considere um subconjunto de treinamento com poucas amostras, por exemplo, as primeiras 10000, e também um número pequeno de épocas, por exemplo, 10. Isso vai permitir uma rápida experimentação. Uma vez finalizado o desenvolvimento, você poderá aumentar esses valores. Inicialmente, construa um modelo **baseline** sem nenhuma camada oculta, treine-o e confirme que está funcionando corretamente.\n",
        "1. Por hora, ignore o conjunto de validação. Tente obter 100% de acurácia de treinamento (com o conjunto reduzido) e apenas 10 épocas. O objetivo é garantir que o modelo possui capacidade suficiente para este problema. Fique à vontade para variar quaisquer hiperparâmetros do modelo ou do treinamento, mas utilize apenas conceitos já abordados na disciplina (i.e., não utilize camadas convolucionais). Tenha em mente as seguintes observações:\n",
        " - A taxa de aprendizado é provavelmente o hiperparâmetro mais importante, no sentido de que, mesmo que você consiga supostamente encontrar os melhores valores de todos os demais hiperparâmetros (inclusive da arquitetura do modelo), ainda assim o modelo poderá ter um desempenho ruim se a taxa de aprendizado não for ajustada adequadamente.\n",
        " - Em geral, cada modificação em algum hiperparâmetro pode exigir um novo ajuste da taxa de aprendizado (i.e., o seu valor ótimo pode mudar), embora alguns hiperparâmetros tenham um impacto maior do que outros.\n",
        " - O batch size tem um impacto grande na velocidade do treinamento, além de impactar no desempenho do modelo. De maneira geral, aumentar o batch size reduz o tempo de treinamento de uma época (por quê?), mas pode piorar o desempenho para um número fixo de épocas (por quê?). Assim, uma recomendação básica é utilizar o maior batch size possível tal que o desempenho do modelo (para um número fixo de épocas) não apresente degradação significativa. Minimizar o tempo de treinamento é essencial para uma rápida experimentação.\n",
        " - Naturalmente, o desempenho ótimo para cada valor de batch size envolve um ajuste da taxa de aprendizado. Uma regra prática (empírica) é: se o batch size é multiplicado por um fator F, então, para obter um desempenho semelhante, a taxa de aprendizado também deve ser multiplicada por F. Note que essa regra não é exata, mas serve como um bom ponto de partida.\n",
        "1. Relate suas principais observações sobre quais abordagens foram bem sucedidas ou não.\n",
        "\n",
        "#### Dicas\n",
        "- Para um problema multi-classe com codificação compacta $y \\in \\{0,1,\\ldots,9\\}$ (i.e., que **não** é *one-hot encoding*), a função perda adequada é a `'sparse_categorical_crossentropy'`. Nesse caso não é necessário codificar como *one-hot*.\n",
        "- O Keras permite monitorar, durante o treinamento, não apenas a perda, mas também outras métricas, como a acurácia, tanto de treinamento quanto de validação. Para isso, configure o parâmetro `metrics` ao executar `model.compile`. As curvas estarão disponíveis no parâmetro history.\n",
        "- Para avaliar o efeito de um hiperparâmetro, é muito útil garantir que não há outras fontes de \"ruído\" ou variação, assim cada hiperparâmetro pode ser avaliado isoladamente. Em particular, a inicialização dos pesos do modelo deve ser determinística. Para isso, utilize `tf.random.set_seed()` antes de definir o modelo. Isso também garante a reprodutibilidade dos resultados, caso você precise executar o treinamento novamente.\n",
        "- Para medir o tempo de execução de uma célula do notebook, utilize `%%time` na primeira linha da célula.\n",
        "- É usual (e tipicamente suficiente) variar o batch size em potências de 2.\n",
        "- Se desejar utilizar a GPU do Colab para acelerar o treinamento, selecione-a no menu *Runtime/Change runtime type*. Para os modelos deste exercício, porém, o ganho computacional provavelmente não será tão expressivo. Note também que é possível que a inicialização de pesos seja diferente de quando o modelo é executado sem GPU, ainda que a mesma *random seed* tenha sido definida."
      ]
    },
    {
      "cell_type": "markdown",
      "metadata": {
        "id": "qn1y_uMCXW77"
      },
      "source": [
        "\n",
        "\n",
        "---\n",
        "### modelo baseline\n",
        "\n",
        "\n",
        "---\n",
        "\n",
        "\n",
        "\n",
        "---\n",
        "\n",
        "\n"
      ]
    },
    {
      "cell_type": "code",
      "metadata": {
        "id": "7mz045j3qjwM",
        "outputId": "cc5e4f0e-0ca4-4591-dcc6-5eaa228ddc9f",
        "colab": {
          "base_uri": "https://localhost:8080/",
          "height": 391
        }
      },
      "source": [
        "%%time\n",
        "model = Sequential()\n",
        "model.add(Flatten()) # 784 inputs\n",
        "model.add(layers.Dense(units = 10, activation = 'softmax', name = 'output'))\n",
        "\n",
        "optimizer = tf.keras.optimizers.Adam(learning_rate = 0.01)\n",
        "model.compile(optimizer = optimizer, loss = 'sparse_categorical_crossentropy', metrics=['accuracy'])\n",
        "\n",
        "history = model.fit(x_train[:10000],y_train[:10000], epochs = 10, batch_size=32, verbose=1)"
      ],
      "execution_count": 208,
      "outputs": [
        {
          "output_type": "stream",
          "text": [
            "Epoch 1/10\n",
            "313/313 [==============================] - 1s 2ms/step - loss: 0.4663 - accuracy: 0.8629\n",
            "Epoch 2/10\n",
            "313/313 [==============================] - 1s 2ms/step - loss: 0.3160 - accuracy: 0.9080\n",
            "Epoch 3/10\n",
            "313/313 [==============================] - 1s 2ms/step - loss: 0.2911 - accuracy: 0.9151\n",
            "Epoch 4/10\n",
            "313/313 [==============================] - 1s 2ms/step - loss: 0.2690 - accuracy: 0.9193\n",
            "Epoch 5/10\n",
            "313/313 [==============================] - 1s 2ms/step - loss: 0.2573 - accuracy: 0.9232\n",
            "Epoch 6/10\n",
            "313/313 [==============================] - 1s 2ms/step - loss: 0.2401 - accuracy: 0.9285\n",
            "Epoch 7/10\n",
            "313/313 [==============================] - 1s 2ms/step - loss: 0.2301 - accuracy: 0.9350\n",
            "Epoch 8/10\n",
            "313/313 [==============================] - 1s 2ms/step - loss: 0.2277 - accuracy: 0.9319\n",
            "Epoch 9/10\n",
            "313/313 [==============================] - 1s 2ms/step - loss: 0.2125 - accuracy: 0.9366\n",
            "Epoch 10/10\n",
            "313/313 [==============================] - 1s 2ms/step - loss: 0.2105 - accuracy: 0.9349\n",
            "CPU times: user 7.07 s, sys: 732 ms, total: 7.8 s\n",
            "Wall time: 5.81 s\n"
          ],
          "name": "stdout"
        }
      ]
    },
    {
      "cell_type": "code",
      "metadata": {
        "id": "CuMktLsNqkUo",
        "outputId": "d49e4494-baad-4715-bb29-bb0174ebfbf2",
        "colab": {
          "base_uri": "https://localhost:8080/",
          "height": 51
        }
      },
      "source": [
        "model.evaluate(x_train[:10000],y_train[:10000])"
      ],
      "execution_count": 209,
      "outputs": [
        {
          "output_type": "stream",
          "text": [
            "313/313 [==============================] - 0s 2ms/step - loss: 0.2082 - accuracy: 0.9370\n"
          ],
          "name": "stdout"
        },
        {
          "output_type": "execute_result",
          "data": {
            "text/plain": [
              "[0.208199143409729, 0.9369999766349792]"
            ]
          },
          "metadata": {
            "tags": []
          },
          "execution_count": 209
        }
      ]
    },
    {
      "cell_type": "markdown",
      "metadata": {
        "id": "vLFmp-xm2fzw"
      },
      "source": [
        "\n",
        "\n",
        "---\n",
        "\n",
        "\n",
        "### Tente obter 100% de acurácia de treinamento (com o conjunto reduzido) e apenas 10 épocas\n",
        "\n",
        "\n",
        "\n",
        "---\n",
        "\n",
        "\n",
        "\n",
        "---\n",
        "\n",
        "\n",
        "\n"
      ]
    },
    {
      "cell_type": "code",
      "metadata": {
        "id": "_pynQHMH2bmV",
        "outputId": "91ab054f-7103-4edd-9c94-50e12321e7a3",
        "colab": {
          "base_uri": "https://localhost:8080/",
          "height": 391
        }
      },
      "source": [
        "%%time\n",
        "model = tf.random.set_seed(10)\n",
        "model = Sequential()\n",
        "model.add(Flatten()) # 784 inputs\n",
        "model.add(layers.Dense(units = 32, activation = 'relu', input_shape = (28,28) , name = 'input1'))\n",
        "model.add(layers.Dense(units = 10, activation = 'softmax', name = 'output')) # camada de saída\n",
        "\n",
        "\n",
        "optimizer = tf.keras.optimizers.Adam(learning_rate = 0.003)\n",
        "model.compile(optimizer = optimizer, loss = 'sparse_categorical_crossentropy', metrics=['accuracy'])\n",
        "\n",
        "history = model.fit(x_train[:10000],y_train[:10000], validation_data=(x_val,y_val), epochs = 10, batch_size=32)"
      ],
      "execution_count": null,
      "outputs": [
        {
          "output_type": "stream",
          "text": [
            "Epoch 1/10\n",
            "313/313 [==============================] - 1s 3ms/step - loss: 0.4990 - accuracy: 0.8561 - val_loss: 0.3042 - val_accuracy: 0.9126\n",
            "Epoch 2/10\n",
            "313/313 [==============================] - 1s 3ms/step - loss: 0.2563 - accuracy: 0.9242 - val_loss: 0.2433 - val_accuracy: 0.9300\n",
            "Epoch 3/10\n",
            "313/313 [==============================] - 1s 3ms/step - loss: 0.1889 - accuracy: 0.9442 - val_loss: 0.2332 - val_accuracy: 0.9298\n",
            "Epoch 4/10\n",
            "313/313 [==============================] - 1s 3ms/step - loss: 0.1463 - accuracy: 0.9560 - val_loss: 0.2127 - val_accuracy: 0.9358\n",
            "Epoch 5/10\n",
            "313/313 [==============================] - 1s 2ms/step - loss: 0.1153 - accuracy: 0.9674 - val_loss: 0.2099 - val_accuracy: 0.9400\n",
            "Epoch 6/10\n",
            "313/313 [==============================] - 1s 3ms/step - loss: 0.0959 - accuracy: 0.9704 - val_loss: 0.2125 - val_accuracy: 0.9392\n",
            "Epoch 7/10\n",
            "313/313 [==============================] - 1s 2ms/step - loss: 0.0838 - accuracy: 0.9735 - val_loss: 0.2198 - val_accuracy: 0.9394\n",
            "Epoch 8/10\n",
            "313/313 [==============================] - 1s 2ms/step - loss: 0.0658 - accuracy: 0.9802 - val_loss: 0.2086 - val_accuracy: 0.9444\n",
            "Epoch 9/10\n",
            "313/313 [==============================] - 1s 3ms/step - loss: 0.0510 - accuracy: 0.9845 - val_loss: 0.2341 - val_accuracy: 0.9394\n",
            "Epoch 10/10\n",
            "313/313 [==============================] - 1s 2ms/step - loss: 0.0426 - accuracy: 0.9884 - val_loss: 0.2232 - val_accuracy: 0.9404\n",
            "CPU times: user 9.62 s, sys: 1.14 s, total: 10.8 s\n",
            "Wall time: 8.28 s\n"
          ],
          "name": "stdout"
        }
      ]
    },
    {
      "cell_type": "code",
      "metadata": {
        "id": "SP_cqKb72bgQ",
        "outputId": "fe751dad-2db4-4f65-f8c7-c72cd825898b",
        "colab": {
          "base_uri": "https://localhost:8080/",
          "height": 255
        }
      },
      "source": [
        "model.summary()"
      ],
      "execution_count": null,
      "outputs": [
        {
          "output_type": "stream",
          "text": [
            "Model: \"sequential_3\"\n",
            "_________________________________________________________________\n",
            "Layer (type)                 Output Shape              Param #   \n",
            "=================================================================\n",
            "flatten_2 (Flatten)          (None, 784)               0         \n",
            "_________________________________________________________________\n",
            "input1 (Dense)               (None, 32)                25120     \n",
            "_________________________________________________________________\n",
            "output (Dense)               (None, 10)                330       \n",
            "=================================================================\n",
            "Total params: 25,450\n",
            "Trainable params: 25,450\n",
            "Non-trainable params: 0\n",
            "_________________________________________________________________\n"
          ],
          "name": "stdout"
        }
      ]
    },
    {
      "cell_type": "code",
      "metadata": {
        "id": "m-cwa1fY6CAs",
        "outputId": "5e43bf95-752e-42df-9c1c-77e63b51dc71",
        "colab": {
          "base_uri": "https://localhost:8080/",
          "height": 68
        }
      },
      "source": [
        "train_loss, train_acc = model.evaluate(x_train[:10000],y_train[:10000])\n",
        "print(f'Loss: {train_loss}')\n",
        "print(f'Accuracy: {round(train_acc,2)*100}%')"
      ],
      "execution_count": null,
      "outputs": [
        {
          "output_type": "stream",
          "text": [
            "313/313 [==============================] - 0s 2ms/step - loss: 0.0323 - accuracy: 0.9929\n",
            "Loss: 0.032314006239175797\n",
            "Accuracy: 99.0%\n"
          ],
          "name": "stdout"
        }
      ]
    },
    {
      "cell_type": "markdown",
      "metadata": {
        "id": "RDfw3yr4VLlD"
      },
      "source": [
        "**Relate suas principais observações sobre quais abordagens foram bem sucedidas ou não**.\n",
        "O modelo obteve um melhor desempenho ao aumentar o número de unidades e reduzir a learning rate. O modelo demorou um pouco mais para compilar, devido a redução do valor da learning rate, porém a acurácia foi significantemente melhor."
      ]
    },
    {
      "cell_type": "markdown",
      "metadata": {
        "id": "OwHxmwkdTHiZ"
      },
      "source": [
        "5. Agora, monitore também a acurácia de validação ao longo do treinamento, e ao final trace dois gráficos em função do número de épocas, um com a perda de treinamento e de validação e outro com a acurácia de treinamento e de validação.\n",
        "1. Altere o tamanho do conjunto de treinamento para 55000 e veja se consegue obter uma acurácia de validação de pelo menos 98% (em alguma época). A partir de agora, utilize quantas épocas desejar. Ao final do treinamento, sempre trace as curvas de perda e acurácia para os dois conjuntos.\n",
        "1. Mantenha os hiperparâmetros do modelo e altere apenas o tamanho do conjunto de treinamento. Trace um gráfico da acurácia de treinamento e da acurácia máxima de validação (para alguma época) em função do tamanho do conjunto de treinamento, por exemplo, em intervalos de 5 ou 10 mil amostras, até o máximo de 55000. Esta curva é conhecida em alguns contextos como curva de aprendizado (*learning curve*). Trace também o gráfico da época ótima em que foi obtida a máxima acurácia de validação, em função do tamanho do conjunto de treinamento. Que conclusões podem ser tiradas a partir desses resultados?\n",
        "1. Finalmente, utilize todas as 60000 amostras para treinamento (e naturalmente não utilize conjunto de validação), com um número de épocas apropriadamente escolhido. Em seguida, meça o desempenho no conjunto de teste.\n",
        "1. Para o modelo final que você desenvolveu, mostre alguns exemplos de predições erradas no conjunto de teste.\n",
        "1. Visualize como uma imagem os pesos da primeira camada oculta. Para isso, rode a célula abaixo:\n"
      ]
    },
    {
      "cell_type": "markdown",
      "metadata": {
        "id": "XPhX9AKBYTOl"
      },
      "source": [
        "\n",
        "\n",
        "---\n",
        "### Agora, monitore também a acurácia de validação ao longo do treinamento, e ao final trace dois gráficos em função do número de épocas, um com a perda de treinamento e de validação e outro com a acurácia de treinamento e de validação.\n",
        "\n",
        "---\n",
        "\n"
      ]
    },
    {
      "cell_type": "code",
      "metadata": {
        "id": "IrdJTrw6YkBe",
        "outputId": "675af67b-ced6-4e21-a783-828e5e96b214",
        "colab": {
          "base_uri": "https://localhost:8080/",
          "height": 68
        }
      },
      "source": [
        "val_loss, val_acc = model.evaluate(x_val[:10000],y_val[:10000])\n",
        "print(f'Loss: {val_loss}')\n",
        "print(f'Accuracy: {round(val_acc,2)*100}%')"
      ],
      "execution_count": null,
      "outputs": [
        {
          "output_type": "stream",
          "text": [
            "157/157 [==============================] - 0s 2ms/step - loss: 0.2232 - accuracy: 0.9404\n",
            "Loss: 0.22316794097423553\n",
            "Accuracy: 94.0%\n"
          ],
          "name": "stdout"
        }
      ]
    },
    {
      "cell_type": "code",
      "metadata": {
        "id": "0O_csU0ZYkFi",
        "outputId": "c8437a32-b0ba-4a91-cd0a-21f0713ce316",
        "colab": {
          "base_uri": "https://localhost:8080/",
          "height": 297
        }
      },
      "source": [
        "plt.plot(history.history['loss'])\n",
        "plt.plot(history.history['val_loss'])\n",
        "plt.legend(['Train Loss', 'Val Loss'])\n",
        "plt.title('Perda de treinamento e de validação')\n",
        "plt.tight_layout()"
      ],
      "execution_count": null,
      "outputs": [
        {
          "output_type": "display_data",
          "data": {
            "image/png": "[encoded data removed]",
            "text/plain": [
              "<Figure size 432x288 with 1 Axes>"
            ]
          },
          "metadata": {
            "tags": [],
            "needs_background": "light"
          }
        }
      ]
    },
    {
      "cell_type": "code",
      "metadata": {
        "id": "CNCHaPWiaIaT",
        "outputId": "80bfd4d5-ff79-4ed0-9ee5-8847f43fede6",
        "colab": {
          "base_uri": "https://localhost:8080/",
          "height": 297
        }
      },
      "source": [
        "plt.plot(history.history['accuracy'])\n",
        "plt.plot(history.history['val_accuracy'])\n",
        "plt.legend(['Train accuracy', 'Val accuracy'])\n",
        "plt.title('Acurácia de treinamento e de validação')\n",
        "plt.tight_layout()"
      ],
      "execution_count": null,
      "outputs": [
        {
          "output_type": "display_data",
          "data": {
            "image/png": "[encoded data removed]",
            "text/plain": [
              "<Figure size 432x288 with 1 Axes>"
            ]
          },
          "metadata": {
            "tags": [],
            "needs_background": "light"
          }
        }
      ]
    },
    {
      "cell_type": "markdown",
      "metadata": {
        "id": "14emDt5M32Ye"
      },
      "source": [
        "\n",
        "\n",
        "---\n",
        "### Altere o tamanho do conjunto de treinamento para 55000 e veja se consegue obter uma acurácia de validação de pelo menos 98%\n",
        "---\n"
      ]
    },
    {
      "cell_type": "code",
      "metadata": {
        "id": "rUlFXTXf1Qt8",
        "outputId": "9d2de7b1-4e68-4b60-cb3a-d223fe6f397d",
        "colab": {
          "base_uri": "https://localhost:8080/",
          "height": 561
        }
      },
      "source": [
        "%%time\n",
        "model = tf.random.set_seed(15)\n",
        "model = Sequential()\n",
        "model.add(Flatten()) # 784 inputs\n",
        "model.add(layers.Dense(units = 32, activation = 'relu', input_shape = (28,28) , name = 'layer1'))\n",
        "#model.add(layers.Dense(units = 12, activation = 'relu', name = 'layer2'))\n",
        "model.add(layers.Dense(units = 10, activation = 'softmax', name = 'output')) # camada de saída\n",
        "\n",
        "\n",
        "optimizer = tf.keras.optimizers.Adam(learning_rate = 0.001)\n",
        "model.compile(optimizer = optimizer, loss = 'sparse_categorical_crossentropy', metrics=['accuracy'])\n",
        "\n",
        "history = model.fit(x_train,y_train, validation_data=(x_val,y_val), epochs = 15, batch_size=16)"
      ],
      "execution_count": null,
      "outputs": [
        {
          "output_type": "stream",
          "text": [
            "Epoch 1/15\n",
            "3438/3438 [==============================] - 7s 2ms/step - loss: 0.3179 - accuracy: 0.9093 - val_loss: 0.1872 - val_accuracy: 0.9452\n",
            "Epoch 2/15\n",
            "3438/3438 [==============================] - 7s 2ms/step - loss: 0.1721 - accuracy: 0.9501 - val_loss: 0.1523 - val_accuracy: 0.9560\n",
            "Epoch 3/15\n",
            "3438/3438 [==============================] - 7s 2ms/step - loss: 0.1360 - accuracy: 0.9602 - val_loss: 0.1350 - val_accuracy: 0.9622\n",
            "Epoch 4/15\n",
            "3438/3438 [==============================] - 7s 2ms/step - loss: 0.1159 - accuracy: 0.9660 - val_loss: 0.1330 - val_accuracy: 0.9632\n",
            "Epoch 5/15\n",
            "3438/3438 [==============================] - 7s 2ms/step - loss: 0.1013 - accuracy: 0.9695 - val_loss: 0.1256 - val_accuracy: 0.9650\n",
            "Epoch 6/15\n",
            "3438/3438 [==============================] - 7s 2ms/step - loss: 0.0905 - accuracy: 0.9727 - val_loss: 0.1198 - val_accuracy: 0.9664\n",
            "Epoch 7/15\n",
            "3438/3438 [==============================] - 7s 2ms/step - loss: 0.0815 - accuracy: 0.9747 - val_loss: 0.1276 - val_accuracy: 0.9620\n",
            "Epoch 8/15\n",
            "3438/3438 [==============================] - 7s 2ms/step - loss: 0.0754 - accuracy: 0.9773 - val_loss: 0.1236 - val_accuracy: 0.9668\n",
            "Epoch 9/15\n",
            "3438/3438 [==============================] - 7s 2ms/step - loss: 0.0691 - accuracy: 0.9785 - val_loss: 0.1186 - val_accuracy: 0.9660\n",
            "Epoch 10/15\n",
            "3438/3438 [==============================] - 7s 2ms/step - loss: 0.0636 - accuracy: 0.9799 - val_loss: 0.1286 - val_accuracy: 0.9632\n",
            "Epoch 11/15\n",
            "3438/3438 [==============================] - 7s 2ms/step - loss: 0.0583 - accuracy: 0.9826 - val_loss: 0.1200 - val_accuracy: 0.9678\n",
            "Epoch 12/15\n",
            "3438/3438 [==============================] - 7s 2ms/step - loss: 0.0542 - accuracy: 0.9826 - val_loss: 0.1218 - val_accuracy: 0.9698\n",
            "Epoch 13/15\n",
            "3438/3438 [==============================] - 7s 2ms/step - loss: 0.0499 - accuracy: 0.9845 - val_loss: 0.1285 - val_accuracy: 0.9664\n",
            "Epoch 14/15\n",
            "3438/3438 [==============================] - 7s 2ms/step - loss: 0.0471 - accuracy: 0.9851 - val_loss: 0.1377 - val_accuracy: 0.9650\n",
            "Epoch 15/15\n",
            "3438/3438 [==============================] - 7s 2ms/step - loss: 0.0435 - accuracy: 0.9865 - val_loss: 0.1266 - val_accuracy: 0.9660\n",
            "CPU times: user 2min 2s, sys: 13 s, total: 2min 15s\n",
            "Wall time: 1min 40s\n"
          ],
          "name": "stdout"
        }
      ]
    },
    {
      "cell_type": "code",
      "metadata": {
        "id": "7wV--B0x1QyD",
        "outputId": "b9571f34-dc5a-465d-9376-e2171d8b5aa1",
        "colab": {
          "base_uri": "https://localhost:8080/",
          "height": 68
        }
      },
      "source": [
        "train_loss, train_acc = model.evaluate(x_train[:10000],y_train[:10000])\n",
        "print(f'Train Loss: {train_loss}')\n",
        "print(f'Train Accuracy: {round(train_acc,2)*100}%')"
      ],
      "execution_count": null,
      "outputs": [
        {
          "output_type": "stream",
          "text": [
            "313/313 [==============================] - 1s 2ms/step - loss: 0.0317 - accuracy: 0.9902\n",
            "Train Loss: 0.031652845442295074\n",
            "Train Accuracy: 99.0%\n"
          ],
          "name": "stdout"
        }
      ]
    },
    {
      "cell_type": "code",
      "metadata": {
        "id": "32xs_gewdkP7",
        "outputId": "60bc6fd2-90f0-444e-d1f9-35822c2e2267",
        "colab": {
          "base_uri": "https://localhost:8080/",
          "height": 68
        }
      },
      "source": [
        "val_loss, val_acc = model.evaluate(x_val[:10000],y_val[:10000])\n",
        "print(f'Val Loss: {val_loss}')\n",
        "print(f'Val Accuracy: {round(val_acc,2)*100}%')"
      ],
      "execution_count": null,
      "outputs": [
        {
          "output_type": "stream",
          "text": [
            "157/157 [==============================] - 0s 2ms/step - loss: 0.1266 - accuracy: 0.9660\n",
            "Val Loss: 0.1265568733215332\n",
            "Val Accuracy: 97.0%\n"
          ],
          "name": "stdout"
        }
      ]
    },
    {
      "cell_type": "code",
      "metadata": {
        "id": "6heUY2Z14DvW",
        "outputId": "36f18a0b-3df3-4413-f65d-fc188e04065f",
        "colab": {
          "base_uri": "https://localhost:8080/",
          "height": 297
        }
      },
      "source": [
        "plt.plot(history.history['loss'])\n",
        "plt.plot(history.history['val_loss'])\n",
        "plt.legend(['Train Loss', 'Val Loss'])\n",
        "plt.title('Perda de treinamento e de validação')\n",
        "plt.tight_layout()"
      ],
      "execution_count": null,
      "outputs": [
        {
          "output_type": "display_data",
          "data": {
            "image/png": "[encoded data removed]",
            "text/plain": [
              "<Figure size 432x288 with 1 Axes>"
            ]
          },
          "metadata": {
            "tags": [],
            "needs_background": "light"
          }
        }
      ]
    },
    {
      "cell_type": "code",
      "metadata": {
        "id": "i0ZxBMkK4bti",
        "outputId": "bf9e8a8b-99c9-476b-c699-e861e5fbf0b0",
        "colab": {
          "base_uri": "https://localhost:8080/",
          "height": 297
        }
      },
      "source": [
        "plt.plot(history.history['accuracy'])\n",
        "plt.plot(history.history['val_accuracy'])\n",
        "plt.legend(['Train accuracy', 'Val accuracy'])\n",
        "plt.title('Acurácia de treinamento e de validação')\n",
        "plt.tight_layout()"
      ],
      "execution_count": null,
      "outputs": [
        {
          "output_type": "display_data",
          "data": {
            "image/png": "[encoded data removed]",
            "text/plain": [
              "<Figure size 432x288 with 1 Axes>"
            ]
          },
          "metadata": {
            "tags": [],
            "needs_background": "light"
          }
        }
      ]
    },
    {
      "cell_type": "markdown",
      "metadata": {
        "id": "L0ykUzJqdPMC"
      },
      "source": [
        "\n",
        "\n",
        "---\n",
        "Mantenha os hiperparâmetros do modelo e altere apenas o tamanho do conjunto de treinamento. Trace um gráfico da acurácia de treinamento e da acurácia máxima de validação (para alguma época) em função do tamanho do conjunto de treinamento, por exemplo, em intervalos de 5 ou 10 mil amostras, até o máximo de 55000. Esta curva é conhecida em alguns contextos como curva de aprendizado (learning curve). Trace também o gráfico da época ótima em que foi obtida a máxima acurácia de validação, em função do tamanho do conjunto de treinamento. Que conclusões podem ser tiradas a partir desses resultados?\n",
        "\n",
        "---\n",
        "\n"
      ]
    },
    {
      "cell_type": "code",
      "metadata": {
        "id": "y8W-yNdHvArb"
      },
      "source": [
        "def treinamento(x,y):\n",
        "  model = tf.random.set_seed(15)\n",
        "  model = Sequential()\n",
        "  model.add(Flatten()) # 784 inputs\n",
        "  model.add(layers.Dense(units = 32, activation = 'relu', input_shape = (28,28) , name = 'layer1'))\n",
        "  model.add(layers.Dense(units = 10, activation = 'softmax', name = 'output')) # camada de saída\n",
        "\n",
        "  optimizer = tf.keras.optimizers.Adam(learning_rate = 0.001)\n",
        "  model.compile(optimizer = optimizer, loss = 'sparse_categorical_crossentropy', metrics=['accuracy'])\n",
        "\n",
        "  history = model.fit(x,y, validation_data=(x_val,y_val), epochs = 15, batch_size=16)\n",
        "\n",
        "  return history"
      ],
      "execution_count": 134,
      "outputs": []
    },
    {
      "cell_type": "code",
      "metadata": {
        "id": "wlKehFoevA0w"
      },
      "source": [
        "learning20mil = treinamento(x_train[:20000], y_train[:20000])"
      ],
      "execution_count": null,
      "outputs": []
    },
    {
      "cell_type": "code",
      "metadata": {
        "id": "OwhksqtZJm7V",
        "outputId": "7d7d24f2-02c6-483c-80f0-71dd15663aa8",
        "colab": {
          "base_uri": "https://localhost:8080/",
          "height": 297
        }
      },
      "source": [
        "plt.plot(learning20mil.history['accuracy'])\n",
        "plt.plot(learning20mil.history['val_accuracy'])\n",
        "plt.legend(['Train accuracy', 'Val accuracy'])\n",
        "plt.title('Máxima acurácia de treinamento e de validação')\n",
        "plt.grid()\n",
        "plt.tight_layout()"
      ],
      "execution_count": 140,
      "outputs": [
        {
          "output_type": "display_data",
          "data": {
            "image/png": "[encoded data removed]",
            "text/plain": [
              "<Figure size 432x288 with 1 Axes>"
            ]
          },
          "metadata": {
            "tags": [],
            "needs_background": "light"
          }
        }
      ]
    },
    {
      "cell_type": "code",
      "metadata": {
        "id": "wB_s91NqJTUU",
        "outputId": "33b4c06c-f081-4ca6-90b8-6599de09fe2b",
        "colab": {
          "base_uri": "https://localhost:8080/",
          "height": 527
        }
      },
      "source": [
        "learning30mil = treinamento(x_train[:30000], y_train[:30000])"
      ],
      "execution_count": 141,
      "outputs": [
        {
          "output_type": "stream",
          "text": [
            "Epoch 1/15\n",
            "1875/1875 [==============================] - 4s 2ms/step - loss: 0.3878 - accuracy: 0.8925 - val_loss: 0.2130 - val_accuracy: 0.9368\n",
            "Epoch 2/15\n",
            "1875/1875 [==============================] - 3s 2ms/step - loss: 0.1976 - accuracy: 0.9418 - val_loss: 0.1751 - val_accuracy: 0.9490\n",
            "Epoch 3/15\n",
            "1875/1875 [==============================] - 3s 2ms/step - loss: 0.1539 - accuracy: 0.9537 - val_loss: 0.1350 - val_accuracy: 0.9628\n",
            "Epoch 4/15\n",
            "1875/1875 [==============================] - 3s 2ms/step - loss: 0.1270 - accuracy: 0.9620 - val_loss: 0.1218 - val_accuracy: 0.9648\n",
            "Epoch 5/15\n",
            "1875/1875 [==============================] - 3s 2ms/step - loss: 0.1079 - accuracy: 0.9675 - val_loss: 0.1172 - val_accuracy: 0.9652\n",
            "Epoch 6/15\n",
            "1875/1875 [==============================] - 3s 2ms/step - loss: 0.0946 - accuracy: 0.9717 - val_loss: 0.1112 - val_accuracy: 0.9688\n",
            "Epoch 7/15\n",
            "1875/1875 [==============================] - 3s 2ms/step - loss: 0.0848 - accuracy: 0.9743 - val_loss: 0.1045 - val_accuracy: 0.9710\n",
            "Epoch 8/15\n",
            "1875/1875 [==============================] - 3s 2ms/step - loss: 0.0732 - accuracy: 0.9779 - val_loss: 0.0987 - val_accuracy: 0.9730\n",
            "Epoch 9/15\n",
            "1875/1875 [==============================] - 3s 2ms/step - loss: 0.0663 - accuracy: 0.9803 - val_loss: 0.1056 - val_accuracy: 0.9710\n",
            "Epoch 10/15\n",
            "1875/1875 [==============================] - 3s 2ms/step - loss: 0.0599 - accuracy: 0.9811 - val_loss: 0.1036 - val_accuracy: 0.9728\n",
            "Epoch 11/15\n",
            "1875/1875 [==============================] - 3s 2ms/step - loss: 0.0535 - accuracy: 0.9836 - val_loss: 0.0978 - val_accuracy: 0.9746\n",
            "Epoch 12/15\n",
            "1875/1875 [==============================] - 3s 2ms/step - loss: 0.0491 - accuracy: 0.9845 - val_loss: 0.0901 - val_accuracy: 0.9790\n",
            "Epoch 13/15\n",
            "1875/1875 [==============================] - 3s 2ms/step - loss: 0.0447 - accuracy: 0.9868 - val_loss: 0.0962 - val_accuracy: 0.9772\n",
            "Epoch 14/15\n",
            "1875/1875 [==============================] - 3s 2ms/step - loss: 0.0415 - accuracy: 0.9874 - val_loss: 0.0941 - val_accuracy: 0.9776\n",
            "Epoch 15/15\n",
            "1875/1875 [==============================] - 3s 2ms/step - loss: 0.0364 - accuracy: 0.9889 - val_loss: 0.1070 - val_accuracy: 0.9744\n"
          ],
          "name": "stdout"
        }
      ]
    },
    {
      "cell_type": "code",
      "metadata": {
        "id": "CKTBIUW6JTh5",
        "outputId": "c106ebe1-a8c4-44cb-e7be-2d61b1183c14",
        "colab": {
          "base_uri": "https://localhost:8080/",
          "height": 297
        }
      },
      "source": [
        "plt.plot(learning30mil.history['accuracy'])\n",
        "plt.plot(learning30mil.history['val_accuracy'])\n",
        "plt.legend(['Train accuracy', 'Val accuracy'])\n",
        "plt.title('Máxima acurácia de treinamento e de validação')\n",
        "plt.grid()\n",
        "plt.tight_layout()"
      ],
      "execution_count": 142,
      "outputs": [
        {
          "output_type": "display_data",
          "data": {
            "image/png": "[encoded data removed]",
            "text/plain": [
              "<Figure size 432x288 with 1 Axes>"
            ]
          },
          "metadata": {
            "tags": [],
            "needs_background": "light"
          }
        }
      ]
    },
    {
      "cell_type": "code",
      "metadata": {
        "id": "PSrVIOfgJTde",
        "outputId": "1679c97c-bb23-4b1f-a1e4-7ef285f341c8",
        "colab": {
          "base_uri": "https://localhost:8080/",
          "height": 527
        }
      },
      "source": [
        "learning40mil = treinamento(x_train[:40000], y_train[:40000])"
      ],
      "execution_count": 144,
      "outputs": [
        {
          "output_type": "stream",
          "text": [
            "Epoch 1/15\n",
            "2500/2500 [==============================] - 4s 2ms/step - loss: 0.3638 - accuracy: 0.8961 - val_loss: 0.1998 - val_accuracy: 0.9436\n",
            "Epoch 2/15\n",
            "2500/2500 [==============================] - 4s 2ms/step - loss: 0.1914 - accuracy: 0.9441 - val_loss: 0.1486 - val_accuracy: 0.9568\n",
            "Epoch 3/15\n",
            "2500/2500 [==============================] - 4s 2ms/step - loss: 0.1510 - accuracy: 0.9553 - val_loss: 0.1321 - val_accuracy: 0.9610\n",
            "Epoch 4/15\n",
            "2500/2500 [==============================] - 4s 2ms/step - loss: 0.1269 - accuracy: 0.9618 - val_loss: 0.1118 - val_accuracy: 0.9680\n",
            "Epoch 5/15\n",
            "2500/2500 [==============================] - 4s 2ms/step - loss: 0.1089 - accuracy: 0.9670 - val_loss: 0.0990 - val_accuracy: 0.9720\n",
            "Epoch 6/15\n",
            "2500/2500 [==============================] - 4s 2ms/step - loss: 0.0958 - accuracy: 0.9711 - val_loss: 0.0902 - val_accuracy: 0.9740\n",
            "Epoch 7/15\n",
            "2500/2500 [==============================] - 4s 2ms/step - loss: 0.0861 - accuracy: 0.9735 - val_loss: 0.0908 - val_accuracy: 0.9752\n",
            "Epoch 8/15\n",
            "2500/2500 [==============================] - 4s 2ms/step - loss: 0.0770 - accuracy: 0.9760 - val_loss: 0.0822 - val_accuracy: 0.9748\n",
            "Epoch 9/15\n",
            "2500/2500 [==============================] - 4s 2ms/step - loss: 0.0703 - accuracy: 0.9789 - val_loss: 0.0844 - val_accuracy: 0.9742\n",
            "Epoch 10/15\n",
            "2500/2500 [==============================] - 4s 2ms/step - loss: 0.0626 - accuracy: 0.9808 - val_loss: 0.0704 - val_accuracy: 0.9800\n",
            "Epoch 11/15\n",
            "2500/2500 [==============================] - 4s 2ms/step - loss: 0.0575 - accuracy: 0.9819 - val_loss: 0.0626 - val_accuracy: 0.9824\n",
            "Epoch 12/15\n",
            "2500/2500 [==============================] - 4s 2ms/step - loss: 0.0539 - accuracy: 0.9836 - val_loss: 0.0678 - val_accuracy: 0.9792\n",
            "Epoch 13/15\n",
            "2500/2500 [==============================] - 4s 2ms/step - loss: 0.0495 - accuracy: 0.9847 - val_loss: 0.0723 - val_accuracy: 0.9774\n",
            "Epoch 14/15\n",
            "2500/2500 [==============================] - 4s 2ms/step - loss: 0.0443 - accuracy: 0.9860 - val_loss: 0.0744 - val_accuracy: 0.9776\n",
            "Epoch 15/15\n",
            "2500/2500 [==============================] - 4s 2ms/step - loss: 0.0417 - accuracy: 0.9869 - val_loss: 0.0637 - val_accuracy: 0.9826\n"
          ],
          "name": "stdout"
        }
      ]
    },
    {
      "cell_type": "code",
      "metadata": {
        "id": "MAmzxJe4JTbR",
        "outputId": "7b43f5ad-d22a-49f7-c3ac-56f3ca225716",
        "colab": {
          "base_uri": "https://localhost:8080/",
          "height": 297
        }
      },
      "source": [
        "plt.plot(learning40mil.history['accuracy'])\n",
        "plt.plot(learning40mil.history['val_accuracy'])\n",
        "plt.legend(['Train accuracy', 'Val accuracy'])\n",
        "plt.title('Máxima acurácia de treinamento e de validação')\n",
        "plt.grid()\n",
        "plt.tight_layout()"
      ],
      "execution_count": 145,
      "outputs": [
        {
          "output_type": "display_data",
          "data": {
            "image/png": "[encoded data removed]",
            "text/plain": [
              "<Figure size 432x288 with 1 Axes>"
            ]
          },
          "metadata": {
            "tags": [],
            "needs_background": "light"
          }
        }
      ]
    },
    {
      "cell_type": "code",
      "metadata": {
        "id": "CwqtX6_2Q8nJ",
        "outputId": "cbea0a1f-fa10-4a0c-b83c-59b515da1d03",
        "colab": {
          "base_uri": "https://localhost:8080/",
          "height": 34
        }
      },
      "source": [
        "#total_tacc = learning20mil.history['accuracy'] + learning30mil.history['accuracy'] + learning40mil.history['accuracy']\n",
        "#samples_size = [20000, 30000, 40000]"
      ],
      "execution_count": 190,
      "outputs": [
        {
          "output_type": "execute_result",
          "data": {
            "text/plain": [
              "45"
            ]
          },
          "metadata": {
            "tags": []
          },
          "execution_count": 190
        }
      ]
    },
    {
      "cell_type": "markdown",
      "metadata": {
        "id": "C4FThSQqd-or"
      },
      "source": [
        "\n",
        "\n",
        "---\n",
        "\n",
        "\n",
        "Finalmente, utilize todas as 60000 amostras para treinamento (e naturalmente não utilize conjunto de validação), com um número de épocas apropriadamente escolhido. Em seguida, meça o desempenho no conjunto de teste.\n",
        "\n",
        "---\n",
        "\n",
        "\n"
      ]
    },
    {
      "cell_type": "code",
      "metadata": {
        "id": "2mJxBsCD4Dr2",
        "outputId": "c05b3019-e8c2-44fb-cf95-9edee96c71b5",
        "colab": {
          "base_uri": "https://localhost:8080/",
          "height": 51
        }
      },
      "source": [
        "from tensorflow.keras.datasets import mnist\n",
        "(x_train, y_train), (x_test, y_test) = mnist.load_data()\n",
        "x_train = x_train / 255.0\n",
        "x_test = x_test / 255.0\n",
        "print(x_train.shape, y_train.shape)\n",
        "print(x_test.shape, y_test.shape)"
      ],
      "execution_count": 98,
      "outputs": [
        {
          "output_type": "stream",
          "text": [
            "(60000, 28, 28) (60000,)\n",
            "(10000, 28, 28) (10000,)\n"
          ],
          "name": "stdout"
        }
      ]
    },
    {
      "cell_type": "code",
      "metadata": {
        "id": "SD_t5-VCdOsm",
        "outputId": "89cf6818-55ab-4a77-d09d-1e648d5a2775",
        "colab": {
          "base_uri": "https://localhost:8080/",
          "height": 527
        }
      },
      "source": [
        "  model = tf.random.set_seed(20)\n",
        "  model = Sequential()\n",
        "  model.add(Flatten()) # 784 inputs\n",
        "  model.add(layers.Dense(units = 32, activation = 'relu', input_shape = (28,28) , name = 'layer1'))\n",
        "  model.add(layers.Dense(units = 10, activation = 'softmax', name = 'output')) # camada de saída\n",
        "\n",
        "  optimizer = tf.keras.optimizers.Adam(learning_rate = 0.001)\n",
        "  model.compile(optimizer = optimizer, loss = 'sparse_categorical_crossentropy', metrics=['accuracy'])\n",
        "\n",
        "  history = model.fit(x_train,y_train, epochs = 15, batch_size=16)"
      ],
      "execution_count": 99,
      "outputs": [
        {
          "output_type": "stream",
          "text": [
            "Epoch 1/15\n",
            "3750/3750 [==============================] - 6s 2ms/step - loss: 0.3205 - accuracy: 0.9089\n",
            "Epoch 2/15\n",
            "3750/3750 [==============================] - 6s 2ms/step - loss: 0.1762 - accuracy: 0.9493\n",
            "Epoch 3/15\n",
            "3750/3750 [==============================] - 6s 2ms/step - loss: 0.1413 - accuracy: 0.9582\n",
            "Epoch 4/15\n",
            "3750/3750 [==============================] - 6s 2ms/step - loss: 0.1190 - accuracy: 0.9639\n",
            "Epoch 5/15\n",
            "3750/3750 [==============================] - 6s 2ms/step - loss: 0.1050 - accuracy: 0.9681\n",
            "Epoch 6/15\n",
            "3750/3750 [==============================] - 6s 2ms/step - loss: 0.0936 - accuracy: 0.9714\n",
            "Epoch 7/15\n",
            "3750/3750 [==============================] - 6s 2ms/step - loss: 0.0852 - accuracy: 0.9744\n",
            "Epoch 8/15\n",
            "3750/3750 [==============================] - 6s 2ms/step - loss: 0.0773 - accuracy: 0.9766\n",
            "Epoch 9/15\n",
            "3750/3750 [==============================] - 6s 2ms/step - loss: 0.0714 - accuracy: 0.9782\n",
            "Epoch 10/15\n",
            "3750/3750 [==============================] - 6s 2ms/step - loss: 0.0656 - accuracy: 0.9792\n",
            "Epoch 11/15\n",
            "3750/3750 [==============================] - 6s 2ms/step - loss: 0.0616 - accuracy: 0.9808\n",
            "Epoch 12/15\n",
            "3750/3750 [==============================] - 6s 2ms/step - loss: 0.0578 - accuracy: 0.9817\n",
            "Epoch 13/15\n",
            "3750/3750 [==============================] - 6s 2ms/step - loss: 0.0537 - accuracy: 0.9827\n",
            "Epoch 14/15\n",
            "3750/3750 [==============================] - 6s 2ms/step - loss: 0.0504 - accuracy: 0.9834\n",
            "Epoch 15/15\n",
            "3750/3750 [==============================] - 6s 2ms/step - loss: 0.0474 - accuracy: 0.9844\n"
          ],
          "name": "stdout"
        }
      ]
    },
    {
      "cell_type": "code",
      "metadata": {
        "id": "H9Y2n3RKdO0Q",
        "outputId": "8bbab3b0-7e6a-4d3d-8329-b6d9bdb22a2b",
        "colab": {
          "base_uri": "https://localhost:8080/",
          "height": 68
        }
      },
      "source": [
        "train_loss, train_acc = model.evaluate(x_train,y_train)\n",
        "print(f'Train Loss: {train_loss}')\n",
        "print(f'Train Accuracy: {round(train_acc,2)*100}%')"
      ],
      "execution_count": 101,
      "outputs": [
        {
          "output_type": "stream",
          "text": [
            "1875/1875 [==============================] - 3s 2ms/step - loss: 0.0388 - accuracy: 0.9876\n",
            "Train Loss: 0.038839079439640045\n",
            "Train Accuracy: 99.0%\n"
          ],
          "name": "stdout"
        }
      ]
    },
    {
      "cell_type": "code",
      "metadata": {
        "id": "uNZBxiicdOyH",
        "outputId": "2b6b3531-f954-4c29-fff2-fcb84edc1122",
        "colab": {
          "base_uri": "https://localhost:8080/",
          "height": 68
        }
      },
      "source": [
        "test_loss, test_acc = model.evaluate(x_test,y_test)\n",
        "print(f'Test Loss: {test_loss}')\n",
        "print(f'Test Accuracy: {round(test_acc,2)*100}%')"
      ],
      "execution_count": 102,
      "outputs": [
        {
          "output_type": "stream",
          "text": [
            "313/313 [==============================] - 0s 2ms/step - loss: 0.1216 - accuracy: 0.9668\n",
            "Test Loss: 0.12161998450756073\n",
            "Test Accuracy: 97.0%\n"
          ],
          "name": "stdout"
        }
      ]
    },
    {
      "cell_type": "code",
      "metadata": {
        "id": "faLojK8qdOvm",
        "outputId": "8529eb02-4c26-4bd3-9d4a-8bfd54a9c739",
        "colab": {
          "base_uri": "https://localhost:8080/",
          "height": 297
        }
      },
      "source": [
        "plt.plot(history.history['loss'])\n",
        "plt.legend(['Train Loss'])\n",
        "plt.title('Perda de treinamento')\n",
        "plt.grid()\n",
        "plt.tight_layout()"
      ],
      "execution_count": 104,
      "outputs": [
        {
          "output_type": "display_data",
          "data": {
            "image/png": "[encoded data removed]",
            "text/plain": [
              "<Figure size 432x288 with 1 Axes>"
            ]
          },
          "metadata": {
            "tags": [],
            "needs_background": "light"
          }
        }
      ]
    },
    {
      "cell_type": "code",
      "metadata": {
        "id": "24WLsHDJdOqT",
        "outputId": "507fe098-aab1-4467-eeee-7e6b6d2dfa46",
        "colab": {
          "base_uri": "https://localhost:8080/",
          "height": 297
        }
      },
      "source": [
        "plt.plot(history.history['accuracy'])\n",
        "plt.legend(['Train accuracy'])\n",
        "plt.title('Acurácia de treinamento')\n",
        "plt.grid()\n",
        "plt.tight_layout()"
      ],
      "execution_count": 105,
      "outputs": [
        {
          "output_type": "display_data",
          "data": {
            "image/png": "[encoded data removed]",
            "text/plain": [
              "<Figure size 432x288 with 1 Axes>"
            ]
          },
          "metadata": {
            "tags": [],
            "needs_background": "light"
          }
        }
      ]
    },
    {
      "cell_type": "markdown",
      "metadata": {
        "id": "b2bLKNI8Dqfg"
      },
      "source": [
        "\n",
        "\n",
        "---\n",
        "\n",
        "Para o modelo final que você desenvolveu, mostre alguns exemplos de predições erradas no conjunto de teste.\n",
        "\n",
        "---\n",
        "\n",
        "\n"
      ]
    },
    {
      "cell_type": "code",
      "metadata": {
        "id": "IYUPHrlEDSHN",
        "outputId": "d9993d41-15d1-48d4-dd44-2f18aae16918",
        "colab": {
          "base_uri": "https://localhost:8080/",
          "height": 88
        }
      },
      "source": [
        "predict = model.predict_classes(x_test)"
      ],
      "execution_count": 106,
      "outputs": [
        {
          "output_type": "stream",
          "text": [
            "WARNING:tensorflow:From <ipython-input-106-b49137311433>:1: Sequential.predict_classes (from tensorflow.python.keras.engine.sequential) is deprecated and will be removed after 2021-01-01.\n",
            "Instructions for updating:\n",
            "Please use instead:* `np.argmax(model.predict(x), axis=-1)`,   if your model does multi-class classification   (e.g. if it uses a `softmax` last-layer activation).* `(model.predict(x) > 0.5).astype(\"int32\")`,   if your model does binary classification   (e.g. if it uses a `sigmoid` last-layer activation).\n"
          ],
          "name": "stdout"
        }
      ]
    },
    {
      "cell_type": "code",
      "metadata": {
        "id": "IWwJx8VnDSNb",
        "outputId": "f7817ddf-99b1-4f13-ebbd-9e0851c3c9f2",
        "colab": {
          "base_uri": "https://localhost:8080/",
          "height": 561
        }
      },
      "source": [
        "error = np.where(predict!= y_test)\n",
        "print(f'Previsões erradas:\\n {error}')"
      ],
      "execution_count": 111,
      "outputs": [
        {
          "output_type": "stream",
          "text": [
            "Previsões erradas:\n",
            " (array([   8,   61,  115,  149,  247,  259,  340,  381,  445,  460,  464,\n",
            "        582,  613,  619,  659,  674,  684,  691,  707,  740,  844,  846,\n",
            "        947,  951,  956,  965,  975, 1014, 1039, 1044, 1173, 1181, 1182,\n",
            "       1194, 1226, 1242, 1243, 1247, 1289, 1319, 1328, 1364, 1378, 1393,\n",
            "       1414, 1447, 1466, 1468, 1494, 1500, 1520, 1522, 1527, 1530, 1553,\n",
            "       1581, 1609, 1681, 1709, 1717, 1737, 1748, 1790, 1800, 1828, 1850,\n",
            "       1878, 1901, 1941, 1948, 1987, 2004, 2018, 2024, 2035, 2040, 2053,\n",
            "       2070, 2093, 2098, 2109, 2118, 2135, 2182, 2224, 2272, 2293, 2325,\n",
            "       2329, 2334, 2339, 2369, 2387, 2405, 2408, 2414, 2422, 2426, 2454,\n",
            "       2488, 2526, 2597, 2607, 2635, 2648, 2654, 2713, 2730, 2810, 2896,\n",
            "       2907, 2915, 2921, 2927, 2939, 2945, 2995, 3030, 3060, 3073, 3102,\n",
            "       3117, 3130, 3189, 3225, 3251, 3262, 3269, 3289, 3336, 3405, 3422,\n",
            "       3503, 3520, 3550, 3552, 3558, 3559, 3567, 3575, 3597, 3604, 3626,\n",
            "       3749, 3751, 3757, 3767, 3808, 3811, 3838, 3850, 3853, 3876, 3893,\n",
            "       3902, 3906, 3951, 4001, 4007, 4017, 4063, 4065, 4075, 4140, 4149,\n",
            "       4176, 4199, 4224, 4248, 4289, 4306, 4355, 4356, 4360, 4374, 4425,\n",
            "       4429, 4433, 4439, 4511, 4534, 4536, 4547, 4551, 4567, 4571, 4601,\n",
            "       4615, 4639, 4671, 4690, 4731, 4736, 4751, 4785, 4807, 4814, 4823,\n",
            "       4860, 4874, 4876, 4880, 4943, 4950, 4966, 4990, 5078, 5140, 5176,\n",
            "       5199, 5265, 5331, 5457, 5600, 5634, 5642, 5676, 5734, 5749, 5842,\n",
            "       5854, 5887, 5936, 5955, 5972, 5973, 5981, 5982, 5997, 6011, 6024,\n",
            "       6045, 6059, 6071, 6166, 6173, 6243, 6390, 6392, 6421, 6425, 6523,\n",
            "       6542, 6555, 6560, 6571, 6574, 6576, 6597, 6599, 6625, 6651, 6725,\n",
            "       6755, 6783, 6847, 7094, 7208, 7216, 7432, 7434, 7481, 7545, 7597,\n",
            "       7800, 7821, 7849, 7856, 7886, 7899, 7905, 7909, 7921, 7928, 7945,\n",
            "       8010, 8020, 8062, 8094, 8106, 8143, 8243, 8273, 8279, 8293, 8311,\n",
            "       8325, 8382, 8456, 8502, 8519, 8520, 8522, 8523, 8584, 9009, 9015,\n",
            "       9022, 9024, 9163, 9202, 9280, 9422, 9423, 9482, 9512, 9534, 9587,\n",
            "       9634, 9679, 9698, 9700, 9719, 9729, 9742, 9749, 9755, 9768, 9770,\n",
            "       9779, 9781, 9782, 9808, 9811, 9839, 9858, 9892, 9904, 9905, 9925,\n",
            "       9976, 9982]),)\n"
          ],
          "name": "stdout"
        }
      ]
    },
    {
      "cell_type": "code",
      "metadata": {
        "id": "XjTzuPmTEZwv",
        "outputId": "a072d60c-21df-42cd-dd8e-a6260ae1eadd",
        "colab": {
          "base_uri": "https://localhost:8080/",
          "height": 51
        }
      },
      "source": [
        "print(f'Previsão: {predict[8]}')\n",
        "print(f'Valor real: {y_test[8]}')"
      ],
      "execution_count": 120,
      "outputs": [
        {
          "output_type": "stream",
          "text": [
            "Previsão: 6\n",
            "Valor real: 5\n"
          ],
          "name": "stdout"
        }
      ]
    },
    {
      "cell_type": "markdown",
      "metadata": {
        "id": "6fzTonhEFH88"
      },
      "source": [
        "\n",
        "\n",
        "---\n",
        "\n",
        "Visualize como uma imagem os pesos da primeira camada oculta. Para isso, rode a célula abaixo:\n",
        "\n",
        "\n",
        "---\n"
      ]
    },
    {
      "cell_type": "code",
      "metadata": {
        "id": "JLT8EZCkCHfa",
        "outputId": "575a6ff3-44d6-4cb4-f5cd-5b6ee74baa39",
        "colab": {
          "base_uri": "https://localhost:8080/",
          "height": 142,
          "referenced_widgets": [
            "99baff08248e4101ac97d09958f64522",
            "4ec7ebe1118e4631be4593bf14cf25ee",
            "2216a218c7774100939abaf27b216fae",
            "90b6ac4f5cf744f581abe5343bcd5aa6",
            "99779ef5c1f24930afa859a8e14a6f05",
            "abcce766049e4f8c8c24b53a41e2b579",
            "0a2b270c6bce4ec1a5b53979d08bcd4d"
          ]
        }
      },
      "source": [
        "W = model.weights[0].numpy()\n",
        "vmax = np.abs(W).max()\n",
        "@interact(i=(0,int(np.ceil(W.shape[1]/10))-1))\n",
        "def _(i=0):\n",
        "  plt.figure(figsize=(16,2.4));\n",
        "  # para ver de 10 em 10\n",
        "  for j in range(min(10, W.shape[1]-10*i)):\n",
        "    plt.subplot(1,10,j+1)\n",
        "    w = W[:,10*i+j].reshape(28,28)\n",
        "    plt.imshow(w, cmap=plt.cm.bwr, vmin=-vmax, vmax=vmax); # (-,0,+) = (blue, white, red)\n",
        "    plt.xticks([]);\n",
        "    plt.yticks([]);"
      ],
      "execution_count": 121,
      "outputs": [
        {
          "output_type": "display_data",
          "data": {
            "application/vnd.jupyter.widget-view+json": {
              "model_id": "99baff08248e4101ac97d09958f64522",
              "version_minor": 0,
              "version_major": 2
            },
            "text/plain": [
              "interactive(children=(IntSlider(value=0, description='i', max=3), Output()), _dom_classes=('widget-interact',)…"
            ]
          },
          "metadata": {
            "tags": []
          }
        }
      ]
    },
    {
      "cell_type": "markdown",
      "metadata": {
        "id": "MtIXwBuGCGcT"
      },
      "source": [
        "11. Relate suas principais conclusões com este exercício.\n",
        "1. (OPCIONAL) O que acontece se é aplicada uma permutação aleatória nos pixels de todas as imagens (a mesma permutação para todas as imagens)? O desempenho do modelo se altera? Você consegue identificar corretamente os dígitos? O que podemos concluir sobre o aprendizado do modelo?\n",
        "\n",
        "#### Dicas\n",
        "- Funções úteis: `plt.figure(figsize=(...))`, `plt.subplot()`, `plt.plot(..., label=...)`, `plt.xlabel()`, `plt.legend()`\n",
        "- Quando usamos *early stopping*, perdemos parcialmente o controle sobre o número de épocas de treinamento como um hiperparâmetro. Nesse caso, após o desenvolvimento de um modelo, se desejarmos identificar seus hiperparâmetros, é conveniente registrar e fixar o número de épocas de treinamento efetivamente utilizadas e parar de utilizar *early stopping*.\n",
        "- Se quiser salvar o melhor modelo encontrado, mas sem usar *early stopping*, você pode utilizar a *callback* `tf.keras.callbacks.ModelCheckpoint`. Alternativamente, você pode usar *early stopping* com uma paciência suficientemente grande (maior que o número de épocas)."
      ]
    },
    {
      "cell_type": "code",
      "metadata": {
        "id": "x_Wr_WycWpTg"
      },
      "source": [
        ""
      ],
      "execution_count": null,
      "outputs": []
    },
    {
      "cell_type": "markdown",
      "metadata": {
        "id": "FpYz8d0XWqU6"
      },
      "source": [
        "**Relate suas principais conclusões com este exercício** O exercício propôs uma maior percepção em relação à escolha dos parâmetros de uma rede neural. Um pequeno ajuste permite atingir valores consideráveis de acurácia ou deteriorar o modelo. Outro ponto observado é o custo computacional relacionado com o ajuste do modelo, que pode ser bem elevado, dependendo da configuração.\n"
      ]
    }
  ]
}