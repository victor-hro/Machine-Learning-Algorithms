{
 "cells": [
  {
   "cell_type": "markdown",
   "metadata": {},
   "source": [
    "Universidade Federal de Santa Catarina<br>\n",
    "Departamento de Engenharia Elétrica e Eletrônica<br>\n",
    "EEL7514/EEL7513/EEL410250 - Aprendizado de Máquina\n",
    "$\\newcommand{\\bX}{\\mathbf{X}}$\n",
    "$\\newcommand{\\bw}{\\mathbf{w}}$\n",
    "$\\newcommand{\\by}{\\mathbf{y}}$\n",
    "$\\newcommand{\\bx}{\\mathbf{x}}$\n",
    "$\\newcommand{\\bA}{\\mathbf{A}}$\n",
    "$\\newcommand{\\bB}{\\mathbf{B}}$\n",
    "$\\newcommand{\\mat}[1]{\\begin{bmatrix} #1 \\end{bmatrix}}$\n",
    "$\\newcommand{\\matt}[1]{\\begin{matrix} #1 \\end{matrix}}$\n",
    "\n",
    "\n",
    "\n",
    "# Exercício 1: Introdução e Regressão Linear\n",
    "\n",
    "Este é um exercício de introdução ao Python e bibliotecas básicas. Também serão abordados conceitos básicos de exploração de dados e regressão linear.\n",
    "\n",
    "<!--O exercício resolvido, em formato `.ipynb`, completo com explicações e gráficos integrados, deve ser submetido via moodle até o prazo especificado.-->"
   ]
  },
  {
   "cell_type": "markdown",
   "metadata": {},
   "source": [
    "# Preparação / Revisão\n",
    "\n",
    "- Ler Watt _(Machine Learning Refined)_ cap. 1\n",
    "- Ler Watt apêndices A, B (de B.3 apenas os exemplos B.1.a e B.2.a) e D\n",
    "- Ler e praticar todos os tutoriais fornecidos (exceto os exemplos mais complexos do tutorial de NumPy)\n",
    "- Revisar (caso necessário) conceitos básicos de probabilidade e estatística: variáveis aleatórias, distribuição/densidade de probabilidade, histograma, média, variância, correlação"
   ]
  },
  {
   "cell_type": "code",
   "execution_count": 3,
   "metadata": {},
   "outputs": [],
   "source": [
    "# Inicie importando as bibliotecas necessárias\n",
    "import numpy as np\n",
    "import pandas as pd\n",
    "import matplotlib.pyplot as plt\n",
    "%matplotlib inline"
   ]
  },
  {
   "cell_type": "markdown",
   "metadata": {},
   "source": [
    "# 1. Manipulando arrays\n",
    "\n",
    "1. Escreva uma função do Python que implementa a [similaridade do cosseno](https://en.wikipedia.org/wiki/Cosine_similarity) (eq. A.7 do Watt) entre dois vetores, definida por\n",
    "\n",
    "$$\n",
    "{\\rm cosine\\_similarity(\\bx,\\by)} = \\frac{\\bx^T \\by}{\\|\\bx\\|\\|\\by\\|}\n",
    "$$"
   ]
  },
  {
   "cell_type": "code",
   "execution_count": 20,
   "metadata": {},
   "outputs": [
    {
     "ename": "SyntaxError",
     "evalue": "invalid syntax (<ipython-input-20-e196250ea71e>, line 2)",
     "output_type": "error",
     "traceback": [
      "\u001b[1;36m  File \u001b[1;32m\"<ipython-input-20-e196250ea71e>\"\u001b[1;36m, line \u001b[1;32m2\u001b[0m\n\u001b[1;33m    s = ?\u001b[0m\n\u001b[1;37m        ^\u001b[0m\n\u001b[1;31mSyntaxError\u001b[0m\u001b[1;31m:\u001b[0m invalid syntax\n"
     ]
    }
   ],
   "source": [
    "def cosine_similarity(x,y):\n",
    "    s = ?\n",
    "    return s\n",
    "\n",
    "# Testes\n",
    "x = np.array([1,2,3,4])\n",
    "y = np.array([2,2,2,2])\n",
    "z = np.array([2,-2,2,-2])\n",
    "print(cosine_similarity(x,y)) # = 0.9128709291752769\n",
    "print(cosine_similarity(x,z)) # = -0.18257418583505536"
   ]
  },
  {
   "cell_type": "markdown",
   "metadata": {},
   "source": [
    "### Dicas\n",
    "\n",
    "- Use o operator @ (ver [documentação](https://docs.scipy.org/doc/numpy/reference/generated/numpy.matmul.html)) ao invés de `.dot()` para implementar  multiplicação matriz-matriz ou matriz-vetor, por exemplo: `C = A @ B`\n",
    "- Funções úteis:\n",
    "\n",
    "```python\n",
    "np.linalg.norm()\n",
    "```"
   ]
  },
  {
   "cell_type": "markdown",
   "metadata": {},
   "source": [
    "2. Calcule os produtos $\\bA^T\\bB$ e $\\bB \\bA^T$, onde\n",
    "$$\\bA = \\mat{1 & 2 \\\\ 3 & 4 \\\\ 5 & 6} \\qquad \\bB = \\mat{1 & 1 \\\\ 1 & 1 \\\\ 1 & 1}$$"
   ]
  },
  {
   "cell_type": "code",
   "execution_count": 46,
   "metadata": {},
   "outputs": [
    {
     "name": "stdout",
     "output_type": "stream",
     "text": [
      "transposta:\n",
      "[[1 3 5]\n",
      " [2 4 6]]\n",
      "\n",
      " matriz B:\n",
      "[[1 1]\n",
      " [1 1]\n",
      " [1 1]]\n",
      "TAB:\n",
      "\n",
      "[[ 9  9]\n",
      " [12 12]]\n"
     ]
    }
   ],
   "source": [
    "A = np.array([[1,2],[3,4],[5,6]])\n",
    "B = np.array([[1,1],[1,1],[1,1]])\n",
    "\n",
    "AT = A.T\n",
    "print(f'transposta:\\n{AT}\\n\\n matriz B:\\n{B}')\n",
    "ATB = A.T@B\n",
    "print(f'TAB:\\n\\n{ATB}')\n"
   ]
  },
  {
   "cell_type": "markdown",
   "metadata": {},
   "source": [
    "3. Considere os vetores abaixo."
   ]
  },
  {
   "cell_type": "code",
   "execution_count": 4,
   "metadata": {},
   "outputs": [
    {
     "data": {
      "text/plain": [
       "array([[1, 0, 1],\n",
       "       [0, 1, 0],\n",
       "       [1, 1, 1]])"
      ]
     },
     "execution_count": 4,
     "metadata": {},
     "output_type": "execute_result"
    }
   ],
   "source": [
    "A = np.array([[1,0,1],[0,1,0],[1,1,1]])\n",
    "A"
   ]
  },
  {
   "cell_type": "code",
   "execution_count": 5,
   "metadata": {},
   "outputs": [
    {
     "data": {
      "text/plain": [
       "array([1, 2, 3])"
      ]
     },
     "execution_count": 5,
     "metadata": {},
     "output_type": "execute_result"
    }
   ],
   "source": [
    "b = np.array([1,2,3])\n",
    "b"
   ]
  },
  {
   "cell_type": "markdown",
   "metadata": {},
   "source": [
    "Explique o porquê do resultado abaixo."
   ]
  },
  {
   "cell_type": "code",
   "execution_count": 6,
   "metadata": {},
   "outputs": [
    {
     "data": {
      "text/plain": [
       "True"
      ]
     },
     "execution_count": 6,
     "metadata": {},
     "output_type": "execute_result"
    }
   ],
   "source": [
    "np.all(b*A == A*b)"
   ]
  },
  {
   "cell_type": "markdown",
   "metadata": {},
   "source": [
    "# 2. Manipulando dados\n",
    "\n",
    "1. Baixe o arquivo `bitcoin_price.csv` (**terceiro** arquivo da lista em *Data Sources*) disponível em\n",
    "\n",
    "https://www.kaggle.com/sudalairajkumar/cryptocurrencypricehistory/\n",
    "\n",
    "e salve-o numa subpasta `data`, i.e., o arquivo estará acessível em `data/bitcoin_price.csv`\n",
    "\n",
    "2. Carregue o arquivo usando a biblioteca Pandas\n",
    "3. Trace o gráfico do preço de fechamento (\"Close\") em função da data para todo o ano de 2017 (365 amostras):\n",
    " - usando a função `.plot()` do Pandas\n",
    " - convertendo para NumPy e usando Matplotlib\n",
    "\n",
    "### Dicas\n",
    "\n",
    "- Siga o notebook fornecido de exemplo do Pandas e/ou qualquer outro tutorial de Pandas (https://pandas.pydata.org/pandas-docs/stable/10min.html)"
   ]
  },
  {
   "cell_type": "markdown",
   "metadata": {},
   "source": [
    "# 3. Análise de dados\n",
    "\n",
    "Agora, veremos um exemplo de análise de dados usando um conjunto de dados do livro do James _(An Introduction to Statistical Learning)_.\n",
    "\n",
    "Carregue os dados usando o comando abaixo. Lembre que a variável-alvo (rótulo, variável de saída) é a coluna `sales`."
   ]
  },
  {
   "cell_type": "code",
   "execution_count": 7,
   "metadata": {},
   "outputs": [
    {
     "data": {
      "text/html": [
       "<div>\n",
       "<style scoped>\n",
       "    .dataframe tbody tr th:only-of-type {\n",
       "        vertical-align: middle;\n",
       "    }\n",
       "\n",
       "    .dataframe tbody tr th {\n",
       "        vertical-align: top;\n",
       "    }\n",
       "\n",
       "    .dataframe thead th {\n",
       "        text-align: right;\n",
       "    }\n",
       "</style>\n",
       "<table border=\"1\" class=\"dataframe\">\n",
       "  <thead>\n",
       "    <tr style=\"text-align: right;\">\n",
       "      <th></th>\n",
       "      <th>TV</th>\n",
       "      <th>radio</th>\n",
       "      <th>newspaper</th>\n",
       "      <th>sales</th>\n",
       "    </tr>\n",
       "  </thead>\n",
       "  <tbody>\n",
       "    <tr>\n",
       "      <th>1</th>\n",
       "      <td>230.1</td>\n",
       "      <td>37.8</td>\n",
       "      <td>69.2</td>\n",
       "      <td>22.1</td>\n",
       "    </tr>\n",
       "    <tr>\n",
       "      <th>2</th>\n",
       "      <td>44.5</td>\n",
       "      <td>39.3</td>\n",
       "      <td>45.1</td>\n",
       "      <td>10.4</td>\n",
       "    </tr>\n",
       "    <tr>\n",
       "      <th>3</th>\n",
       "      <td>17.2</td>\n",
       "      <td>45.9</td>\n",
       "      <td>69.3</td>\n",
       "      <td>9.3</td>\n",
       "    </tr>\n",
       "    <tr>\n",
       "      <th>4</th>\n",
       "      <td>151.5</td>\n",
       "      <td>41.3</td>\n",
       "      <td>58.5</td>\n",
       "      <td>18.5</td>\n",
       "    </tr>\n",
       "    <tr>\n",
       "      <th>5</th>\n",
       "      <td>180.8</td>\n",
       "      <td>10.8</td>\n",
       "      <td>58.4</td>\n",
       "      <td>12.9</td>\n",
       "    </tr>\n",
       "  </tbody>\n",
       "</table>\n",
       "</div>"
      ],
      "text/plain": [
       "      TV  radio  newspaper  sales\n",
       "1  230.1   37.8       69.2   22.1\n",
       "2   44.5   39.3       45.1   10.4\n",
       "3   17.2   45.9       69.3    9.3\n",
       "4  151.5   41.3       58.5   18.5\n",
       "5  180.8   10.8       58.4   12.9"
      ]
     },
     "execution_count": 7,
     "metadata": {},
     "output_type": "execute_result"
    }
   ],
   "source": [
    "df = pd.read_csv('http://faculty.marshall.usc.edu/gareth-james/ISL/Advertising.csv', index_col=0)\n",
    "df.head() "
   ]
  },
  {
   "cell_type": "markdown",
   "metadata": {},
   "source": [
    "1. Trace o histograma de cada variável (coluna), i.e., 4 no total. Para isso, utilize a função `plt.hist()`, com parâmetro `bins=30`.\n",
    "2. Calcule a matriz de correlação entre as colunas. Dica: utilize a função `pd.DataFrame.corr()`\n",
    "3. Para cada atributo (variável de entrada), trace o gráfico do valor-alvo em função do atributo. Utilize um *scatter plot*, i.e., trace apenas os marcadores, não linhas.\n",
    "4. O que você já pode afirmar sobre os dados a partir dessa análise exploratória?"
   ]
  },
  {
   "cell_type": "code",
   "execution_count": null,
   "metadata": {},
   "outputs": [],
   "source": []
  },
  {
   "cell_type": "markdown",
   "metadata": {},
   "source": [
    "5. Extraia a matriz de projeto $\\bX$ e vetor de rótulos $\\by$. Dica: utilize a função do pandas `.to_numpy()`\n",
    "1. Separe o conjunto de dados aleatoriamente em conjuntos de treinamento e teste, nas proporções 80% e 20%, respectivamente. Para isso, utilize a função `train_test_split()` da biblioteca scikit-learn."
   ]
  },
  {
   "cell_type": "code",
   "execution_count": 8,
   "metadata": {},
   "outputs": [
    {
     "name": "stdout",
     "output_type": "stream",
     "text": [
      "(200, 3)\n",
      "(200,)\n"
     ]
    }
   ],
   "source": [
    "X = ?\n",
    "y = ?\n",
    "print(X.shape)\n",
    "print(y.shape)"
   ]
  },
  {
   "cell_type": "code",
   "execution_count": 9,
   "metadata": {},
   "outputs": [
    {
     "name": "stdout",
     "output_type": "stream",
     "text": [
      "(160, 3) (160,)\n",
      "(40, 3) (40,)\n"
     ]
    }
   ],
   "source": [
    "from sklearn.model_selection import train_test_split\n",
    "\n",
    "X_train, X_test, y_train, y_test = train_test_split(X, y, test_size=?, random_state=0)\n",
    "\n",
    "print(X_train.shape, y_train.shape)\n",
    "print(X_test.shape, y_test.shape)"
   ]
  },
  {
   "cell_type": "markdown",
   "metadata": {},
   "source": [
    "7. Treine um modelo de regressão linear sobre o **conjunto de treinamento**. Para isso, utilize a função `sklearn.linear_model.LinearRegression()` da biblioteca sklearn. \n",
    "7. Calcule a raiz do erro quadrático médio (RMSE) da predição sobre o conjunto de treinamento e sobre o conjunto de teste. Para isso, utilize a função `sklearn.metrics.mean_squared_error()` do sklearn.\n",
    "8. (OPCIONAL) Encontre alguma forma de visualizar o modelo treinado ou suas predições."
   ]
  },
  {
   "cell_type": "code",
   "execution_count": 10,
   "metadata": {},
   "outputs": [
    {
     "name": "stdout",
     "output_type": "stream",
     "text": [
      "Train MSE: 1.5513912323520802\n",
      "Test MSE: 2.098122563495679\n"
     ]
    }
   ],
   "source": [
    "from sklearn.linear_model import LinearRegression\n",
    "from sklearn.metrics import mean_squared_error\n",
    "\n",
    "model = LinearRegression()\n",
    "model.fit(?, ?)\n",
    "print('Train MSE:', ?)\n",
    "print('Test MSE:', ?)"
   ]
  },
  {
   "cell_type": "markdown",
   "metadata": {},
   "source": [
    "### Dicas\n",
    "\n",
    "- Funções úteis\n",
    "```python\n",
    "pd.hist()\n",
    "pd.DataFrame.corr()\n",
    "pd.DataFrame.to_numpy()\n",
    "sklearn.model_selection.train_test_split()\n",
    "sklearn.linear_model.LinearRegression()\n",
    "sklearn.metrics.mean_squared_error()\n",
    "np.sqrt()\n",
    "```\n",
    "- Caso deseje uma referência, consulte o tutorial disponível em:\n",
    "https://towardsdatascience.com/linear-regression-on-boston-housing-dataset-f409b7e4a155. Note, porém, que não é necessário usar as funções da biblioteca `seaborn`."
   ]
  }
 ],
 "metadata": {
  "kernelspec": {
   "display_name": "Python 3",
   "language": "python",
   "name": "python3"
  },
  "language_info": {
   "codemirror_mode": {
    "name": "ipython",
    "version": 3
   },
   "file_extension": ".py",
   "mimetype": "text/x-python",
   "name": "python",
   "nbconvert_exporter": "python",
   "pygments_lexer": "ipython3",
   "version": "3.7.3"
  }
 },
 "nbformat": 4,
 "nbformat_minor": 2
}
