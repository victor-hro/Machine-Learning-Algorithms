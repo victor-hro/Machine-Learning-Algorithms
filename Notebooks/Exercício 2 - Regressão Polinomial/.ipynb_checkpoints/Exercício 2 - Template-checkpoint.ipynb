{
 "cells": [
  {
   "cell_type": "markdown",
   "metadata": {},
   "source": [
    "Universidade Federal de Santa Catarina<br>\n",
    "Departamento de Engenharia Elétrica e Eletrônica<br>\n",
    "EEL7514/EEL7513 - Introdução ao Aprendizado de Máquina\n",
    "$\\newcommand{\\bX}{\\mathbf{X}}$\n",
    "$\\newcommand{\\bw}{\\mathbf{w}}$\n",
    "$\\newcommand{\\by}{\\mathbf{y}}$\n",
    "$\\newcommand{\\bx}{\\mathbf{x}}$\n",
    "$\\newcommand{\\RR}{\\mathbb{R}}$\n",
    "\n",
    "\n",
    "# Exercício 2: Regressão Linear\n",
    "\n",
    "Neste exercício você irá treinar um modelo de regressão linear e o usará para fazer predições. Além disso, você investigará a adição de novos atributos e a necessidade de regularização."
   ]
  },
  {
   "cell_type": "markdown",
   "metadata": {},
   "source": [
    "# Conjunto de dados\n",
    "\n",
    "Para facilitar a análise, o conjunto de dados utilizado neste exercício possui um único atributo $x \\in \\RR$ (e um valor-alvo $y \\in \\RR$). Além desta peculiaridade, é importante ressaltar duas grandes diferenças em relação ao que se encontra em problemas reais:\n",
    "- O conjunto de dados é sintético, isto é, gerado por simulação;\n",
    "- O conjunto de treinamento tem tamanho **muito menor** que os conjuntos de validação e teste.\n",
    "\n",
    "A razão para esta escolha é que um conjunto de treinamento pequeno nos permitirá observar mais facilmente o fenômeno de overfitting, enquanto conjuntos de validação e teste suficientemente grandes nos permitirá ter confiança na estimativa de desempenho do modelo medida nestes conjuntos."
   ]
  },
  {
   "cell_type": "code",
   "execution_count": 1,
   "metadata": {},
   "outputs": [],
   "source": [
    "import numpy as np\n",
    "import matplotlib.pyplot as plt\n",
    "%matplotlib inline\n",
    "\n",
    "def gen_data(n_samples, x_scale=[0,1], noise=0.5):\n",
    "    '''Generate univariate regression dataset'''\n",
    "    x = np.sort(np.random.rand(n_samples))\n",
    "    y = 6*(-1/6 + x + (x > 1/3)*(2/3-2*x) + (x > 2/3)*(2*x-4/3)) + noise*np.random.randn(n_samples)\n",
    "    x = x_scale[0] + (x_scale[1]-x_scale[0])*x\n",
    "    X = x.reshape(-1,1)\n",
    "    return X, y\n",
    "\n",
    "def plot_data(X, y):\n",
    "    '''Plot univariate regression dataset'''\n",
    "    assert len(X.shape) == 2 and len(y.shape) == 1\n",
    "    plt.plot(X[:,0],y,'b.'); plt.xlabel('x'); plt.ylabel('y');\n",
    "    return\n",
    "\n",
    "def plot_prediction(model, X, y, n_points=100):\n",
    "    '''Plot dataset and predictions for a univariate regression model'''\n",
    "    plot_data(X,y)\n",
    "    if n_points is not None:\n",
    "        xx = np.linspace(X.min(),X.max(),n_points)\n",
    "        yy = model.predict(xx.reshape(-1,1))\n",
    "        plt.plot(xx,yy,'r-')\n",
    "    y_pred = model.predict(X)\n",
    "    plt.plot(X[:,0],y_pred,'r.')\n",
    "    plt.legend(['True', 'Predicted'])\n",
    "    return"
   ]
  },
  {
   "cell_type": "markdown",
   "metadata": {},
   "source": [
    "O conjunto de dados pode ser gerado e visualizado pelos comandos abaixo."
   ]
  },
  {
   "cell_type": "code",
   "execution_count": 2,
   "metadata": {},
   "outputs": [
    {
     "name": "stdout",
     "output_type": "stream",
     "text": [
      "(30, 1) (30,)\n",
      "(1000, 1) (1000,)\n",
      "(1000, 1) (1000,)\n"
     ]
    },
    {
     "data": {
      "image/png": "[encoded data removed]",
      "text/plain": [
       "<Figure size 432x288 with 1 Axes>"
      ]
     },
     "metadata": {
      "needs_background": "light"
     },
     "output_type": "display_data"
    }
   ],
   "source": [
    "np.random.seed(2019*2)\n",
    "X, y = gen_data(n_samples=30)\n",
    "X_val, y_val = gen_data(n_samples=1000)\n",
    "X_test, y_test = gen_data(n_samples=1000)\n",
    "\n",
    "print(X.shape, y.shape)\n",
    "print(X_val.shape, y_val.shape)\n",
    "print(X_test.shape, y_test.shape)\n",
    "\n",
    "# Plot only the training data!\n",
    "plot_data(X,y)"
   ]
  },
  {
   "cell_type": "markdown",
   "metadata": {},
   "source": [
    "# 1. Regressão linear simples\n",
    "\n",
    "\n",
    "1. Treine um modelo de regressão linear simples, $\\hat{y} = w_0 + w_1 x$, sobre o conjunto de treinamento\n",
    "- Calcule o erro quadrático médio (MSE) da predição sobre o conjunto de treinamento e sobre o conjunto de teste\n",
    "- Trace o gráfico da predição sobre o conjunto de treinamento\n",
    "- Você diria que o modelo treinado está sofrendo de underfitting, overfitting ou nenhum dos dois? Explique.\n",
    "- (OPCIONAL) Experimente também a função `model.score()` do sklearn. Qual a relação entre este valor e o MSE? É possível calcular um a partir do outro? Como?\n",
    "\n",
    "#### Funções úteis:\n",
    "```python\n",
    "sklearn.linear_model.LinearRegression()\n",
    "sklearn.metrics.mean_squared_error()\n",
    "plot_prediction() # fornecida acima\n",
    "```"
   ]
  },
  {
   "cell_type": "code",
   "execution_count": null,
   "metadata": {
    "collapsed": true,
    "scrolled": true
   },
   "outputs": [],
   "source": []
  },
  {
   "cell_type": "markdown",
   "metadata": {},
   "source": [
    "# 2. Adicionando atributos (regressão linear com múltiplas variáveis)\n",
    "\n",
    "Agora, estenderemos o modelo de regressão linear adicionando atributos polinomiais de grau até $d$, isto é, o modelo será dado por $\\hat{y} = w_0 + w_1 x + w_2 x^2 + \\cdots + w_d x^d$. Note que esse modelo possui um hiperparâmetro, $d$, que precisa ser determinado. **A boa prática recomenda nunca utilizar o conjunto de teste até que todos os hiperparâmetros sejam escolhidos**, utilizando, ao invés disso, o conjunto de validação.\n",
    "\n",
    "1. Adicione atributos polinomiais ao modelo de regressão linear, escolha algum valor de $d$ e treine o modelo\n",
    "- Calcule o erro quadrático médio (MSE) da predição sobre o conjunto de treinamento e sobre o **conjunto de validação**\n",
    "- Trace o gráfico da predição sobre o conjunto de treinamento\n",
    "- Repita os passos acima experimentando outros valores de $d$. O que você observa?\n",
    "- Especificamente, para o caso $d=12$, você diria que o modelo está sofrendo de underfitting, overfitting ou nenhum dos dois?\n",
    "\n",
    "#### Funções úteis:\n",
    "```python\n",
    "sklearn.preprocessing.PolynomialFeatures()\n",
    "sklearn.pipeline.make_pipeline()\n",
    "```"
   ]
  },
  {
   "cell_type": "code",
   "execution_count": null,
   "metadata": {
    "collapsed": true
   },
   "outputs": [],
   "source": []
  },
  {
   "cell_type": "markdown",
   "metadata": {},
   "source": [
    "## Busca de hiperparâmetros\n",
    "\n",
    "6. Trace um gráfico do MSE de treinamento e de validação em função do grau $d$. Se necessário, ajuste a escala vertical para melhor visualização.\n",
    "- Comente sobre o que você observa no gráfico. Em particular, explique o comportamento das duas curvas e por que esse comportamento era esperado.\n",
    "- Determine o valor de $d$ que minimiza o erro no conjunto de validação.\n",
    "- Para este valor de $d$, calcule o MSE de treinamento, de validação **e de teste** e trace o gráfico da predição sobre o conjunto de treinamento.\n",
    "- (OPCIONAL) O erro de validação parece representativo do erro de teste? O que você acha que aconteceria se o conjunto de validação fosse significativamente menor (por exemplo, com 30 amostras ao invés de 1000)?\n",
    "\n",
    "#### Funções úteis:\n",
    "```python\n",
    "np.arange()\n",
    "np.zeros() # útil para pré-alocação de vetores\n",
    "for i in range(len(v)): # percorre os elementos de v\n",
    "plt.ylim()\n",
    "np.argmin()\n",
    "```"
   ]
  },
  {
   "cell_type": "code",
   "execution_count": null,
   "metadata": {
    "collapsed": true
   },
   "outputs": [],
   "source": []
  },
  {
   "cell_type": "markdown",
   "metadata": {
    "collapsed": true
   },
   "source": [
    "# 3. Regularização\n",
    "\n",
    "Agora, adicionaremos regularização $\\ell_2$ ao modelo, o que introduz mais um hiperparâmetro, o parâmetro de regularização $\\lambda$.\n",
    "\n",
    "1. Retornando ao modelo com $d=12$, agora com regularização $\\ell_2$ (*ridge regression*), experimente alguns valores de $\\lambda$ e observe os resultados no gráfico da predição sobre o conjunto de treinamento. (Você logo perceberá a necessidade de usar $\\lambda \\ll 1$.) Em particular, o que acontece quando $\\lambda$ é comparativamente grande?\n",
    "- Trace um gráfico do MSE de treinamento e de validação em função de $\\log \\lambda$.\n",
    "- Comente sobre o que você observa no gráfico. Em particular, explique o comportamento das duas curvas e por que esse comportamento era esperado.\n",
    "- Determine o valor de $\\lambda$ que minimiza o erro no conjunto de validação.\n",
    "- Para este valor de $\\lambda$, calcule o MSE de treinamento, de validação e de teste e trace o gráfico da predição sobre o conjunto de treinamento.\n",
    "- A partir destes resultados, comente sobre o efeito da regularização em um modelo com capacidade elevada comparativamente ao tamanho do conjunto de treinamento.\n",
    "- (OPCIONAL) O que você acha que ocorreria se o conjunto de treinamento fosse relativamente grande (por exemplo, com 1000 amostras ao invés de 30)? Ainda seria importante regularizar?\n",
    "\n",
    "#### Dicas\n",
    "\n",
    "- Não utilize `lambda` como nome de variável, pois no Python `lambda` é uma palavra reservada (operador para criar funções anônimas). Uma sugestão é abreviar para `lamb`.\n",
    "\n",
    "- Funções úteis:\n",
    "```python\n",
    "sklearn.linear_model.Ridge()\n",
    "np.linspace()\n",
    "np.exp()\n",
    "np.log()\n",
    "```\n",
    "Note que a função `Ridge()` utiliza `alpha` (ao invés de $\\lambda$) como parâmetro de regularização."
   ]
  },
  {
   "cell_type": "code",
   "execution_count": null,
   "metadata": {
    "collapsed": true
   },
   "outputs": [],
   "source": []
  },
  {
   "cell_type": "markdown",
   "metadata": {
    "collapsed": true
   },
   "source": [
    "## (OPCIONAL) Busca de hiperparâmetros (2)\n",
    "\n",
    "8. Determine o par $(d,\\lambda)$ que minimiza o erro no conjunto de validação.\n",
    "- Para estes valores de $d$ e $\\lambda$, calcule o MSE de treinamento, de validação e de teste e trace o gráfico da predição sobre o conjunto de treinamento.\n",
    "- Compare o erro de teste encontrado com o resultante da melhor escolha de $d$ sem regularização.\n",
    "\n",
    "#### Dicas\n",
    "- Uma forma de implementar a busca pelo par $(d,\\lambda)$ é organizar a implementação em dois loops, primeiramente em $d$ e em seguida em $\\lambda$.\n",
    "- Pode ser conveniente encapsular o loop interno (busca por $\\lambda$) em uma função que tem como entrada $d$ e retorna $\\lambda$.\n",
    "- Os códigos já desenvolvidos podem ser reutilizados com poucas adaptações."
   ]
  },
  {
   "cell_type": "code",
   "execution_count": null,
   "metadata": {
    "collapsed": true
   },
   "outputs": [],
   "source": []
  },
  {
   "cell_type": "markdown",
   "metadata": {
    "collapsed": true
   },
   "source": [
    "# 4. Implementação em Python\n",
    "\n",
    "Finalmente, você irá escrever sua própria implementação dos modelos acima, usando uma interface parcialmente compatível com a biblioteca `sklearn`. Além das funções `fit()` e `predict()`, a classe do modelo deverá conter uma função `mse()` para cálculo do MSE (ao invés da função `score()` do `sklearn`).\n",
    "\n",
    "É suficiente implementar um modelo de regressão linear com atributos polinomiais de grau $d$ e regularização $\\ell_2$ com parâmetro $\\lambda$; caso se deseje um modelo sem atributos polinomiais (linear na variável de entrada) ou sem regularização, é suficiente fazer $d=1$ ou $\\lambda=0$, respectivamente.\n",
    "\n",
    "1. Complete a classe abaixo, preenchendo as linhas indicadas (ou fique à vontade para reimplementar da forma que desejar).\n",
    "- Teste-a com os comandos da célula seguinte, para garantir que sua implementação está correta.\n",
    "- (OPCIONAL) Para este conjunto de dados, o que ocorre quando usamos $d \\geq 10$ e $\\lambda=0$? Por que isso ocorre? Isto deixa de ocorrer se usarmos $\\lambda=10^{-12}$? Por quê?\n",
    "\n",
    "#### Funções úteis:\n",
    "```python\n",
    "np.ones()\n",
    "np.c_[]\n",
    "np.diag()\n",
    "np.r_[]\n",
    "np.linalg.inv()\n",
    "np.linalg.solve()\n",
    "np.mean()\n",
    "```"
   ]
  },
  {
   "cell_type": "code",
   "execution_count": null,
   "metadata": {
    "collapsed": true
   },
   "outputs": [],
   "source": [
    "class Model():\n",
    "    # Univariate linear regression with polinomial features and L2 regularization\n",
    "    def __init__(self, d=1, lamb=0):\n",
    "        # Initialization\n",
    "        self.d = d\n",
    "        self.lamb = lamb\n",
    "        return\n",
    "    \n",
    "    def _add_powers(self, X):\n",
    "        # Add powers of X (including a column of ones)\n",
    "        X_new = ???\n",
    "        for i in range(1,self.d+1):\n",
    "            X_new = ???\n",
    "        return X_new\n",
    "    \n",
    "    def fit(self, X, y):\n",
    "        X = self._add_powers(X)\n",
    "        L = ???\n",
    "        assert np.linalg.matrix_rank(X.T @ X + self.lamb*L) == X.shape[1], 'Singular matrix'\n",
    "        self.w = ???\n",
    "        return\n",
    "\n",
    "    def predict(self, X):\n",
    "        X = self._add_powers(X)\n",
    "        y_pred = ???\n",
    "        return y_pred\n",
    "    \n",
    "    def mse(self, X, y):\n",
    "        J = ???\n",
    "        return J"
   ]
  },
  {
   "cell_type": "code",
   "execution_count": 5,
   "metadata": {},
   "outputs": [
    {
     "name": "stdout",
     "output_type": "stream",
     "text": [
      "w = [ -1.53990017  15.05703958 -34.54693665  20.1283143    1.95724005]\n",
      "w = [ -1.53990017  15.05703958 -34.54693665  20.1283143    1.95724005]\n",
      "Training MSE  : 0.325534\n",
      "Validation MSE: 0.335650\n"
     ]
    },
    {
     "data": {
      "image/png": "[encoded data removed]",
      "text/plain": [
       "<matplotlib.figure.Figure at 0x15142a5aa58>"
      ]
     },
     "metadata": {},
     "output_type": "display_data"
    }
   ],
   "source": [
    "# scikit-learn\n",
    "model = make_pipeline(PolynomialFeatures(4, include_bias=False),Ridge(1e-5))\n",
    "model.fit(X,y)\n",
    "ridge = model.steps[1][1]\n",
    "w = np.r_[ridge.intercept_, ridge.coef_]\n",
    "print('w =',w)\n",
    "\n",
    "# own implementation\n",
    "model = Model(d=4, lamb=1e-5)\n",
    "model.fit(X,y)\n",
    "print('w =',model.w)\n",
    "print('Training MSE  : %f' % model.mse(X,y));\n",
    "print('Validation MSE: %f' % model.mse(X_val,y_val));\n",
    "plot_prediction(model, X, y)\n",
    "plt.show()"
   ]
  },
  {
   "cell_type": "code",
   "execution_count": null,
   "metadata": {
    "collapsed": true
   },
   "outputs": [],
   "source": []
  }
 ],
 "metadata": {
  "kernelspec": {
   "display_name": "Python 3",
   "language": "python",
   "name": "python3"
  },
  "language_info": {
   "codemirror_mode": {
    "name": "ipython",
    "version": 3
   },
   "file_extension": ".py",
   "mimetype": "text/x-python",
   "name": "python",
   "nbconvert_exporter": "python",
   "pygments_lexer": "ipython3",
   "version": "3.7.6"
  }
 },
 "nbformat": 4,
 "nbformat_minor": 2
}
